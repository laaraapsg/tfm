{
 "cells": [
  {
   "cell_type": "markdown",
   "id": "44d85b5b",
   "metadata": {},
   "source": [
    "# TFM: Predicción de la demanda energética - Parte 2: EDA y preprocesamiento de los datos\n",
    "#### Lara Palacios\n",
    "## 0. Importación de librerías\n",
    "\n",
    "(Librerías de análisis de series temporales:\n",
    "- Sktime\n",
    "- Darts\n",
    "- AutoTS\n",
    "- Prophet\n",
    "- Kats\n",
    "- tsfresh)"
   ]
  },
  {
   "cell_type": "code",
   "execution_count": 1,
   "id": "7574ad22",
   "metadata": {},
   "outputs": [],
   "source": [
    "import pandas as pd\n",
    "import matplotlib.pyplot as plt\n",
    "import seaborn as sns\n",
    "from datetime import datetime, timedelta"
   ]
  },
  {
   "cell_type": "markdown",
   "id": "b15990fa",
   "metadata": {},
   "source": [
    "## 2. Análisis inicial de los datos (EDA)"
   ]
  },
  {
   "cell_type": "markdown",
   "id": "33f638ee",
   "metadata": {},
   "source": [
    "### 2.1. Archivo cupsInfo (información de cliente y de contrato)"
   ]
  },
  {
   "cell_type": "code",
   "execution_count": 2,
   "id": "6e4539c8",
   "metadata": {},
   "outputs": [
    {
     "data": {
      "text/plain": [
       "(11786, 16)"
      ]
     },
     "execution_count": 2,
     "metadata": {},
     "output_type": "execute_result"
    }
   ],
   "source": [
    "df_info = pd.read_csv('cupsInfo.csv').reset_index(drop = True)\n",
    "df_info.shape"
   ]
  },
  {
   "cell_type": "code",
   "execution_count": 3,
   "id": "ae06e137",
   "metadata": {},
   "outputs": [
    {
     "name": "stdout",
     "output_type": "stream",
     "text": [
      "<class 'pandas.core.frame.DataFrame'>\n",
      "RangeIndex: 11786 entries, 0 to 11785\n",
      "Data columns (total 16 columns):\n",
      " #   Column                  Non-Null Count  Dtype  \n",
      "---  ------                  --------------  -----  \n",
      " 0   PK_CLIENTE              11786 non-null  int64  \n",
      " 1   TARIFA                  11786 non-null  int64  \n",
      " 2   MUNICIPIO               11786 non-null  int64  \n",
      " 3   PROVINCIA               11786 non-null  int64  \n",
      " 4   KW_CONTRATADA_P1        11786 non-null  float64\n",
      " 5   KW_CONTRATADA_P2        11786 non-null  float64\n",
      " 6   KW_CONTRATADA_P3        11786 non-null  float64\n",
      " 7   KW_CONTRATADA_P4        11786 non-null  float64\n",
      " 8   KW_CONTRATADA_P5        11786 non-null  float64\n",
      " 9   KW_CONTRATADA_P6        11786 non-null  float64\n",
      " 10  AUTOCONSUMO             11786 non-null  int64  \n",
      " 11  POTENCIA_GENERACION_KW  11786 non-null  float64\n",
      " 12  ESQUEMA_MEDIDA          11782 non-null  object \n",
      " 13  SUBGRUPO                11736 non-null  object \n",
      " 14  ALTA_AUTOCONSUMO        11786 non-null  object \n",
      " 15  BAJA_AUTOCONSUMO        11786 non-null  object \n",
      "dtypes: float64(7), int64(5), object(4)\n",
      "memory usage: 1.4+ MB\n"
     ]
    }
   ],
   "source": [
    "df_info.info()"
   ]
  },
  {
   "cell_type": "markdown",
   "id": "5c9b0805",
   "metadata": {},
   "source": [
    "En nuestro conjunto de datos, tenemos información de 11786 clientes."
   ]
  },
  {
   "cell_type": "code",
   "execution_count": 4,
   "id": "daa6850d",
   "metadata": {},
   "outputs": [
    {
     "data": {
      "text/plain": [
       "2348"
      ]
     },
     "execution_count": 4,
     "metadata": {},
     "output_type": "execute_result"
    }
   ],
   "source": [
    "total_cli = len(df_info.MUNICIPIO.unique())\n",
    "total_cli"
   ]
  },
  {
   "cell_type": "code",
   "execution_count": 4,
   "id": "392fc712",
   "metadata": {},
   "outputs": [
    {
     "data": {
      "text/plain": [
       "11786"
      ]
     },
     "execution_count": 4,
     "metadata": {},
     "output_type": "execute_result"
    }
   ],
   "source": [
    "total_cli = len(df_info.PK_CLIENTE.unique())\n",
    "total_cli"
   ]
  },
  {
   "cell_type": "code",
   "execution_count": 5,
   "id": "87f8bf4e",
   "metadata": {},
   "outputs": [
    {
     "data": {
      "text/plain": [
       "PK_CLIENTE                 0\n",
       "TARIFA                     0\n",
       "MUNICIPIO                  0\n",
       "PROVINCIA                  0\n",
       "KW_CONTRATADA_P1           0\n",
       "KW_CONTRATADA_P2           0\n",
       "KW_CONTRATADA_P3           0\n",
       "KW_CONTRATADA_P4           0\n",
       "KW_CONTRATADA_P5           0\n",
       "KW_CONTRATADA_P6           0\n",
       "AUTOCONSUMO                0\n",
       "POTENCIA_GENERACION_KW     0\n",
       "ESQUEMA_MEDIDA             4\n",
       "SUBGRUPO                  50\n",
       "ALTA_AUTOCONSUMO           0\n",
       "BAJA_AUTOCONSUMO           0\n",
       "dtype: int64"
      ]
     },
     "execution_count": 5,
     "metadata": {},
     "output_type": "execute_result"
    }
   ],
   "source": [
    "df_info.isnull().sum() #qué hacer con los nulos de las variables categóricas? coger la moda?"
   ]
  },
  {
   "cell_type": "code",
   "execution_count": 6,
   "id": "92fbd81a",
   "metadata": {},
   "outputs": [
    {
     "data": {
      "text/html": [
       "<div>\n",
       "<style scoped>\n",
       "    .dataframe tbody tr th:only-of-type {\n",
       "        vertical-align: middle;\n",
       "    }\n",
       "\n",
       "    .dataframe tbody tr th {\n",
       "        vertical-align: top;\n",
       "    }\n",
       "\n",
       "    .dataframe thead th {\n",
       "        text-align: right;\n",
       "    }\n",
       "</style>\n",
       "<table border=\"1\" class=\"dataframe\">\n",
       "  <thead>\n",
       "    <tr style=\"text-align: right;\">\n",
       "      <th></th>\n",
       "      <th>PK_CLIENTE</th>\n",
       "      <th>TARIFA</th>\n",
       "      <th>MUNICIPIO</th>\n",
       "      <th>PROVINCIA</th>\n",
       "      <th>KW_CONTRATADA_P1</th>\n",
       "      <th>KW_CONTRATADA_P2</th>\n",
       "      <th>KW_CONTRATADA_P3</th>\n",
       "      <th>KW_CONTRATADA_P4</th>\n",
       "      <th>KW_CONTRATADA_P5</th>\n",
       "      <th>KW_CONTRATADA_P6</th>\n",
       "      <th>AUTOCONSUMO</th>\n",
       "      <th>POTENCIA_GENERACION_KW</th>\n",
       "      <th>ESQUEMA_MEDIDA</th>\n",
       "      <th>SUBGRUPO</th>\n",
       "      <th>ALTA_AUTOCONSUMO</th>\n",
       "      <th>BAJA_AUTOCONSUMO</th>\n",
       "    </tr>\n",
       "  </thead>\n",
       "  <tbody>\n",
       "    <tr>\n",
       "      <th>0</th>\n",
       "      <td>1</td>\n",
       "      <td>18</td>\n",
       "      <td>1001</td>\n",
       "      <td>1</td>\n",
       "      <td>4.0</td>\n",
       "      <td>4.0</td>\n",
       "      <td>0.0</td>\n",
       "      <td>0.0</td>\n",
       "      <td>0.0</td>\n",
       "      <td>0.0</td>\n",
       "      <td>41</td>\n",
       "      <td>4.00</td>\n",
       "      <td>A</td>\n",
       "      <td>b.1.1</td>\n",
       "      <td>2021-06-01</td>\n",
       "      <td>3000-01-01 00:00:00</td>\n",
       "    </tr>\n",
       "    <tr>\n",
       "      <th>1</th>\n",
       "      <td>2</td>\n",
       "      <td>19</td>\n",
       "      <td>1001</td>\n",
       "      <td>1</td>\n",
       "      <td>57.0</td>\n",
       "      <td>85.0</td>\n",
       "      <td>85.0</td>\n",
       "      <td>85.0</td>\n",
       "      <td>85.0</td>\n",
       "      <td>178.0</td>\n",
       "      <td>41</td>\n",
       "      <td>100.00</td>\n",
       "      <td>A</td>\n",
       "      <td>b.1.1</td>\n",
       "      <td>2022-06-30</td>\n",
       "      <td>3000-01-01 00:00:00</td>\n",
       "    </tr>\n",
       "    <tr>\n",
       "      <th>2</th>\n",
       "      <td>3</td>\n",
       "      <td>18</td>\n",
       "      <td>1002</td>\n",
       "      <td>1</td>\n",
       "      <td>4.4</td>\n",
       "      <td>4.4</td>\n",
       "      <td>0.0</td>\n",
       "      <td>0.0</td>\n",
       "      <td>0.0</td>\n",
       "      <td>0.0</td>\n",
       "      <td>41</td>\n",
       "      <td>6.00</td>\n",
       "      <td>A</td>\n",
       "      <td>b.1.1</td>\n",
       "      <td>2022-06-29</td>\n",
       "      <td>3000-01-01 00:00:00</td>\n",
       "    </tr>\n",
       "    <tr>\n",
       "      <th>3</th>\n",
       "      <td>4</td>\n",
       "      <td>18</td>\n",
       "      <td>1010</td>\n",
       "      <td>1</td>\n",
       "      <td>3.5</td>\n",
       "      <td>3.5</td>\n",
       "      <td>0.0</td>\n",
       "      <td>0.0</td>\n",
       "      <td>0.0</td>\n",
       "      <td>0.0</td>\n",
       "      <td>41</td>\n",
       "      <td>1.52</td>\n",
       "      <td>A</td>\n",
       "      <td>b.1.1</td>\n",
       "      <td>2022-03-05</td>\n",
       "      <td>3000-01-01 00:00:00</td>\n",
       "    </tr>\n",
       "    <tr>\n",
       "      <th>4</th>\n",
       "      <td>5</td>\n",
       "      <td>19</td>\n",
       "      <td>1004</td>\n",
       "      <td>1</td>\n",
       "      <td>60.0</td>\n",
       "      <td>60.0</td>\n",
       "      <td>60.0</td>\n",
       "      <td>60.0</td>\n",
       "      <td>60.0</td>\n",
       "      <td>60.0</td>\n",
       "      <td>41</td>\n",
       "      <td>44.00</td>\n",
       "      <td>A</td>\n",
       "      <td>b.1.1</td>\n",
       "      <td>2022-12-01</td>\n",
       "      <td>3000-01-01 00:00:00</td>\n",
       "    </tr>\n",
       "  </tbody>\n",
       "</table>\n",
       "</div>"
      ],
      "text/plain": [
       "   PK_CLIENTE  TARIFA  MUNICIPIO  PROVINCIA  KW_CONTRATADA_P1  \\\n",
       "0           1      18       1001          1               4.0   \n",
       "1           2      19       1001          1              57.0   \n",
       "2           3      18       1002          1               4.4   \n",
       "3           4      18       1010          1               3.5   \n",
       "4           5      19       1004          1              60.0   \n",
       "\n",
       "   KW_CONTRATADA_P2  KW_CONTRATADA_P3  KW_CONTRATADA_P4  KW_CONTRATADA_P5  \\\n",
       "0               4.0               0.0               0.0               0.0   \n",
       "1              85.0              85.0              85.0              85.0   \n",
       "2               4.4               0.0               0.0               0.0   \n",
       "3               3.5               0.0               0.0               0.0   \n",
       "4              60.0              60.0              60.0              60.0   \n",
       "\n",
       "   KW_CONTRATADA_P6  AUTOCONSUMO  POTENCIA_GENERACION_KW ESQUEMA_MEDIDA  \\\n",
       "0               0.0           41                    4.00              A   \n",
       "1             178.0           41                  100.00              A   \n",
       "2               0.0           41                    6.00              A   \n",
       "3               0.0           41                    1.52              A   \n",
       "4              60.0           41                   44.00              A   \n",
       "\n",
       "  SUBGRUPO ALTA_AUTOCONSUMO     BAJA_AUTOCONSUMO  \n",
       "0    b.1.1       2021-06-01  3000-01-01 00:00:00  \n",
       "1    b.1.1       2022-06-30  3000-01-01 00:00:00  \n",
       "2    b.1.1       2022-06-29  3000-01-01 00:00:00  \n",
       "3    b.1.1       2022-03-05  3000-01-01 00:00:00  \n",
       "4    b.1.1       2022-12-01  3000-01-01 00:00:00  "
      ]
     },
     "execution_count": 6,
     "metadata": {},
     "output_type": "execute_result"
    }
   ],
   "source": [
    "df_info.head()"
   ]
  },
  {
   "cell_type": "markdown",
   "id": "1223b872",
   "metadata": {},
   "source": [
    "Formateamos las variables y las categorizamos en numéricas, categóricas o fechas. Además notar que la columna 'PK_CLIENTE' es un identificador único que identifica al cliente y no se considerará una variable con poder predictivo."
   ]
  },
  {
   "cell_type": "markdown",
   "id": "0abbd503",
   "metadata": {},
   "source": [
    "#### Variables categóricas"
   ]
  },
  {
   "cell_type": "code",
   "execution_count": 7,
   "id": "2704bf13",
   "metadata": {},
   "outputs": [],
   "source": [
    "df_info['TARIFA'] = df_info['TARIFA'].astype('category')\n",
    "df_info['MUNICIPIO'] = df_info['MUNICIPIO'].astype('category')\n",
    "df_info['PROVINCIA'] = df_info['PROVINCIA'].astype('category')\n",
    "df_info['AUTOCONSUMO'] = df_info['AUTOCONSUMO'].astype('category')\n",
    "df_info['ESQUEMA_MEDIDA'] = df_info['ESQUEMA_MEDIDA'].astype('category')\n",
    "df_info['SUBGRUPO'] = df_info['SUBGRUPO'].astype('category')"
   ]
  },
  {
   "cell_type": "code",
   "execution_count": 8,
   "id": "54b4740e",
   "metadata": {},
   "outputs": [],
   "source": [
    "df_info_categoricas = df_info[df_info.select_dtypes(include=['category']).columns]"
   ]
  },
  {
   "cell_type": "code",
   "execution_count": 9,
   "id": "8da95e22",
   "metadata": {},
   "outputs": [
    {
     "data": {
      "text/html": [
       "<div>\n",
       "<style scoped>\n",
       "    .dataframe tbody tr th:only-of-type {\n",
       "        vertical-align: middle;\n",
       "    }\n",
       "\n",
       "    .dataframe tbody tr th {\n",
       "        vertical-align: top;\n",
       "    }\n",
       "\n",
       "    .dataframe thead th {\n",
       "        text-align: right;\n",
       "    }\n",
       "</style>\n",
       "<table border=\"1\" class=\"dataframe\">\n",
       "  <thead>\n",
       "    <tr style=\"text-align: right;\">\n",
       "      <th></th>\n",
       "      <th>TARIFA</th>\n",
       "      <th>MUNICIPIO</th>\n",
       "      <th>PROVINCIA</th>\n",
       "      <th>AUTOCONSUMO</th>\n",
       "      <th>ESQUEMA_MEDIDA</th>\n",
       "      <th>SUBGRUPO</th>\n",
       "    </tr>\n",
       "  </thead>\n",
       "  <tbody>\n",
       "    <tr>\n",
       "      <th>count</th>\n",
       "      <td>11786</td>\n",
       "      <td>11786</td>\n",
       "      <td>11786</td>\n",
       "      <td>11786</td>\n",
       "      <td>11782</td>\n",
       "      <td>11736</td>\n",
       "    </tr>\n",
       "    <tr>\n",
       "      <th>unique</th>\n",
       "      <td>5</td>\n",
       "      <td>2348</td>\n",
       "      <td>50</td>\n",
       "      <td>11</td>\n",
       "      <td>5</td>\n",
       "      <td>9</td>\n",
       "    </tr>\n",
       "    <tr>\n",
       "      <th>top</th>\n",
       "      <td>18</td>\n",
       "      <td>8205</td>\n",
       "      <td>8</td>\n",
       "      <td>41</td>\n",
       "      <td>A</td>\n",
       "      <td>b.1.1</td>\n",
       "    </tr>\n",
       "    <tr>\n",
       "      <th>freq</th>\n",
       "      <td>11125</td>\n",
       "      <td>122</td>\n",
       "      <td>3315</td>\n",
       "      <td>11480</td>\n",
       "      <td>11510</td>\n",
       "      <td>10485</td>\n",
       "    </tr>\n",
       "  </tbody>\n",
       "</table>\n",
       "</div>"
      ],
      "text/plain": [
       "        TARIFA  MUNICIPIO  PROVINCIA  AUTOCONSUMO ESQUEMA_MEDIDA SUBGRUPO\n",
       "count    11786      11786      11786        11786          11782    11736\n",
       "unique       5       2348         50           11              5        9\n",
       "top         18       8205          8           41              A    b.1.1\n",
       "freq     11125        122       3315        11480          11510    10485"
      ]
     },
     "execution_count": 9,
     "metadata": {},
     "output_type": "execute_result"
    }
   ],
   "source": [
    "df_info_categoricas.describe()"
   ]
  },
  {
   "cell_type": "markdown",
   "id": "f668e94c",
   "metadata": {},
   "source": [
    "- TARIFA: Se observa que la variable vale lo mismo para casi todos los clientes."
   ]
  },
  {
   "cell_type": "code",
   "execution_count": 10,
   "id": "5edb85f4",
   "metadata": {},
   "outputs": [
    {
     "data": {
      "image/png": "[encoded data removed]",
      "text/plain": [
       "<Figure size 400x300 with 1 Axes>"
      ]
     },
     "metadata": {},
     "output_type": "display_data"
    }
   ],
   "source": [
    "frecuencias = df_info['TARIFA'].value_counts()\n",
    "\n",
    "plt.figure(figsize=(4, 3))\n",
    "sns.barplot(x = \"index\", y = \"TARIFA\", data = frecuencias.reset_index())\n",
    "plt.xlabel('Tipo de tarifa')\n",
    "plt.ylabel('Frecuencia')\n",
    "plt.show()"
   ]
  },
  {
   "cell_type": "markdown",
   "id": "481f130c",
   "metadata": {},
   "source": [
    "- MUNICIPIO: En nuestro conjunto de datos contamos con 2348 municipios distintos. Es una variable categórica demasiado grande, por lo que seguramente acabemos tomando como referencia la variable PROVINCIA (que es un superconjunto de la variable MUNICIPIO)."
   ]
  },
  {
   "cell_type": "markdown",
   "id": "c969f82f",
   "metadata": {},
   "source": [
    "- PROVINCIA: Vemos que las más frecuentes son: Barcelona(8), Girona(17), Valencia(46), Madrid(28) e Islas Baleares(7)."
   ]
  },
  {
   "cell_type": "code",
   "execution_count": 11,
   "id": "4814b6a8",
   "metadata": {},
   "outputs": [
    {
     "data": {
      "text/plain": [
       "8     3315\n",
       "17    1239\n",
       "46     661\n",
       "28     644\n",
       "7      545\n",
       "Name: PROVINCIA, dtype: int64"
      ]
     },
     "execution_count": 11,
     "metadata": {},
     "output_type": "execute_result"
    }
   ],
   "source": [
    "frecuencias = df_info['PROVINCIA'].value_counts()\n",
    "frecuencias.head()"
   ]
  },
  {
   "cell_type": "markdown",
   "id": "61c20816",
   "metadata": {},
   "source": [
    "- AUTOCONSUMO: Se observa que la variable vale lo mismo para casi todos los clientes."
   ]
  },
  {
   "cell_type": "code",
   "execution_count": 12,
   "id": "56ce269f",
   "metadata": {},
   "outputs": [
    {
     "data": {
      "image/png": "[encoded data removed]",
      "text/plain": [
       "<Figure size 700x300 with 1 Axes>"
      ]
     },
     "metadata": {},
     "output_type": "display_data"
    }
   ],
   "source": [
    "frecuencias = df_info['AUTOCONSUMO'].value_counts()\n",
    "\n",
    "plt.figure(figsize=(7, 3))\n",
    "sns.barplot(x = \"index\", y = \"AUTOCONSUMO\", data = frecuencias.reset_index())\n",
    "plt.xlabel('Tipo de autoconsumo')\n",
    "plt.ylabel('Frecuencia')\n",
    "plt.show()"
   ]
  },
  {
   "cell_type": "markdown",
   "id": "174177a0",
   "metadata": {},
   "source": [
    "- ESQUEMA_MEDIDA: Se observa que la variable vale lo mismo para casi todos los clientes."
   ]
  },
  {
   "cell_type": "code",
   "execution_count": 13,
   "id": "9686d89c",
   "metadata": {},
   "outputs": [
    {
     "data": {
      "image/png": "[encoded data removed]",
      "text/plain": [
       "<Figure size 600x300 with 1 Axes>"
      ]
     },
     "metadata": {},
     "output_type": "display_data"
    }
   ],
   "source": [
    "frecuencias = df_info['ESQUEMA_MEDIDA'].value_counts()\n",
    "\n",
    "plt.figure(figsize=(6, 3))\n",
    "sns.barplot(x = \"index\", y = \"ESQUEMA_MEDIDA\", data = frecuencias.reset_index())\n",
    "plt.xlabel('Tipo de esquema de medida')\n",
    "plt.ylabel('Frecuencia')\n",
    "plt.show()"
   ]
  },
  {
   "cell_type": "markdown",
   "id": "d18d15db",
   "metadata": {},
   "source": [
    "- SUBGRUPO: Se observa que la variable vale lo mismo para casi todos los clientes."
   ]
  },
  {
   "cell_type": "code",
   "execution_count": 14,
   "id": "a8cb98c2",
   "metadata": {},
   "outputs": [
    {
     "data": {
      "image/png": "[encoded data removed]",
      "text/plain": [
       "<Figure size 700x300 with 1 Axes>"
      ]
     },
     "metadata": {},
     "output_type": "display_data"
    }
   ],
   "source": [
    "frecuencias = df_info['SUBGRUPO'].value_counts()\n",
    "\n",
    "plt.figure(figsize=(7, 3))\n",
    "sns.barplot(x = \"index\", y = \"SUBGRUPO\", data = frecuencias.reset_index())\n",
    "plt.xlabel('Tipo de subgrupo')\n",
    "plt.ylabel('Frecuencia')\n",
    "plt.show()"
   ]
  },
  {
   "cell_type": "markdown",
   "id": "77cc6866",
   "metadata": {},
   "source": [
    "#### Variables numéricas"
   ]
  },
  {
   "cell_type": "code",
   "execution_count": 15,
   "id": "6d168779",
   "metadata": {},
   "outputs": [],
   "source": [
    "df_info_numericas = df_info[df_info.select_dtypes(include=['float64']).columns]"
   ]
  },
  {
   "cell_type": "code",
   "execution_count": 16,
   "id": "ab5454e6",
   "metadata": {},
   "outputs": [
    {
     "data": {
      "text/html": [
       "<div>\n",
       "<style scoped>\n",
       "    .dataframe tbody tr th:only-of-type {\n",
       "        vertical-align: middle;\n",
       "    }\n",
       "\n",
       "    .dataframe tbody tr th {\n",
       "        vertical-align: top;\n",
       "    }\n",
       "\n",
       "    .dataframe thead th {\n",
       "        text-align: right;\n",
       "    }\n",
       "</style>\n",
       "<table border=\"1\" class=\"dataframe\">\n",
       "  <thead>\n",
       "    <tr style=\"text-align: right;\">\n",
       "      <th></th>\n",
       "      <th>KW_CONTRATADA_P1</th>\n",
       "      <th>KW_CONTRATADA_P2</th>\n",
       "      <th>KW_CONTRATADA_P3</th>\n",
       "      <th>KW_CONTRATADA_P4</th>\n",
       "      <th>KW_CONTRATADA_P5</th>\n",
       "      <th>KW_CONTRATADA_P6</th>\n",
       "      <th>POTENCIA_GENERACION_KW</th>\n",
       "    </tr>\n",
       "  </thead>\n",
       "  <tbody>\n",
       "    <tr>\n",
       "      <th>count</th>\n",
       "      <td>11786.000000</td>\n",
       "      <td>11786.000000</td>\n",
       "      <td>11786.000000</td>\n",
       "      <td>11786.000000</td>\n",
       "      <td>11786.000000</td>\n",
       "      <td>11786.000000</td>\n",
       "      <td>11786.000000</td>\n",
       "    </tr>\n",
       "    <tr>\n",
       "      <th>mean</th>\n",
       "      <td>7.492712</td>\n",
       "      <td>7.733908</td>\n",
       "      <td>2.504065</td>\n",
       "      <td>2.498043</td>\n",
       "      <td>2.502116</td>\n",
       "      <td>3.024904</td>\n",
       "      <td>6.999336</td>\n",
       "    </tr>\n",
       "    <tr>\n",
       "      <th>std</th>\n",
       "      <td>22.531164</td>\n",
       "      <td>22.810726</td>\n",
       "      <td>23.328087</td>\n",
       "      <td>23.326758</td>\n",
       "      <td>23.354755</td>\n",
       "      <td>26.258712</td>\n",
       "      <td>72.623960</td>\n",
       "    </tr>\n",
       "    <tr>\n",
       "      <th>min</th>\n",
       "      <td>0.100000</td>\n",
       "      <td>0.000000</td>\n",
       "      <td>0.000000</td>\n",
       "      <td>0.000000</td>\n",
       "      <td>0.000000</td>\n",
       "      <td>0.000000</td>\n",
       "      <td>0.000000</td>\n",
       "    </tr>\n",
       "    <tr>\n",
       "      <th>25%</th>\n",
       "      <td>4.400000</td>\n",
       "      <td>4.400000</td>\n",
       "      <td>0.000000</td>\n",
       "      <td>0.000000</td>\n",
       "      <td>0.000000</td>\n",
       "      <td>0.000000</td>\n",
       "      <td>3.000000</td>\n",
       "    </tr>\n",
       "    <tr>\n",
       "      <th>50%</th>\n",
       "      <td>5.000000</td>\n",
       "      <td>5.200000</td>\n",
       "      <td>0.000000</td>\n",
       "      <td>0.000000</td>\n",
       "      <td>0.000000</td>\n",
       "      <td>0.000000</td>\n",
       "      <td>4.000000</td>\n",
       "    </tr>\n",
       "    <tr>\n",
       "      <th>75%</th>\n",
       "      <td>6.600000</td>\n",
       "      <td>6.900000</td>\n",
       "      <td>0.000000</td>\n",
       "      <td>0.000000</td>\n",
       "      <td>0.000000</td>\n",
       "      <td>0.000000</td>\n",
       "      <td>5.000000</td>\n",
       "    </tr>\n",
       "    <tr>\n",
       "      <th>max</th>\n",
       "      <td>1550.000000</td>\n",
       "      <td>1550.000000</td>\n",
       "      <td>1550.000000</td>\n",
       "      <td>1550.000000</td>\n",
       "      <td>1550.000000</td>\n",
       "      <td>1550.000000</td>\n",
       "      <td>4225.000000</td>\n",
       "    </tr>\n",
       "  </tbody>\n",
       "</table>\n",
       "</div>"
      ],
      "text/plain": [
       "       KW_CONTRATADA_P1  KW_CONTRATADA_P2  KW_CONTRATADA_P3  KW_CONTRATADA_P4  \\\n",
       "count      11786.000000      11786.000000      11786.000000      11786.000000   \n",
       "mean           7.492712          7.733908          2.504065          2.498043   \n",
       "std           22.531164         22.810726         23.328087         23.326758   \n",
       "min            0.100000          0.000000          0.000000          0.000000   \n",
       "25%            4.400000          4.400000          0.000000          0.000000   \n",
       "50%            5.000000          5.200000          0.000000          0.000000   \n",
       "75%            6.600000          6.900000          0.000000          0.000000   \n",
       "max         1550.000000       1550.000000       1550.000000       1550.000000   \n",
       "\n",
       "       KW_CONTRATADA_P5  KW_CONTRATADA_P6  POTENCIA_GENERACION_KW  \n",
       "count      11786.000000      11786.000000            11786.000000  \n",
       "mean           2.502116          3.024904                6.999336  \n",
       "std           23.354755         26.258712               72.623960  \n",
       "min            0.000000          0.000000                0.000000  \n",
       "25%            0.000000          0.000000                3.000000  \n",
       "50%            0.000000          0.000000                4.000000  \n",
       "75%            0.000000          0.000000                5.000000  \n",
       "max         1550.000000       1550.000000             4225.000000  "
      ]
     },
     "execution_count": 16,
     "metadata": {},
     "output_type": "execute_result"
    }
   ],
   "source": [
    "df_info_numericas.describe()"
   ]
  },
  {
   "cell_type": "markdown",
   "id": "adc7a10a",
   "metadata": {},
   "source": [
    "- KW_CONTRATADA_Pi: Al no tener definidos los rangos de valores que toma cada una, se desestiman estos datos."
   ]
  },
  {
   "cell_type": "markdown",
   "id": "555ded5e",
   "metadata": {},
   "source": [
    "- POTENCIA_GENERACION_KW: vemos que los valores que toma esta variable son inferiores a 10, salvo en determinados casos que pasa hasta de los 4000."
   ]
  },
  {
   "cell_type": "code",
   "execution_count": 17,
   "id": "c41563b2",
   "metadata": {},
   "outputs": [
    {
     "data": {
      "image/png": "[encoded data removed]",
      "text/plain": [
       "<Figure size 1000x500 with 1 Axes>"
      ]
     },
     "metadata": {},
     "output_type": "display_data"
    }
   ],
   "source": [
    "plt.figure(figsize=(10, 5))\n",
    "\n",
    "sns.histplot(df_info['POTENCIA_GENERACION_KW'], bins=10, kde=False)\n",
    "plt.yscale('log')\n",
    "plt.title('Histograma de Potencia de Generación (Escala Logarítmica)')\n",
    "plt.xlabel('Potencia (kW)')\n",
    "plt.ylabel('Frecuencia')\n",
    "\n",
    "plt.show()"
   ]
  },
  {
   "cell_type": "markdown",
   "id": "5842dc63",
   "metadata": {},
   "source": [
    "#### Variables tipo datetime\n",
    "\n",
    "Como el tipo de datos datetime de pandas no soporta más allá de la fecha 2262-04-11, a todas aquellas fechas superiores a este máximo las convertiremos en 2200-01-01."
   ]
  },
  {
   "cell_type": "code",
   "execution_count": 18,
   "id": "b45f4e56",
   "metadata": {},
   "outputs": [],
   "source": [
    "df_info['BAJA_AUTOCONSUMO'] = df_info['BAJA_AUTOCONSUMO'].replace('3000-01-01 00:00:00', '2200-01-01 00:00:00')"
   ]
  },
  {
   "cell_type": "code",
   "execution_count": 66,
   "id": "b01c8e8d",
   "metadata": {},
   "outputs": [],
   "source": [
    "df_info['ALTA_AUTOCONSUMO'] = pd.to_datetime(df_info['ALTA_AUTOCONSUMO'])\n",
    "df_info['BAJA_AUTOCONSUMO'] = pd.to_datetime(df_info['BAJA_AUTOCONSUMO'])"
   ]
  },
  {
   "cell_type": "code",
   "execution_count": 72,
   "id": "7ecd1637",
   "metadata": {},
   "outputs": [],
   "source": [
    "df_info_datetime = df_info[['ALTA_AUTOCONSUMO', 'BAJA_AUTOCONSUMO']]"
   ]
  },
  {
   "cell_type": "code",
   "execution_count": 80,
   "id": "4cc4ad7c",
   "metadata": {},
   "outputs": [
    {
     "data": {
      "text/html": [
       "<div>\n",
       "<style scoped>\n",
       "    .dataframe tbody tr th:only-of-type {\n",
       "        vertical-align: middle;\n",
       "    }\n",
       "\n",
       "    .dataframe tbody tr th {\n",
       "        vertical-align: top;\n",
       "    }\n",
       "\n",
       "    .dataframe thead th {\n",
       "        text-align: right;\n",
       "    }\n",
       "</style>\n",
       "<table border=\"1\" class=\"dataframe\">\n",
       "  <thead>\n",
       "    <tr style=\"text-align: right;\">\n",
       "      <th></th>\n",
       "      <th>ALTA_AUTOCONSUMO</th>\n",
       "      <th>BAJA_AUTOCONSUMO</th>\n",
       "    </tr>\n",
       "  </thead>\n",
       "  <tbody>\n",
       "    <tr>\n",
       "      <th>count</th>\n",
       "      <td>11786</td>\n",
       "      <td>11786</td>\n",
       "    </tr>\n",
       "    <tr>\n",
       "      <th>mean</th>\n",
       "      <td>2021-10-27 01:01:05.365688064</td>\n",
       "      <td>2199-12-15 11:35:26.522992640</td>\n",
       "    </tr>\n",
       "    <tr>\n",
       "      <th>min</th>\n",
       "      <td>2013-03-22 00:00:00</td>\n",
       "      <td>2021-08-24 00:00:00</td>\n",
       "    </tr>\n",
       "    <tr>\n",
       "      <th>25%</th>\n",
       "      <td>2021-04-09 06:00:00</td>\n",
       "      <td>2200-01-01 00:00:00</td>\n",
       "    </tr>\n",
       "    <tr>\n",
       "      <th>50%</th>\n",
       "      <td>2021-12-23 00:00:00</td>\n",
       "      <td>2200-01-01 00:00:00</td>\n",
       "    </tr>\n",
       "    <tr>\n",
       "      <th>75%</th>\n",
       "      <td>2022-07-06 00:00:00</td>\n",
       "      <td>2200-01-01 00:00:00</td>\n",
       "    </tr>\n",
       "    <tr>\n",
       "      <th>max</th>\n",
       "      <td>2023-01-04 00:00:00</td>\n",
       "      <td>2200-01-01 00:00:00</td>\n",
       "    </tr>\n",
       "  </tbody>\n",
       "</table>\n",
       "</div>"
      ],
      "text/plain": [
       "                    ALTA_AUTOCONSUMO               BAJA_AUTOCONSUMO\n",
       "count                          11786                          11786\n",
       "mean   2021-10-27 01:01:05.365688064  2199-12-15 11:35:26.522992640\n",
       "min              2013-03-22 00:00:00            2021-08-24 00:00:00\n",
       "25%              2021-04-09 06:00:00            2200-01-01 00:00:00\n",
       "50%              2021-12-23 00:00:00            2200-01-01 00:00:00\n",
       "75%              2022-07-06 00:00:00            2200-01-01 00:00:00\n",
       "max              2023-01-04 00:00:00            2200-01-01 00:00:00"
      ]
     },
     "execution_count": 80,
     "metadata": {},
     "output_type": "execute_result"
    }
   ],
   "source": [
    "df_info_datetime.describe(datetime_is_numeric=True)"
   ]
  },
  {
   "cell_type": "markdown",
   "id": "ba181094",
   "metadata": {},
   "source": [
    "- ALTA_AUTOCONSUMO: Se observa una tendencia creciente entre el intervalo de tiempo 2020 - 2022.\n",
    "\n",
    "Representemos los valores de esta variable en una gráfica sin otuliers para poder hacernos una idea mejor de cómo es.\n",
    "\n",
    "Para eliminar los outliers utilizamos el Método del Rango Intercuartílico (IQR), el cuál utiliza los cuartiles para identificar valores atípicos en una distribución."
   ]
  },
  {
   "cell_type": "code",
   "execution_count": 22,
   "id": "4e80da13",
   "metadata": {},
   "outputs": [],
   "source": [
    "Q1 = df_info['ALTA_AUTOCONSUMO'].quantile(0.25)\n",
    "Q3 = df_info['ALTA_AUTOCONSUMO'].quantile(0.75)\n",
    "IQR = Q3 - Q1\n",
    "\n",
    "limite_inferior = Q1 - 1.5 * IQR\n",
    "limite_superior = Q3 + 1.5 * IQR"
   ]
  },
  {
   "cell_type": "code",
   "execution_count": 23,
   "id": "fc89c415",
   "metadata": {},
   "outputs": [
    {
     "data": {
      "image/png": "[encoded data removed]",
      "text/plain": [
       "<Figure size 1000x300 with 1 Axes>"
      ]
     },
     "metadata": {},
     "output_type": "display_data"
    }
   ],
   "source": [
    "df_filtrado = df_info[(df_info['ALTA_AUTOCONSUMO'] >= limite_inferior) & (df_info['ALTA_AUTOCONSUMO'] <= limite_superior)]\n",
    "\n",
    "plt.figure(figsize=(10, 3))\n",
    "plt.hist(df_filtrado['ALTA_AUTOCONSUMO'], bins=8, edgecolor='black')\n",
    "plt.xlabel('Fecha de alta en autoconsumo')\n",
    "plt.ylabel('Frecuencia')\n",
    "plt.show()"
   ]
  },
  {
   "cell_type": "markdown",
   "id": "dec0ff1f",
   "metadata": {},
   "source": [
    "Notar que hay fechas de alta en autoconsumo más recientes que las fechas que trataremos en la serie temporal. Se comprueba más adelante."
   ]
  },
  {
   "cell_type": "markdown",
   "id": "64801320",
   "metadata": {},
   "source": [
    "- BAJA_AUTOCONSUMO: Notar que casi el 100% de los clientes no han sido dados de baja en autoconsumo."
   ]
  },
  {
   "cell_type": "code",
   "execution_count": 24,
   "id": "f2e181cc",
   "metadata": {},
   "outputs": [
    {
     "data": {
      "text/plain": [
       "99.97454607161038"
      ]
     },
     "execution_count": 24,
     "metadata": {},
     "output_type": "execute_result"
    }
   ],
   "source": [
    "val_mas_frec = (df_info['BAJA_AUTOCONSUMO'] == df_info['BAJA_AUTOCONSUMO'].mode()[0]).sum()\n",
    "\n",
    "(val_mas_frec/total_cli)*100"
   ]
  },
  {
   "cell_type": "markdown",
   "id": "6b923ef2",
   "metadata": {},
   "source": [
    "### 2.2. Archivos cups (consumo)"
   ]
  },
  {
   "cell_type": "code",
   "execution_count": 25,
   "id": "2b91c208",
   "metadata": {},
   "outputs": [
    {
     "data": {
      "text/plain": [
       "(17396856, 5)"
      ]
     },
     "execution_count": 25,
     "metadata": {},
     "output_type": "execute_result"
    }
   ],
   "source": [
    "df_consumo = pd.read_parquet('cups.parquet').reset_index(drop = True)\n",
    "df_consumo.shape"
   ]
  },
  {
   "cell_type": "code",
   "execution_count": 26,
   "id": "61c40c8e",
   "metadata": {},
   "outputs": [
    {
     "name": "stdout",
     "output_type": "stream",
     "text": [
      "<class 'pandas.core.frame.DataFrame'>\n",
      "RangeIndex: 17396856 entries, 0 to 17396855\n",
      "Data columns (total 5 columns):\n",
      " #   Column         Dtype         \n",
      "---  ------         -----         \n",
      " 0   PK_CLIENTE     int64         \n",
      " 1   PK_ANYOMESDIA  datetime64[ns]\n",
      " 2   PK_HORA        int64         \n",
      " 3   ENTRADA        float64       \n",
      " 4   SALIDA         float64       \n",
      "dtypes: datetime64[ns](1), float64(2), int64(2)\n",
      "memory usage: 663.6 MB\n"
     ]
    }
   ],
   "source": [
    "df_consumo.info()"
   ]
  },
  {
   "cell_type": "markdown",
   "id": "54ba8f31",
   "metadata": {},
   "source": [
    "Casi el 10% de los registros son nulos. Se establece eliminar estos registros del análisis."
   ]
  },
  {
   "cell_type": "code",
   "execution_count": 27,
   "id": "ffcf4e1a",
   "metadata": {},
   "outputs": [
    {
     "data": {
      "text/plain": [
       "PK_CLIENTE             0\n",
       "PK_ANYOMESDIA          0\n",
       "PK_HORA                0\n",
       "ENTRADA          1612265\n",
       "SALIDA           1612288\n",
       "dtype: int64"
      ]
     },
     "execution_count": 27,
     "metadata": {},
     "output_type": "execute_result"
    }
   ],
   "source": [
    "df_consumo.isnull().sum()"
   ]
  },
  {
   "cell_type": "code",
   "execution_count": 28,
   "id": "17c812dc",
   "metadata": {},
   "outputs": [
    {
     "data": {
      "text/plain": [
       "(15784568, 5)"
      ]
     },
     "execution_count": 28,
     "metadata": {},
     "output_type": "execute_result"
    }
   ],
   "source": [
    "df_consumo = df_consumo.dropna().reset_index(drop = True)\n",
    "df_consumo.shape"
   ]
  },
  {
   "cell_type": "code",
   "execution_count": 29,
   "id": "fceaba81",
   "metadata": {},
   "outputs": [
    {
     "data": {
      "text/html": [
       "<div>\n",
       "<style scoped>\n",
       "    .dataframe tbody tr th:only-of-type {\n",
       "        vertical-align: middle;\n",
       "    }\n",
       "\n",
       "    .dataframe tbody tr th {\n",
       "        vertical-align: top;\n",
       "    }\n",
       "\n",
       "    .dataframe thead th {\n",
       "        text-align: right;\n",
       "    }\n",
       "</style>\n",
       "<table border=\"1\" class=\"dataframe\">\n",
       "  <thead>\n",
       "    <tr style=\"text-align: right;\">\n",
       "      <th></th>\n",
       "      <th>PK_CLIENTE</th>\n",
       "      <th>PK_ANYOMESDIA</th>\n",
       "      <th>PK_HORA</th>\n",
       "      <th>ENTRADA</th>\n",
       "      <th>SALIDA</th>\n",
       "    </tr>\n",
       "  </thead>\n",
       "  <tbody>\n",
       "    <tr>\n",
       "      <th>0</th>\n",
       "      <td>1</td>\n",
       "      <td>2023-01-07</td>\n",
       "      <td>0</td>\n",
       "      <td>0.471</td>\n",
       "      <td>0.0</td>\n",
       "    </tr>\n",
       "    <tr>\n",
       "      <th>1</th>\n",
       "      <td>1</td>\n",
       "      <td>2023-01-07</td>\n",
       "      <td>1</td>\n",
       "      <td>0.393</td>\n",
       "      <td>0.0</td>\n",
       "    </tr>\n",
       "    <tr>\n",
       "      <th>2</th>\n",
       "      <td>1</td>\n",
       "      <td>2023-01-07</td>\n",
       "      <td>2</td>\n",
       "      <td>0.331</td>\n",
       "      <td>0.0</td>\n",
       "    </tr>\n",
       "    <tr>\n",
       "      <th>3</th>\n",
       "      <td>1</td>\n",
       "      <td>2023-01-07</td>\n",
       "      <td>3</td>\n",
       "      <td>0.413</td>\n",
       "      <td>0.0</td>\n",
       "    </tr>\n",
       "    <tr>\n",
       "      <th>4</th>\n",
       "      <td>1</td>\n",
       "      <td>2023-01-07</td>\n",
       "      <td>4</td>\n",
       "      <td>0.354</td>\n",
       "      <td>0.0</td>\n",
       "    </tr>\n",
       "  </tbody>\n",
       "</table>\n",
       "</div>"
      ],
      "text/plain": [
       "   PK_CLIENTE PK_ANYOMESDIA  PK_HORA  ENTRADA  SALIDA\n",
       "0           1    2023-01-07        0    0.471     0.0\n",
       "1           1    2023-01-07        1    0.393     0.0\n",
       "2           1    2023-01-07        2    0.331     0.0\n",
       "3           1    2023-01-07        3    0.413     0.0\n",
       "4           1    2023-01-07        4    0.354     0.0"
      ]
     },
     "execution_count": 29,
     "metadata": {},
     "output_type": "execute_result"
    }
   ],
   "source": [
    "df_consumo.head()"
   ]
  },
  {
   "cell_type": "code",
   "execution_count": 30,
   "id": "0d61621c",
   "metadata": {},
   "outputs": [
    {
     "data": {
      "text/plain": [
       "11603"
      ]
     },
     "execution_count": 30,
     "metadata": {},
     "output_type": "execute_result"
    }
   ],
   "source": [
    "total_cli = len(df_consumo.PK_CLIENTE.unique())\n",
    "total_cli"
   ]
  },
  {
   "cell_type": "markdown",
   "id": "4843788f",
   "metadata": {},
   "source": [
    "Notar que este conjunto de datos es el que representa a la serie temporal 'pura', y el resto de conjuntos de datos se podrán añadir al modelo como variables exógenas."
   ]
  },
  {
   "cell_type": "markdown",
   "id": "6665269d",
   "metadata": {},
   "source": [
    "Además, ya podemos comprobar cuantos clientes tienen una fecha de alta en autoconsumo más reciente al inicio de la serie temporal:"
   ]
  },
  {
   "cell_type": "code",
   "execution_count": 79,
   "id": "37188e77",
   "metadata": {},
   "outputs": [
    {
     "data": {
      "text/plain": [
       "(474, 16)"
      ]
     },
     "execution_count": 79,
     "metadata": {},
     "output_type": "execute_result"
    }
   ],
   "source": [
    "df_info[df_info['ALTA_AUTOCONSUMO'] > df_consumo['PK_ANYOMESDIA'].min()].shape"
   ]
  },
  {
   "cell_type": "markdown",
   "id": "a8e0d0d7",
   "metadata": {},
   "source": [
    "### 2.3. Archivos tiempo"
   ]
  },
  {
   "cell_type": "code",
   "execution_count": 31,
   "id": "1e5b5a75",
   "metadata": {},
   "outputs": [
    {
     "data": {
      "text/plain": [
       "(17084345, 16)"
      ]
     },
     "execution_count": 31,
     "metadata": {},
     "output_type": "execute_result"
    }
   ],
   "source": [
    "df_tiempo = pd.read_parquet('tiempo.parquet').reset_index(drop = True)\n",
    "df_tiempo.shape"
   ]
  },
  {
   "cell_type": "markdown",
   "id": "e6107973",
   "metadata": {},
   "source": [
    "Guardamos los datos a nivel municipio, en vez de a nivel cliente:"
   ]
  },
  {
   "cell_type": "code",
   "execution_count": 32,
   "id": "cc171ce8",
   "metadata": {},
   "outputs": [
    {
     "data": {
      "text/plain": [
       "(3266814, 15)"
      ]
     },
     "execution_count": 32,
     "metadata": {},
     "output_type": "execute_result"
    }
   ],
   "source": [
    "df_tiempo = df_tiempo.drop(columns = 'PK_CLIENTE').drop_duplicates().sort_values(by = ['MUNICIPIO', 'PK_ANYOMESDIA', 'PK_HORA'], ascending = [True, True, True]).reset_index(drop = True)\n",
    "df_tiempo.shape"
   ]
  },
  {
   "cell_type": "code",
   "execution_count": 33,
   "id": "47c2cba6",
   "metadata": {},
   "outputs": [
    {
     "name": "stdout",
     "output_type": "stream",
     "text": [
      "<class 'pandas.core.frame.DataFrame'>\n",
      "RangeIndex: 3266814 entries, 0 to 3266813\n",
      "Data columns (total 15 columns):\n",
      " #   Column                Dtype         \n",
      "---  ------                -----         \n",
      " 0   PK_ANYOMESDIA         datetime64[ns]\n",
      " 1   PK_HORA               float64       \n",
      " 2   MUNICIPIO             object        \n",
      " 3   ORTO                  object        \n",
      " 4   OCASO                 object        \n",
      " 5   NIEVE                 object        \n",
      " 6   ESTADO_CIELO          object        \n",
      " 7   DESCRIPCION           object        \n",
      " 8   SENS_TERMICA          float64       \n",
      " 9   TEMPERATURA           float64       \n",
      " 10  PRECIPITACION         object        \n",
      " 11  HUMEDAD_RELATIVA      object        \n",
      " 12  VIENTO_DIRECCION      object        \n",
      " 13  VIENTO_VELOCIDAD      object        \n",
      " 14  VIENTO_AND_RACHA_MAX  object        \n",
      "dtypes: datetime64[ns](1), float64(3), object(11)\n",
      "memory usage: 373.9+ MB\n"
     ]
    }
   ],
   "source": [
    "df_tiempo.info()"
   ]
  },
  {
   "cell_type": "code",
   "execution_count": 34,
   "id": "546dd7eb",
   "metadata": {},
   "outputs": [],
   "source": [
    "df_tiempo['PK_HORA'] = df_tiempo['PK_HORA'].astype('int64')"
   ]
  },
  {
   "cell_type": "code",
   "execution_count": 35,
   "id": "589ee4d8",
   "metadata": {},
   "outputs": [],
   "source": [
    "df_tiempo['MUNICIPIO'] = df_tiempo['MUNICIPIO'].astype('int64')\n",
    "df_tiempo['MUNICIPIO'] = df_tiempo['MUNICIPIO'].astype('category')"
   ]
  },
  {
   "cell_type": "code",
   "execution_count": 36,
   "id": "0c3c88d4",
   "metadata": {},
   "outputs": [
    {
     "data": {
      "text/plain": [
       "PK_ANYOMESDIA           0\n",
       "PK_HORA                 0\n",
       "MUNICIPIO               0\n",
       "ORTO                    0\n",
       "OCASO                   0\n",
       "NIEVE                   0\n",
       "ESTADO_CIELO            0\n",
       "DESCRIPCION             0\n",
       "SENS_TERMICA            0\n",
       "TEMPERATURA             0\n",
       "PRECIPITACION           0\n",
       "HUMEDAD_RELATIVA        0\n",
       "VIENTO_DIRECCION        0\n",
       "VIENTO_VELOCIDAD        0\n",
       "VIENTO_AND_RACHA_MAX    0\n",
       "dtype: int64"
      ]
     },
     "execution_count": 36,
     "metadata": {},
     "output_type": "execute_result"
    }
   ],
   "source": [
    "df_tiempo.isnull().sum()"
   ]
  },
  {
   "cell_type": "code",
   "execution_count": 58,
   "id": "1702ad5c",
   "metadata": {},
   "outputs": [
    {
     "data": {
      "text/html": [
       "<div>\n",
       "<style scoped>\n",
       "    .dataframe tbody tr th:only-of-type {\n",
       "        vertical-align: middle;\n",
       "    }\n",
       "\n",
       "    .dataframe tbody tr th {\n",
       "        vertical-align: top;\n",
       "    }\n",
       "\n",
       "    .dataframe thead th {\n",
       "        text-align: right;\n",
       "    }\n",
       "</style>\n",
       "<table border=\"1\" class=\"dataframe\">\n",
       "  <thead>\n",
       "    <tr style=\"text-align: right;\">\n",
       "      <th></th>\n",
       "      <th>PK_ANYOMESDIA</th>\n",
       "      <th>PK_HORA</th>\n",
       "      <th>MUNICIPIO</th>\n",
       "      <th>ORTO</th>\n",
       "      <th>OCASO</th>\n",
       "      <th>NIEVE</th>\n",
       "      <th>ESTADO_CIELO</th>\n",
       "      <th>DESCRIPCION</th>\n",
       "      <th>SENS_TERMICA</th>\n",
       "      <th>TEMPERATURA</th>\n",
       "      <th>PRECIPITACION</th>\n",
       "      <th>HUMEDAD_RELATIVA</th>\n",
       "      <th>VIENTO_DIRECCION</th>\n",
       "      <th>VIENTO_VELOCIDAD</th>\n",
       "      <th>VIENTO_AND_RACHA_MAX</th>\n",
       "    </tr>\n",
       "  </thead>\n",
       "  <tbody>\n",
       "    <tr>\n",
       "      <th>0</th>\n",
       "      <td>2022-11-09</td>\n",
       "      <td>0</td>\n",
       "      <td>1001</td>\n",
       "      <td>07:53</td>\n",
       "      <td>17:53</td>\n",
       "      <td>0.0</td>\n",
       "      <td>46n</td>\n",
       "      <td>Cubierto con lluvia escasa</td>\n",
       "      <td>13.0</td>\n",
       "      <td>13.0</td>\n",
       "      <td>0.1</td>\n",
       "      <td>75</td>\n",
       "      <td>SO</td>\n",
       "      <td>21</td>\n",
       "      <td>31</td>\n",
       "    </tr>\n",
       "    <tr>\n",
       "      <th>1</th>\n",
       "      <td>2022-11-09</td>\n",
       "      <td>1</td>\n",
       "      <td>1001</td>\n",
       "      <td>07:53</td>\n",
       "      <td>17:53</td>\n",
       "      <td>0.0</td>\n",
       "      <td>17n</td>\n",
       "      <td>Nubes altas</td>\n",
       "      <td>13.0</td>\n",
       "      <td>13.0</td>\n",
       "      <td>0.0</td>\n",
       "      <td>79</td>\n",
       "      <td>SO</td>\n",
       "      <td>20</td>\n",
       "      <td>27</td>\n",
       "    </tr>\n",
       "    <tr>\n",
       "      <th>2</th>\n",
       "      <td>2022-11-09</td>\n",
       "      <td>2</td>\n",
       "      <td>1001</td>\n",
       "      <td>07:53</td>\n",
       "      <td>17:53</td>\n",
       "      <td>0.0</td>\n",
       "      <td>16n</td>\n",
       "      <td>Cubierto</td>\n",
       "      <td>13.0</td>\n",
       "      <td>13.0</td>\n",
       "      <td>0.0</td>\n",
       "      <td>80</td>\n",
       "      <td>SO</td>\n",
       "      <td>19</td>\n",
       "      <td>23</td>\n",
       "    </tr>\n",
       "    <tr>\n",
       "      <th>3</th>\n",
       "      <td>2022-11-09</td>\n",
       "      <td>3</td>\n",
       "      <td>1001</td>\n",
       "      <td>07:53</td>\n",
       "      <td>17:53</td>\n",
       "      <td>0.0</td>\n",
       "      <td>16n</td>\n",
       "      <td>Cubierto</td>\n",
       "      <td>13.0</td>\n",
       "      <td>13.0</td>\n",
       "      <td>0.0</td>\n",
       "      <td>80</td>\n",
       "      <td>SO</td>\n",
       "      <td>16</td>\n",
       "      <td>33</td>\n",
       "    </tr>\n",
       "    <tr>\n",
       "      <th>4</th>\n",
       "      <td>2022-11-09</td>\n",
       "      <td>4</td>\n",
       "      <td>1001</td>\n",
       "      <td>07:53</td>\n",
       "      <td>17:53</td>\n",
       "      <td>0.0</td>\n",
       "      <td>16n</td>\n",
       "      <td>Cubierto</td>\n",
       "      <td>13.0</td>\n",
       "      <td>13.0</td>\n",
       "      <td>0.0</td>\n",
       "      <td>76</td>\n",
       "      <td>SO</td>\n",
       "      <td>23</td>\n",
       "      <td>25</td>\n",
       "    </tr>\n",
       "    <tr>\n",
       "      <th>...</th>\n",
       "      <td>...</td>\n",
       "      <td>...</td>\n",
       "      <td>...</td>\n",
       "      <td>...</td>\n",
       "      <td>...</td>\n",
       "      <td>...</td>\n",
       "      <td>...</td>\n",
       "      <td>...</td>\n",
       "      <td>...</td>\n",
       "      <td>...</td>\n",
       "      <td>...</td>\n",
       "      <td>...</td>\n",
       "      <td>...</td>\n",
       "      <td>...</td>\n",
       "      <td>...</td>\n",
       "    </tr>\n",
       "    <tr>\n",
       "      <th>3266809</th>\n",
       "      <td>2023-01-10</td>\n",
       "      <td>8</td>\n",
       "      <td>50297</td>\n",
       "      <td>08:29</td>\n",
       "      <td>17:52</td>\n",
       "      <td>0.0</td>\n",
       "      <td>12n</td>\n",
       "      <td>Poco nuboso</td>\n",
       "      <td>4.0</td>\n",
       "      <td>4.0</td>\n",
       "      <td>0.0</td>\n",
       "      <td>79</td>\n",
       "      <td>N</td>\n",
       "      <td>6</td>\n",
       "      <td>16</td>\n",
       "    </tr>\n",
       "    <tr>\n",
       "      <th>3266810</th>\n",
       "      <td>2023-01-10</td>\n",
       "      <td>9</td>\n",
       "      <td>50297</td>\n",
       "      <td>08:29</td>\n",
       "      <td>17:52</td>\n",
       "      <td>0.0</td>\n",
       "      <td>12</td>\n",
       "      <td>Poco nuboso</td>\n",
       "      <td>2.0</td>\n",
       "      <td>5.0</td>\n",
       "      <td>0.0</td>\n",
       "      <td>81</td>\n",
       "      <td>NO</td>\n",
       "      <td>11</td>\n",
       "      <td>12</td>\n",
       "    </tr>\n",
       "    <tr>\n",
       "      <th>3266811</th>\n",
       "      <td>2023-01-10</td>\n",
       "      <td>10</td>\n",
       "      <td>50297</td>\n",
       "      <td>08:29</td>\n",
       "      <td>17:52</td>\n",
       "      <td>0.0</td>\n",
       "      <td>11</td>\n",
       "      <td>Despejado</td>\n",
       "      <td>6.0</td>\n",
       "      <td>6.0</td>\n",
       "      <td>0.0</td>\n",
       "      <td>86</td>\n",
       "      <td>N</td>\n",
       "      <td>6</td>\n",
       "      <td>6</td>\n",
       "    </tr>\n",
       "    <tr>\n",
       "      <th>3266812</th>\n",
       "      <td>2023-01-10</td>\n",
       "      <td>11</td>\n",
       "      <td>50297</td>\n",
       "      <td>08:29</td>\n",
       "      <td>17:52</td>\n",
       "      <td>0.0</td>\n",
       "      <td>11</td>\n",
       "      <td>Despejado</td>\n",
       "      <td>7.0</td>\n",
       "      <td>7.0</td>\n",
       "      <td>0.0</td>\n",
       "      <td>78</td>\n",
       "      <td>O</td>\n",
       "      <td>3</td>\n",
       "      <td>17</td>\n",
       "    </tr>\n",
       "    <tr>\n",
       "      <th>3266813</th>\n",
       "      <td>2023-01-10</td>\n",
       "      <td>12</td>\n",
       "      <td>50297</td>\n",
       "      <td>08:29</td>\n",
       "      <td>17:52</td>\n",
       "      <td>0.0</td>\n",
       "      <td>11</td>\n",
       "      <td>Despejado</td>\n",
       "      <td>6.0</td>\n",
       "      <td>8.0</td>\n",
       "      <td>0.0</td>\n",
       "      <td>73</td>\n",
       "      <td>O</td>\n",
       "      <td>10</td>\n",
       "      <td>17</td>\n",
       "    </tr>\n",
       "  </tbody>\n",
       "</table>\n",
       "<p>3266814 rows × 15 columns</p>\n",
       "</div>"
      ],
      "text/plain": [
       "        PK_ANYOMESDIA  PK_HORA MUNICIPIO   ORTO  OCASO  NIEVE ESTADO_CIELO  \\\n",
       "0          2022-11-09        0      1001  07:53  17:53    0.0          46n   \n",
       "1          2022-11-09        1      1001  07:53  17:53    0.0          17n   \n",
       "2          2022-11-09        2      1001  07:53  17:53    0.0          16n   \n",
       "3          2022-11-09        3      1001  07:53  17:53    0.0          16n   \n",
       "4          2022-11-09        4      1001  07:53  17:53    0.0          16n   \n",
       "...               ...      ...       ...    ...    ...    ...          ...   \n",
       "3266809    2023-01-10        8     50297  08:29  17:52    0.0          12n   \n",
       "3266810    2023-01-10        9     50297  08:29  17:52    0.0           12   \n",
       "3266811    2023-01-10       10     50297  08:29  17:52    0.0           11   \n",
       "3266812    2023-01-10       11     50297  08:29  17:52    0.0           11   \n",
       "3266813    2023-01-10       12     50297  08:29  17:52    0.0           11   \n",
       "\n",
       "                        DESCRIPCION  SENS_TERMICA  TEMPERATURA  PRECIPITACION  \\\n",
       "0        Cubierto con lluvia escasa          13.0         13.0            0.1   \n",
       "1                       Nubes altas          13.0         13.0            0.0   \n",
       "2                          Cubierto          13.0         13.0            0.0   \n",
       "3                          Cubierto          13.0         13.0            0.0   \n",
       "4                          Cubierto          13.0         13.0            0.0   \n",
       "...                             ...           ...          ...            ...   \n",
       "3266809                 Poco nuboso           4.0          4.0            0.0   \n",
       "3266810                 Poco nuboso           2.0          5.0            0.0   \n",
       "3266811                   Despejado           6.0          6.0            0.0   \n",
       "3266812                   Despejado           7.0          7.0            0.0   \n",
       "3266813                   Despejado           6.0          8.0            0.0   \n",
       "\n",
       "         HUMEDAD_RELATIVA VIENTO_DIRECCION  VIENTO_VELOCIDAD  \\\n",
       "0                      75               SO                21   \n",
       "1                      79               SO                20   \n",
       "2                      80               SO                19   \n",
       "3                      80               SO                16   \n",
       "4                      76               SO                23   \n",
       "...                   ...              ...               ...   \n",
       "3266809                79                N                 6   \n",
       "3266810                81               NO                11   \n",
       "3266811                86                N                 6   \n",
       "3266812                78                O                 3   \n",
       "3266813                73                O                10   \n",
       "\n",
       "         VIENTO_AND_RACHA_MAX  \n",
       "0                          31  \n",
       "1                          27  \n",
       "2                          23  \n",
       "3                          33  \n",
       "4                          25  \n",
       "...                       ...  \n",
       "3266809                    16  \n",
       "3266810                    12  \n",
       "3266811                     6  \n",
       "3266812                    17  \n",
       "3266813                    17  \n",
       "\n",
       "[3266814 rows x 15 columns]"
      ]
     },
     "execution_count": 58,
     "metadata": {},
     "output_type": "execute_result"
    }
   ],
   "source": [
    "df_tiempo"
   ]
  },
  {
   "cell_type": "markdown",
   "id": "a74f2b2d",
   "metadata": {},
   "source": [
    "Observamos que tenemos un histórico de dos meses para nuestra serie temporal."
   ]
  },
  {
   "cell_type": "code",
   "execution_count": 38,
   "id": "5b8eaf43",
   "metadata": {},
   "outputs": [
    {
     "data": {
      "text/plain": [
       "2162"
      ]
     },
     "execution_count": 38,
     "metadata": {},
     "output_type": "execute_result"
    }
   ],
   "source": [
    "total_muni = len(df_tiempo.MUNICIPIO.unique())\n",
    "total_muni"
   ]
  },
  {
   "cell_type": "markdown",
   "id": "550861a6",
   "metadata": {},
   "source": [
    "Formateamos las variables y las categorizamos en numéricas, categóricas o fechas."
   ]
  },
  {
   "cell_type": "markdown",
   "id": "c1f7f91f",
   "metadata": {},
   "source": [
    "#### Variables categóricas"
   ]
  },
  {
   "cell_type": "code",
   "execution_count": 39,
   "id": "7dbf556e",
   "metadata": {},
   "outputs": [],
   "source": [
    "df_tiempo['ESTADO_CIELO'] = df_tiempo['ESTADO_CIELO'].astype('category')\n",
    "df_tiempo['DESCRIPCION'] = df_tiempo['DESCRIPCION'].astype('category')\n",
    "df_tiempo['VIENTO_DIRECCION'] = df_tiempo['VIENTO_DIRECCION'].astype('category')"
   ]
  },
  {
   "cell_type": "code",
   "execution_count": 40,
   "id": "297e45bb",
   "metadata": {},
   "outputs": [],
   "source": [
    "df_tiempo_categoricas = df_tiempo[df_tiempo.select_dtypes(include=['category']).columns]"
   ]
  },
  {
   "cell_type": "code",
   "execution_count": 41,
   "id": "fc21973d",
   "metadata": {},
   "outputs": [
    {
     "data": {
      "text/html": [
       "<div>\n",
       "<style scoped>\n",
       "    .dataframe tbody tr th:only-of-type {\n",
       "        vertical-align: middle;\n",
       "    }\n",
       "\n",
       "    .dataframe tbody tr th {\n",
       "        vertical-align: top;\n",
       "    }\n",
       "\n",
       "    .dataframe thead th {\n",
       "        text-align: right;\n",
       "    }\n",
       "</style>\n",
       "<table border=\"1\" class=\"dataframe\">\n",
       "  <thead>\n",
       "    <tr style=\"text-align: right;\">\n",
       "      <th></th>\n",
       "      <th>MUNICIPIO</th>\n",
       "      <th>ESTADO_CIELO</th>\n",
       "      <th>DESCRIPCION</th>\n",
       "      <th>VIENTO_DIRECCION</th>\n",
       "    </tr>\n",
       "  </thead>\n",
       "  <tbody>\n",
       "    <tr>\n",
       "      <th>count</th>\n",
       "      <td>3266814</td>\n",
       "      <td>3266814</td>\n",
       "      <td>3266814</td>\n",
       "      <td>3266814</td>\n",
       "    </tr>\n",
       "    <tr>\n",
       "      <th>unique</th>\n",
       "      <td>2162</td>\n",
       "      <td>64</td>\n",
       "      <td>32</td>\n",
       "      <td>9</td>\n",
       "    </tr>\n",
       "    <tr>\n",
       "      <th>top</th>\n",
       "      <td>47007</td>\n",
       "      <td>11n</td>\n",
       "      <td>Despejado</td>\n",
       "      <td>O</td>\n",
       "    </tr>\n",
       "    <tr>\n",
       "      <th>freq</th>\n",
       "      <td>1543</td>\n",
       "      <td>486622</td>\n",
       "      <td>815250</td>\n",
       "      <td>656024</td>\n",
       "    </tr>\n",
       "  </tbody>\n",
       "</table>\n",
       "</div>"
      ],
      "text/plain": [
       "        MUNICIPIO ESTADO_CIELO DESCRIPCION VIENTO_DIRECCION\n",
       "count     3266814      3266814     3266814          3266814\n",
       "unique       2162           64          32                9\n",
       "top         47007          11n   Despejado                O\n",
       "freq         1543       486622      815250           656024"
      ]
     },
     "execution_count": 41,
     "metadata": {},
     "output_type": "execute_result"
    }
   ],
   "source": [
    "df_tiempo_categoricas.describe()"
   ]
  },
  {
   "cell_type": "markdown",
   "id": "4a6983bb",
   "metadata": {},
   "source": [
    "- VIENTO_DIRECCION"
   ]
  },
  {
   "cell_type": "code",
   "execution_count": 42,
   "id": "194bfc6c",
   "metadata": {},
   "outputs": [
    {
     "data": {
      "image/png": "[encoded data removed]",
      "text/plain": [
       "<Figure size 700x300 with 1 Axes>"
      ]
     },
     "metadata": {},
     "output_type": "display_data"
    }
   ],
   "source": [
    "frecuencias = df_tiempo['VIENTO_DIRECCION'].value_counts()\n",
    "\n",
    "plt.figure(figsize=(7, 3))\n",
    "sns.barplot(x = \"index\", y = \"VIENTO_DIRECCION\", data = frecuencias.reset_index())\n",
    "plt.xlabel('Tipo de subgrupo')\n",
    "plt.ylabel('Frecuencia')\n",
    "plt.show()"
   ]
  },
  {
   "cell_type": "markdown",
   "id": "3451a57b",
   "metadata": {},
   "source": [
    "#### Variables numéricas"
   ]
  },
  {
   "cell_type": "markdown",
   "id": "a26034c0",
   "metadata": {},
   "source": [
    "Reemplazamos los valores 'lp' (low precision) que aparecen en el dataframe mediante su reemplazo por 0.1, ya que corresponden a variables numéricas."
   ]
  },
  {
   "cell_type": "code",
   "execution_count": 43,
   "id": "7e731138",
   "metadata": {},
   "outputs": [
    {
     "name": "stdout",
     "output_type": "stream",
     "text": [
      "El valor 'Ip' está presente en las siguientes columnas: Index(['NIEVE', 'PRECIPITACION'], dtype='object')\n"
     ]
    }
   ],
   "source": [
    "columnas_con_ip = df_tiempo.columns[df_tiempo.isin(['Ip']).any()]\n",
    "\n",
    "print(f\"El valor 'Ip' está presente en las siguientes columnas: {columnas_con_ip}\")"
   ]
  },
  {
   "cell_type": "code",
   "execution_count": 44,
   "id": "72a55922",
   "metadata": {},
   "outputs": [],
   "source": [
    "df_tiempo[columnas_con_ip] = df_tiempo[columnas_con_ip].replace('Ip', 0.1)"
   ]
  },
  {
   "cell_type": "code",
   "execution_count": 45,
   "id": "987df1d4",
   "metadata": {},
   "outputs": [],
   "source": [
    "df_tiempo['VIENTO_AND_RACHA_MAX'] = df_tiempo['VIENTO_AND_RACHA_MAX'].replace('0.0', '0')"
   ]
  },
  {
   "cell_type": "code",
   "execution_count": 46,
   "id": "7805c3eb",
   "metadata": {},
   "outputs": [],
   "source": [
    "df_tiempo['NIEVE'] = df_tiempo['NIEVE'].astype(float)\n",
    "df_tiempo['SENS_TERMICA'] = df_tiempo['SENS_TERMICA'].astype(float)\n",
    "df_tiempo['TEMPERATURA'] = df_tiempo['TEMPERATURA'].astype(float)\n",
    "df_tiempo['PRECIPITACION'] = df_tiempo['PRECIPITACION'].astype(float)\n",
    "df_tiempo['HUMEDAD_RELATIVA'] = df_tiempo['HUMEDAD_RELATIVA'].astype('int64')\n",
    "df_tiempo['VIENTO_VELOCIDAD'] = df_tiempo['VIENTO_VELOCIDAD'].astype('int64')\n",
    "df_tiempo['VIENTO_AND_RACHA_MAX'] = df_tiempo['VIENTO_AND_RACHA_MAX'].astype('int64')"
   ]
  },
  {
   "cell_type": "code",
   "execution_count": 47,
   "id": "f8e718e8",
   "metadata": {},
   "outputs": [],
   "source": [
    "df_tiempo_numericas = df_tiempo[df_tiempo.select_dtypes(include=['float64', 'int64']).columns].drop(columns = 'PK_HORA')"
   ]
  },
  {
   "cell_type": "code",
   "execution_count": 48,
   "id": "18d98b54",
   "metadata": {},
   "outputs": [
    {
     "data": {
      "text/html": [
       "<div>\n",
       "<style scoped>\n",
       "    .dataframe tbody tr th:only-of-type {\n",
       "        vertical-align: middle;\n",
       "    }\n",
       "\n",
       "    .dataframe tbody tr th {\n",
       "        vertical-align: top;\n",
       "    }\n",
       "\n",
       "    .dataframe thead th {\n",
       "        text-align: right;\n",
       "    }\n",
       "</style>\n",
       "<table border=\"1\" class=\"dataframe\">\n",
       "  <thead>\n",
       "    <tr style=\"text-align: right;\">\n",
       "      <th></th>\n",
       "      <th>NIEVE</th>\n",
       "      <th>SENS_TERMICA</th>\n",
       "      <th>TEMPERATURA</th>\n",
       "      <th>PRECIPITACION</th>\n",
       "      <th>HUMEDAD_RELATIVA</th>\n",
       "      <th>VIENTO_VELOCIDAD</th>\n",
       "      <th>VIENTO_AND_RACHA_MAX</th>\n",
       "    </tr>\n",
       "  </thead>\n",
       "  <tbody>\n",
       "    <tr>\n",
       "      <th>count</th>\n",
       "      <td>3.266814e+06</td>\n",
       "      <td>3.266814e+06</td>\n",
       "      <td>3.266814e+06</td>\n",
       "      <td>3.266814e+06</td>\n",
       "      <td>3.266814e+06</td>\n",
       "      <td>3.266814e+06</td>\n",
       "      <td>3.266814e+06</td>\n",
       "    </tr>\n",
       "    <tr>\n",
       "      <th>mean</th>\n",
       "      <td>1.314737e-04</td>\n",
       "      <td>1.079331e+01</td>\n",
       "      <td>1.114824e+01</td>\n",
       "      <td>7.599637e-02</td>\n",
       "      <td>7.657814e+01</td>\n",
       "      <td>1.008238e+01</td>\n",
       "      <td>1.688299e+01</td>\n",
       "    </tr>\n",
       "    <tr>\n",
       "      <th>std</th>\n",
       "      <td>7.368554e-03</td>\n",
       "      <td>5.034277e+00</td>\n",
       "      <td>4.600981e+00</td>\n",
       "      <td>4.798044e-01</td>\n",
       "      <td>1.647640e+01</td>\n",
       "      <td>7.463382e+00</td>\n",
       "      <td>1.219562e+01</td>\n",
       "    </tr>\n",
       "    <tr>\n",
       "      <th>min</th>\n",
       "      <td>0.000000e+00</td>\n",
       "      <td>-1.200000e+01</td>\n",
       "      <td>-1.000000e+01</td>\n",
       "      <td>0.000000e+00</td>\n",
       "      <td>5.000000e+00</td>\n",
       "      <td>0.000000e+00</td>\n",
       "      <td>0.000000e+00</td>\n",
       "    </tr>\n",
       "    <tr>\n",
       "      <th>25%</th>\n",
       "      <td>0.000000e+00</td>\n",
       "      <td>7.000000e+00</td>\n",
       "      <td>8.000000e+00</td>\n",
       "      <td>0.000000e+00</td>\n",
       "      <td>6.600000e+01</td>\n",
       "      <td>5.000000e+00</td>\n",
       "      <td>8.000000e+00</td>\n",
       "    </tr>\n",
       "    <tr>\n",
       "      <th>50%</th>\n",
       "      <td>0.000000e+00</td>\n",
       "      <td>1.100000e+01</td>\n",
       "      <td>1.100000e+01</td>\n",
       "      <td>0.000000e+00</td>\n",
       "      <td>7.900000e+01</td>\n",
       "      <td>8.000000e+00</td>\n",
       "      <td>1.300000e+01</td>\n",
       "    </tr>\n",
       "    <tr>\n",
       "      <th>75%</th>\n",
       "      <td>0.000000e+00</td>\n",
       "      <td>1.400000e+01</td>\n",
       "      <td>1.400000e+01</td>\n",
       "      <td>0.000000e+00</td>\n",
       "      <td>8.900000e+01</td>\n",
       "      <td>1.300000e+01</td>\n",
       "      <td>2.200000e+01</td>\n",
       "    </tr>\n",
       "    <tr>\n",
       "      <th>max</th>\n",
       "      <td>4.000000e+00</td>\n",
       "      <td>3.000000e+01</td>\n",
       "      <td>2.900000e+01</td>\n",
       "      <td>3.800000e+01</td>\n",
       "      <td>1.000000e+02</td>\n",
       "      <td>9.700000e+01</td>\n",
       "      <td>1.450000e+02</td>\n",
       "    </tr>\n",
       "  </tbody>\n",
       "</table>\n",
       "</div>"
      ],
      "text/plain": [
       "              NIEVE  SENS_TERMICA   TEMPERATURA  PRECIPITACION  \\\n",
       "count  3.266814e+06  3.266814e+06  3.266814e+06   3.266814e+06   \n",
       "mean   1.314737e-04  1.079331e+01  1.114824e+01   7.599637e-02   \n",
       "std    7.368554e-03  5.034277e+00  4.600981e+00   4.798044e-01   \n",
       "min    0.000000e+00 -1.200000e+01 -1.000000e+01   0.000000e+00   \n",
       "25%    0.000000e+00  7.000000e+00  8.000000e+00   0.000000e+00   \n",
       "50%    0.000000e+00  1.100000e+01  1.100000e+01   0.000000e+00   \n",
       "75%    0.000000e+00  1.400000e+01  1.400000e+01   0.000000e+00   \n",
       "max    4.000000e+00  3.000000e+01  2.900000e+01   3.800000e+01   \n",
       "\n",
       "       HUMEDAD_RELATIVA  VIENTO_VELOCIDAD  VIENTO_AND_RACHA_MAX  \n",
       "count      3.266814e+06      3.266814e+06          3.266814e+06  \n",
       "mean       7.657814e+01      1.008238e+01          1.688299e+01  \n",
       "std        1.647640e+01      7.463382e+00          1.219562e+01  \n",
       "min        5.000000e+00      0.000000e+00          0.000000e+00  \n",
       "25%        6.600000e+01      5.000000e+00          8.000000e+00  \n",
       "50%        7.900000e+01      8.000000e+00          1.300000e+01  \n",
       "75%        8.900000e+01      1.300000e+01          2.200000e+01  \n",
       "max        1.000000e+02      9.700000e+01          1.450000e+02  "
      ]
     },
     "execution_count": 48,
     "metadata": {},
     "output_type": "execute_result"
    }
   ],
   "source": [
    "df_tiempo_numericas.describe()"
   ]
  },
  {
   "cell_type": "markdown",
   "id": "3a587795",
   "metadata": {},
   "source": [
    "- NIEVE: Toma valores entre 0 y 4 metros cúbicos. También se puede observar que al menos el 75% de registros de esta columna valen 0."
   ]
  },
  {
   "cell_type": "markdown",
   "id": "9d186dc6",
   "metadata": {},
   "source": [
    "- SENS_TERMICA: Toma valores de entre -12 y 30 grados."
   ]
  },
  {
   "cell_type": "markdown",
   "id": "990ea9b9",
   "metadata": {},
   "source": [
    "- TEMPERATURA: Vemos que la temperatura tiene unas estadísticas bastante parecidas a las de la sensación térmica."
   ]
  },
  {
   "cell_type": "markdown",
   "id": "af285520",
   "metadata": {},
   "source": [
    "- PRECIPITACION: Toma valores entre 0 y 38 metros cúbicos. También se puede observar que al menos el 75% de registros de esta columna valen 0."
   ]
  },
  {
   "cell_type": "markdown",
   "id": "d65a55a5",
   "metadata": {},
   "source": [
    "#### Variables tipo datetime"
   ]
  },
  {
   "cell_type": "code",
   "execution_count": 184,
   "id": "d773baed",
   "metadata": {},
   "outputs": [],
   "source": [
    "#datetime = orto, ocaso"
   ]
  },
  {
   "cell_type": "markdown",
   "id": "f2a46f6d",
   "metadata": {},
   "source": [
    "## 3. Preparación de los datos e ingeniería de características\n",
    "\n",
    "### 3.1. Concatenación de los distintos dataframes"
   ]
  },
  {
   "cell_type": "code",
   "execution_count": 81,
   "id": "f6c32693",
   "metadata": {},
   "outputs": [
    {
     "data": {
      "text/plain": [
       "(15784568, 20)"
      ]
     },
     "execution_count": 81,
     "metadata": {},
     "output_type": "execute_result"
    }
   ],
   "source": [
    "df_aux = df_consumo.merge(df_info, on=\"PK_CLIENTE\", how=\"inner\")\n",
    "df_aux.shape"
   ]
  },
  {
   "cell_type": "code",
   "execution_count": 82,
   "id": "284a5101",
   "metadata": {},
   "outputs": [
    {
     "data": {
      "text/plain": [
       "PK_CLIENTE                    0\n",
       "PK_ANYOMESDIA                 0\n",
       "PK_HORA                       0\n",
       "ENTRADA                       0\n",
       "SALIDA                        0\n",
       "TARIFA                        0\n",
       "MUNICIPIO                     0\n",
       "PROVINCIA                     0\n",
       "KW_CONTRATADA_P1              0\n",
       "KW_CONTRATADA_P2              0\n",
       "KW_CONTRATADA_P3              0\n",
       "KW_CONTRATADA_P4              0\n",
       "KW_CONTRATADA_P5              0\n",
       "KW_CONTRATADA_P6              0\n",
       "AUTOCONSUMO                   0\n",
       "POTENCIA_GENERACION_KW        0\n",
       "ESQUEMA_MEDIDA             4408\n",
       "SUBGRUPO                  62482\n",
       "ALTA_AUTOCONSUMO              0\n",
       "BAJA_AUTOCONSUMO              0\n",
       "dtype: int64"
      ]
     },
     "execution_count": 82,
     "metadata": {},
     "output_type": "execute_result"
    }
   ],
   "source": [
    "df_aux.isna().sum()"
   ]
  },
  {
   "cell_type": "code",
   "execution_count": 83,
   "id": "aae5335b",
   "metadata": {},
   "outputs": [
    {
     "data": {
      "text/plain": [
       "(15140750, 32)"
      ]
     },
     "execution_count": 83,
     "metadata": {},
     "output_type": "execute_result"
    }
   ],
   "source": [
    "df = df_aux.merge(df_tiempo, on=[\"MUNICIPIO\", \"PK_ANYOMESDIA\", \"PK_HORA\"], how=\"inner\")\n",
    "df.shape"
   ]
  },
  {
   "cell_type": "code",
   "execution_count": 84,
   "id": "cdff678e",
   "metadata": {},
   "outputs": [
    {
     "data": {
      "text/plain": [
       "PK_CLIENTE                    0\n",
       "PK_ANYOMESDIA                 0\n",
       "PK_HORA                       0\n",
       "ENTRADA                       0\n",
       "SALIDA                        0\n",
       "TARIFA                        0\n",
       "MUNICIPIO                     0\n",
       "PROVINCIA                     0\n",
       "KW_CONTRATADA_P1              0\n",
       "KW_CONTRATADA_P2              0\n",
       "KW_CONTRATADA_P3              0\n",
       "KW_CONTRATADA_P4              0\n",
       "KW_CONTRATADA_P5              0\n",
       "KW_CONTRATADA_P6              0\n",
       "AUTOCONSUMO                   0\n",
       "POTENCIA_GENERACION_KW        0\n",
       "ESQUEMA_MEDIDA             4408\n",
       "SUBGRUPO                  54304\n",
       "ALTA_AUTOCONSUMO              0\n",
       "BAJA_AUTOCONSUMO              0\n",
       "ORTO                          0\n",
       "OCASO                         0\n",
       "NIEVE                         0\n",
       "ESTADO_CIELO                  0\n",
       "DESCRIPCION                   0\n",
       "SENS_TERMICA                  0\n",
       "TEMPERATURA                   0\n",
       "PRECIPITACION                 0\n",
       "HUMEDAD_RELATIVA              0\n",
       "VIENTO_DIRECCION              0\n",
       "VIENTO_VELOCIDAD              0\n",
       "VIENTO_AND_RACHA_MAX          0\n",
       "dtype: int64"
      ]
     },
     "execution_count": 84,
     "metadata": {},
     "output_type": "execute_result"
    }
   ],
   "source": [
    "df.isna().sum()"
   ]
  },
  {
   "cell_type": "markdown",
   "id": "2900a106",
   "metadata": {},
   "source": [
    "Le damos un poco de formato a los campos más importantes:"
   ]
  },
  {
   "cell_type": "code",
   "execution_count": 85,
   "id": "7e1304cb",
   "metadata": {},
   "outputs": [],
   "source": [
    "df = df.sort_values(by=['PK_ANYOMESDIA', 'PK_HORA', 'PK_CLIENTE'], ascending =[True, True, True])\n",
    "df['PK_HORA_formateada'] = df['PK_HORA'].apply(lambda x: datetime.strptime(str(x), '%H').time())\n",
    "df['DATETIME'] = pd.to_datetime(df['PK_ANYOMESDIA']) + pd.to_timedelta(df['PK_HORA_formateada'].astype(str))"
   ]
  },
  {
   "cell_type": "code",
   "execution_count": 86,
   "id": "22176ea6",
   "metadata": {},
   "outputs": [],
   "source": [
    "df = df.drop(columns = 'PK_HORA_formateada')"
   ]
  },
  {
   "cell_type": "markdown",
   "id": "0933bfc9",
   "metadata": {},
   "source": [
    "Además, notar que en un día y hora determinada, un cliente solo tiene distinto de cero la ENTRADA o la SALIDA, pero no ambos. Fijémonos en que esta va a ser nuestra variable target, es decir, aquella que querremos predecir. Para facilitarnos este trabajo, conviene que unamos las dos variables en una. Así creamos la variable CONSUMO de la siguiente forma:"
   ]
  },
  {
   "cell_type": "code",
   "execution_count": 87,
   "id": "86d2f06e",
   "metadata": {},
   "outputs": [],
   "source": [
    "df['CONSUMO'] = df['ENTRADA'] - df['SALIDA']"
   ]
  },
  {
   "cell_type": "code",
   "execution_count": 88,
   "id": "40015189",
   "metadata": {},
   "outputs": [],
   "source": [
    "df = df.reset_index(drop = True)"
   ]
  },
  {
   "cell_type": "code",
   "execution_count": 91,
   "id": "622201a1",
   "metadata": {},
   "outputs": [],
   "source": [
    "df.to_parquet('df_preprocesado.parquet')"
   ]
  },
  {
   "cell_type": "markdown",
   "id": "babd93f5",
   "metadata": {},
   "source": [
    "Comprobamos que la serie temporal de cada cliente está completa y sino eliminamos a este cliente del análisis. Esto lo hacemos así para tener integridad en los datos, y poder comparar de forma justa todos los modelos que creemos."
   ]
  },
  {
   "cell_type": "code",
   "execution_count": 92,
   "id": "c224d271",
   "metadata": {},
   "outputs": [],
   "source": [
    "analisis_series = pd.DataFrame(columns=['PK_CLIENTE', 'FILAS_NA', 'INICIO', 'FIN'])\n",
    "\n",
    "for cliente in df['PK_CLIENTE'].unique():\n",
    "    df_cliente = df[df['PK_CLIENTE'] == cliente]\n",
    "    df_cliente = df_cliente.set_index('DATETIME').asfreq('H')\n",
    "    #(df_cliente.index == pd.date_range(start=df_cliente.index.min(), end=df_cliente.index.max(), freq='H')).all()\n",
    "    filas_na = df_cliente.isnull().any(axis=1).mean()\n",
    "    inicio = df_cliente.index.min()\n",
    "    fin = df_cliente.index.max()\n",
    "    temp_df = pd.DataFrame({'PK_CLIENTE': [cliente], 'FILAS_NA': [filas_na], 'INICIO': [inicio], 'FIN': [fin]})\n",
    "    analisis_series = pd.concat([analisis_series, temp_df], ignore_index=True)"
   ]
  },
  {
   "cell_type": "code",
   "execution_count": 93,
   "id": "96bc8270",
   "metadata": {},
   "outputs": [
    {
     "data": {
      "text/plain": [
       "(11137, 4)"
      ]
     },
     "execution_count": 93,
     "metadata": {},
     "output_type": "execute_result"
    }
   ],
   "source": [
    "analisis_series = analisis_series.sort_values(by='PK_CLIENTE', ascending = True).reset_index(drop = True)\n",
    "analisis_series.shape"
   ]
  },
  {
   "cell_type": "code",
   "execution_count": 94,
   "id": "402e94a9",
   "metadata": {},
   "outputs": [],
   "source": [
    "analisis_series.to_parquet('seleccionar_clientes.parquet')"
   ]
  },
  {
   "cell_type": "code",
   "execution_count": 95,
   "id": "0516aad9",
   "metadata": {},
   "outputs": [
    {
     "data": {
      "text/plain": [
       "(9781, 4)"
      ]
     },
     "execution_count": 95,
     "metadata": {},
     "output_type": "execute_result"
    }
   ],
   "source": [
    "analisis_series_select = analisis_series[(analisis_series['FILAS_NA'] == 0) | (analisis_series['INICIO'] == analisis_series['INICIO'].min())].reset_index(drop = True)\n",
    "analisis_series_select.shape"
   ]
  },
  {
   "cell_type": "markdown",
   "id": "c4b26017",
   "metadata": {},
   "source": [
    "Observar que hay 1356 clientes que cuya serie temporal no está completa o cuyos datos no empiezan en el mismo día que el resto. Según que análisis hagamos de la serie temporal, deberemos eliminar estos casos para graantizar la integridad de la serie temporal a estudiar."
   ]
  },
  {
   "cell_type": "markdown",
   "id": "d483b3b4",
   "metadata": {},
   "source": [
    "### 3.2. Integridad de la serie temporal"
   ]
  },
  {
   "cell_type": "markdown",
   "id": "cef035a4",
   "metadata": {},
   "source": [
    "Si establecemos la columna DATETIME con la fecha y hora como índice, tendremos varios valores para un mismo valor del índice. Esto se debe a que tenemos la información desglosada a nivel de cliente. Para ello, vamos a transformar el dataset y trabajar con él de varias formas:\n",
    "1. Caso de uso 1: agrupando por fecha, de forma que calculamos el consumo total de la red de clientes con la que trabajamos.\n",
    "2. Caso de uso 2: agrupando por cliente, de forma que estudiaremos el caso concreto de un cliente.\n",
    "3. Caso de uso 3: agrupando por municipio, de forma que estudiaremos el consumo medio de los clientes de cada municipio."
   ]
  }
 ],
 "metadata": {
  "kernelspec": {
   "display_name": "Python 3 (ipykernel)",
   "language": "python",
   "name": "python3"
  },
  "language_info": {
   "codemirror_mode": {
    "name": "ipython",
    "version": 3
   },
   "file_extension": ".py",
   "mimetype": "text/x-python",
   "name": "python",
   "nbconvert_exporter": "python",
   "pygments_lexer": "ipython3",
   "version": "3.10.9"
  }
 },
 "nbformat": 4,
 "nbformat_minor": 5
}
