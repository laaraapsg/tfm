{
  "cells": [
    {
      "cell_type": "markdown",
      "id": "44d85b5b",
      "metadata": {
        "id": "44d85b5b"
      },
      "source": [
        "# TFM: Predicción de la demanda energética - Parte 2: EDA y preprocesamiento de los datos\n",
        "#### Lara Palacios"
      ]
    },
    {
      "cell_type": "markdown",
      "source": [
        "## 0. Importación de librerías"
      ],
      "metadata": {
        "id": "hrU7DTjHburN"
      },
      "id": "hrU7DTjHburN"
    },
    {
      "cell_type": "code",
      "execution_count": 1,
      "id": "7574ad22",
      "metadata": {
        "id": "7574ad22"
      },
      "outputs": [],
      "source": [
        "import pandas as pd\n",
        "import numpy as np\n",
        "import matplotlib.pyplot as plt\n",
        "import seaborn as sns\n",
        "import gc\n",
        "from datetime import datetime, timedelta"
      ]
    },
    {
      "cell_type": "code",
      "source": [
        "#conexión a google drive\n",
        "from google.colab import drive\n",
        "drive.mount('/content/drive')"
      ],
      "metadata": {
        "id": "uoOAppb0WVhP",
        "outputId": "c9a66a77-1e79-4983-eba1-32af615f52dd",
        "colab": {
          "base_uri": "https://localhost:8080/"
        }
      },
      "id": "uoOAppb0WVhP",
      "execution_count": 2,
      "outputs": [
        {
          "output_type": "stream",
          "name": "stdout",
          "text": [
            "Drive already mounted at /content/drive; to attempt to forcibly remount, call drive.mount(\"/content/drive\", force_remount=True).\n"
          ]
        }
      ]
    },
    {
      "cell_type": "markdown",
      "id": "b15990fa",
      "metadata": {
        "id": "b15990fa"
      },
      "source": [
        "## 2. Análisis inicial de los datos (EDA)"
      ]
    },
    {
      "cell_type": "code",
      "source": [
        "def grafica_frecuencias(df, columna):\n",
        "  frecuencias = df[columna].value_counts().reset_index()\n",
        "\n",
        "  plt.figure(figsize=(12, 5))\n",
        "  sns.barplot(x = columna, y = 'count', data = frecuencias)\n",
        "  plt.xlabel(columna)\n",
        "  plt.ylabel('Frecuencia')\n",
        "  plt.xticks(rotation=45)\n",
        "  plt.tight_layout()\n",
        "  plt.show()"
      ],
      "metadata": {
        "id": "iYxqZRZic5gB"
      },
      "id": "iYxqZRZic5gB",
      "execution_count": 68,
      "outputs": []
    },
    {
      "cell_type": "markdown",
      "id": "33f638ee",
      "metadata": {
        "id": "33f638ee"
      },
      "source": [
        "### 2.1. Archivo cupsInfo (información de cliente y de contrato)"
      ]
    },
    {
      "cell_type": "code",
      "execution_count": 3,
      "id": "6e4539c8",
      "metadata": {
        "id": "6e4539c8",
        "outputId": "d72944a1-3002-4c86-bec4-0b2b4a3f1184",
        "colab": {
          "base_uri": "https://localhost:8080/"
        }
      },
      "outputs": [
        {
          "output_type": "execute_result",
          "data": {
            "text/plain": [
              "(11786, 16)"
            ]
          },
          "metadata": {},
          "execution_count": 3
        }
      ],
      "source": [
        "df_info = pd.read_csv('/content/drive/MyDrive/TFM/cupsInfo.csv').reset_index(drop = True)\n",
        "df_info.shape"
      ]
    },
    {
      "cell_type": "code",
      "execution_count": 4,
      "id": "ae06e137",
      "metadata": {
        "id": "ae06e137",
        "outputId": "35032d9b-6cdc-445d-ea21-81b5d6b8ace3",
        "colab": {
          "base_uri": "https://localhost:8080/"
        }
      },
      "outputs": [
        {
          "output_type": "stream",
          "name": "stdout",
          "text": [
            "<class 'pandas.core.frame.DataFrame'>\n",
            "RangeIndex: 11786 entries, 0 to 11785\n",
            "Data columns (total 16 columns):\n",
            " #   Column                  Non-Null Count  Dtype  \n",
            "---  ------                  --------------  -----  \n",
            " 0   PK_CLIENTE              11786 non-null  int64  \n",
            " 1   TARIFA                  11786 non-null  int64  \n",
            " 2   MUNICIPIO               11786 non-null  int64  \n",
            " 3   PROVINCIA               11786 non-null  int64  \n",
            " 4   KW_CONTRATADA_P1        11786 non-null  float64\n",
            " 5   KW_CONTRATADA_P2        11786 non-null  float64\n",
            " 6   KW_CONTRATADA_P3        11786 non-null  float64\n",
            " 7   KW_CONTRATADA_P4        11786 non-null  float64\n",
            " 8   KW_CONTRATADA_P5        11786 non-null  float64\n",
            " 9   KW_CONTRATADA_P6        11786 non-null  float64\n",
            " 10  AUTOCONSUMO             11786 non-null  int64  \n",
            " 11  POTENCIA_GENERACION_KW  11786 non-null  float64\n",
            " 12  ESQUEMA_MEDIDA          11782 non-null  object \n",
            " 13  SUBGRUPO                11736 non-null  object \n",
            " 14  ALTA_AUTOCONSUMO        11786 non-null  object \n",
            " 15  BAJA_AUTOCONSUMO        11786 non-null  object \n",
            "dtypes: float64(7), int64(5), object(4)\n",
            "memory usage: 1.4+ MB\n"
          ]
        }
      ],
      "source": [
        "df_info.info()"
      ]
    },
    {
      "cell_type": "markdown",
      "id": "5c9b0805",
      "metadata": {
        "id": "5c9b0805"
      },
      "source": [
        "En nuestro conjunto de datos, tenemos información de 11786 clientes."
      ]
    },
    {
      "cell_type": "code",
      "execution_count": 5,
      "id": "daa6850d",
      "metadata": {
        "id": "daa6850d",
        "outputId": "4cca2e6b-aa65-424a-c64b-05eb319ea714",
        "colab": {
          "base_uri": "https://localhost:8080/"
        }
      },
      "outputs": [
        {
          "output_type": "execute_result",
          "data": {
            "text/plain": [
              "2348"
            ]
          },
          "metadata": {},
          "execution_count": 5
        }
      ],
      "source": [
        "total_cli = len(df_info.MUNICIPIO.unique())\n",
        "total_cli"
      ]
    },
    {
      "cell_type": "code",
      "execution_count": 6,
      "id": "392fc712",
      "metadata": {
        "id": "392fc712",
        "outputId": "bc4363a4-6123-4205-8dfd-79e830d75740",
        "colab": {
          "base_uri": "https://localhost:8080/"
        }
      },
      "outputs": [
        {
          "output_type": "execute_result",
          "data": {
            "text/plain": [
              "11786"
            ]
          },
          "metadata": {},
          "execution_count": 6
        }
      ],
      "source": [
        "total_cli = len(df_info.PK_CLIENTE.unique())\n",
        "total_cli"
      ]
    },
    {
      "cell_type": "code",
      "execution_count": 7,
      "id": "87f8bf4e",
      "metadata": {
        "id": "87f8bf4e",
        "outputId": "3548865f-908c-4b16-f000-84d17919b0f9",
        "colab": {
          "base_uri": "https://localhost:8080/"
        }
      },
      "outputs": [
        {
          "output_type": "execute_result",
          "data": {
            "text/plain": [
              "PK_CLIENTE                 0\n",
              "TARIFA                     0\n",
              "MUNICIPIO                  0\n",
              "PROVINCIA                  0\n",
              "KW_CONTRATADA_P1           0\n",
              "KW_CONTRATADA_P2           0\n",
              "KW_CONTRATADA_P3           0\n",
              "KW_CONTRATADA_P4           0\n",
              "KW_CONTRATADA_P5           0\n",
              "KW_CONTRATADA_P6           0\n",
              "AUTOCONSUMO                0\n",
              "POTENCIA_GENERACION_KW     0\n",
              "ESQUEMA_MEDIDA             4\n",
              "SUBGRUPO                  50\n",
              "ALTA_AUTOCONSUMO           0\n",
              "BAJA_AUTOCONSUMO           0\n",
              "dtype: int64"
            ]
          },
          "metadata": {},
          "execution_count": 7
        }
      ],
      "source": [
        "df_info.isnull().sum() #qué hacer con los nulos de las variables categóricas? coger la moda?"
      ]
    },
    {
      "cell_type": "code",
      "execution_count": 8,
      "id": "92fbd81a",
      "metadata": {
        "id": "92fbd81a",
        "outputId": "89cbab60-3ac0-4dca-b2b3-bb46b40c1029",
        "colab": {
          "base_uri": "https://localhost:8080/",
          "height": 313
        }
      },
      "outputs": [
        {
          "output_type": "execute_result",
          "data": {
            "text/plain": [
              "   PK_CLIENTE  TARIFA  MUNICIPIO  PROVINCIA  KW_CONTRATADA_P1  \\\n",
              "0           1      18       1001          1               4.0   \n",
              "1           2      19       1001          1              57.0   \n",
              "2           3      18       1002          1               4.4   \n",
              "3           4      18       1010          1               3.5   \n",
              "4           5      19       1004          1              60.0   \n",
              "\n",
              "   KW_CONTRATADA_P2  KW_CONTRATADA_P3  KW_CONTRATADA_P4  KW_CONTRATADA_P5  \\\n",
              "0               4.0               0.0               0.0               0.0   \n",
              "1              85.0              85.0              85.0              85.0   \n",
              "2               4.4               0.0               0.0               0.0   \n",
              "3               3.5               0.0               0.0               0.0   \n",
              "4              60.0              60.0              60.0              60.0   \n",
              "\n",
              "   KW_CONTRATADA_P6  AUTOCONSUMO  POTENCIA_GENERACION_KW ESQUEMA_MEDIDA  \\\n",
              "0               0.0           41                    4.00              A   \n",
              "1             178.0           41                  100.00              A   \n",
              "2               0.0           41                    6.00              A   \n",
              "3               0.0           41                    1.52              A   \n",
              "4              60.0           41                   44.00              A   \n",
              "\n",
              "  SUBGRUPO ALTA_AUTOCONSUMO     BAJA_AUTOCONSUMO  \n",
              "0    b.1.1       2021-06-01  3000-01-01 00:00:00  \n",
              "1    b.1.1       2022-06-30  3000-01-01 00:00:00  \n",
              "2    b.1.1       2022-06-29  3000-01-01 00:00:00  \n",
              "3    b.1.1       2022-03-05  3000-01-01 00:00:00  \n",
              "4    b.1.1       2022-12-01  3000-01-01 00:00:00  "
            ],
            "text/html": [
              "\n",
              "  <div id=\"df-3750a318-8041-413f-8d1a-c48b57eeffb2\" class=\"colab-df-container\">\n",
              "    <div>\n",
              "<style scoped>\n",
              "    .dataframe tbody tr th:only-of-type {\n",
              "        vertical-align: middle;\n",
              "    }\n",
              "\n",
              "    .dataframe tbody tr th {\n",
              "        vertical-align: top;\n",
              "    }\n",
              "\n",
              "    .dataframe thead th {\n",
              "        text-align: right;\n",
              "    }\n",
              "</style>\n",
              "<table border=\"1\" class=\"dataframe\">\n",
              "  <thead>\n",
              "    <tr style=\"text-align: right;\">\n",
              "      <th></th>\n",
              "      <th>PK_CLIENTE</th>\n",
              "      <th>TARIFA</th>\n",
              "      <th>MUNICIPIO</th>\n",
              "      <th>PROVINCIA</th>\n",
              "      <th>KW_CONTRATADA_P1</th>\n",
              "      <th>KW_CONTRATADA_P2</th>\n",
              "      <th>KW_CONTRATADA_P3</th>\n",
              "      <th>KW_CONTRATADA_P4</th>\n",
              "      <th>KW_CONTRATADA_P5</th>\n",
              "      <th>KW_CONTRATADA_P6</th>\n",
              "      <th>AUTOCONSUMO</th>\n",
              "      <th>POTENCIA_GENERACION_KW</th>\n",
              "      <th>ESQUEMA_MEDIDA</th>\n",
              "      <th>SUBGRUPO</th>\n",
              "      <th>ALTA_AUTOCONSUMO</th>\n",
              "      <th>BAJA_AUTOCONSUMO</th>\n",
              "    </tr>\n",
              "  </thead>\n",
              "  <tbody>\n",
              "    <tr>\n",
              "      <th>0</th>\n",
              "      <td>1</td>\n",
              "      <td>18</td>\n",
              "      <td>1001</td>\n",
              "      <td>1</td>\n",
              "      <td>4.0</td>\n",
              "      <td>4.0</td>\n",
              "      <td>0.0</td>\n",
              "      <td>0.0</td>\n",
              "      <td>0.0</td>\n",
              "      <td>0.0</td>\n",
              "      <td>41</td>\n",
              "      <td>4.00</td>\n",
              "      <td>A</td>\n",
              "      <td>b.1.1</td>\n",
              "      <td>2021-06-01</td>\n",
              "      <td>3000-01-01 00:00:00</td>\n",
              "    </tr>\n",
              "    <tr>\n",
              "      <th>1</th>\n",
              "      <td>2</td>\n",
              "      <td>19</td>\n",
              "      <td>1001</td>\n",
              "      <td>1</td>\n",
              "      <td>57.0</td>\n",
              "      <td>85.0</td>\n",
              "      <td>85.0</td>\n",
              "      <td>85.0</td>\n",
              "      <td>85.0</td>\n",
              "      <td>178.0</td>\n",
              "      <td>41</td>\n",
              "      <td>100.00</td>\n",
              "      <td>A</td>\n",
              "      <td>b.1.1</td>\n",
              "      <td>2022-06-30</td>\n",
              "      <td>3000-01-01 00:00:00</td>\n",
              "    </tr>\n",
              "    <tr>\n",
              "      <th>2</th>\n",
              "      <td>3</td>\n",
              "      <td>18</td>\n",
              "      <td>1002</td>\n",
              "      <td>1</td>\n",
              "      <td>4.4</td>\n",
              "      <td>4.4</td>\n",
              "      <td>0.0</td>\n",
              "      <td>0.0</td>\n",
              "      <td>0.0</td>\n",
              "      <td>0.0</td>\n",
              "      <td>41</td>\n",
              "      <td>6.00</td>\n",
              "      <td>A</td>\n",
              "      <td>b.1.1</td>\n",
              "      <td>2022-06-29</td>\n",
              "      <td>3000-01-01 00:00:00</td>\n",
              "    </tr>\n",
              "    <tr>\n",
              "      <th>3</th>\n",
              "      <td>4</td>\n",
              "      <td>18</td>\n",
              "      <td>1010</td>\n",
              "      <td>1</td>\n",
              "      <td>3.5</td>\n",
              "      <td>3.5</td>\n",
              "      <td>0.0</td>\n",
              "      <td>0.0</td>\n",
              "      <td>0.0</td>\n",
              "      <td>0.0</td>\n",
              "      <td>41</td>\n",
              "      <td>1.52</td>\n",
              "      <td>A</td>\n",
              "      <td>b.1.1</td>\n",
              "      <td>2022-03-05</td>\n",
              "      <td>3000-01-01 00:00:00</td>\n",
              "    </tr>\n",
              "    <tr>\n",
              "      <th>4</th>\n",
              "      <td>5</td>\n",
              "      <td>19</td>\n",
              "      <td>1004</td>\n",
              "      <td>1</td>\n",
              "      <td>60.0</td>\n",
              "      <td>60.0</td>\n",
              "      <td>60.0</td>\n",
              "      <td>60.0</td>\n",
              "      <td>60.0</td>\n",
              "      <td>60.0</td>\n",
              "      <td>41</td>\n",
              "      <td>44.00</td>\n",
              "      <td>A</td>\n",
              "      <td>b.1.1</td>\n",
              "      <td>2022-12-01</td>\n",
              "      <td>3000-01-01 00:00:00</td>\n",
              "    </tr>\n",
              "  </tbody>\n",
              "</table>\n",
              "</div>\n",
              "    <div class=\"colab-df-buttons\">\n",
              "\n",
              "  <div class=\"colab-df-container\">\n",
              "    <button class=\"colab-df-convert\" onclick=\"convertToInteractive('df-3750a318-8041-413f-8d1a-c48b57eeffb2')\"\n",
              "            title=\"Convert this dataframe to an interactive table.\"\n",
              "            style=\"display:none;\">\n",
              "\n",
              "  <svg xmlns=\"http://www.w3.org/2000/svg\" height=\"24px\" viewBox=\"0 -960 960 960\">\n",
              "    <path d=\"M120-120v-720h720v720H120Zm60-500h600v-160H180v160Zm220 220h160v-160H400v160Zm0 220h160v-160H400v160ZM180-400h160v-160H180v160Zm440 0h160v-160H620v160ZM180-180h160v-160H180v160Zm440 0h160v-160H620v160Z\"/>\n",
              "  </svg>\n",
              "    </button>\n",
              "\n",
              "  <style>\n",
              "    .colab-df-container {\n",
              "      display:flex;\n",
              "      gap: 12px;\n",
              "    }\n",
              "\n",
              "    .colab-df-convert {\n",
              "      background-color: #E8F0FE;\n",
              "      border: none;\n",
              "      border-radius: 50%;\n",
              "      cursor: pointer;\n",
              "      display: none;\n",
              "      fill: #1967D2;\n",
              "      height: 32px;\n",
              "      padding: 0 0 0 0;\n",
              "      width: 32px;\n",
              "    }\n",
              "\n",
              "    .colab-df-convert:hover {\n",
              "      background-color: #E2EBFA;\n",
              "      box-shadow: 0px 1px 2px rgba(60, 64, 67, 0.3), 0px 1px 3px 1px rgba(60, 64, 67, 0.15);\n",
              "      fill: #174EA6;\n",
              "    }\n",
              "\n",
              "    .colab-df-buttons div {\n",
              "      margin-bottom: 4px;\n",
              "    }\n",
              "\n",
              "    [theme=dark] .colab-df-convert {\n",
              "      background-color: #3B4455;\n",
              "      fill: #D2E3FC;\n",
              "    }\n",
              "\n",
              "    [theme=dark] .colab-df-convert:hover {\n",
              "      background-color: #434B5C;\n",
              "      box-shadow: 0px 1px 3px 1px rgba(0, 0, 0, 0.15);\n",
              "      filter: drop-shadow(0px 1px 2px rgba(0, 0, 0, 0.3));\n",
              "      fill: #FFFFFF;\n",
              "    }\n",
              "  </style>\n",
              "\n",
              "    <script>\n",
              "      const buttonEl =\n",
              "        document.querySelector('#df-3750a318-8041-413f-8d1a-c48b57eeffb2 button.colab-df-convert');\n",
              "      buttonEl.style.display =\n",
              "        google.colab.kernel.accessAllowed ? 'block' : 'none';\n",
              "\n",
              "      async function convertToInteractive(key) {\n",
              "        const element = document.querySelector('#df-3750a318-8041-413f-8d1a-c48b57eeffb2');\n",
              "        const dataTable =\n",
              "          await google.colab.kernel.invokeFunction('convertToInteractive',\n",
              "                                                    [key], {});\n",
              "        if (!dataTable) return;\n",
              "\n",
              "        const docLinkHtml = 'Like what you see? Visit the ' +\n",
              "          '<a target=\"_blank\" href=https://colab.research.google.com/notebooks/data_table.ipynb>data table notebook</a>'\n",
              "          + ' to learn more about interactive tables.';\n",
              "        element.innerHTML = '';\n",
              "        dataTable['output_type'] = 'display_data';\n",
              "        await google.colab.output.renderOutput(dataTable, element);\n",
              "        const docLink = document.createElement('div');\n",
              "        docLink.innerHTML = docLinkHtml;\n",
              "        element.appendChild(docLink);\n",
              "      }\n",
              "    </script>\n",
              "  </div>\n",
              "\n",
              "\n",
              "<div id=\"df-78587ebc-3a84-4dcb-b37f-f38687ba6535\">\n",
              "  <button class=\"colab-df-quickchart\" onclick=\"quickchart('df-78587ebc-3a84-4dcb-b37f-f38687ba6535')\"\n",
              "            title=\"Suggest charts\"\n",
              "            style=\"display:none;\">\n",
              "\n",
              "<svg xmlns=\"http://www.w3.org/2000/svg\" height=\"24px\"viewBox=\"0 0 24 24\"\n",
              "     width=\"24px\">\n",
              "    <g>\n",
              "        <path d=\"M19 3H5c-1.1 0-2 .9-2 2v14c0 1.1.9 2 2 2h14c1.1 0 2-.9 2-2V5c0-1.1-.9-2-2-2zM9 17H7v-7h2v7zm4 0h-2V7h2v10zm4 0h-2v-4h2v4z\"/>\n",
              "    </g>\n",
              "</svg>\n",
              "  </button>\n",
              "\n",
              "<style>\n",
              "  .colab-df-quickchart {\n",
              "      --bg-color: #E8F0FE;\n",
              "      --fill-color: #1967D2;\n",
              "      --hover-bg-color: #E2EBFA;\n",
              "      --hover-fill-color: #174EA6;\n",
              "      --disabled-fill-color: #AAA;\n",
              "      --disabled-bg-color: #DDD;\n",
              "  }\n",
              "\n",
              "  [theme=dark] .colab-df-quickchart {\n",
              "      --bg-color: #3B4455;\n",
              "      --fill-color: #D2E3FC;\n",
              "      --hover-bg-color: #434B5C;\n",
              "      --hover-fill-color: #FFFFFF;\n",
              "      --disabled-bg-color: #3B4455;\n",
              "      --disabled-fill-color: #666;\n",
              "  }\n",
              "\n",
              "  .colab-df-quickchart {\n",
              "    background-color: var(--bg-color);\n",
              "    border: none;\n",
              "    border-radius: 50%;\n",
              "    cursor: pointer;\n",
              "    display: none;\n",
              "    fill: var(--fill-color);\n",
              "    height: 32px;\n",
              "    padding: 0;\n",
              "    width: 32px;\n",
              "  }\n",
              "\n",
              "  .colab-df-quickchart:hover {\n",
              "    background-color: var(--hover-bg-color);\n",
              "    box-shadow: 0 1px 2px rgba(60, 64, 67, 0.3), 0 1px 3px 1px rgba(60, 64, 67, 0.15);\n",
              "    fill: var(--button-hover-fill-color);\n",
              "  }\n",
              "\n",
              "  .colab-df-quickchart-complete:disabled,\n",
              "  .colab-df-quickchart-complete:disabled:hover {\n",
              "    background-color: var(--disabled-bg-color);\n",
              "    fill: var(--disabled-fill-color);\n",
              "    box-shadow: none;\n",
              "  }\n",
              "\n",
              "  .colab-df-spinner {\n",
              "    border: 2px solid var(--fill-color);\n",
              "    border-color: transparent;\n",
              "    border-bottom-color: var(--fill-color);\n",
              "    animation:\n",
              "      spin 1s steps(1) infinite;\n",
              "  }\n",
              "\n",
              "  @keyframes spin {\n",
              "    0% {\n",
              "      border-color: transparent;\n",
              "      border-bottom-color: var(--fill-color);\n",
              "      border-left-color: var(--fill-color);\n",
              "    }\n",
              "    20% {\n",
              "      border-color: transparent;\n",
              "      border-left-color: var(--fill-color);\n",
              "      border-top-color: var(--fill-color);\n",
              "    }\n",
              "    30% {\n",
              "      border-color: transparent;\n",
              "      border-left-color: var(--fill-color);\n",
              "      border-top-color: var(--fill-color);\n",
              "      border-right-color: var(--fill-color);\n",
              "    }\n",
              "    40% {\n",
              "      border-color: transparent;\n",
              "      border-right-color: var(--fill-color);\n",
              "      border-top-color: var(--fill-color);\n",
              "    }\n",
              "    60% {\n",
              "      border-color: transparent;\n",
              "      border-right-color: var(--fill-color);\n",
              "    }\n",
              "    80% {\n",
              "      border-color: transparent;\n",
              "      border-right-color: var(--fill-color);\n",
              "      border-bottom-color: var(--fill-color);\n",
              "    }\n",
              "    90% {\n",
              "      border-color: transparent;\n",
              "      border-bottom-color: var(--fill-color);\n",
              "    }\n",
              "  }\n",
              "</style>\n",
              "\n",
              "  <script>\n",
              "    async function quickchart(key) {\n",
              "      const quickchartButtonEl =\n",
              "        document.querySelector('#' + key + ' button');\n",
              "      quickchartButtonEl.disabled = true;  // To prevent multiple clicks.\n",
              "      quickchartButtonEl.classList.add('colab-df-spinner');\n",
              "      try {\n",
              "        const charts = await google.colab.kernel.invokeFunction(\n",
              "            'suggestCharts', [key], {});\n",
              "      } catch (error) {\n",
              "        console.error('Error during call to suggestCharts:', error);\n",
              "      }\n",
              "      quickchartButtonEl.classList.remove('colab-df-spinner');\n",
              "      quickchartButtonEl.classList.add('colab-df-quickchart-complete');\n",
              "    }\n",
              "    (() => {\n",
              "      let quickchartButtonEl =\n",
              "        document.querySelector('#df-78587ebc-3a84-4dcb-b37f-f38687ba6535 button');\n",
              "      quickchartButtonEl.style.display =\n",
              "        google.colab.kernel.accessAllowed ? 'block' : 'none';\n",
              "    })();\n",
              "  </script>\n",
              "</div>\n",
              "\n",
              "    </div>\n",
              "  </div>\n"
            ],
            "application/vnd.google.colaboratory.intrinsic+json": {
              "type": "dataframe",
              "variable_name": "df_info",
              "summary": "{\n  \"name\": \"df_info\",\n  \"rows\": 11786,\n  \"fields\": [\n    {\n      \"column\": \"PK_CLIENTE\",\n      \"properties\": {\n        \"dtype\": \"number\",\n        \"std\": 3402,\n        \"min\": 1,\n        \"max\": 11786,\n        \"num_unique_values\": 11786,\n        \"samples\": [\n          10141,\n          4221,\n          2755\n        ],\n        \"semantic_type\": \"\",\n        \"description\": \"\"\n      }\n    },\n    {\n      \"column\": \"TARIFA\",\n      \"properties\": {\n        \"dtype\": \"number\",\n        \"std\": 0,\n        \"min\": 18,\n        \"max\": 22,\n        \"num_unique_values\": 5,\n        \"samples\": [\n          19,\n          22,\n          21\n        ],\n        \"semantic_type\": \"\",\n        \"description\": \"\"\n      }\n    },\n    {\n      \"column\": \"MUNICIPIO\",\n      \"properties\": {\n        \"dtype\": \"number\",\n        \"std\": 56520,\n        \"min\": 3,\n        \"max\": 500628,\n        \"num_unique_values\": 2348,\n        \"samples\": [\n          18071,\n          48904,\n          8204\n        ],\n        \"semantic_type\": \"\",\n        \"description\": \"\"\n      }\n    },\n    {\n      \"column\": \"PROVINCIA\",\n      \"properties\": {\n        \"dtype\": \"number\",\n        \"std\": 14,\n        \"min\": 1,\n        \"max\": 50,\n        \"num_unique_values\": 50,\n        \"samples\": [\n          30,\n          4,\n          40\n        ],\n        \"semantic_type\": \"\",\n        \"description\": \"\"\n      }\n    },\n    {\n      \"column\": \"KW_CONTRATADA_P1\",\n      \"properties\": {\n        \"dtype\": \"number\",\n        \"std\": 22.531163643455248,\n        \"min\": 0.1,\n        \"max\": 1550.0,\n        \"num_unique_values\": 330,\n        \"samples\": [\n          2.3,\n          7.2,\n          26.0\n        ],\n        \"semantic_type\": \"\",\n        \"description\": \"\"\n      }\n    },\n    {\n      \"column\": \"KW_CONTRATADA_P2\",\n      \"properties\": {\n        \"dtype\": \"number\",\n        \"std\": 22.810725617476002,\n        \"min\": 0.0,\n        \"max\": 1550.0,\n        \"num_unique_values\": 331,\n        \"samples\": [\n          13.0,\n          2.64,\n          2.7\n        ],\n        \"semantic_type\": \"\",\n        \"description\": \"\"\n      }\n    },\n    {\n      \"column\": \"KW_CONTRATADA_P3\",\n      \"properties\": {\n        \"dtype\": \"number\",\n        \"std\": 23.328087023268647,\n        \"min\": 0.0,\n        \"max\": 1550.0,\n        \"num_unique_values\": 194,\n        \"samples\": [\n          43.648,\n          125.0,\n          250.0\n        ],\n        \"semantic_type\": \"\",\n        \"description\": \"\"\n      }\n    },\n    {\n      \"column\": \"KW_CONTRATADA_P4\",\n      \"properties\": {\n        \"dtype\": \"number\",\n        \"std\": 23.32675763375926,\n        \"min\": 0.0,\n        \"max\": 1550.0,\n        \"num_unique_values\": 195,\n        \"samples\": [\n          400.0,\n          125.0,\n          140.0\n        ],\n        \"semantic_type\": \"\",\n        \"description\": \"\"\n      }\n    },\n    {\n      \"column\": \"KW_CONTRATADA_P5\",\n      \"properties\": {\n        \"dtype\": \"number\",\n        \"std\": 23.354754501990403,\n        \"min\": 0.0,\n        \"max\": 1550.0,\n        \"num_unique_values\": 194,\n        \"samples\": [\n          400.0,\n          125.0,\n          250.0\n        ],\n        \"semantic_type\": \"\",\n        \"description\": \"\"\n      }\n    },\n    {\n      \"column\": \"KW_CONTRATADA_P6\",\n      \"properties\": {\n        \"dtype\": \"number\",\n        \"std\": 26.258711563928866,\n        \"min\": 0.0,\n        \"max\": 1550.0,\n        \"num_unique_values\": 173,\n        \"samples\": [\n          55.426,\n          66.0,\n          170.0\n        ],\n        \"semantic_type\": \"\",\n        \"description\": \"\"\n      }\n    },\n    {\n      \"column\": \"AUTOCONSUMO\",\n      \"properties\": {\n        \"dtype\": \"number\",\n        \"std\": 1,\n        \"min\": 31,\n        \"max\": 64,\n        \"num_unique_values\": 11,\n        \"samples\": [\n          42,\n          41,\n          55\n        ],\n        \"semantic_type\": \"\",\n        \"description\": \"\"\n      }\n    },\n    {\n      \"column\": \"POTENCIA_GENERACION_KW\",\n      \"properties\": {\n        \"dtype\": \"number\",\n        \"std\": 72.62396041030533,\n        \"min\": 0.0,\n        \"max\": 4225.0,\n        \"num_unique_values\": 526,\n        \"samples\": [\n          0.24,\n          2.928,\n          3.0\n        ],\n        \"semantic_type\": \"\",\n        \"description\": \"\"\n      }\n    },\n    {\n      \"column\": \"ESQUEMA_MEDIDA\",\n      \"properties\": {\n        \"dtype\": \"category\",\n        \"num_unique_values\": 5,\n        \"samples\": [\n          \"C\",\n          \"E\",\n          \"D\"\n        ],\n        \"semantic_type\": \"\",\n        \"description\": \"\"\n      }\n    },\n    {\n      \"column\": \"SUBGRUPO\",\n      \"properties\": {\n        \"dtype\": \"category\",\n        \"num_unique_values\": 9,\n        \"samples\": [\n          \"5\",\n          \"b.1.2\",\n          \"b1\"\n        ],\n        \"semantic_type\": \"\",\n        \"description\": \"\"\n      }\n    },\n    {\n      \"column\": \"ALTA_AUTOCONSUMO\",\n      \"properties\": {\n        \"dtype\": \"object\",\n        \"num_unique_values\": 1048,\n        \"samples\": [\n          \"2022-04-27\",\n          \"2020-09-20\",\n          \"2020-07-28\"\n        ],\n        \"semantic_type\": \"\",\n        \"description\": \"\"\n      }\n    },\n    {\n      \"column\": \"BAJA_AUTOCONSUMO\",\n      \"properties\": {\n        \"dtype\": \"category\",\n        \"num_unique_values\": 4,\n        \"samples\": [\n          \"2022-12-21 00:00:00\",\n          \"2021-08-24 00:00:00\",\n          \"3000-01-01 00:00:00\"\n        ],\n        \"semantic_type\": \"\",\n        \"description\": \"\"\n      }\n    }\n  ]\n}"
            }
          },
          "metadata": {},
          "execution_count": 8
        }
      ],
      "source": [
        "df_info.head()"
      ]
    },
    {
      "cell_type": "markdown",
      "id": "1223b872",
      "metadata": {
        "id": "1223b872"
      },
      "source": [
        "Formateamos las variables y las categorizamos en numéricas, categóricas o fechas. Además notar que la columna 'PK_CLIENTE' es un identificador único que identifica al cliente y no se considerará una variable con poder predictivo."
      ]
    },
    {
      "cell_type": "markdown",
      "id": "0abbd503",
      "metadata": {
        "id": "0abbd503"
      },
      "source": [
        "#### Variables categóricas"
      ]
    },
    {
      "cell_type": "code",
      "execution_count": 4,
      "id": "2704bf13",
      "metadata": {
        "id": "2704bf13"
      },
      "outputs": [],
      "source": [
        "df_info['TARIFA'] = df_info['TARIFA'].astype('category')\n",
        "df_info['MUNICIPIO'] = df_info['MUNICIPIO'].astype('category')\n",
        "df_info['PROVINCIA'] = df_info['PROVINCIA'].astype('category')\n",
        "df_info['AUTOCONSUMO'] = df_info['AUTOCONSUMO'].astype('category')\n",
        "df_info['ESQUEMA_MEDIDA'] = df_info['ESQUEMA_MEDIDA'].astype('category')\n",
        "df_info['SUBGRUPO'] = df_info['SUBGRUPO'].astype('category')"
      ]
    },
    {
      "cell_type": "code",
      "execution_count": 10,
      "id": "54b4740e",
      "metadata": {
        "id": "54b4740e"
      },
      "outputs": [],
      "source": [
        "df_info_categoricas = df_info[df_info.select_dtypes(include=['category']).columns]"
      ]
    },
    {
      "cell_type": "code",
      "execution_count": 11,
      "id": "8da95e22",
      "metadata": {
        "id": "8da95e22",
        "outputId": "21d5b22f-d4ee-49a8-8419-5519d9953fe8",
        "colab": {
          "base_uri": "https://localhost:8080/",
          "height": 174
        }
      },
      "outputs": [
        {
          "output_type": "execute_result",
          "data": {
            "text/plain": [
              "        TARIFA  MUNICIPIO  PROVINCIA  AUTOCONSUMO ESQUEMA_MEDIDA SUBGRUPO\n",
              "count    11786      11786      11786        11786          11782    11736\n",
              "unique       5       2348         50           11              5        9\n",
              "top         18       8205          8           41              A    b.1.1\n",
              "freq     11125        122       3315        11480          11510    10485"
            ],
            "text/html": [
              "\n",
              "  <div id=\"df-2f7e5369-d01f-4930-8c78-ef5575e7608c\" class=\"colab-df-container\">\n",
              "    <div>\n",
              "<style scoped>\n",
              "    .dataframe tbody tr th:only-of-type {\n",
              "        vertical-align: middle;\n",
              "    }\n",
              "\n",
              "    .dataframe tbody tr th {\n",
              "        vertical-align: top;\n",
              "    }\n",
              "\n",
              "    .dataframe thead th {\n",
              "        text-align: right;\n",
              "    }\n",
              "</style>\n",
              "<table border=\"1\" class=\"dataframe\">\n",
              "  <thead>\n",
              "    <tr style=\"text-align: right;\">\n",
              "      <th></th>\n",
              "      <th>TARIFA</th>\n",
              "      <th>MUNICIPIO</th>\n",
              "      <th>PROVINCIA</th>\n",
              "      <th>AUTOCONSUMO</th>\n",
              "      <th>ESQUEMA_MEDIDA</th>\n",
              "      <th>SUBGRUPO</th>\n",
              "    </tr>\n",
              "  </thead>\n",
              "  <tbody>\n",
              "    <tr>\n",
              "      <th>count</th>\n",
              "      <td>11786</td>\n",
              "      <td>11786</td>\n",
              "      <td>11786</td>\n",
              "      <td>11786</td>\n",
              "      <td>11782</td>\n",
              "      <td>11736</td>\n",
              "    </tr>\n",
              "    <tr>\n",
              "      <th>unique</th>\n",
              "      <td>5</td>\n",
              "      <td>2348</td>\n",
              "      <td>50</td>\n",
              "      <td>11</td>\n",
              "      <td>5</td>\n",
              "      <td>9</td>\n",
              "    </tr>\n",
              "    <tr>\n",
              "      <th>top</th>\n",
              "      <td>18</td>\n",
              "      <td>8205</td>\n",
              "      <td>8</td>\n",
              "      <td>41</td>\n",
              "      <td>A</td>\n",
              "      <td>b.1.1</td>\n",
              "    </tr>\n",
              "    <tr>\n",
              "      <th>freq</th>\n",
              "      <td>11125</td>\n",
              "      <td>122</td>\n",
              "      <td>3315</td>\n",
              "      <td>11480</td>\n",
              "      <td>11510</td>\n",
              "      <td>10485</td>\n",
              "    </tr>\n",
              "  </tbody>\n",
              "</table>\n",
              "</div>\n",
              "    <div class=\"colab-df-buttons\">\n",
              "\n",
              "  <div class=\"colab-df-container\">\n",
              "    <button class=\"colab-df-convert\" onclick=\"convertToInteractive('df-2f7e5369-d01f-4930-8c78-ef5575e7608c')\"\n",
              "            title=\"Convert this dataframe to an interactive table.\"\n",
              "            style=\"display:none;\">\n",
              "\n",
              "  <svg xmlns=\"http://www.w3.org/2000/svg\" height=\"24px\" viewBox=\"0 -960 960 960\">\n",
              "    <path d=\"M120-120v-720h720v720H120Zm60-500h600v-160H180v160Zm220 220h160v-160H400v160Zm0 220h160v-160H400v160ZM180-400h160v-160H180v160Zm440 0h160v-160H620v160ZM180-180h160v-160H180v160Zm440 0h160v-160H620v160Z\"/>\n",
              "  </svg>\n",
              "    </button>\n",
              "\n",
              "  <style>\n",
              "    .colab-df-container {\n",
              "      display:flex;\n",
              "      gap: 12px;\n",
              "    }\n",
              "\n",
              "    .colab-df-convert {\n",
              "      background-color: #E8F0FE;\n",
              "      border: none;\n",
              "      border-radius: 50%;\n",
              "      cursor: pointer;\n",
              "      display: none;\n",
              "      fill: #1967D2;\n",
              "      height: 32px;\n",
              "      padding: 0 0 0 0;\n",
              "      width: 32px;\n",
              "    }\n",
              "\n",
              "    .colab-df-convert:hover {\n",
              "      background-color: #E2EBFA;\n",
              "      box-shadow: 0px 1px 2px rgba(60, 64, 67, 0.3), 0px 1px 3px 1px rgba(60, 64, 67, 0.15);\n",
              "      fill: #174EA6;\n",
              "    }\n",
              "\n",
              "    .colab-df-buttons div {\n",
              "      margin-bottom: 4px;\n",
              "    }\n",
              "\n",
              "    [theme=dark] .colab-df-convert {\n",
              "      background-color: #3B4455;\n",
              "      fill: #D2E3FC;\n",
              "    }\n",
              "\n",
              "    [theme=dark] .colab-df-convert:hover {\n",
              "      background-color: #434B5C;\n",
              "      box-shadow: 0px 1px 3px 1px rgba(0, 0, 0, 0.15);\n",
              "      filter: drop-shadow(0px 1px 2px rgba(0, 0, 0, 0.3));\n",
              "      fill: #FFFFFF;\n",
              "    }\n",
              "  </style>\n",
              "\n",
              "    <script>\n",
              "      const buttonEl =\n",
              "        document.querySelector('#df-2f7e5369-d01f-4930-8c78-ef5575e7608c button.colab-df-convert');\n",
              "      buttonEl.style.display =\n",
              "        google.colab.kernel.accessAllowed ? 'block' : 'none';\n",
              "\n",
              "      async function convertToInteractive(key) {\n",
              "        const element = document.querySelector('#df-2f7e5369-d01f-4930-8c78-ef5575e7608c');\n",
              "        const dataTable =\n",
              "          await google.colab.kernel.invokeFunction('convertToInteractive',\n",
              "                                                    [key], {});\n",
              "        if (!dataTable) return;\n",
              "\n",
              "        const docLinkHtml = 'Like what you see? Visit the ' +\n",
              "          '<a target=\"_blank\" href=https://colab.research.google.com/notebooks/data_table.ipynb>data table notebook</a>'\n",
              "          + ' to learn more about interactive tables.';\n",
              "        element.innerHTML = '';\n",
              "        dataTable['output_type'] = 'display_data';\n",
              "        await google.colab.output.renderOutput(dataTable, element);\n",
              "        const docLink = document.createElement('div');\n",
              "        docLink.innerHTML = docLinkHtml;\n",
              "        element.appendChild(docLink);\n",
              "      }\n",
              "    </script>\n",
              "  </div>\n",
              "\n",
              "\n",
              "<div id=\"df-92e82423-4138-4c07-9b27-101129af7bcc\">\n",
              "  <button class=\"colab-df-quickchart\" onclick=\"quickchart('df-92e82423-4138-4c07-9b27-101129af7bcc')\"\n",
              "            title=\"Suggest charts\"\n",
              "            style=\"display:none;\">\n",
              "\n",
              "<svg xmlns=\"http://www.w3.org/2000/svg\" height=\"24px\"viewBox=\"0 0 24 24\"\n",
              "     width=\"24px\">\n",
              "    <g>\n",
              "        <path d=\"M19 3H5c-1.1 0-2 .9-2 2v14c0 1.1.9 2 2 2h14c1.1 0 2-.9 2-2V5c0-1.1-.9-2-2-2zM9 17H7v-7h2v7zm4 0h-2V7h2v10zm4 0h-2v-4h2v4z\"/>\n",
              "    </g>\n",
              "</svg>\n",
              "  </button>\n",
              "\n",
              "<style>\n",
              "  .colab-df-quickchart {\n",
              "      --bg-color: #E8F0FE;\n",
              "      --fill-color: #1967D2;\n",
              "      --hover-bg-color: #E2EBFA;\n",
              "      --hover-fill-color: #174EA6;\n",
              "      --disabled-fill-color: #AAA;\n",
              "      --disabled-bg-color: #DDD;\n",
              "  }\n",
              "\n",
              "  [theme=dark] .colab-df-quickchart {\n",
              "      --bg-color: #3B4455;\n",
              "      --fill-color: #D2E3FC;\n",
              "      --hover-bg-color: #434B5C;\n",
              "      --hover-fill-color: #FFFFFF;\n",
              "      --disabled-bg-color: #3B4455;\n",
              "      --disabled-fill-color: #666;\n",
              "  }\n",
              "\n",
              "  .colab-df-quickchart {\n",
              "    background-color: var(--bg-color);\n",
              "    border: none;\n",
              "    border-radius: 50%;\n",
              "    cursor: pointer;\n",
              "    display: none;\n",
              "    fill: var(--fill-color);\n",
              "    height: 32px;\n",
              "    padding: 0;\n",
              "    width: 32px;\n",
              "  }\n",
              "\n",
              "  .colab-df-quickchart:hover {\n",
              "    background-color: var(--hover-bg-color);\n",
              "    box-shadow: 0 1px 2px rgba(60, 64, 67, 0.3), 0 1px 3px 1px rgba(60, 64, 67, 0.15);\n",
              "    fill: var(--button-hover-fill-color);\n",
              "  }\n",
              "\n",
              "  .colab-df-quickchart-complete:disabled,\n",
              "  .colab-df-quickchart-complete:disabled:hover {\n",
              "    background-color: var(--disabled-bg-color);\n",
              "    fill: var(--disabled-fill-color);\n",
              "    box-shadow: none;\n",
              "  }\n",
              "\n",
              "  .colab-df-spinner {\n",
              "    border: 2px solid var(--fill-color);\n",
              "    border-color: transparent;\n",
              "    border-bottom-color: var(--fill-color);\n",
              "    animation:\n",
              "      spin 1s steps(1) infinite;\n",
              "  }\n",
              "\n",
              "  @keyframes spin {\n",
              "    0% {\n",
              "      border-color: transparent;\n",
              "      border-bottom-color: var(--fill-color);\n",
              "      border-left-color: var(--fill-color);\n",
              "    }\n",
              "    20% {\n",
              "      border-color: transparent;\n",
              "      border-left-color: var(--fill-color);\n",
              "      border-top-color: var(--fill-color);\n",
              "    }\n",
              "    30% {\n",
              "      border-color: transparent;\n",
              "      border-left-color: var(--fill-color);\n",
              "      border-top-color: var(--fill-color);\n",
              "      border-right-color: var(--fill-color);\n",
              "    }\n",
              "    40% {\n",
              "      border-color: transparent;\n",
              "      border-right-color: var(--fill-color);\n",
              "      border-top-color: var(--fill-color);\n",
              "    }\n",
              "    60% {\n",
              "      border-color: transparent;\n",
              "      border-right-color: var(--fill-color);\n",
              "    }\n",
              "    80% {\n",
              "      border-color: transparent;\n",
              "      border-right-color: var(--fill-color);\n",
              "      border-bottom-color: var(--fill-color);\n",
              "    }\n",
              "    90% {\n",
              "      border-color: transparent;\n",
              "      border-bottom-color: var(--fill-color);\n",
              "    }\n",
              "  }\n",
              "</style>\n",
              "\n",
              "  <script>\n",
              "    async function quickchart(key) {\n",
              "      const quickchartButtonEl =\n",
              "        document.querySelector('#' + key + ' button');\n",
              "      quickchartButtonEl.disabled = true;  // To prevent multiple clicks.\n",
              "      quickchartButtonEl.classList.add('colab-df-spinner');\n",
              "      try {\n",
              "        const charts = await google.colab.kernel.invokeFunction(\n",
              "            'suggestCharts', [key], {});\n",
              "      } catch (error) {\n",
              "        console.error('Error during call to suggestCharts:', error);\n",
              "      }\n",
              "      quickchartButtonEl.classList.remove('colab-df-spinner');\n",
              "      quickchartButtonEl.classList.add('colab-df-quickchart-complete');\n",
              "    }\n",
              "    (() => {\n",
              "      let quickchartButtonEl =\n",
              "        document.querySelector('#df-92e82423-4138-4c07-9b27-101129af7bcc button');\n",
              "      quickchartButtonEl.style.display =\n",
              "        google.colab.kernel.accessAllowed ? 'block' : 'none';\n",
              "    })();\n",
              "  </script>\n",
              "</div>\n",
              "\n",
              "    </div>\n",
              "  </div>\n"
            ],
            "application/vnd.google.colaboratory.intrinsic+json": {
              "type": "dataframe",
              "summary": "{\n  \"name\": \"df_info_categoricas\",\n  \"rows\": 4,\n  \"fields\": [\n    {\n      \"column\": \"TARIFA\",\n      \"properties\": {\n        \"dtype\": \"number\",\n        \"std\": 6612,\n        \"min\": 5,\n        \"max\": 11786,\n        \"num_unique_values\": 4,\n        \"samples\": [\n          5,\n          11125,\n          11786\n        ],\n        \"semantic_type\": \"\",\n        \"description\": \"\"\n      }\n    },\n    {\n      \"column\": \"MUNICIPIO\",\n      \"properties\": {\n        \"dtype\": \"number\",\n        \"std\": 5342,\n        \"min\": 122,\n        \"max\": 11786,\n        \"num_unique_values\": 4,\n        \"samples\": [\n          2348,\n          122,\n          11786\n        ],\n        \"semantic_type\": \"\",\n        \"description\": \"\"\n      }\n    },\n    {\n      \"column\": \"PROVINCIA\",\n      \"properties\": {\n        \"dtype\": \"number\",\n        \"std\": 5551,\n        \"min\": 8,\n        \"max\": 11786,\n        \"num_unique_values\": 4,\n        \"samples\": [\n          50,\n          3315,\n          11786\n        ],\n        \"semantic_type\": \"\",\n        \"description\": \"\"\n      }\n    },\n    {\n      \"column\": \"AUTOCONSUMO\",\n      \"properties\": {\n        \"dtype\": \"number\",\n        \"std\": 6702,\n        \"min\": 11,\n        \"max\": 11786,\n        \"num_unique_values\": 4,\n        \"samples\": [\n          11,\n          11480,\n          11786\n        ],\n        \"semantic_type\": \"\",\n        \"description\": \"\"\n      }\n    },\n    {\n      \"column\": \"ESQUEMA_MEDIDA\",\n      \"properties\": {\n        \"dtype\": \"string\",\n        \"num_unique_values\": 4,\n        \"samples\": [\n          5,\n          \"11510\",\n          \"11782\"\n        ],\n        \"semantic_type\": \"\",\n        \"description\": \"\"\n      }\n    },\n    {\n      \"column\": \"SUBGRUPO\",\n      \"properties\": {\n        \"dtype\": \"string\",\n        \"num_unique_values\": 4,\n        \"samples\": [\n          9,\n          \"10485\",\n          \"11736\"\n        ],\n        \"semantic_type\": \"\",\n        \"description\": \"\"\n      }\n    }\n  ]\n}"
            }
          },
          "metadata": {},
          "execution_count": 11
        }
      ],
      "source": [
        "df_info_categoricas.describe()"
      ]
    },
    {
      "cell_type": "markdown",
      "id": "f668e94c",
      "metadata": {
        "id": "f668e94c"
      },
      "source": [
        "- TARIFA: Se observa que la variable vale lo mismo para casi todos los clientes."
      ]
    },
    {
      "cell_type": "code",
      "execution_count": 61,
      "id": "5edb85f4",
      "metadata": {
        "id": "5edb85f4",
        "outputId": "2be7511d-b17f-490e-90a8-f2b5e289df28",
        "colab": {
          "base_uri": "https://localhost:8080/",
          "height": 307
        }
      },
      "outputs": [
        {
          "output_type": "display_data",
          "data": {
            "text/plain": [
              "<Figure size 700x300 with 1 Axes>"
            ],
            "image/png": "[encoded data removed]"
          },
          "metadata": {}
        }
      ],
      "source": [
        "grafica_frecuencias(df_info, 'TARIFA')"
      ]
    },
    {
      "cell_type": "markdown",
      "id": "481f130c",
      "metadata": {
        "id": "481f130c"
      },
      "source": [
        "- MUNICIPIO: En nuestro conjunto de datos contamos con 2348 municipios distintos. Es una variable categórica demasiado grande, por lo que seguramente acabemos tomando como referencia la variable PROVINCIA (que es un superconjunto de la variable MUNICIPIO)."
      ]
    },
    {
      "cell_type": "markdown",
      "id": "c969f82f",
      "metadata": {
        "id": "c969f82f"
      },
      "source": [
        "- PROVINCIA: Vemos que las más frecuentes son: Barcelona(8), Girona(17), Valencia(46), Madrid(28) e Islas Baleares(7)."
      ]
    },
    {
      "cell_type": "code",
      "execution_count": 21,
      "id": "4814b6a8",
      "metadata": {
        "id": "4814b6a8",
        "outputId": "3dec2d30-b1bc-4c75-89c5-77cf63948fa0",
        "colab": {
          "base_uri": "https://localhost:8080/"
        }
      },
      "outputs": [
        {
          "output_type": "execute_result",
          "data": {
            "text/plain": [
              "PROVINCIA\n",
              "8     3315\n",
              "17    1239\n",
              "46     661\n",
              "28     644\n",
              "7      545\n",
              "Name: count, dtype: int64"
            ]
          },
          "metadata": {},
          "execution_count": 21
        }
      ],
      "source": [
        "frecuencias = df_info['PROVINCIA'].value_counts()\n",
        "frecuencias.head()"
      ]
    },
    {
      "cell_type": "markdown",
      "id": "61c20816",
      "metadata": {
        "id": "61c20816"
      },
      "source": [
        "- AUTOCONSUMO: Se observa que la variable vale lo mismo para casi todos los clientes."
      ]
    },
    {
      "cell_type": "code",
      "source": [
        "grafica_frecuencias(df_info, 'AUTOCONSUMO')"
      ],
      "metadata": {
        "id": "dw13_vBgdFt3",
        "outputId": "aa16f65e-77b6-4b63-cab7-4b579d522345",
        "colab": {
          "base_uri": "https://localhost:8080/",
          "height": 341
        }
      },
      "id": "dw13_vBgdFt3",
      "execution_count": 71,
      "outputs": [
        {
          "output_type": "display_data",
          "data": {
            "text/plain": [
              "<Figure size 1200x500 with 1 Axes>"
            ],
            "image/png": "[encoded data removed]"
          },
          "metadata": {}
        }
      ]
    },
    {
      "cell_type": "markdown",
      "id": "174177a0",
      "metadata": {
        "id": "174177a0"
      },
      "source": [
        "- ESQUEMA_MEDIDA: Se observa que la variable vale lo mismo para casi todos los clientes."
      ]
    },
    {
      "cell_type": "code",
      "execution_count": 72,
      "id": "9686d89c",
      "metadata": {
        "id": "9686d89c",
        "outputId": "84be10f2-be8c-45f6-e393-ea10b795386f",
        "colab": {
          "base_uri": "https://localhost:8080/",
          "height": 341
        }
      },
      "outputs": [
        {
          "output_type": "display_data",
          "data": {
            "text/plain": [
              "<Figure size 1200x500 with 1 Axes>"
            ],
            "image/png": "[encoded data removed]"
          },
          "metadata": {}
        }
      ],
      "source": [
        "grafica_frecuencias(df_info, 'ESQUEMA_MEDIDA')"
      ]
    },
    {
      "cell_type": "markdown",
      "id": "d18d15db",
      "metadata": {
        "id": "d18d15db"
      },
      "source": [
        "- SUBGRUPO: Se observa que la variable vale lo mismo para casi todos los clientes."
      ]
    },
    {
      "cell_type": "code",
      "execution_count": 73,
      "id": "a8cb98c2",
      "metadata": {
        "id": "a8cb98c2",
        "outputId": "1f2baf37-9cfc-4a43-9408-df516fd69f9e",
        "colab": {
          "base_uri": "https://localhost:8080/",
          "height": 342
        }
      },
      "outputs": [
        {
          "output_type": "display_data",
          "data": {
            "text/plain": [
              "<Figure size 1200x500 with 1 Axes>"
            ],
            "image/png": "[encoded data removed]"
          },
          "metadata": {}
        }
      ],
      "source": [
        "grafica_frecuencias(df_info, 'SUBGRUPO')"
      ]
    },
    {
      "cell_type": "markdown",
      "id": "77cc6866",
      "metadata": {
        "id": "77cc6866"
      },
      "source": [
        "#### Variables numéricas"
      ]
    },
    {
      "cell_type": "code",
      "execution_count": 30,
      "id": "6d168779",
      "metadata": {
        "id": "6d168779"
      },
      "outputs": [],
      "source": [
        "df_info_numericas = df_info[df_info.select_dtypes(include=['float64']).columns]"
      ]
    },
    {
      "cell_type": "code",
      "execution_count": 31,
      "id": "ab5454e6",
      "metadata": {
        "id": "ab5454e6",
        "outputId": "cf77d48a-3a1e-4f56-bd3c-cd3460ba5efc",
        "colab": {
          "base_uri": "https://localhost:8080/",
          "height": 320
        }
      },
      "outputs": [
        {
          "output_type": "execute_result",
          "data": {
            "text/plain": [
              "       KW_CONTRATADA_P1  KW_CONTRATADA_P2  KW_CONTRATADA_P3  KW_CONTRATADA_P4  \\\n",
              "count      11786.000000      11786.000000      11786.000000      11786.000000   \n",
              "mean           7.492712          7.733908          2.504065          2.498043   \n",
              "std           22.531164         22.810726         23.328087         23.326758   \n",
              "min            0.100000          0.000000          0.000000          0.000000   \n",
              "25%            4.400000          4.400000          0.000000          0.000000   \n",
              "50%            5.000000          5.200000          0.000000          0.000000   \n",
              "75%            6.600000          6.900000          0.000000          0.000000   \n",
              "max         1550.000000       1550.000000       1550.000000       1550.000000   \n",
              "\n",
              "       KW_CONTRATADA_P5  KW_CONTRATADA_P6  POTENCIA_GENERACION_KW  \n",
              "count      11786.000000      11786.000000            11786.000000  \n",
              "mean           2.502116          3.024904                6.999336  \n",
              "std           23.354755         26.258712               72.623960  \n",
              "min            0.000000          0.000000                0.000000  \n",
              "25%            0.000000          0.000000                3.000000  \n",
              "50%            0.000000          0.000000                4.000000  \n",
              "75%            0.000000          0.000000                5.000000  \n",
              "max         1550.000000       1550.000000             4225.000000  "
            ],
            "text/html": [
              "\n",
              "  <div id=\"df-cbc719d3-3da6-4f37-9a8c-3ece034b5c62\" class=\"colab-df-container\">\n",
              "    <div>\n",
              "<style scoped>\n",
              "    .dataframe tbody tr th:only-of-type {\n",
              "        vertical-align: middle;\n",
              "    }\n",
              "\n",
              "    .dataframe tbody tr th {\n",
              "        vertical-align: top;\n",
              "    }\n",
              "\n",
              "    .dataframe thead th {\n",
              "        text-align: right;\n",
              "    }\n",
              "</style>\n",
              "<table border=\"1\" class=\"dataframe\">\n",
              "  <thead>\n",
              "    <tr style=\"text-align: right;\">\n",
              "      <th></th>\n",
              "      <th>KW_CONTRATADA_P1</th>\n",
              "      <th>KW_CONTRATADA_P2</th>\n",
              "      <th>KW_CONTRATADA_P3</th>\n",
              "      <th>KW_CONTRATADA_P4</th>\n",
              "      <th>KW_CONTRATADA_P5</th>\n",
              "      <th>KW_CONTRATADA_P6</th>\n",
              "      <th>POTENCIA_GENERACION_KW</th>\n",
              "    </tr>\n",
              "  </thead>\n",
              "  <tbody>\n",
              "    <tr>\n",
              "      <th>count</th>\n",
              "      <td>11786.000000</td>\n",
              "      <td>11786.000000</td>\n",
              "      <td>11786.000000</td>\n",
              "      <td>11786.000000</td>\n",
              "      <td>11786.000000</td>\n",
              "      <td>11786.000000</td>\n",
              "      <td>11786.000000</td>\n",
              "    </tr>\n",
              "    <tr>\n",
              "      <th>mean</th>\n",
              "      <td>7.492712</td>\n",
              "      <td>7.733908</td>\n",
              "      <td>2.504065</td>\n",
              "      <td>2.498043</td>\n",
              "      <td>2.502116</td>\n",
              "      <td>3.024904</td>\n",
              "      <td>6.999336</td>\n",
              "    </tr>\n",
              "    <tr>\n",
              "      <th>std</th>\n",
              "      <td>22.531164</td>\n",
              "      <td>22.810726</td>\n",
              "      <td>23.328087</td>\n",
              "      <td>23.326758</td>\n",
              "      <td>23.354755</td>\n",
              "      <td>26.258712</td>\n",
              "      <td>72.623960</td>\n",
              "    </tr>\n",
              "    <tr>\n",
              "      <th>min</th>\n",
              "      <td>0.100000</td>\n",
              "      <td>0.000000</td>\n",
              "      <td>0.000000</td>\n",
              "      <td>0.000000</td>\n",
              "      <td>0.000000</td>\n",
              "      <td>0.000000</td>\n",
              "      <td>0.000000</td>\n",
              "    </tr>\n",
              "    <tr>\n",
              "      <th>25%</th>\n",
              "      <td>4.400000</td>\n",
              "      <td>4.400000</td>\n",
              "      <td>0.000000</td>\n",
              "      <td>0.000000</td>\n",
              "      <td>0.000000</td>\n",
              "      <td>0.000000</td>\n",
              "      <td>3.000000</td>\n",
              "    </tr>\n",
              "    <tr>\n",
              "      <th>50%</th>\n",
              "      <td>5.000000</td>\n",
              "      <td>5.200000</td>\n",
              "      <td>0.000000</td>\n",
              "      <td>0.000000</td>\n",
              "      <td>0.000000</td>\n",
              "      <td>0.000000</td>\n",
              "      <td>4.000000</td>\n",
              "    </tr>\n",
              "    <tr>\n",
              "      <th>75%</th>\n",
              "      <td>6.600000</td>\n",
              "      <td>6.900000</td>\n",
              "      <td>0.000000</td>\n",
              "      <td>0.000000</td>\n",
              "      <td>0.000000</td>\n",
              "      <td>0.000000</td>\n",
              "      <td>5.000000</td>\n",
              "    </tr>\n",
              "    <tr>\n",
              "      <th>max</th>\n",
              "      <td>1550.000000</td>\n",
              "      <td>1550.000000</td>\n",
              "      <td>1550.000000</td>\n",
              "      <td>1550.000000</td>\n",
              "      <td>1550.000000</td>\n",
              "      <td>1550.000000</td>\n",
              "      <td>4225.000000</td>\n",
              "    </tr>\n",
              "  </tbody>\n",
              "</table>\n",
              "</div>\n",
              "    <div class=\"colab-df-buttons\">\n",
              "\n",
              "  <div class=\"colab-df-container\">\n",
              "    <button class=\"colab-df-convert\" onclick=\"convertToInteractive('df-cbc719d3-3da6-4f37-9a8c-3ece034b5c62')\"\n",
              "            title=\"Convert this dataframe to an interactive table.\"\n",
              "            style=\"display:none;\">\n",
              "\n",
              "  <svg xmlns=\"http://www.w3.org/2000/svg\" height=\"24px\" viewBox=\"0 -960 960 960\">\n",
              "    <path d=\"M120-120v-720h720v720H120Zm60-500h600v-160H180v160Zm220 220h160v-160H400v160Zm0 220h160v-160H400v160ZM180-400h160v-160H180v160Zm440 0h160v-160H620v160ZM180-180h160v-160H180v160Zm440 0h160v-160H620v160Z\"/>\n",
              "  </svg>\n",
              "    </button>\n",
              "\n",
              "  <style>\n",
              "    .colab-df-container {\n",
              "      display:flex;\n",
              "      gap: 12px;\n",
              "    }\n",
              "\n",
              "    .colab-df-convert {\n",
              "      background-color: #E8F0FE;\n",
              "      border: none;\n",
              "      border-radius: 50%;\n",
              "      cursor: pointer;\n",
              "      display: none;\n",
              "      fill: #1967D2;\n",
              "      height: 32px;\n",
              "      padding: 0 0 0 0;\n",
              "      width: 32px;\n",
              "    }\n",
              "\n",
              "    .colab-df-convert:hover {\n",
              "      background-color: #E2EBFA;\n",
              "      box-shadow: 0px 1px 2px rgba(60, 64, 67, 0.3), 0px 1px 3px 1px rgba(60, 64, 67, 0.15);\n",
              "      fill: #174EA6;\n",
              "    }\n",
              "\n",
              "    .colab-df-buttons div {\n",
              "      margin-bottom: 4px;\n",
              "    }\n",
              "\n",
              "    [theme=dark] .colab-df-convert {\n",
              "      background-color: #3B4455;\n",
              "      fill: #D2E3FC;\n",
              "    }\n",
              "\n",
              "    [theme=dark] .colab-df-convert:hover {\n",
              "      background-color: #434B5C;\n",
              "      box-shadow: 0px 1px 3px 1px rgba(0, 0, 0, 0.15);\n",
              "      filter: drop-shadow(0px 1px 2px rgba(0, 0, 0, 0.3));\n",
              "      fill: #FFFFFF;\n",
              "    }\n",
              "  </style>\n",
              "\n",
              "    <script>\n",
              "      const buttonEl =\n",
              "        document.querySelector('#df-cbc719d3-3da6-4f37-9a8c-3ece034b5c62 button.colab-df-convert');\n",
              "      buttonEl.style.display =\n",
              "        google.colab.kernel.accessAllowed ? 'block' : 'none';\n",
              "\n",
              "      async function convertToInteractive(key) {\n",
              "        const element = document.querySelector('#df-cbc719d3-3da6-4f37-9a8c-3ece034b5c62');\n",
              "        const dataTable =\n",
              "          await google.colab.kernel.invokeFunction('convertToInteractive',\n",
              "                                                    [key], {});\n",
              "        if (!dataTable) return;\n",
              "\n",
              "        const docLinkHtml = 'Like what you see? Visit the ' +\n",
              "          '<a target=\"_blank\" href=https://colab.research.google.com/notebooks/data_table.ipynb>data table notebook</a>'\n",
              "          + ' to learn more about interactive tables.';\n",
              "        element.innerHTML = '';\n",
              "        dataTable['output_type'] = 'display_data';\n",
              "        await google.colab.output.renderOutput(dataTable, element);\n",
              "        const docLink = document.createElement('div');\n",
              "        docLink.innerHTML = docLinkHtml;\n",
              "        element.appendChild(docLink);\n",
              "      }\n",
              "    </script>\n",
              "  </div>\n",
              "\n",
              "\n",
              "<div id=\"df-3170a092-6fcb-4f28-aee5-a4fda1190235\">\n",
              "  <button class=\"colab-df-quickchart\" onclick=\"quickchart('df-3170a092-6fcb-4f28-aee5-a4fda1190235')\"\n",
              "            title=\"Suggest charts\"\n",
              "            style=\"display:none;\">\n",
              "\n",
              "<svg xmlns=\"http://www.w3.org/2000/svg\" height=\"24px\"viewBox=\"0 0 24 24\"\n",
              "     width=\"24px\">\n",
              "    <g>\n",
              "        <path d=\"M19 3H5c-1.1 0-2 .9-2 2v14c0 1.1.9 2 2 2h14c1.1 0 2-.9 2-2V5c0-1.1-.9-2-2-2zM9 17H7v-7h2v7zm4 0h-2V7h2v10zm4 0h-2v-4h2v4z\"/>\n",
              "    </g>\n",
              "</svg>\n",
              "  </button>\n",
              "\n",
              "<style>\n",
              "  .colab-df-quickchart {\n",
              "      --bg-color: #E8F0FE;\n",
              "      --fill-color: #1967D2;\n",
              "      --hover-bg-color: #E2EBFA;\n",
              "      --hover-fill-color: #174EA6;\n",
              "      --disabled-fill-color: #AAA;\n",
              "      --disabled-bg-color: #DDD;\n",
              "  }\n",
              "\n",
              "  [theme=dark] .colab-df-quickchart {\n",
              "      --bg-color: #3B4455;\n",
              "      --fill-color: #D2E3FC;\n",
              "      --hover-bg-color: #434B5C;\n",
              "      --hover-fill-color: #FFFFFF;\n",
              "      --disabled-bg-color: #3B4455;\n",
              "      --disabled-fill-color: #666;\n",
              "  }\n",
              "\n",
              "  .colab-df-quickchart {\n",
              "    background-color: var(--bg-color);\n",
              "    border: none;\n",
              "    border-radius: 50%;\n",
              "    cursor: pointer;\n",
              "    display: none;\n",
              "    fill: var(--fill-color);\n",
              "    height: 32px;\n",
              "    padding: 0;\n",
              "    width: 32px;\n",
              "  }\n",
              "\n",
              "  .colab-df-quickchart:hover {\n",
              "    background-color: var(--hover-bg-color);\n",
              "    box-shadow: 0 1px 2px rgba(60, 64, 67, 0.3), 0 1px 3px 1px rgba(60, 64, 67, 0.15);\n",
              "    fill: var(--button-hover-fill-color);\n",
              "  }\n",
              "\n",
              "  .colab-df-quickchart-complete:disabled,\n",
              "  .colab-df-quickchart-complete:disabled:hover {\n",
              "    background-color: var(--disabled-bg-color);\n",
              "    fill: var(--disabled-fill-color);\n",
              "    box-shadow: none;\n",
              "  }\n",
              "\n",
              "  .colab-df-spinner {\n",
              "    border: 2px solid var(--fill-color);\n",
              "    border-color: transparent;\n",
              "    border-bottom-color: var(--fill-color);\n",
              "    animation:\n",
              "      spin 1s steps(1) infinite;\n",
              "  }\n",
              "\n",
              "  @keyframes spin {\n",
              "    0% {\n",
              "      border-color: transparent;\n",
              "      border-bottom-color: var(--fill-color);\n",
              "      border-left-color: var(--fill-color);\n",
              "    }\n",
              "    20% {\n",
              "      border-color: transparent;\n",
              "      border-left-color: var(--fill-color);\n",
              "      border-top-color: var(--fill-color);\n",
              "    }\n",
              "    30% {\n",
              "      border-color: transparent;\n",
              "      border-left-color: var(--fill-color);\n",
              "      border-top-color: var(--fill-color);\n",
              "      border-right-color: var(--fill-color);\n",
              "    }\n",
              "    40% {\n",
              "      border-color: transparent;\n",
              "      border-right-color: var(--fill-color);\n",
              "      border-top-color: var(--fill-color);\n",
              "    }\n",
              "    60% {\n",
              "      border-color: transparent;\n",
              "      border-right-color: var(--fill-color);\n",
              "    }\n",
              "    80% {\n",
              "      border-color: transparent;\n",
              "      border-right-color: var(--fill-color);\n",
              "      border-bottom-color: var(--fill-color);\n",
              "    }\n",
              "    90% {\n",
              "      border-color: transparent;\n",
              "      border-bottom-color: var(--fill-color);\n",
              "    }\n",
              "  }\n",
              "</style>\n",
              "\n",
              "  <script>\n",
              "    async function quickchart(key) {\n",
              "      const quickchartButtonEl =\n",
              "        document.querySelector('#' + key + ' button');\n",
              "      quickchartButtonEl.disabled = true;  // To prevent multiple clicks.\n",
              "      quickchartButtonEl.classList.add('colab-df-spinner');\n",
              "      try {\n",
              "        const charts = await google.colab.kernel.invokeFunction(\n",
              "            'suggestCharts', [key], {});\n",
              "      } catch (error) {\n",
              "        console.error('Error during call to suggestCharts:', error);\n",
              "      }\n",
              "      quickchartButtonEl.classList.remove('colab-df-spinner');\n",
              "      quickchartButtonEl.classList.add('colab-df-quickchart-complete');\n",
              "    }\n",
              "    (() => {\n",
              "      let quickchartButtonEl =\n",
              "        document.querySelector('#df-3170a092-6fcb-4f28-aee5-a4fda1190235 button');\n",
              "      quickchartButtonEl.style.display =\n",
              "        google.colab.kernel.accessAllowed ? 'block' : 'none';\n",
              "    })();\n",
              "  </script>\n",
              "</div>\n",
              "\n",
              "    </div>\n",
              "  </div>\n"
            ],
            "application/vnd.google.colaboratory.intrinsic+json": {
              "type": "dataframe",
              "summary": "{\n  \"name\": \"df_info_numericas\",\n  \"rows\": 8,\n  \"fields\": [\n    {\n      \"column\": \"KW_CONTRATADA_P1\",\n      \"properties\": {\n        \"dtype\": \"number\",\n        \"std\": 4121.854520119956,\n        \"min\": 0.1,\n        \"max\": 11786.0,\n        \"num_unique_values\": 8,\n        \"samples\": [\n          7.49271228576277,\n          5.0,\n          11786.0\n        ],\n        \"semantic_type\": \"\",\n        \"description\": \"\"\n      }\n    },\n    {\n      \"column\": \"KW_CONTRATADA_P2\",\n      \"properties\": {\n        \"dtype\": \"number\",\n        \"std\": 4121.801525215131,\n        \"min\": 0.0,\n        \"max\": 11786.0,\n        \"num_unique_values\": 8,\n        \"samples\": [\n          7.7339084507042255,\n          5.2,\n          11786.0\n        ],\n        \"semantic_type\": \"\",\n        \"description\": \"\"\n      }\n    },\n    {\n      \"column\": \"KW_CONTRATADA_P3\",\n      \"properties\": {\n        \"dtype\": \"number\",\n        \"std\": 4123.028128898308,\n        \"min\": 0.0,\n        \"max\": 11786.0,\n        \"num_unique_values\": 5,\n        \"samples\": [\n          2.5040652469031053,\n          1550.0,\n          23.328087023268647\n        ],\n        \"semantic_type\": \"\",\n        \"description\": \"\"\n      }\n    },\n    {\n      \"column\": \"KW_CONTRATADA_P4\",\n      \"properties\": {\n        \"dtype\": \"number\",\n        \"std\": 4123.028552757851,\n        \"min\": 0.0,\n        \"max\": 11786.0,\n        \"num_unique_values\": 5,\n        \"samples\": [\n          2.4980428474461225,\n          1550.0,\n          23.32675763375926\n        ],\n        \"semantic_type\": \"\",\n        \"description\": \"\"\n      }\n    },\n    {\n      \"column\": \"KW_CONTRATADA_P5\",\n      \"properties\": {\n        \"dtype\": \"number\",\n        \"std\": 4123.026719805097,\n        \"min\": 0.0,\n        \"max\": 11786.0,\n        \"num_unique_values\": 5,\n        \"samples\": [\n          2.5021163244527407,\n          1550.0,\n          23.354754501990403\n        ],\n        \"semantic_type\": \"\",\n        \"description\": \"\"\n      }\n    },\n    {\n      \"column\": \"KW_CONTRATADA_P6\",\n      \"properties\": {\n        \"dtype\": \"number\",\n        \"std\": 4122.830925879597,\n        \"min\": 0.0,\n        \"max\": 11786.0,\n        \"num_unique_values\": 5,\n        \"samples\": [\n          3.0249042083828273,\n          1550.0,\n          26.258711563928866\n        ],\n        \"semantic_type\": \"\",\n        \"description\": \"\"\n      }\n    },\n    {\n      \"column\": \"POTENCIA_GENERACION_KW\",\n      \"properties\": {\n        \"dtype\": \"number\",\n        \"std\": 4214.837475278422,\n        \"min\": 0.0,\n        \"max\": 11786.0,\n        \"num_unique_values\": 8,\n        \"samples\": [\n          6.9993362463940265,\n          4.0,\n          11786.0\n        ],\n        \"semantic_type\": \"\",\n        \"description\": \"\"\n      }\n    }\n  ]\n}"
            }
          },
          "metadata": {},
          "execution_count": 31
        }
      ],
      "source": [
        "df_info_numericas.describe()"
      ]
    },
    {
      "cell_type": "markdown",
      "id": "adc7a10a",
      "metadata": {
        "id": "adc7a10a"
      },
      "source": [
        "- KW_CONTRATADA_Pi: Al no tener definidos los rangos de valores que toma cada una, se desestiman estos datos."
      ]
    },
    {
      "cell_type": "markdown",
      "id": "555ded5e",
      "metadata": {
        "id": "555ded5e"
      },
      "source": [
        "- POTENCIA_GENERACION_KW: vemos que los valores que toma esta variable son inferiores a 10, salvo en determinados casos que pasa hasta de los 4000."
      ]
    },
    {
      "cell_type": "code",
      "execution_count": 32,
      "id": "c41563b2",
      "metadata": {
        "id": "c41563b2",
        "outputId": "499f457e-047d-4069-c9ba-6175dd8321cb",
        "colab": {
          "base_uri": "https://localhost:8080/",
          "height": 454
        }
      },
      "outputs": [
        {
          "output_type": "display_data",
          "data": {
            "text/plain": [
              "<Figure size 1000x500 with 1 Axes>"
            ],
            "image/png": "[encoded data removed]"
          },
          "metadata": {}
        }
      ],
      "source": [
        "plt.figure(figsize=(10, 5))\n",
        "\n",
        "sns.histplot(df_info['POTENCIA_GENERACION_KW'], bins=10, kde=False)\n",
        "plt.yscale('log')\n",
        "plt.title('Histograma de Potencia de Generación (Escala Logarítmica)')\n",
        "plt.xlabel('Potencia (kW)')\n",
        "plt.ylabel('Frecuencia')\n",
        "\n",
        "plt.show()"
      ]
    },
    {
      "cell_type": "markdown",
      "id": "5842dc63",
      "metadata": {
        "id": "5842dc63"
      },
      "source": [
        "#### Variables tipo datetime\n",
        "\n",
        "Como el tipo de datos datetime de pandas no soporta más allá de la fecha 2262-04-11, a todas aquellas fechas superiores a este máximo las convertiremos en 2200-01-01."
      ]
    },
    {
      "cell_type": "code",
      "execution_count": 5,
      "id": "b45f4e56",
      "metadata": {
        "id": "b45f4e56"
      },
      "outputs": [],
      "source": [
        "df_info['BAJA_AUTOCONSUMO'] = df_info['BAJA_AUTOCONSUMO'].replace('3000-01-01 00:00:00', '2200-01-01 00:00:00')"
      ]
    },
    {
      "cell_type": "code",
      "execution_count": 6,
      "id": "b01c8e8d",
      "metadata": {
        "id": "b01c8e8d"
      },
      "outputs": [],
      "source": [
        "df_info['ALTA_AUTOCONSUMO'] = pd.to_datetime(df_info['ALTA_AUTOCONSUMO'])\n",
        "df_info['BAJA_AUTOCONSUMO'] = pd.to_datetime(df_info['BAJA_AUTOCONSUMO'])"
      ]
    },
    {
      "cell_type": "code",
      "execution_count": 35,
      "id": "7ecd1637",
      "metadata": {
        "id": "7ecd1637"
      },
      "outputs": [],
      "source": [
        "df_info_datetime = df_info[['ALTA_AUTOCONSUMO', 'BAJA_AUTOCONSUMO']]"
      ]
    },
    {
      "cell_type": "code",
      "execution_count": 36,
      "id": "4cc4ad7c",
      "metadata": {
        "id": "4cc4ad7c",
        "outputId": "3eba3f4f-3897-4d68-de84-a4982d812341",
        "colab": {
          "base_uri": "https://localhost:8080/",
          "height": 268
        }
      },
      "outputs": [
        {
          "output_type": "execute_result",
          "data": {
            "text/plain": [
              "                    ALTA_AUTOCONSUMO               BAJA_AUTOCONSUMO\n",
              "count                          11786                          11786\n",
              "mean   2021-10-27 01:01:05.365688064  2199-12-15 11:35:26.522992640\n",
              "min              2013-03-22 00:00:00            2021-08-24 00:00:00\n",
              "25%              2021-04-09 06:00:00            2200-01-01 00:00:00\n",
              "50%              2021-12-23 00:00:00            2200-01-01 00:00:00\n",
              "75%              2022-07-06 00:00:00            2200-01-01 00:00:00\n",
              "max              2023-01-04 00:00:00            2200-01-01 00:00:00"
            ],
            "text/html": [
              "\n",
              "  <div id=\"df-ece255c3-c6b1-4349-9160-00b78577a3ce\" class=\"colab-df-container\">\n",
              "    <div>\n",
              "<style scoped>\n",
              "    .dataframe tbody tr th:only-of-type {\n",
              "        vertical-align: middle;\n",
              "    }\n",
              "\n",
              "    .dataframe tbody tr th {\n",
              "        vertical-align: top;\n",
              "    }\n",
              "\n",
              "    .dataframe thead th {\n",
              "        text-align: right;\n",
              "    }\n",
              "</style>\n",
              "<table border=\"1\" class=\"dataframe\">\n",
              "  <thead>\n",
              "    <tr style=\"text-align: right;\">\n",
              "      <th></th>\n",
              "      <th>ALTA_AUTOCONSUMO</th>\n",
              "      <th>BAJA_AUTOCONSUMO</th>\n",
              "    </tr>\n",
              "  </thead>\n",
              "  <tbody>\n",
              "    <tr>\n",
              "      <th>count</th>\n",
              "      <td>11786</td>\n",
              "      <td>11786</td>\n",
              "    </tr>\n",
              "    <tr>\n",
              "      <th>mean</th>\n",
              "      <td>2021-10-27 01:01:05.365688064</td>\n",
              "      <td>2199-12-15 11:35:26.522992640</td>\n",
              "    </tr>\n",
              "    <tr>\n",
              "      <th>min</th>\n",
              "      <td>2013-03-22 00:00:00</td>\n",
              "      <td>2021-08-24 00:00:00</td>\n",
              "    </tr>\n",
              "    <tr>\n",
              "      <th>25%</th>\n",
              "      <td>2021-04-09 06:00:00</td>\n",
              "      <td>2200-01-01 00:00:00</td>\n",
              "    </tr>\n",
              "    <tr>\n",
              "      <th>50%</th>\n",
              "      <td>2021-12-23 00:00:00</td>\n",
              "      <td>2200-01-01 00:00:00</td>\n",
              "    </tr>\n",
              "    <tr>\n",
              "      <th>75%</th>\n",
              "      <td>2022-07-06 00:00:00</td>\n",
              "      <td>2200-01-01 00:00:00</td>\n",
              "    </tr>\n",
              "    <tr>\n",
              "      <th>max</th>\n",
              "      <td>2023-01-04 00:00:00</td>\n",
              "      <td>2200-01-01 00:00:00</td>\n",
              "    </tr>\n",
              "  </tbody>\n",
              "</table>\n",
              "</div>\n",
              "    <div class=\"colab-df-buttons\">\n",
              "\n",
              "  <div class=\"colab-df-container\">\n",
              "    <button class=\"colab-df-convert\" onclick=\"convertToInteractive('df-ece255c3-c6b1-4349-9160-00b78577a3ce')\"\n",
              "            title=\"Convert this dataframe to an interactive table.\"\n",
              "            style=\"display:none;\">\n",
              "\n",
              "  <svg xmlns=\"http://www.w3.org/2000/svg\" height=\"24px\" viewBox=\"0 -960 960 960\">\n",
              "    <path d=\"M120-120v-720h720v720H120Zm60-500h600v-160H180v160Zm220 220h160v-160H400v160Zm0 220h160v-160H400v160ZM180-400h160v-160H180v160Zm440 0h160v-160H620v160ZM180-180h160v-160H180v160Zm440 0h160v-160H620v160Z\"/>\n",
              "  </svg>\n",
              "    </button>\n",
              "\n",
              "  <style>\n",
              "    .colab-df-container {\n",
              "      display:flex;\n",
              "      gap: 12px;\n",
              "    }\n",
              "\n",
              "    .colab-df-convert {\n",
              "      background-color: #E8F0FE;\n",
              "      border: none;\n",
              "      border-radius: 50%;\n",
              "      cursor: pointer;\n",
              "      display: none;\n",
              "      fill: #1967D2;\n",
              "      height: 32px;\n",
              "      padding: 0 0 0 0;\n",
              "      width: 32px;\n",
              "    }\n",
              "\n",
              "    .colab-df-convert:hover {\n",
              "      background-color: #E2EBFA;\n",
              "      box-shadow: 0px 1px 2px rgba(60, 64, 67, 0.3), 0px 1px 3px 1px rgba(60, 64, 67, 0.15);\n",
              "      fill: #174EA6;\n",
              "    }\n",
              "\n",
              "    .colab-df-buttons div {\n",
              "      margin-bottom: 4px;\n",
              "    }\n",
              "\n",
              "    [theme=dark] .colab-df-convert {\n",
              "      background-color: #3B4455;\n",
              "      fill: #D2E3FC;\n",
              "    }\n",
              "\n",
              "    [theme=dark] .colab-df-convert:hover {\n",
              "      background-color: #434B5C;\n",
              "      box-shadow: 0px 1px 3px 1px rgba(0, 0, 0, 0.15);\n",
              "      filter: drop-shadow(0px 1px 2px rgba(0, 0, 0, 0.3));\n",
              "      fill: #FFFFFF;\n",
              "    }\n",
              "  </style>\n",
              "\n",
              "    <script>\n",
              "      const buttonEl =\n",
              "        document.querySelector('#df-ece255c3-c6b1-4349-9160-00b78577a3ce button.colab-df-convert');\n",
              "      buttonEl.style.display =\n",
              "        google.colab.kernel.accessAllowed ? 'block' : 'none';\n",
              "\n",
              "      async function convertToInteractive(key) {\n",
              "        const element = document.querySelector('#df-ece255c3-c6b1-4349-9160-00b78577a3ce');\n",
              "        const dataTable =\n",
              "          await google.colab.kernel.invokeFunction('convertToInteractive',\n",
              "                                                    [key], {});\n",
              "        if (!dataTable) return;\n",
              "\n",
              "        const docLinkHtml = 'Like what you see? Visit the ' +\n",
              "          '<a target=\"_blank\" href=https://colab.research.google.com/notebooks/data_table.ipynb>data table notebook</a>'\n",
              "          + ' to learn more about interactive tables.';\n",
              "        element.innerHTML = '';\n",
              "        dataTable['output_type'] = 'display_data';\n",
              "        await google.colab.output.renderOutput(dataTable, element);\n",
              "        const docLink = document.createElement('div');\n",
              "        docLink.innerHTML = docLinkHtml;\n",
              "        element.appendChild(docLink);\n",
              "      }\n",
              "    </script>\n",
              "  </div>\n",
              "\n",
              "\n",
              "<div id=\"df-5b1ea913-5e0d-4d9f-849b-4a83b0bb8c3c\">\n",
              "  <button class=\"colab-df-quickchart\" onclick=\"quickchart('df-5b1ea913-5e0d-4d9f-849b-4a83b0bb8c3c')\"\n",
              "            title=\"Suggest charts\"\n",
              "            style=\"display:none;\">\n",
              "\n",
              "<svg xmlns=\"http://www.w3.org/2000/svg\" height=\"24px\"viewBox=\"0 0 24 24\"\n",
              "     width=\"24px\">\n",
              "    <g>\n",
              "        <path d=\"M19 3H5c-1.1 0-2 .9-2 2v14c0 1.1.9 2 2 2h14c1.1 0 2-.9 2-2V5c0-1.1-.9-2-2-2zM9 17H7v-7h2v7zm4 0h-2V7h2v10zm4 0h-2v-4h2v4z\"/>\n",
              "    </g>\n",
              "</svg>\n",
              "  </button>\n",
              "\n",
              "<style>\n",
              "  .colab-df-quickchart {\n",
              "      --bg-color: #E8F0FE;\n",
              "      --fill-color: #1967D2;\n",
              "      --hover-bg-color: #E2EBFA;\n",
              "      --hover-fill-color: #174EA6;\n",
              "      --disabled-fill-color: #AAA;\n",
              "      --disabled-bg-color: #DDD;\n",
              "  }\n",
              "\n",
              "  [theme=dark] .colab-df-quickchart {\n",
              "      --bg-color: #3B4455;\n",
              "      --fill-color: #D2E3FC;\n",
              "      --hover-bg-color: #434B5C;\n",
              "      --hover-fill-color: #FFFFFF;\n",
              "      --disabled-bg-color: #3B4455;\n",
              "      --disabled-fill-color: #666;\n",
              "  }\n",
              "\n",
              "  .colab-df-quickchart {\n",
              "    background-color: var(--bg-color);\n",
              "    border: none;\n",
              "    border-radius: 50%;\n",
              "    cursor: pointer;\n",
              "    display: none;\n",
              "    fill: var(--fill-color);\n",
              "    height: 32px;\n",
              "    padding: 0;\n",
              "    width: 32px;\n",
              "  }\n",
              "\n",
              "  .colab-df-quickchart:hover {\n",
              "    background-color: var(--hover-bg-color);\n",
              "    box-shadow: 0 1px 2px rgba(60, 64, 67, 0.3), 0 1px 3px 1px rgba(60, 64, 67, 0.15);\n",
              "    fill: var(--button-hover-fill-color);\n",
              "  }\n",
              "\n",
              "  .colab-df-quickchart-complete:disabled,\n",
              "  .colab-df-quickchart-complete:disabled:hover {\n",
              "    background-color: var(--disabled-bg-color);\n",
              "    fill: var(--disabled-fill-color);\n",
              "    box-shadow: none;\n",
              "  }\n",
              "\n",
              "  .colab-df-spinner {\n",
              "    border: 2px solid var(--fill-color);\n",
              "    border-color: transparent;\n",
              "    border-bottom-color: var(--fill-color);\n",
              "    animation:\n",
              "      spin 1s steps(1) infinite;\n",
              "  }\n",
              "\n",
              "  @keyframes spin {\n",
              "    0% {\n",
              "      border-color: transparent;\n",
              "      border-bottom-color: var(--fill-color);\n",
              "      border-left-color: var(--fill-color);\n",
              "    }\n",
              "    20% {\n",
              "      border-color: transparent;\n",
              "      border-left-color: var(--fill-color);\n",
              "      border-top-color: var(--fill-color);\n",
              "    }\n",
              "    30% {\n",
              "      border-color: transparent;\n",
              "      border-left-color: var(--fill-color);\n",
              "      border-top-color: var(--fill-color);\n",
              "      border-right-color: var(--fill-color);\n",
              "    }\n",
              "    40% {\n",
              "      border-color: transparent;\n",
              "      border-right-color: var(--fill-color);\n",
              "      border-top-color: var(--fill-color);\n",
              "    }\n",
              "    60% {\n",
              "      border-color: transparent;\n",
              "      border-right-color: var(--fill-color);\n",
              "    }\n",
              "    80% {\n",
              "      border-color: transparent;\n",
              "      border-right-color: var(--fill-color);\n",
              "      border-bottom-color: var(--fill-color);\n",
              "    }\n",
              "    90% {\n",
              "      border-color: transparent;\n",
              "      border-bottom-color: var(--fill-color);\n",
              "    }\n",
              "  }\n",
              "</style>\n",
              "\n",
              "  <script>\n",
              "    async function quickchart(key) {\n",
              "      const quickchartButtonEl =\n",
              "        document.querySelector('#' + key + ' button');\n",
              "      quickchartButtonEl.disabled = true;  // To prevent multiple clicks.\n",
              "      quickchartButtonEl.classList.add('colab-df-spinner');\n",
              "      try {\n",
              "        const charts = await google.colab.kernel.invokeFunction(\n",
              "            'suggestCharts', [key], {});\n",
              "      } catch (error) {\n",
              "        console.error('Error during call to suggestCharts:', error);\n",
              "      }\n",
              "      quickchartButtonEl.classList.remove('colab-df-spinner');\n",
              "      quickchartButtonEl.classList.add('colab-df-quickchart-complete');\n",
              "    }\n",
              "    (() => {\n",
              "      let quickchartButtonEl =\n",
              "        document.querySelector('#df-5b1ea913-5e0d-4d9f-849b-4a83b0bb8c3c button');\n",
              "      quickchartButtonEl.style.display =\n",
              "        google.colab.kernel.accessAllowed ? 'block' : 'none';\n",
              "    })();\n",
              "  </script>\n",
              "</div>\n",
              "\n",
              "    </div>\n",
              "  </div>\n"
            ],
            "application/vnd.google.colaboratory.intrinsic+json": {
              "type": "dataframe",
              "summary": "{\n  \"name\": \"df_info_datetime\",\n  \"rows\": 7,\n  \"fields\": [\n    {\n      \"column\": \"ALTA_AUTOCONSUMO\",\n      \"properties\": {\n        \"dtype\": \"date\",\n        \"min\": \"1970-01-01 00:00:00.000011786\",\n        \"max\": \"2023-01-04 00:00:00\",\n        \"num_unique_values\": 7,\n        \"samples\": [\n          \"11786\",\n          \"2021-10-27 01:01:05.365688064\",\n          \"2022-07-06 00:00:00\"\n        ],\n        \"semantic_type\": \"\",\n        \"description\": \"\"\n      }\n    },\n    {\n      \"column\": \"BAJA_AUTOCONSUMO\",\n      \"properties\": {\n        \"dtype\": \"date\",\n        \"min\": \"1970-01-01 00:00:00.000011786\",\n        \"max\": \"2200-01-01 00:00:00\",\n        \"num_unique_values\": 4,\n        \"samples\": [\n          \"2199-12-15 11:35:26.522992640\",\n          \"2200-01-01 00:00:00\",\n          \"11786\"\n        ],\n        \"semantic_type\": \"\",\n        \"description\": \"\"\n      }\n    }\n  ]\n}"
            }
          },
          "metadata": {},
          "execution_count": 36
        }
      ],
      "source": [
        "df_info_datetime.describe()"
      ]
    },
    {
      "cell_type": "markdown",
      "id": "ba181094",
      "metadata": {
        "id": "ba181094"
      },
      "source": [
        "- ALTA_AUTOCONSUMO: Se observa una tendencia creciente entre el intervalo de tiempo 2020 - 2022.\n",
        "\n",
        "Representemos los valores de esta variable en una gráfica sin otuliers para poder hacernos una idea mejor de cómo es.\n",
        "\n",
        "Para eliminar los outliers utilizamos el Método del Rango Intercuartílico (IQR), el cuál utiliza los cuartiles para identificar valores atípicos en una distribución."
      ]
    },
    {
      "cell_type": "code",
      "execution_count": 37,
      "id": "4e80da13",
      "metadata": {
        "id": "4e80da13"
      },
      "outputs": [],
      "source": [
        "Q1 = df_info['ALTA_AUTOCONSUMO'].quantile(0.25)\n",
        "Q3 = df_info['ALTA_AUTOCONSUMO'].quantile(0.75)\n",
        "IQR = Q3 - Q1\n",
        "\n",
        "limite_inferior = Q1 - 1.5 * IQR\n",
        "limite_superior = Q3 + 1.5 * IQR"
      ]
    },
    {
      "cell_type": "code",
      "execution_count": 38,
      "id": "fc89c415",
      "metadata": {
        "id": "fc89c415",
        "outputId": "31cd587b-d44e-49e8-d964-b7fb740bed0b",
        "colab": {
          "base_uri": "https://localhost:8080/",
          "height": 287
        }
      },
      "outputs": [
        {
          "output_type": "display_data",
          "data": {
            "text/plain": [
              "<Figure size 1000x300 with 1 Axes>"
            ],
            "image/png": "[encoded data removed]"
          },
          "metadata": {}
        }
      ],
      "source": [
        "df_filtrado = df_info[(df_info['ALTA_AUTOCONSUMO'] >= limite_inferior) & (df_info['ALTA_AUTOCONSUMO'] <= limite_superior)]\n",
        "\n",
        "plt.figure(figsize=(10, 3))\n",
        "plt.hist(df_filtrado['ALTA_AUTOCONSUMO'], bins=8, edgecolor='black')\n",
        "plt.xlabel('Fecha de alta en autoconsumo')\n",
        "plt.ylabel('Frecuencia')\n",
        "plt.show()"
      ]
    },
    {
      "cell_type": "markdown",
      "id": "dec0ff1f",
      "metadata": {
        "id": "dec0ff1f"
      },
      "source": [
        "Notar que hay fechas de alta en autoconsumo más recientes que las fechas que trataremos en la serie temporal. Se comprueba más adelante."
      ]
    },
    {
      "cell_type": "markdown",
      "id": "64801320",
      "metadata": {
        "id": "64801320"
      },
      "source": [
        "- BAJA_AUTOCONSUMO: Notar que casi el 100% de los clientes no han sido dados de baja en autoconsumo."
      ]
    },
    {
      "cell_type": "code",
      "execution_count": 39,
      "id": "f2e181cc",
      "metadata": {
        "id": "f2e181cc",
        "outputId": "7a04bd03-0a3c-40f3-bc0c-14bfd78cb292",
        "colab": {
          "base_uri": "https://localhost:8080/"
        }
      },
      "outputs": [
        {
          "output_type": "execute_result",
          "data": {
            "text/plain": [
              "99.97454607161038"
            ]
          },
          "metadata": {},
          "execution_count": 39
        }
      ],
      "source": [
        "val_mas_frec = (df_info['BAJA_AUTOCONSUMO'] == df_info['BAJA_AUTOCONSUMO'].mode()[0]).sum()\n",
        "\n",
        "(val_mas_frec/total_cli)*100"
      ]
    },
    {
      "cell_type": "markdown",
      "id": "6b923ef2",
      "metadata": {
        "id": "6b923ef2"
      },
      "source": [
        "### 2.2. Archivos cups (consumo)"
      ]
    },
    {
      "cell_type": "code",
      "execution_count": 7,
      "id": "2b91c208",
      "metadata": {
        "id": "2b91c208",
        "outputId": "f57be7f8-ceb0-4899-b0e7-06af5dd56256",
        "colab": {
          "base_uri": "https://localhost:8080/"
        }
      },
      "outputs": [
        {
          "output_type": "execute_result",
          "data": {
            "text/plain": [
              "(17396856, 5)"
            ]
          },
          "metadata": {},
          "execution_count": 7
        }
      ],
      "source": [
        "df_consumo = pd.read_parquet('/content/drive/MyDrive/TFM/cups.parquet').reset_index(drop = True)\n",
        "df_consumo.shape"
      ]
    },
    {
      "cell_type": "code",
      "execution_count": 41,
      "id": "61c40c8e",
      "metadata": {
        "id": "61c40c8e",
        "outputId": "d57036f5-ee6f-448f-924f-5768c2762811",
        "colab": {
          "base_uri": "https://localhost:8080/"
        }
      },
      "outputs": [
        {
          "output_type": "stream",
          "name": "stdout",
          "text": [
            "<class 'pandas.core.frame.DataFrame'>\n",
            "RangeIndex: 17396856 entries, 0 to 17396855\n",
            "Data columns (total 5 columns):\n",
            " #   Column         Dtype         \n",
            "---  ------         -----         \n",
            " 0   PK_CLIENTE     int64         \n",
            " 1   PK_ANYOMESDIA  datetime64[ns]\n",
            " 2   PK_HORA        int64         \n",
            " 3   ENTRADA        float64       \n",
            " 4   SALIDA         float64       \n",
            "dtypes: datetime64[ns](1), float64(2), int64(2)\n",
            "memory usage: 663.6 MB\n"
          ]
        }
      ],
      "source": [
        "df_consumo.info()"
      ]
    },
    {
      "cell_type": "markdown",
      "id": "54ba8f31",
      "metadata": {
        "id": "54ba8f31"
      },
      "source": [
        "Casi el 10% de los registros son nulos. Se establece eliminar estos registros del análisis."
      ]
    },
    {
      "cell_type": "code",
      "execution_count": 42,
      "id": "ffcf4e1a",
      "metadata": {
        "id": "ffcf4e1a",
        "outputId": "6a28636f-c568-4908-ff6e-9c23d4da7c06",
        "colab": {
          "base_uri": "https://localhost:8080/"
        }
      },
      "outputs": [
        {
          "output_type": "execute_result",
          "data": {
            "text/plain": [
              "PK_CLIENTE             0\n",
              "PK_ANYOMESDIA          0\n",
              "PK_HORA                0\n",
              "ENTRADA          1612265\n",
              "SALIDA           1612288\n",
              "dtype: int64"
            ]
          },
          "metadata": {},
          "execution_count": 42
        }
      ],
      "source": [
        "df_consumo.isnull().sum()"
      ]
    },
    {
      "cell_type": "code",
      "execution_count": 43,
      "id": "17c812dc",
      "metadata": {
        "id": "17c812dc",
        "outputId": "a5186e4c-4caf-4340-bb69-4ad45030eb3e",
        "colab": {
          "base_uri": "https://localhost:8080/"
        }
      },
      "outputs": [
        {
          "output_type": "execute_result",
          "data": {
            "text/plain": [
              "(15784568, 5)"
            ]
          },
          "metadata": {},
          "execution_count": 43
        }
      ],
      "source": [
        "df_consumo = df_consumo.dropna().reset_index(drop = True)\n",
        "df_consumo.shape"
      ]
    },
    {
      "cell_type": "code",
      "execution_count": 44,
      "id": "fceaba81",
      "metadata": {
        "id": "fceaba81",
        "outputId": "3766bfa7-5f0b-4b70-edc1-e73528c6ee8d",
        "colab": {
          "base_uri": "https://localhost:8080/",
          "height": 206
        }
      },
      "outputs": [
        {
          "output_type": "execute_result",
          "data": {
            "text/plain": [
              "   PK_CLIENTE PK_ANYOMESDIA  PK_HORA  ENTRADA  SALIDA\n",
              "0           1    2023-01-07        0    0.471     0.0\n",
              "1           1    2023-01-07        1    0.393     0.0\n",
              "2           1    2023-01-07        2    0.331     0.0\n",
              "3           1    2023-01-07        3    0.413     0.0\n",
              "4           1    2023-01-07        4    0.354     0.0"
            ],
            "text/html": [
              "\n",
              "  <div id=\"df-0c1a003c-25db-4c0b-b41b-e418ea855285\" class=\"colab-df-container\">\n",
              "    <div>\n",
              "<style scoped>\n",
              "    .dataframe tbody tr th:only-of-type {\n",
              "        vertical-align: middle;\n",
              "    }\n",
              "\n",
              "    .dataframe tbody tr th {\n",
              "        vertical-align: top;\n",
              "    }\n",
              "\n",
              "    .dataframe thead th {\n",
              "        text-align: right;\n",
              "    }\n",
              "</style>\n",
              "<table border=\"1\" class=\"dataframe\">\n",
              "  <thead>\n",
              "    <tr style=\"text-align: right;\">\n",
              "      <th></th>\n",
              "      <th>PK_CLIENTE</th>\n",
              "      <th>PK_ANYOMESDIA</th>\n",
              "      <th>PK_HORA</th>\n",
              "      <th>ENTRADA</th>\n",
              "      <th>SALIDA</th>\n",
              "    </tr>\n",
              "  </thead>\n",
              "  <tbody>\n",
              "    <tr>\n",
              "      <th>0</th>\n",
              "      <td>1</td>\n",
              "      <td>2023-01-07</td>\n",
              "      <td>0</td>\n",
              "      <td>0.471</td>\n",
              "      <td>0.0</td>\n",
              "    </tr>\n",
              "    <tr>\n",
              "      <th>1</th>\n",
              "      <td>1</td>\n",
              "      <td>2023-01-07</td>\n",
              "      <td>1</td>\n",
              "      <td>0.393</td>\n",
              "      <td>0.0</td>\n",
              "    </tr>\n",
              "    <tr>\n",
              "      <th>2</th>\n",
              "      <td>1</td>\n",
              "      <td>2023-01-07</td>\n",
              "      <td>2</td>\n",
              "      <td>0.331</td>\n",
              "      <td>0.0</td>\n",
              "    </tr>\n",
              "    <tr>\n",
              "      <th>3</th>\n",
              "      <td>1</td>\n",
              "      <td>2023-01-07</td>\n",
              "      <td>3</td>\n",
              "      <td>0.413</td>\n",
              "      <td>0.0</td>\n",
              "    </tr>\n",
              "    <tr>\n",
              "      <th>4</th>\n",
              "      <td>1</td>\n",
              "      <td>2023-01-07</td>\n",
              "      <td>4</td>\n",
              "      <td>0.354</td>\n",
              "      <td>0.0</td>\n",
              "    </tr>\n",
              "  </tbody>\n",
              "</table>\n",
              "</div>\n",
              "    <div class=\"colab-df-buttons\">\n",
              "\n",
              "  <div class=\"colab-df-container\">\n",
              "    <button class=\"colab-df-convert\" onclick=\"convertToInteractive('df-0c1a003c-25db-4c0b-b41b-e418ea855285')\"\n",
              "            title=\"Convert this dataframe to an interactive table.\"\n",
              "            style=\"display:none;\">\n",
              "\n",
              "  <svg xmlns=\"http://www.w3.org/2000/svg\" height=\"24px\" viewBox=\"0 -960 960 960\">\n",
              "    <path d=\"M120-120v-720h720v720H120Zm60-500h600v-160H180v160Zm220 220h160v-160H400v160Zm0 220h160v-160H400v160ZM180-400h160v-160H180v160Zm440 0h160v-160H620v160ZM180-180h160v-160H180v160Zm440 0h160v-160H620v160Z\"/>\n",
              "  </svg>\n",
              "    </button>\n",
              "\n",
              "  <style>\n",
              "    .colab-df-container {\n",
              "      display:flex;\n",
              "      gap: 12px;\n",
              "    }\n",
              "\n",
              "    .colab-df-convert {\n",
              "      background-color: #E8F0FE;\n",
              "      border: none;\n",
              "      border-radius: 50%;\n",
              "      cursor: pointer;\n",
              "      display: none;\n",
              "      fill: #1967D2;\n",
              "      height: 32px;\n",
              "      padding: 0 0 0 0;\n",
              "      width: 32px;\n",
              "    }\n",
              "\n",
              "    .colab-df-convert:hover {\n",
              "      background-color: #E2EBFA;\n",
              "      box-shadow: 0px 1px 2px rgba(60, 64, 67, 0.3), 0px 1px 3px 1px rgba(60, 64, 67, 0.15);\n",
              "      fill: #174EA6;\n",
              "    }\n",
              "\n",
              "    .colab-df-buttons div {\n",
              "      margin-bottom: 4px;\n",
              "    }\n",
              "\n",
              "    [theme=dark] .colab-df-convert {\n",
              "      background-color: #3B4455;\n",
              "      fill: #D2E3FC;\n",
              "    }\n",
              "\n",
              "    [theme=dark] .colab-df-convert:hover {\n",
              "      background-color: #434B5C;\n",
              "      box-shadow: 0px 1px 3px 1px rgba(0, 0, 0, 0.15);\n",
              "      filter: drop-shadow(0px 1px 2px rgba(0, 0, 0, 0.3));\n",
              "      fill: #FFFFFF;\n",
              "    }\n",
              "  </style>\n",
              "\n",
              "    <script>\n",
              "      const buttonEl =\n",
              "        document.querySelector('#df-0c1a003c-25db-4c0b-b41b-e418ea855285 button.colab-df-convert');\n",
              "      buttonEl.style.display =\n",
              "        google.colab.kernel.accessAllowed ? 'block' : 'none';\n",
              "\n",
              "      async function convertToInteractive(key) {\n",
              "        const element = document.querySelector('#df-0c1a003c-25db-4c0b-b41b-e418ea855285');\n",
              "        const dataTable =\n",
              "          await google.colab.kernel.invokeFunction('convertToInteractive',\n",
              "                                                    [key], {});\n",
              "        if (!dataTable) return;\n",
              "\n",
              "        const docLinkHtml = 'Like what you see? Visit the ' +\n",
              "          '<a target=\"_blank\" href=https://colab.research.google.com/notebooks/data_table.ipynb>data table notebook</a>'\n",
              "          + ' to learn more about interactive tables.';\n",
              "        element.innerHTML = '';\n",
              "        dataTable['output_type'] = 'display_data';\n",
              "        await google.colab.output.renderOutput(dataTable, element);\n",
              "        const docLink = document.createElement('div');\n",
              "        docLink.innerHTML = docLinkHtml;\n",
              "        element.appendChild(docLink);\n",
              "      }\n",
              "    </script>\n",
              "  </div>\n",
              "\n",
              "\n",
              "<div id=\"df-67f380f6-9fc1-49e2-ae0e-5b705cabaf03\">\n",
              "  <button class=\"colab-df-quickchart\" onclick=\"quickchart('df-67f380f6-9fc1-49e2-ae0e-5b705cabaf03')\"\n",
              "            title=\"Suggest charts\"\n",
              "            style=\"display:none;\">\n",
              "\n",
              "<svg xmlns=\"http://www.w3.org/2000/svg\" height=\"24px\"viewBox=\"0 0 24 24\"\n",
              "     width=\"24px\">\n",
              "    <g>\n",
              "        <path d=\"M19 3H5c-1.1 0-2 .9-2 2v14c0 1.1.9 2 2 2h14c1.1 0 2-.9 2-2V5c0-1.1-.9-2-2-2zM9 17H7v-7h2v7zm4 0h-2V7h2v10zm4 0h-2v-4h2v4z\"/>\n",
              "    </g>\n",
              "</svg>\n",
              "  </button>\n",
              "\n",
              "<style>\n",
              "  .colab-df-quickchart {\n",
              "      --bg-color: #E8F0FE;\n",
              "      --fill-color: #1967D2;\n",
              "      --hover-bg-color: #E2EBFA;\n",
              "      --hover-fill-color: #174EA6;\n",
              "      --disabled-fill-color: #AAA;\n",
              "      --disabled-bg-color: #DDD;\n",
              "  }\n",
              "\n",
              "  [theme=dark] .colab-df-quickchart {\n",
              "      --bg-color: #3B4455;\n",
              "      --fill-color: #D2E3FC;\n",
              "      --hover-bg-color: #434B5C;\n",
              "      --hover-fill-color: #FFFFFF;\n",
              "      --disabled-bg-color: #3B4455;\n",
              "      --disabled-fill-color: #666;\n",
              "  }\n",
              "\n",
              "  .colab-df-quickchart {\n",
              "    background-color: var(--bg-color);\n",
              "    border: none;\n",
              "    border-radius: 50%;\n",
              "    cursor: pointer;\n",
              "    display: none;\n",
              "    fill: var(--fill-color);\n",
              "    height: 32px;\n",
              "    padding: 0;\n",
              "    width: 32px;\n",
              "  }\n",
              "\n",
              "  .colab-df-quickchart:hover {\n",
              "    background-color: var(--hover-bg-color);\n",
              "    box-shadow: 0 1px 2px rgba(60, 64, 67, 0.3), 0 1px 3px 1px rgba(60, 64, 67, 0.15);\n",
              "    fill: var(--button-hover-fill-color);\n",
              "  }\n",
              "\n",
              "  .colab-df-quickchart-complete:disabled,\n",
              "  .colab-df-quickchart-complete:disabled:hover {\n",
              "    background-color: var(--disabled-bg-color);\n",
              "    fill: var(--disabled-fill-color);\n",
              "    box-shadow: none;\n",
              "  }\n",
              "\n",
              "  .colab-df-spinner {\n",
              "    border: 2px solid var(--fill-color);\n",
              "    border-color: transparent;\n",
              "    border-bottom-color: var(--fill-color);\n",
              "    animation:\n",
              "      spin 1s steps(1) infinite;\n",
              "  }\n",
              "\n",
              "  @keyframes spin {\n",
              "    0% {\n",
              "      border-color: transparent;\n",
              "      border-bottom-color: var(--fill-color);\n",
              "      border-left-color: var(--fill-color);\n",
              "    }\n",
              "    20% {\n",
              "      border-color: transparent;\n",
              "      border-left-color: var(--fill-color);\n",
              "      border-top-color: var(--fill-color);\n",
              "    }\n",
              "    30% {\n",
              "      border-color: transparent;\n",
              "      border-left-color: var(--fill-color);\n",
              "      border-top-color: var(--fill-color);\n",
              "      border-right-color: var(--fill-color);\n",
              "    }\n",
              "    40% {\n",
              "      border-color: transparent;\n",
              "      border-right-color: var(--fill-color);\n",
              "      border-top-color: var(--fill-color);\n",
              "    }\n",
              "    60% {\n",
              "      border-color: transparent;\n",
              "      border-right-color: var(--fill-color);\n",
              "    }\n",
              "    80% {\n",
              "      border-color: transparent;\n",
              "      border-right-color: var(--fill-color);\n",
              "      border-bottom-color: var(--fill-color);\n",
              "    }\n",
              "    90% {\n",
              "      border-color: transparent;\n",
              "      border-bottom-color: var(--fill-color);\n",
              "    }\n",
              "  }\n",
              "</style>\n",
              "\n",
              "  <script>\n",
              "    async function quickchart(key) {\n",
              "      const quickchartButtonEl =\n",
              "        document.querySelector('#' + key + ' button');\n",
              "      quickchartButtonEl.disabled = true;  // To prevent multiple clicks.\n",
              "      quickchartButtonEl.classList.add('colab-df-spinner');\n",
              "      try {\n",
              "        const charts = await google.colab.kernel.invokeFunction(\n",
              "            'suggestCharts', [key], {});\n",
              "      } catch (error) {\n",
              "        console.error('Error during call to suggestCharts:', error);\n",
              "      }\n",
              "      quickchartButtonEl.classList.remove('colab-df-spinner');\n",
              "      quickchartButtonEl.classList.add('colab-df-quickchart-complete');\n",
              "    }\n",
              "    (() => {\n",
              "      let quickchartButtonEl =\n",
              "        document.querySelector('#df-67f380f6-9fc1-49e2-ae0e-5b705cabaf03 button');\n",
              "      quickchartButtonEl.style.display =\n",
              "        google.colab.kernel.accessAllowed ? 'block' : 'none';\n",
              "    })();\n",
              "  </script>\n",
              "</div>\n",
              "\n",
              "    </div>\n",
              "  </div>\n"
            ],
            "application/vnd.google.colaboratory.intrinsic+json": {
              "type": "dataframe",
              "variable_name": "df_consumo"
            }
          },
          "metadata": {},
          "execution_count": 44
        }
      ],
      "source": [
        "df_consumo.head()"
      ]
    },
    {
      "cell_type": "code",
      "execution_count": 45,
      "id": "0d61621c",
      "metadata": {
        "id": "0d61621c",
        "outputId": "34e0711a-fd05-4b40-bcd7-550b3fcbab0a",
        "colab": {
          "base_uri": "https://localhost:8080/"
        }
      },
      "outputs": [
        {
          "output_type": "execute_result",
          "data": {
            "text/plain": [
              "11603"
            ]
          },
          "metadata": {},
          "execution_count": 45
        }
      ],
      "source": [
        "total_cli = len(df_consumo.PK_CLIENTE.unique())\n",
        "total_cli"
      ]
    },
    {
      "cell_type": "markdown",
      "id": "4843788f",
      "metadata": {
        "id": "4843788f"
      },
      "source": [
        "Notar que este conjunto de datos es el que representa a la serie temporal 'pura', y el resto de conjuntos de datos se podrán añadir al modelo como variables exógenas."
      ]
    },
    {
      "cell_type": "markdown",
      "id": "6665269d",
      "metadata": {
        "id": "6665269d"
      },
      "source": [
        "Además, ya podemos comprobar cuantos clientes tienen una fecha de alta en autoconsumo más reciente al inicio de la serie temporal:"
      ]
    },
    {
      "cell_type": "code",
      "execution_count": 46,
      "id": "37188e77",
      "metadata": {
        "id": "37188e77",
        "outputId": "b35c60d6-f9c0-4731-b545-bc0cb8f1fa87",
        "colab": {
          "base_uri": "https://localhost:8080/"
        }
      },
      "outputs": [
        {
          "output_type": "execute_result",
          "data": {
            "text/plain": [
              "(474, 16)"
            ]
          },
          "metadata": {},
          "execution_count": 46
        }
      ],
      "source": [
        "df_info[df_info['ALTA_AUTOCONSUMO'] > df_consumo['PK_ANYOMESDIA'].min()].shape"
      ]
    },
    {
      "cell_type": "markdown",
      "id": "a8e0d0d7",
      "metadata": {
        "id": "a8e0d0d7"
      },
      "source": [
        "### 2.3. Archivos tiempo"
      ]
    },
    {
      "cell_type": "code",
      "execution_count": 11,
      "id": "1e5b5a75",
      "metadata": {
        "id": "1e5b5a75",
        "outputId": "8b85b59f-54dc-4779-b067-886edff8bb09",
        "colab": {
          "base_uri": "https://localhost:8080/"
        }
      },
      "outputs": [
        {
          "output_type": "execute_result",
          "data": {
            "text/plain": [
              "(17084345, 16)"
            ]
          },
          "metadata": {},
          "execution_count": 11
        }
      ],
      "source": [
        "df_tiempo = pd.read_parquet('/content/drive/MyDrive/TFM/tiempo.parquet').reset_index(drop = True)\n",
        "df_tiempo.shape"
      ]
    },
    {
      "cell_type": "markdown",
      "id": "e6107973",
      "metadata": {
        "id": "e6107973"
      },
      "source": [
        "Guardamos los datos a nivel municipio, en vez de a nivel cliente:"
      ]
    },
    {
      "cell_type": "code",
      "execution_count": 12,
      "id": "cc171ce8",
      "metadata": {
        "id": "cc171ce8",
        "outputId": "18412f92-860a-4593-d148-af38eaf633d2",
        "colab": {
          "base_uri": "https://localhost:8080/"
        }
      },
      "outputs": [
        {
          "output_type": "execute_result",
          "data": {
            "text/plain": [
              "(3266814, 15)"
            ]
          },
          "metadata": {},
          "execution_count": 12
        }
      ],
      "source": [
        "df_tiempo = df_tiempo.drop(columns = 'PK_CLIENTE').drop_duplicates().sort_values(by = ['MUNICIPIO', 'PK_ANYOMESDIA', 'PK_HORA'], ascending = [True, True, True]).reset_index(drop = True)\n",
        "df_tiempo.shape"
      ]
    },
    {
      "cell_type": "code",
      "execution_count": 49,
      "id": "47c2cba6",
      "metadata": {
        "id": "47c2cba6",
        "outputId": "288638a9-0a00-4844-f305-5442cd42b6b8",
        "colab": {
          "base_uri": "https://localhost:8080/"
        }
      },
      "outputs": [
        {
          "output_type": "stream",
          "name": "stdout",
          "text": [
            "<class 'pandas.core.frame.DataFrame'>\n",
            "RangeIndex: 3266814 entries, 0 to 3266813\n",
            "Data columns (total 15 columns):\n",
            " #   Column                Dtype         \n",
            "---  ------                -----         \n",
            " 0   PK_ANYOMESDIA         datetime64[ns]\n",
            " 1   PK_HORA               float64       \n",
            " 2   MUNICIPIO             object        \n",
            " 3   ORTO                  object        \n",
            " 4   OCASO                 object        \n",
            " 5   NIEVE                 object        \n",
            " 6   ESTADO_CIELO          object        \n",
            " 7   DESCRIPCION           object        \n",
            " 8   SENS_TERMICA          float64       \n",
            " 9   TEMPERATURA           float64       \n",
            " 10  PRECIPITACION         object        \n",
            " 11  HUMEDAD_RELATIVA      object        \n",
            " 12  VIENTO_DIRECCION      object        \n",
            " 13  VIENTO_VELOCIDAD      object        \n",
            " 14  VIENTO_AND_RACHA_MAX  object        \n",
            "dtypes: datetime64[ns](1), float64(3), object(11)\n",
            "memory usage: 373.9+ MB\n"
          ]
        }
      ],
      "source": [
        "df_tiempo.info()"
      ]
    },
    {
      "cell_type": "code",
      "execution_count": 13,
      "id": "546dd7eb",
      "metadata": {
        "id": "546dd7eb"
      },
      "outputs": [],
      "source": [
        "df_tiempo['PK_HORA'] = df_tiempo['PK_HORA'].astype('int64')"
      ]
    },
    {
      "cell_type": "code",
      "execution_count": 14,
      "id": "589ee4d8",
      "metadata": {
        "id": "589ee4d8"
      },
      "outputs": [],
      "source": [
        "df_tiempo['MUNICIPIO'] = df_tiempo['MUNICIPIO'].astype('int64')\n",
        "df_tiempo['MUNICIPIO'] = df_tiempo['MUNICIPIO'].astype('category')"
      ]
    },
    {
      "cell_type": "code",
      "execution_count": 52,
      "id": "0c3c88d4",
      "metadata": {
        "id": "0c3c88d4",
        "outputId": "3cb42a3e-cae9-49bb-b1d6-a0ab47754540",
        "colab": {
          "base_uri": "https://localhost:8080/"
        }
      },
      "outputs": [
        {
          "output_type": "execute_result",
          "data": {
            "text/plain": [
              "PK_ANYOMESDIA           0\n",
              "PK_HORA                 0\n",
              "MUNICIPIO               0\n",
              "ORTO                    0\n",
              "OCASO                   0\n",
              "NIEVE                   0\n",
              "ESTADO_CIELO            0\n",
              "DESCRIPCION             0\n",
              "SENS_TERMICA            0\n",
              "TEMPERATURA             0\n",
              "PRECIPITACION           0\n",
              "HUMEDAD_RELATIVA        0\n",
              "VIENTO_DIRECCION        0\n",
              "VIENTO_VELOCIDAD        0\n",
              "VIENTO_AND_RACHA_MAX    0\n",
              "dtype: int64"
            ]
          },
          "metadata": {},
          "execution_count": 52
        }
      ],
      "source": [
        "df_tiempo.isnull().sum()"
      ]
    },
    {
      "cell_type": "code",
      "execution_count": 53,
      "id": "1702ad5c",
      "metadata": {
        "id": "1702ad5c",
        "outputId": "e864a6e5-bb45-4522-9f27-6abd8131b4bf",
        "colab": {
          "base_uri": "https://localhost:8080/",
          "height": 461
        }
      },
      "outputs": [
        {
          "output_type": "execute_result",
          "data": {
            "text/plain": [
              "        PK_ANYOMESDIA  PK_HORA MUNICIPIO   ORTO  OCASO NIEVE ESTADO_CIELO  \\\n",
              "0          2022-11-09        0      1001  07:53  17:53     0          46n   \n",
              "1          2022-11-09        1      1001  07:53  17:53     0          17n   \n",
              "2          2022-11-09        2      1001  07:53  17:53     0          16n   \n",
              "3          2022-11-09        3      1001  07:53  17:53     0          16n   \n",
              "4          2022-11-09        4      1001  07:53  17:53     0          16n   \n",
              "...               ...      ...       ...    ...    ...   ...          ...   \n",
              "3266809    2023-01-10        8     50297  08:29  17:52     0          12n   \n",
              "3266810    2023-01-10        9     50297  08:29  17:52     0           12   \n",
              "3266811    2023-01-10       10     50297  08:29  17:52     0           11   \n",
              "3266812    2023-01-10       11     50297  08:29  17:52     0           11   \n",
              "3266813    2023-01-10       12     50297  08:29  17:52     0           11   \n",
              "\n",
              "                        DESCRIPCION  SENS_TERMICA  TEMPERATURA PRECIPITACION  \\\n",
              "0        Cubierto con lluvia escasa          13.0         13.0           0.1   \n",
              "1                       Nubes altas          13.0         13.0             0   \n",
              "2                          Cubierto          13.0         13.0             0   \n",
              "3                          Cubierto          13.0         13.0             0   \n",
              "4                          Cubierto          13.0         13.0             0   \n",
              "...                             ...           ...          ...           ...   \n",
              "3266809                 Poco nuboso           4.0          4.0             0   \n",
              "3266810                 Poco nuboso           2.0          5.0             0   \n",
              "3266811                   Despejado           6.0          6.0             0   \n",
              "3266812                   Despejado           7.0          7.0             0   \n",
              "3266813                   Despejado           6.0          8.0             0   \n",
              "\n",
              "        HUMEDAD_RELATIVA VIENTO_DIRECCION VIENTO_VELOCIDAD  \\\n",
              "0                     75               SO               21   \n",
              "1                     79               SO               20   \n",
              "2                     80               SO               19   \n",
              "3                     80               SO               16   \n",
              "4                     76               SO               23   \n",
              "...                  ...              ...              ...   \n",
              "3266809               79                N                6   \n",
              "3266810               81               NO               11   \n",
              "3266811               86                N                6   \n",
              "3266812               78                O                3   \n",
              "3266813               73                O               10   \n",
              "\n",
              "        VIENTO_AND_RACHA_MAX  \n",
              "0                         31  \n",
              "1                         27  \n",
              "2                         23  \n",
              "3                         33  \n",
              "4                         25  \n",
              "...                      ...  \n",
              "3266809                   16  \n",
              "3266810                   12  \n",
              "3266811                    6  \n",
              "3266812                   17  \n",
              "3266813                   17  \n",
              "\n",
              "[3266814 rows x 15 columns]"
            ],
            "text/html": [
              "\n",
              "  <div id=\"df-89632e43-2b11-48c1-8c29-09b77f9d107a\" class=\"colab-df-container\">\n",
              "    <div>\n",
              "<style scoped>\n",
              "    .dataframe tbody tr th:only-of-type {\n",
              "        vertical-align: middle;\n",
              "    }\n",
              "\n",
              "    .dataframe tbody tr th {\n",
              "        vertical-align: top;\n",
              "    }\n",
              "\n",
              "    .dataframe thead th {\n",
              "        text-align: right;\n",
              "    }\n",
              "</style>\n",
              "<table border=\"1\" class=\"dataframe\">\n",
              "  <thead>\n",
              "    <tr style=\"text-align: right;\">\n",
              "      <th></th>\n",
              "      <th>PK_ANYOMESDIA</th>\n",
              "      <th>PK_HORA</th>\n",
              "      <th>MUNICIPIO</th>\n",
              "      <th>ORTO</th>\n",
              "      <th>OCASO</th>\n",
              "      <th>NIEVE</th>\n",
              "      <th>ESTADO_CIELO</th>\n",
              "      <th>DESCRIPCION</th>\n",
              "      <th>SENS_TERMICA</th>\n",
              "      <th>TEMPERATURA</th>\n",
              "      <th>PRECIPITACION</th>\n",
              "      <th>HUMEDAD_RELATIVA</th>\n",
              "      <th>VIENTO_DIRECCION</th>\n",
              "      <th>VIENTO_VELOCIDAD</th>\n",
              "      <th>VIENTO_AND_RACHA_MAX</th>\n",
              "    </tr>\n",
              "  </thead>\n",
              "  <tbody>\n",
              "    <tr>\n",
              "      <th>0</th>\n",
              "      <td>2022-11-09</td>\n",
              "      <td>0</td>\n",
              "      <td>1001</td>\n",
              "      <td>07:53</td>\n",
              "      <td>17:53</td>\n",
              "      <td>0</td>\n",
              "      <td>46n</td>\n",
              "      <td>Cubierto con lluvia escasa</td>\n",
              "      <td>13.0</td>\n",
              "      <td>13.0</td>\n",
              "      <td>0.1</td>\n",
              "      <td>75</td>\n",
              "      <td>SO</td>\n",
              "      <td>21</td>\n",
              "      <td>31</td>\n",
              "    </tr>\n",
              "    <tr>\n",
              "      <th>1</th>\n",
              "      <td>2022-11-09</td>\n",
              "      <td>1</td>\n",
              "      <td>1001</td>\n",
              "      <td>07:53</td>\n",
              "      <td>17:53</td>\n",
              "      <td>0</td>\n",
              "      <td>17n</td>\n",
              "      <td>Nubes altas</td>\n",
              "      <td>13.0</td>\n",
              "      <td>13.0</td>\n",
              "      <td>0</td>\n",
              "      <td>79</td>\n",
              "      <td>SO</td>\n",
              "      <td>20</td>\n",
              "      <td>27</td>\n",
              "    </tr>\n",
              "    <tr>\n",
              "      <th>2</th>\n",
              "      <td>2022-11-09</td>\n",
              "      <td>2</td>\n",
              "      <td>1001</td>\n",
              "      <td>07:53</td>\n",
              "      <td>17:53</td>\n",
              "      <td>0</td>\n",
              "      <td>16n</td>\n",
              "      <td>Cubierto</td>\n",
              "      <td>13.0</td>\n",
              "      <td>13.0</td>\n",
              "      <td>0</td>\n",
              "      <td>80</td>\n",
              "      <td>SO</td>\n",
              "      <td>19</td>\n",
              "      <td>23</td>\n",
              "    </tr>\n",
              "    <tr>\n",
              "      <th>3</th>\n",
              "      <td>2022-11-09</td>\n",
              "      <td>3</td>\n",
              "      <td>1001</td>\n",
              "      <td>07:53</td>\n",
              "      <td>17:53</td>\n",
              "      <td>0</td>\n",
              "      <td>16n</td>\n",
              "      <td>Cubierto</td>\n",
              "      <td>13.0</td>\n",
              "      <td>13.0</td>\n",
              "      <td>0</td>\n",
              "      <td>80</td>\n",
              "      <td>SO</td>\n",
              "      <td>16</td>\n",
              "      <td>33</td>\n",
              "    </tr>\n",
              "    <tr>\n",
              "      <th>4</th>\n",
              "      <td>2022-11-09</td>\n",
              "      <td>4</td>\n",
              "      <td>1001</td>\n",
              "      <td>07:53</td>\n",
              "      <td>17:53</td>\n",
              "      <td>0</td>\n",
              "      <td>16n</td>\n",
              "      <td>Cubierto</td>\n",
              "      <td>13.0</td>\n",
              "      <td>13.0</td>\n",
              "      <td>0</td>\n",
              "      <td>76</td>\n",
              "      <td>SO</td>\n",
              "      <td>23</td>\n",
              "      <td>25</td>\n",
              "    </tr>\n",
              "    <tr>\n",
              "      <th>...</th>\n",
              "      <td>...</td>\n",
              "      <td>...</td>\n",
              "      <td>...</td>\n",
              "      <td>...</td>\n",
              "      <td>...</td>\n",
              "      <td>...</td>\n",
              "      <td>...</td>\n",
              "      <td>...</td>\n",
              "      <td>...</td>\n",
              "      <td>...</td>\n",
              "      <td>...</td>\n",
              "      <td>...</td>\n",
              "      <td>...</td>\n",
              "      <td>...</td>\n",
              "      <td>...</td>\n",
              "    </tr>\n",
              "    <tr>\n",
              "      <th>3266809</th>\n",
              "      <td>2023-01-10</td>\n",
              "      <td>8</td>\n",
              "      <td>50297</td>\n",
              "      <td>08:29</td>\n",
              "      <td>17:52</td>\n",
              "      <td>0</td>\n",
              "      <td>12n</td>\n",
              "      <td>Poco nuboso</td>\n",
              "      <td>4.0</td>\n",
              "      <td>4.0</td>\n",
              "      <td>0</td>\n",
              "      <td>79</td>\n",
              "      <td>N</td>\n",
              "      <td>6</td>\n",
              "      <td>16</td>\n",
              "    </tr>\n",
              "    <tr>\n",
              "      <th>3266810</th>\n",
              "      <td>2023-01-10</td>\n",
              "      <td>9</td>\n",
              "      <td>50297</td>\n",
              "      <td>08:29</td>\n",
              "      <td>17:52</td>\n",
              "      <td>0</td>\n",
              "      <td>12</td>\n",
              "      <td>Poco nuboso</td>\n",
              "      <td>2.0</td>\n",
              "      <td>5.0</td>\n",
              "      <td>0</td>\n",
              "      <td>81</td>\n",
              "      <td>NO</td>\n",
              "      <td>11</td>\n",
              "      <td>12</td>\n",
              "    </tr>\n",
              "    <tr>\n",
              "      <th>3266811</th>\n",
              "      <td>2023-01-10</td>\n",
              "      <td>10</td>\n",
              "      <td>50297</td>\n",
              "      <td>08:29</td>\n",
              "      <td>17:52</td>\n",
              "      <td>0</td>\n",
              "      <td>11</td>\n",
              "      <td>Despejado</td>\n",
              "      <td>6.0</td>\n",
              "      <td>6.0</td>\n",
              "      <td>0</td>\n",
              "      <td>86</td>\n",
              "      <td>N</td>\n",
              "      <td>6</td>\n",
              "      <td>6</td>\n",
              "    </tr>\n",
              "    <tr>\n",
              "      <th>3266812</th>\n",
              "      <td>2023-01-10</td>\n",
              "      <td>11</td>\n",
              "      <td>50297</td>\n",
              "      <td>08:29</td>\n",
              "      <td>17:52</td>\n",
              "      <td>0</td>\n",
              "      <td>11</td>\n",
              "      <td>Despejado</td>\n",
              "      <td>7.0</td>\n",
              "      <td>7.0</td>\n",
              "      <td>0</td>\n",
              "      <td>78</td>\n",
              "      <td>O</td>\n",
              "      <td>3</td>\n",
              "      <td>17</td>\n",
              "    </tr>\n",
              "    <tr>\n",
              "      <th>3266813</th>\n",
              "      <td>2023-01-10</td>\n",
              "      <td>12</td>\n",
              "      <td>50297</td>\n",
              "      <td>08:29</td>\n",
              "      <td>17:52</td>\n",
              "      <td>0</td>\n",
              "      <td>11</td>\n",
              "      <td>Despejado</td>\n",
              "      <td>6.0</td>\n",
              "      <td>8.0</td>\n",
              "      <td>0</td>\n",
              "      <td>73</td>\n",
              "      <td>O</td>\n",
              "      <td>10</td>\n",
              "      <td>17</td>\n",
              "    </tr>\n",
              "  </tbody>\n",
              "</table>\n",
              "<p>3266814 rows × 15 columns</p>\n",
              "</div>\n",
              "    <div class=\"colab-df-buttons\">\n",
              "\n",
              "  <div class=\"colab-df-container\">\n",
              "    <button class=\"colab-df-convert\" onclick=\"convertToInteractive('df-89632e43-2b11-48c1-8c29-09b77f9d107a')\"\n",
              "            title=\"Convert this dataframe to an interactive table.\"\n",
              "            style=\"display:none;\">\n",
              "\n",
              "  <svg xmlns=\"http://www.w3.org/2000/svg\" height=\"24px\" viewBox=\"0 -960 960 960\">\n",
              "    <path d=\"M120-120v-720h720v720H120Zm60-500h600v-160H180v160Zm220 220h160v-160H400v160Zm0 220h160v-160H400v160ZM180-400h160v-160H180v160Zm440 0h160v-160H620v160ZM180-180h160v-160H180v160Zm440 0h160v-160H620v160Z\"/>\n",
              "  </svg>\n",
              "    </button>\n",
              "\n",
              "  <style>\n",
              "    .colab-df-container {\n",
              "      display:flex;\n",
              "      gap: 12px;\n",
              "    }\n",
              "\n",
              "    .colab-df-convert {\n",
              "      background-color: #E8F0FE;\n",
              "      border: none;\n",
              "      border-radius: 50%;\n",
              "      cursor: pointer;\n",
              "      display: none;\n",
              "      fill: #1967D2;\n",
              "      height: 32px;\n",
              "      padding: 0 0 0 0;\n",
              "      width: 32px;\n",
              "    }\n",
              "\n",
              "    .colab-df-convert:hover {\n",
              "      background-color: #E2EBFA;\n",
              "      box-shadow: 0px 1px 2px rgba(60, 64, 67, 0.3), 0px 1px 3px 1px rgba(60, 64, 67, 0.15);\n",
              "      fill: #174EA6;\n",
              "    }\n",
              "\n",
              "    .colab-df-buttons div {\n",
              "      margin-bottom: 4px;\n",
              "    }\n",
              "\n",
              "    [theme=dark] .colab-df-convert {\n",
              "      background-color: #3B4455;\n",
              "      fill: #D2E3FC;\n",
              "    }\n",
              "\n",
              "    [theme=dark] .colab-df-convert:hover {\n",
              "      background-color: #434B5C;\n",
              "      box-shadow: 0px 1px 3px 1px rgba(0, 0, 0, 0.15);\n",
              "      filter: drop-shadow(0px 1px 2px rgba(0, 0, 0, 0.3));\n",
              "      fill: #FFFFFF;\n",
              "    }\n",
              "  </style>\n",
              "\n",
              "    <script>\n",
              "      const buttonEl =\n",
              "        document.querySelector('#df-89632e43-2b11-48c1-8c29-09b77f9d107a button.colab-df-convert');\n",
              "      buttonEl.style.display =\n",
              "        google.colab.kernel.accessAllowed ? 'block' : 'none';\n",
              "\n",
              "      async function convertToInteractive(key) {\n",
              "        const element = document.querySelector('#df-89632e43-2b11-48c1-8c29-09b77f9d107a');\n",
              "        const dataTable =\n",
              "          await google.colab.kernel.invokeFunction('convertToInteractive',\n",
              "                                                    [key], {});\n",
              "        if (!dataTable) return;\n",
              "\n",
              "        const docLinkHtml = 'Like what you see? Visit the ' +\n",
              "          '<a target=\"_blank\" href=https://colab.research.google.com/notebooks/data_table.ipynb>data table notebook</a>'\n",
              "          + ' to learn more about interactive tables.';\n",
              "        element.innerHTML = '';\n",
              "        dataTable['output_type'] = 'display_data';\n",
              "        await google.colab.output.renderOutput(dataTable, element);\n",
              "        const docLink = document.createElement('div');\n",
              "        docLink.innerHTML = docLinkHtml;\n",
              "        element.appendChild(docLink);\n",
              "      }\n",
              "    </script>\n",
              "  </div>\n",
              "\n",
              "\n",
              "<div id=\"df-5f54d625-f30f-40d2-bc77-dc8cafb3c5cb\">\n",
              "  <button class=\"colab-df-quickchart\" onclick=\"quickchart('df-5f54d625-f30f-40d2-bc77-dc8cafb3c5cb')\"\n",
              "            title=\"Suggest charts\"\n",
              "            style=\"display:none;\">\n",
              "\n",
              "<svg xmlns=\"http://www.w3.org/2000/svg\" height=\"24px\"viewBox=\"0 0 24 24\"\n",
              "     width=\"24px\">\n",
              "    <g>\n",
              "        <path d=\"M19 3H5c-1.1 0-2 .9-2 2v14c0 1.1.9 2 2 2h14c1.1 0 2-.9 2-2V5c0-1.1-.9-2-2-2zM9 17H7v-7h2v7zm4 0h-2V7h2v10zm4 0h-2v-4h2v4z\"/>\n",
              "    </g>\n",
              "</svg>\n",
              "  </button>\n",
              "\n",
              "<style>\n",
              "  .colab-df-quickchart {\n",
              "      --bg-color: #E8F0FE;\n",
              "      --fill-color: #1967D2;\n",
              "      --hover-bg-color: #E2EBFA;\n",
              "      --hover-fill-color: #174EA6;\n",
              "      --disabled-fill-color: #AAA;\n",
              "      --disabled-bg-color: #DDD;\n",
              "  }\n",
              "\n",
              "  [theme=dark] .colab-df-quickchart {\n",
              "      --bg-color: #3B4455;\n",
              "      --fill-color: #D2E3FC;\n",
              "      --hover-bg-color: #434B5C;\n",
              "      --hover-fill-color: #FFFFFF;\n",
              "      --disabled-bg-color: #3B4455;\n",
              "      --disabled-fill-color: #666;\n",
              "  }\n",
              "\n",
              "  .colab-df-quickchart {\n",
              "    background-color: var(--bg-color);\n",
              "    border: none;\n",
              "    border-radius: 50%;\n",
              "    cursor: pointer;\n",
              "    display: none;\n",
              "    fill: var(--fill-color);\n",
              "    height: 32px;\n",
              "    padding: 0;\n",
              "    width: 32px;\n",
              "  }\n",
              "\n",
              "  .colab-df-quickchart:hover {\n",
              "    background-color: var(--hover-bg-color);\n",
              "    box-shadow: 0 1px 2px rgba(60, 64, 67, 0.3), 0 1px 3px 1px rgba(60, 64, 67, 0.15);\n",
              "    fill: var(--button-hover-fill-color);\n",
              "  }\n",
              "\n",
              "  .colab-df-quickchart-complete:disabled,\n",
              "  .colab-df-quickchart-complete:disabled:hover {\n",
              "    background-color: var(--disabled-bg-color);\n",
              "    fill: var(--disabled-fill-color);\n",
              "    box-shadow: none;\n",
              "  }\n",
              "\n",
              "  .colab-df-spinner {\n",
              "    border: 2px solid var(--fill-color);\n",
              "    border-color: transparent;\n",
              "    border-bottom-color: var(--fill-color);\n",
              "    animation:\n",
              "      spin 1s steps(1) infinite;\n",
              "  }\n",
              "\n",
              "  @keyframes spin {\n",
              "    0% {\n",
              "      border-color: transparent;\n",
              "      border-bottom-color: var(--fill-color);\n",
              "      border-left-color: var(--fill-color);\n",
              "    }\n",
              "    20% {\n",
              "      border-color: transparent;\n",
              "      border-left-color: var(--fill-color);\n",
              "      border-top-color: var(--fill-color);\n",
              "    }\n",
              "    30% {\n",
              "      border-color: transparent;\n",
              "      border-left-color: var(--fill-color);\n",
              "      border-top-color: var(--fill-color);\n",
              "      border-right-color: var(--fill-color);\n",
              "    }\n",
              "    40% {\n",
              "      border-color: transparent;\n",
              "      border-right-color: var(--fill-color);\n",
              "      border-top-color: var(--fill-color);\n",
              "    }\n",
              "    60% {\n",
              "      border-color: transparent;\n",
              "      border-right-color: var(--fill-color);\n",
              "    }\n",
              "    80% {\n",
              "      border-color: transparent;\n",
              "      border-right-color: var(--fill-color);\n",
              "      border-bottom-color: var(--fill-color);\n",
              "    }\n",
              "    90% {\n",
              "      border-color: transparent;\n",
              "      border-bottom-color: var(--fill-color);\n",
              "    }\n",
              "  }\n",
              "</style>\n",
              "\n",
              "  <script>\n",
              "    async function quickchart(key) {\n",
              "      const quickchartButtonEl =\n",
              "        document.querySelector('#' + key + ' button');\n",
              "      quickchartButtonEl.disabled = true;  // To prevent multiple clicks.\n",
              "      quickchartButtonEl.classList.add('colab-df-spinner');\n",
              "      try {\n",
              "        const charts = await google.colab.kernel.invokeFunction(\n",
              "            'suggestCharts', [key], {});\n",
              "      } catch (error) {\n",
              "        console.error('Error during call to suggestCharts:', error);\n",
              "      }\n",
              "      quickchartButtonEl.classList.remove('colab-df-spinner');\n",
              "      quickchartButtonEl.classList.add('colab-df-quickchart-complete');\n",
              "    }\n",
              "    (() => {\n",
              "      let quickchartButtonEl =\n",
              "        document.querySelector('#df-5f54d625-f30f-40d2-bc77-dc8cafb3c5cb button');\n",
              "      quickchartButtonEl.style.display =\n",
              "        google.colab.kernel.accessAllowed ? 'block' : 'none';\n",
              "    })();\n",
              "  </script>\n",
              "</div>\n",
              "\n",
              "  <div id=\"id_5f8572a9-2966-4a5c-bc97-9616792a2122\">\n",
              "    <style>\n",
              "      .colab-df-generate {\n",
              "        background-color: #E8F0FE;\n",
              "        border: none;\n",
              "        border-radius: 50%;\n",
              "        cursor: pointer;\n",
              "        display: none;\n",
              "        fill: #1967D2;\n",
              "        height: 32px;\n",
              "        padding: 0 0 0 0;\n",
              "        width: 32px;\n",
              "      }\n",
              "\n",
              "      .colab-df-generate:hover {\n",
              "        background-color: #E2EBFA;\n",
              "        box-shadow: 0px 1px 2px rgba(60, 64, 67, 0.3), 0px 1px 3px 1px rgba(60, 64, 67, 0.15);\n",
              "        fill: #174EA6;\n",
              "      }\n",
              "\n",
              "      [theme=dark] .colab-df-generate {\n",
              "        background-color: #3B4455;\n",
              "        fill: #D2E3FC;\n",
              "      }\n",
              "\n",
              "      [theme=dark] .colab-df-generate:hover {\n",
              "        background-color: #434B5C;\n",
              "        box-shadow: 0px 1px 3px 1px rgba(0, 0, 0, 0.15);\n",
              "        filter: drop-shadow(0px 1px 2px rgba(0, 0, 0, 0.3));\n",
              "        fill: #FFFFFF;\n",
              "      }\n",
              "    </style>\n",
              "    <button class=\"colab-df-generate\" onclick=\"generateWithVariable('df_tiempo')\"\n",
              "            title=\"Generate code using this dataframe.\"\n",
              "            style=\"display:none;\">\n",
              "\n",
              "  <svg xmlns=\"http://www.w3.org/2000/svg\" height=\"24px\"viewBox=\"0 0 24 24\"\n",
              "       width=\"24px\">\n",
              "    <path d=\"M7,19H8.4L18.45,9,17,7.55,7,17.6ZM5,21V16.75L18.45,3.32a2,2,0,0,1,2.83,0l1.4,1.43a1.91,1.91,0,0,1,.58,1.4,1.91,1.91,0,0,1-.58,1.4L9.25,21ZM18.45,9,17,7.55Zm-12,3A5.31,5.31,0,0,0,4.9,8.1,5.31,5.31,0,0,0,1,6.5,5.31,5.31,0,0,0,4.9,4.9,5.31,5.31,0,0,0,6.5,1,5.31,5.31,0,0,0,8.1,4.9,5.31,5.31,0,0,0,12,6.5,5.46,5.46,0,0,0,6.5,12Z\"/>\n",
              "  </svg>\n",
              "    </button>\n",
              "    <script>\n",
              "      (() => {\n",
              "      const buttonEl =\n",
              "        document.querySelector('#id_5f8572a9-2966-4a5c-bc97-9616792a2122 button.colab-df-generate');\n",
              "      buttonEl.style.display =\n",
              "        google.colab.kernel.accessAllowed ? 'block' : 'none';\n",
              "\n",
              "      buttonEl.onclick = () => {\n",
              "        google.colab.notebook.generateWithVariable('df_tiempo');\n",
              "      }\n",
              "      })();\n",
              "    </script>\n",
              "  </div>\n",
              "\n",
              "    </div>\n",
              "  </div>\n"
            ],
            "application/vnd.google.colaboratory.intrinsic+json": {
              "type": "dataframe",
              "variable_name": "df_tiempo"
            }
          },
          "metadata": {},
          "execution_count": 53
        }
      ],
      "source": [
        "df_tiempo"
      ]
    },
    {
      "cell_type": "markdown",
      "id": "a74f2b2d",
      "metadata": {
        "id": "a74f2b2d"
      },
      "source": [
        "Observamos que tenemos un histórico de dos meses para nuestra serie temporal."
      ]
    },
    {
      "cell_type": "code",
      "execution_count": 54,
      "id": "5b8eaf43",
      "metadata": {
        "id": "5b8eaf43",
        "outputId": "d4a6832e-99e2-4977-ede6-091cfd22bb65",
        "colab": {
          "base_uri": "https://localhost:8080/"
        }
      },
      "outputs": [
        {
          "output_type": "execute_result",
          "data": {
            "text/plain": [
              "2162"
            ]
          },
          "metadata": {},
          "execution_count": 54
        }
      ],
      "source": [
        "total_muni = len(df_tiempo.MUNICIPIO.unique())\n",
        "total_muni"
      ]
    },
    {
      "cell_type": "markdown",
      "id": "550861a6",
      "metadata": {
        "id": "550861a6"
      },
      "source": [
        "Formateamos las variables y las categorizamos en numéricas, categóricas o fechas."
      ]
    },
    {
      "cell_type": "markdown",
      "id": "c1f7f91f",
      "metadata": {
        "id": "c1f7f91f"
      },
      "source": [
        "#### Variables categóricas"
      ]
    },
    {
      "cell_type": "code",
      "execution_count": 15,
      "id": "7dbf556e",
      "metadata": {
        "id": "7dbf556e"
      },
      "outputs": [],
      "source": [
        "df_tiempo['ESTADO_CIELO'] = df_tiempo['ESTADO_CIELO'].astype('category')\n",
        "df_tiempo['DESCRIPCION'] = df_tiempo['DESCRIPCION'].astype('category')\n",
        "df_tiempo['VIENTO_DIRECCION'] = df_tiempo['VIENTO_DIRECCION'].astype('category')"
      ]
    },
    {
      "cell_type": "code",
      "execution_count": 56,
      "id": "297e45bb",
      "metadata": {
        "id": "297e45bb"
      },
      "outputs": [],
      "source": [
        "df_tiempo_categoricas = df_tiempo[df_tiempo.select_dtypes(include=['category']).columns]"
      ]
    },
    {
      "cell_type": "code",
      "execution_count": 57,
      "id": "fc21973d",
      "metadata": {
        "id": "fc21973d",
        "outputId": "6603fa4f-7a1a-470b-d98b-682025b6c913",
        "colab": {
          "base_uri": "https://localhost:8080/",
          "height": 174
        }
      },
      "outputs": [
        {
          "output_type": "execute_result",
          "data": {
            "text/plain": [
              "        MUNICIPIO ESTADO_CIELO DESCRIPCION VIENTO_DIRECCION\n",
              "count     3266814      3266814     3266814          3266814\n",
              "unique       2162           64          32                9\n",
              "top         47007          11n   Despejado                O\n",
              "freq         1543       486622      815250           656024"
            ],
            "text/html": [
              "\n",
              "  <div id=\"df-0a89770c-32bb-440f-be9c-8c9811844b67\" class=\"colab-df-container\">\n",
              "    <div>\n",
              "<style scoped>\n",
              "    .dataframe tbody tr th:only-of-type {\n",
              "        vertical-align: middle;\n",
              "    }\n",
              "\n",
              "    .dataframe tbody tr th {\n",
              "        vertical-align: top;\n",
              "    }\n",
              "\n",
              "    .dataframe thead th {\n",
              "        text-align: right;\n",
              "    }\n",
              "</style>\n",
              "<table border=\"1\" class=\"dataframe\">\n",
              "  <thead>\n",
              "    <tr style=\"text-align: right;\">\n",
              "      <th></th>\n",
              "      <th>MUNICIPIO</th>\n",
              "      <th>ESTADO_CIELO</th>\n",
              "      <th>DESCRIPCION</th>\n",
              "      <th>VIENTO_DIRECCION</th>\n",
              "    </tr>\n",
              "  </thead>\n",
              "  <tbody>\n",
              "    <tr>\n",
              "      <th>count</th>\n",
              "      <td>3266814</td>\n",
              "      <td>3266814</td>\n",
              "      <td>3266814</td>\n",
              "      <td>3266814</td>\n",
              "    </tr>\n",
              "    <tr>\n",
              "      <th>unique</th>\n",
              "      <td>2162</td>\n",
              "      <td>64</td>\n",
              "      <td>32</td>\n",
              "      <td>9</td>\n",
              "    </tr>\n",
              "    <tr>\n",
              "      <th>top</th>\n",
              "      <td>47007</td>\n",
              "      <td>11n</td>\n",
              "      <td>Despejado</td>\n",
              "      <td>O</td>\n",
              "    </tr>\n",
              "    <tr>\n",
              "      <th>freq</th>\n",
              "      <td>1543</td>\n",
              "      <td>486622</td>\n",
              "      <td>815250</td>\n",
              "      <td>656024</td>\n",
              "    </tr>\n",
              "  </tbody>\n",
              "</table>\n",
              "</div>\n",
              "    <div class=\"colab-df-buttons\">\n",
              "\n",
              "  <div class=\"colab-df-container\">\n",
              "    <button class=\"colab-df-convert\" onclick=\"convertToInteractive('df-0a89770c-32bb-440f-be9c-8c9811844b67')\"\n",
              "            title=\"Convert this dataframe to an interactive table.\"\n",
              "            style=\"display:none;\">\n",
              "\n",
              "  <svg xmlns=\"http://www.w3.org/2000/svg\" height=\"24px\" viewBox=\"0 -960 960 960\">\n",
              "    <path d=\"M120-120v-720h720v720H120Zm60-500h600v-160H180v160Zm220 220h160v-160H400v160Zm0 220h160v-160H400v160ZM180-400h160v-160H180v160Zm440 0h160v-160H620v160ZM180-180h160v-160H180v160Zm440 0h160v-160H620v160Z\"/>\n",
              "  </svg>\n",
              "    </button>\n",
              "\n",
              "  <style>\n",
              "    .colab-df-container {\n",
              "      display:flex;\n",
              "      gap: 12px;\n",
              "    }\n",
              "\n",
              "    .colab-df-convert {\n",
              "      background-color: #E8F0FE;\n",
              "      border: none;\n",
              "      border-radius: 50%;\n",
              "      cursor: pointer;\n",
              "      display: none;\n",
              "      fill: #1967D2;\n",
              "      height: 32px;\n",
              "      padding: 0 0 0 0;\n",
              "      width: 32px;\n",
              "    }\n",
              "\n",
              "    .colab-df-convert:hover {\n",
              "      background-color: #E2EBFA;\n",
              "      box-shadow: 0px 1px 2px rgba(60, 64, 67, 0.3), 0px 1px 3px 1px rgba(60, 64, 67, 0.15);\n",
              "      fill: #174EA6;\n",
              "    }\n",
              "\n",
              "    .colab-df-buttons div {\n",
              "      margin-bottom: 4px;\n",
              "    }\n",
              "\n",
              "    [theme=dark] .colab-df-convert {\n",
              "      background-color: #3B4455;\n",
              "      fill: #D2E3FC;\n",
              "    }\n",
              "\n",
              "    [theme=dark] .colab-df-convert:hover {\n",
              "      background-color: #434B5C;\n",
              "      box-shadow: 0px 1px 3px 1px rgba(0, 0, 0, 0.15);\n",
              "      filter: drop-shadow(0px 1px 2px rgba(0, 0, 0, 0.3));\n",
              "      fill: #FFFFFF;\n",
              "    }\n",
              "  </style>\n",
              "\n",
              "    <script>\n",
              "      const buttonEl =\n",
              "        document.querySelector('#df-0a89770c-32bb-440f-be9c-8c9811844b67 button.colab-df-convert');\n",
              "      buttonEl.style.display =\n",
              "        google.colab.kernel.accessAllowed ? 'block' : 'none';\n",
              "\n",
              "      async function convertToInteractive(key) {\n",
              "        const element = document.querySelector('#df-0a89770c-32bb-440f-be9c-8c9811844b67');\n",
              "        const dataTable =\n",
              "          await google.colab.kernel.invokeFunction('convertToInteractive',\n",
              "                                                    [key], {});\n",
              "        if (!dataTable) return;\n",
              "\n",
              "        const docLinkHtml = 'Like what you see? Visit the ' +\n",
              "          '<a target=\"_blank\" href=https://colab.research.google.com/notebooks/data_table.ipynb>data table notebook</a>'\n",
              "          + ' to learn more about interactive tables.';\n",
              "        element.innerHTML = '';\n",
              "        dataTable['output_type'] = 'display_data';\n",
              "        await google.colab.output.renderOutput(dataTable, element);\n",
              "        const docLink = document.createElement('div');\n",
              "        docLink.innerHTML = docLinkHtml;\n",
              "        element.appendChild(docLink);\n",
              "      }\n",
              "    </script>\n",
              "  </div>\n",
              "\n",
              "\n",
              "<div id=\"df-ccfaa00b-3501-4ebf-9eee-1a1756cc2946\">\n",
              "  <button class=\"colab-df-quickchart\" onclick=\"quickchart('df-ccfaa00b-3501-4ebf-9eee-1a1756cc2946')\"\n",
              "            title=\"Suggest charts\"\n",
              "            style=\"display:none;\">\n",
              "\n",
              "<svg xmlns=\"http://www.w3.org/2000/svg\" height=\"24px\"viewBox=\"0 0 24 24\"\n",
              "     width=\"24px\">\n",
              "    <g>\n",
              "        <path d=\"M19 3H5c-1.1 0-2 .9-2 2v14c0 1.1.9 2 2 2h14c1.1 0 2-.9 2-2V5c0-1.1-.9-2-2-2zM9 17H7v-7h2v7zm4 0h-2V7h2v10zm4 0h-2v-4h2v4z\"/>\n",
              "    </g>\n",
              "</svg>\n",
              "  </button>\n",
              "\n",
              "<style>\n",
              "  .colab-df-quickchart {\n",
              "      --bg-color: #E8F0FE;\n",
              "      --fill-color: #1967D2;\n",
              "      --hover-bg-color: #E2EBFA;\n",
              "      --hover-fill-color: #174EA6;\n",
              "      --disabled-fill-color: #AAA;\n",
              "      --disabled-bg-color: #DDD;\n",
              "  }\n",
              "\n",
              "  [theme=dark] .colab-df-quickchart {\n",
              "      --bg-color: #3B4455;\n",
              "      --fill-color: #D2E3FC;\n",
              "      --hover-bg-color: #434B5C;\n",
              "      --hover-fill-color: #FFFFFF;\n",
              "      --disabled-bg-color: #3B4455;\n",
              "      --disabled-fill-color: #666;\n",
              "  }\n",
              "\n",
              "  .colab-df-quickchart {\n",
              "    background-color: var(--bg-color);\n",
              "    border: none;\n",
              "    border-radius: 50%;\n",
              "    cursor: pointer;\n",
              "    display: none;\n",
              "    fill: var(--fill-color);\n",
              "    height: 32px;\n",
              "    padding: 0;\n",
              "    width: 32px;\n",
              "  }\n",
              "\n",
              "  .colab-df-quickchart:hover {\n",
              "    background-color: var(--hover-bg-color);\n",
              "    box-shadow: 0 1px 2px rgba(60, 64, 67, 0.3), 0 1px 3px 1px rgba(60, 64, 67, 0.15);\n",
              "    fill: var(--button-hover-fill-color);\n",
              "  }\n",
              "\n",
              "  .colab-df-quickchart-complete:disabled,\n",
              "  .colab-df-quickchart-complete:disabled:hover {\n",
              "    background-color: var(--disabled-bg-color);\n",
              "    fill: var(--disabled-fill-color);\n",
              "    box-shadow: none;\n",
              "  }\n",
              "\n",
              "  .colab-df-spinner {\n",
              "    border: 2px solid var(--fill-color);\n",
              "    border-color: transparent;\n",
              "    border-bottom-color: var(--fill-color);\n",
              "    animation:\n",
              "      spin 1s steps(1) infinite;\n",
              "  }\n",
              "\n",
              "  @keyframes spin {\n",
              "    0% {\n",
              "      border-color: transparent;\n",
              "      border-bottom-color: var(--fill-color);\n",
              "      border-left-color: var(--fill-color);\n",
              "    }\n",
              "    20% {\n",
              "      border-color: transparent;\n",
              "      border-left-color: var(--fill-color);\n",
              "      border-top-color: var(--fill-color);\n",
              "    }\n",
              "    30% {\n",
              "      border-color: transparent;\n",
              "      border-left-color: var(--fill-color);\n",
              "      border-top-color: var(--fill-color);\n",
              "      border-right-color: var(--fill-color);\n",
              "    }\n",
              "    40% {\n",
              "      border-color: transparent;\n",
              "      border-right-color: var(--fill-color);\n",
              "      border-top-color: var(--fill-color);\n",
              "    }\n",
              "    60% {\n",
              "      border-color: transparent;\n",
              "      border-right-color: var(--fill-color);\n",
              "    }\n",
              "    80% {\n",
              "      border-color: transparent;\n",
              "      border-right-color: var(--fill-color);\n",
              "      border-bottom-color: var(--fill-color);\n",
              "    }\n",
              "    90% {\n",
              "      border-color: transparent;\n",
              "      border-bottom-color: var(--fill-color);\n",
              "    }\n",
              "  }\n",
              "</style>\n",
              "\n",
              "  <script>\n",
              "    async function quickchart(key) {\n",
              "      const quickchartButtonEl =\n",
              "        document.querySelector('#' + key + ' button');\n",
              "      quickchartButtonEl.disabled = true;  // To prevent multiple clicks.\n",
              "      quickchartButtonEl.classList.add('colab-df-spinner');\n",
              "      try {\n",
              "        const charts = await google.colab.kernel.invokeFunction(\n",
              "            'suggestCharts', [key], {});\n",
              "      } catch (error) {\n",
              "        console.error('Error during call to suggestCharts:', error);\n",
              "      }\n",
              "      quickchartButtonEl.classList.remove('colab-df-spinner');\n",
              "      quickchartButtonEl.classList.add('colab-df-quickchart-complete');\n",
              "    }\n",
              "    (() => {\n",
              "      let quickchartButtonEl =\n",
              "        document.querySelector('#df-ccfaa00b-3501-4ebf-9eee-1a1756cc2946 button');\n",
              "      quickchartButtonEl.style.display =\n",
              "        google.colab.kernel.accessAllowed ? 'block' : 'none';\n",
              "    })();\n",
              "  </script>\n",
              "</div>\n",
              "\n",
              "    </div>\n",
              "  </div>\n"
            ],
            "application/vnd.google.colaboratory.intrinsic+json": {
              "type": "dataframe",
              "summary": "{\n  \"name\": \"df_tiempo_categoricas\",\n  \"rows\": 4,\n  \"fields\": [\n    {\n      \"column\": \"MUNICIPIO\",\n      \"properties\": {\n        \"dtype\": \"number\",\n        \"std\": 1625094,\n        \"min\": 1543,\n        \"max\": 3266814,\n        \"num_unique_values\": 4,\n        \"samples\": [\n          2162,\n          1543,\n          3266814\n        ],\n        \"semantic_type\": \"\",\n        \"description\": \"\"\n      }\n    },\n    {\n      \"column\": \"ESTADO_CIELO\",\n      \"properties\": {\n        \"dtype\": \"string\",\n        \"num_unique_values\": 4,\n        \"samples\": [\n          64,\n          \"486622\",\n          \"3266814\"\n        ],\n        \"semantic_type\": \"\",\n        \"description\": \"\"\n      }\n    },\n    {\n      \"column\": \"DESCRIPCION\",\n      \"properties\": {\n        \"dtype\": \"string\",\n        \"num_unique_values\": 4,\n        \"samples\": [\n          32,\n          \"815250\",\n          \"3266814\"\n        ],\n        \"semantic_type\": \"\",\n        \"description\": \"\"\n      }\n    },\n    {\n      \"column\": \"VIENTO_DIRECCION\",\n      \"properties\": {\n        \"dtype\": \"string\",\n        \"num_unique_values\": 4,\n        \"samples\": [\n          9,\n          \"656024\",\n          \"3266814\"\n        ],\n        \"semantic_type\": \"\",\n        \"description\": \"\"\n      }\n    }\n  ]\n}"
            }
          },
          "metadata": {},
          "execution_count": 57
        }
      ],
      "source": [
        "df_tiempo_categoricas.describe()"
      ]
    },
    {
      "cell_type": "code",
      "source": [
        "grafica_frecuencias(df_tiempo, 'DESCRIPCION')"
      ],
      "metadata": {
        "id": "OR1-7_3naxZ0",
        "outputId": "68309da7-986e-439f-99a4-a5ccfc6ff1f0",
        "colab": {
          "base_uri": "https://localhost:8080/",
          "height": 343
        }
      },
      "id": "OR1-7_3naxZ0",
      "execution_count": 69,
      "outputs": [
        {
          "output_type": "display_data",
          "data": {
            "text/plain": [
              "<Figure size 1200x500 with 1 Axes>"
            ],
            "image/png": "[encoded data removed]"
          },
          "metadata": {}
        }
      ]
    },
    {
      "cell_type": "markdown",
      "id": "4a6983bb",
      "metadata": {
        "id": "4a6983bb"
      },
      "source": [
        "- VIENTO_DIRECCION"
      ]
    },
    {
      "cell_type": "code",
      "execution_count": 70,
      "id": "194bfc6c",
      "metadata": {
        "id": "194bfc6c",
        "outputId": "176c4812-c330-4383-fb31-675028aaeeca",
        "colab": {
          "base_uri": "https://localhost:8080/",
          "height": 341
        }
      },
      "outputs": [
        {
          "output_type": "display_data",
          "data": {
            "text/plain": [
              "<Figure size 1200x500 with 1 Axes>"
            ],
            "image/png": "[encoded data removed]"
          },
          "metadata": {}
        }
      ],
      "source": [
        "grafica_frecuencias(df_tiempo, 'VIENTO_DIRECCION')"
      ]
    },
    {
      "cell_type": "markdown",
      "id": "3451a57b",
      "metadata": {
        "id": "3451a57b"
      },
      "source": [
        "#### Variables numéricas"
      ]
    },
    {
      "cell_type": "markdown",
      "id": "a26034c0",
      "metadata": {
        "id": "a26034c0"
      },
      "source": [
        "Reemplazamos los valores 'lp' (low precision) que aparecen en el dataframe mediante su reemplazo por 0.1, ya que corresponden a variables numéricas."
      ]
    },
    {
      "cell_type": "code",
      "execution_count": 16,
      "id": "7e731138",
      "metadata": {
        "id": "7e731138",
        "outputId": "fc901ed8-9752-4c02-b191-4efe3a794db3",
        "colab": {
          "base_uri": "https://localhost:8080/"
        }
      },
      "outputs": [
        {
          "output_type": "stream",
          "name": "stdout",
          "text": [
            "El valor 'Ip' está presente en las siguientes columnas: Index(['NIEVE', 'PRECIPITACION'], dtype='object')\n"
          ]
        }
      ],
      "source": [
        "columnas_con_ip = df_tiempo.columns[df_tiempo.isin(['Ip']).any()]\n",
        "\n",
        "print(f\"El valor 'Ip' está presente en las siguientes columnas: {columnas_con_ip}\")"
      ]
    },
    {
      "cell_type": "code",
      "execution_count": 17,
      "id": "72a55922",
      "metadata": {
        "id": "72a55922"
      },
      "outputs": [],
      "source": [
        "df_tiempo[columnas_con_ip] = df_tiempo[columnas_con_ip].replace('Ip', 0.1)"
      ]
    },
    {
      "cell_type": "code",
      "execution_count": 18,
      "id": "987df1d4",
      "metadata": {
        "id": "987df1d4"
      },
      "outputs": [],
      "source": [
        "df_tiempo['VIENTO_AND_RACHA_MAX'] = df_tiempo['VIENTO_AND_RACHA_MAX'].replace('0.0', '0')"
      ]
    },
    {
      "cell_type": "code",
      "execution_count": 19,
      "id": "7805c3eb",
      "metadata": {
        "id": "7805c3eb"
      },
      "outputs": [],
      "source": [
        "df_tiempo['NIEVE'] = df_tiempo['NIEVE'].astype(float)\n",
        "df_tiempo['SENS_TERMICA'] = df_tiempo['SENS_TERMICA'].astype(float)\n",
        "df_tiempo['TEMPERATURA'] = df_tiempo['TEMPERATURA'].astype(float)\n",
        "df_tiempo['PRECIPITACION'] = df_tiempo['PRECIPITACION'].astype(float)\n",
        "df_tiempo['HUMEDAD_RELATIVA'] = df_tiempo['HUMEDAD_RELATIVA'].astype('int64')\n",
        "df_tiempo['VIENTO_VELOCIDAD'] = df_tiempo['VIENTO_VELOCIDAD'].astype('int64')\n",
        "df_tiempo['VIENTO_AND_RACHA_MAX'] = df_tiempo['VIENTO_AND_RACHA_MAX'].astype('int64')"
      ]
    },
    {
      "cell_type": "code",
      "execution_count": 78,
      "id": "f8e718e8",
      "metadata": {
        "id": "f8e718e8"
      },
      "outputs": [],
      "source": [
        "df_tiempo_numericas = df_tiempo[df_tiempo.select_dtypes(include=['float64', 'int64']).columns].drop(columns = 'PK_HORA')"
      ]
    },
    {
      "cell_type": "code",
      "execution_count": 79,
      "id": "18d98b54",
      "metadata": {
        "id": "18d98b54",
        "outputId": "dd5c4f03-dcc5-44bc-fca6-f325811903d4",
        "colab": {
          "base_uri": "https://localhost:8080/",
          "height": 320
        }
      },
      "outputs": [
        {
          "output_type": "execute_result",
          "data": {
            "text/plain": [
              "              NIEVE  SENS_TERMICA   TEMPERATURA  PRECIPITACION  \\\n",
              "count  3.266814e+06  3.266814e+06  3.266814e+06   3.266814e+06   \n",
              "mean   1.314737e-04  1.079331e+01  1.114824e+01   7.599637e-02   \n",
              "std    7.368554e-03  5.034277e+00  4.600981e+00   4.798044e-01   \n",
              "min    0.000000e+00 -1.200000e+01 -1.000000e+01   0.000000e+00   \n",
              "25%    0.000000e+00  7.000000e+00  8.000000e+00   0.000000e+00   \n",
              "50%    0.000000e+00  1.100000e+01  1.100000e+01   0.000000e+00   \n",
              "75%    0.000000e+00  1.400000e+01  1.400000e+01   0.000000e+00   \n",
              "max    4.000000e+00  3.000000e+01  2.900000e+01   3.800000e+01   \n",
              "\n",
              "       HUMEDAD_RELATIVA  VIENTO_VELOCIDAD  VIENTO_AND_RACHA_MAX  \n",
              "count      3.266814e+06      3.266814e+06          3.266814e+06  \n",
              "mean       7.657814e+01      1.008238e+01          1.688299e+01  \n",
              "std        1.647640e+01      7.463382e+00          1.219562e+01  \n",
              "min        5.000000e+00      0.000000e+00          0.000000e+00  \n",
              "25%        6.600000e+01      5.000000e+00          8.000000e+00  \n",
              "50%        7.900000e+01      8.000000e+00          1.300000e+01  \n",
              "75%        8.900000e+01      1.300000e+01          2.200000e+01  \n",
              "max        1.000000e+02      9.700000e+01          1.450000e+02  "
            ],
            "text/html": [
              "\n",
              "  <div id=\"df-025a894c-6442-4658-9d47-6b6c9637126c\" class=\"colab-df-container\">\n",
              "    <div>\n",
              "<style scoped>\n",
              "    .dataframe tbody tr th:only-of-type {\n",
              "        vertical-align: middle;\n",
              "    }\n",
              "\n",
              "    .dataframe tbody tr th {\n",
              "        vertical-align: top;\n",
              "    }\n",
              "\n",
              "    .dataframe thead th {\n",
              "        text-align: right;\n",
              "    }\n",
              "</style>\n",
              "<table border=\"1\" class=\"dataframe\">\n",
              "  <thead>\n",
              "    <tr style=\"text-align: right;\">\n",
              "      <th></th>\n",
              "      <th>NIEVE</th>\n",
              "      <th>SENS_TERMICA</th>\n",
              "      <th>TEMPERATURA</th>\n",
              "      <th>PRECIPITACION</th>\n",
              "      <th>HUMEDAD_RELATIVA</th>\n",
              "      <th>VIENTO_VELOCIDAD</th>\n",
              "      <th>VIENTO_AND_RACHA_MAX</th>\n",
              "    </tr>\n",
              "  </thead>\n",
              "  <tbody>\n",
              "    <tr>\n",
              "      <th>count</th>\n",
              "      <td>3.266814e+06</td>\n",
              "      <td>3.266814e+06</td>\n",
              "      <td>3.266814e+06</td>\n",
              "      <td>3.266814e+06</td>\n",
              "      <td>3.266814e+06</td>\n",
              "      <td>3.266814e+06</td>\n",
              "      <td>3.266814e+06</td>\n",
              "    </tr>\n",
              "    <tr>\n",
              "      <th>mean</th>\n",
              "      <td>1.314737e-04</td>\n",
              "      <td>1.079331e+01</td>\n",
              "      <td>1.114824e+01</td>\n",
              "      <td>7.599637e-02</td>\n",
              "      <td>7.657814e+01</td>\n",
              "      <td>1.008238e+01</td>\n",
              "      <td>1.688299e+01</td>\n",
              "    </tr>\n",
              "    <tr>\n",
              "      <th>std</th>\n",
              "      <td>7.368554e-03</td>\n",
              "      <td>5.034277e+00</td>\n",
              "      <td>4.600981e+00</td>\n",
              "      <td>4.798044e-01</td>\n",
              "      <td>1.647640e+01</td>\n",
              "      <td>7.463382e+00</td>\n",
              "      <td>1.219562e+01</td>\n",
              "    </tr>\n",
              "    <tr>\n",
              "      <th>min</th>\n",
              "      <td>0.000000e+00</td>\n",
              "      <td>-1.200000e+01</td>\n",
              "      <td>-1.000000e+01</td>\n",
              "      <td>0.000000e+00</td>\n",
              "      <td>5.000000e+00</td>\n",
              "      <td>0.000000e+00</td>\n",
              "      <td>0.000000e+00</td>\n",
              "    </tr>\n",
              "    <tr>\n",
              "      <th>25%</th>\n",
              "      <td>0.000000e+00</td>\n",
              "      <td>7.000000e+00</td>\n",
              "      <td>8.000000e+00</td>\n",
              "      <td>0.000000e+00</td>\n",
              "      <td>6.600000e+01</td>\n",
              "      <td>5.000000e+00</td>\n",
              "      <td>8.000000e+00</td>\n",
              "    </tr>\n",
              "    <tr>\n",
              "      <th>50%</th>\n",
              "      <td>0.000000e+00</td>\n",
              "      <td>1.100000e+01</td>\n",
              "      <td>1.100000e+01</td>\n",
              "      <td>0.000000e+00</td>\n",
              "      <td>7.900000e+01</td>\n",
              "      <td>8.000000e+00</td>\n",
              "      <td>1.300000e+01</td>\n",
              "    </tr>\n",
              "    <tr>\n",
              "      <th>75%</th>\n",
              "      <td>0.000000e+00</td>\n",
              "      <td>1.400000e+01</td>\n",
              "      <td>1.400000e+01</td>\n",
              "      <td>0.000000e+00</td>\n",
              "      <td>8.900000e+01</td>\n",
              "      <td>1.300000e+01</td>\n",
              "      <td>2.200000e+01</td>\n",
              "    </tr>\n",
              "    <tr>\n",
              "      <th>max</th>\n",
              "      <td>4.000000e+00</td>\n",
              "      <td>3.000000e+01</td>\n",
              "      <td>2.900000e+01</td>\n",
              "      <td>3.800000e+01</td>\n",
              "      <td>1.000000e+02</td>\n",
              "      <td>9.700000e+01</td>\n",
              "      <td>1.450000e+02</td>\n",
              "    </tr>\n",
              "  </tbody>\n",
              "</table>\n",
              "</div>\n",
              "    <div class=\"colab-df-buttons\">\n",
              "\n",
              "  <div class=\"colab-df-container\">\n",
              "    <button class=\"colab-df-convert\" onclick=\"convertToInteractive('df-025a894c-6442-4658-9d47-6b6c9637126c')\"\n",
              "            title=\"Convert this dataframe to an interactive table.\"\n",
              "            style=\"display:none;\">\n",
              "\n",
              "  <svg xmlns=\"http://www.w3.org/2000/svg\" height=\"24px\" viewBox=\"0 -960 960 960\">\n",
              "    <path d=\"M120-120v-720h720v720H120Zm60-500h600v-160H180v160Zm220 220h160v-160H400v160Zm0 220h160v-160H400v160ZM180-400h160v-160H180v160Zm440 0h160v-160H620v160ZM180-180h160v-160H180v160Zm440 0h160v-160H620v160Z\"/>\n",
              "  </svg>\n",
              "    </button>\n",
              "\n",
              "  <style>\n",
              "    .colab-df-container {\n",
              "      display:flex;\n",
              "      gap: 12px;\n",
              "    }\n",
              "\n",
              "    .colab-df-convert {\n",
              "      background-color: #E8F0FE;\n",
              "      border: none;\n",
              "      border-radius: 50%;\n",
              "      cursor: pointer;\n",
              "      display: none;\n",
              "      fill: #1967D2;\n",
              "      height: 32px;\n",
              "      padding: 0 0 0 0;\n",
              "      width: 32px;\n",
              "    }\n",
              "\n",
              "    .colab-df-convert:hover {\n",
              "      background-color: #E2EBFA;\n",
              "      box-shadow: 0px 1px 2px rgba(60, 64, 67, 0.3), 0px 1px 3px 1px rgba(60, 64, 67, 0.15);\n",
              "      fill: #174EA6;\n",
              "    }\n",
              "\n",
              "    .colab-df-buttons div {\n",
              "      margin-bottom: 4px;\n",
              "    }\n",
              "\n",
              "    [theme=dark] .colab-df-convert {\n",
              "      background-color: #3B4455;\n",
              "      fill: #D2E3FC;\n",
              "    }\n",
              "\n",
              "    [theme=dark] .colab-df-convert:hover {\n",
              "      background-color: #434B5C;\n",
              "      box-shadow: 0px 1px 3px 1px rgba(0, 0, 0, 0.15);\n",
              "      filter: drop-shadow(0px 1px 2px rgba(0, 0, 0, 0.3));\n",
              "      fill: #FFFFFF;\n",
              "    }\n",
              "  </style>\n",
              "\n",
              "    <script>\n",
              "      const buttonEl =\n",
              "        document.querySelector('#df-025a894c-6442-4658-9d47-6b6c9637126c button.colab-df-convert');\n",
              "      buttonEl.style.display =\n",
              "        google.colab.kernel.accessAllowed ? 'block' : 'none';\n",
              "\n",
              "      async function convertToInteractive(key) {\n",
              "        const element = document.querySelector('#df-025a894c-6442-4658-9d47-6b6c9637126c');\n",
              "        const dataTable =\n",
              "          await google.colab.kernel.invokeFunction('convertToInteractive',\n",
              "                                                    [key], {});\n",
              "        if (!dataTable) return;\n",
              "\n",
              "        const docLinkHtml = 'Like what you see? Visit the ' +\n",
              "          '<a target=\"_blank\" href=https://colab.research.google.com/notebooks/data_table.ipynb>data table notebook</a>'\n",
              "          + ' to learn more about interactive tables.';\n",
              "        element.innerHTML = '';\n",
              "        dataTable['output_type'] = 'display_data';\n",
              "        await google.colab.output.renderOutput(dataTable, element);\n",
              "        const docLink = document.createElement('div');\n",
              "        docLink.innerHTML = docLinkHtml;\n",
              "        element.appendChild(docLink);\n",
              "      }\n",
              "    </script>\n",
              "  </div>\n",
              "\n",
              "\n",
              "<div id=\"df-65dd7bbb-2f14-4861-ab26-e49722c54802\">\n",
              "  <button class=\"colab-df-quickchart\" onclick=\"quickchart('df-65dd7bbb-2f14-4861-ab26-e49722c54802')\"\n",
              "            title=\"Suggest charts\"\n",
              "            style=\"display:none;\">\n",
              "\n",
              "<svg xmlns=\"http://www.w3.org/2000/svg\" height=\"24px\"viewBox=\"0 0 24 24\"\n",
              "     width=\"24px\">\n",
              "    <g>\n",
              "        <path d=\"M19 3H5c-1.1 0-2 .9-2 2v14c0 1.1.9 2 2 2h14c1.1 0 2-.9 2-2V5c0-1.1-.9-2-2-2zM9 17H7v-7h2v7zm4 0h-2V7h2v10zm4 0h-2v-4h2v4z\"/>\n",
              "    </g>\n",
              "</svg>\n",
              "  </button>\n",
              "\n",
              "<style>\n",
              "  .colab-df-quickchart {\n",
              "      --bg-color: #E8F0FE;\n",
              "      --fill-color: #1967D2;\n",
              "      --hover-bg-color: #E2EBFA;\n",
              "      --hover-fill-color: #174EA6;\n",
              "      --disabled-fill-color: #AAA;\n",
              "      --disabled-bg-color: #DDD;\n",
              "  }\n",
              "\n",
              "  [theme=dark] .colab-df-quickchart {\n",
              "      --bg-color: #3B4455;\n",
              "      --fill-color: #D2E3FC;\n",
              "      --hover-bg-color: #434B5C;\n",
              "      --hover-fill-color: #FFFFFF;\n",
              "      --disabled-bg-color: #3B4455;\n",
              "      --disabled-fill-color: #666;\n",
              "  }\n",
              "\n",
              "  .colab-df-quickchart {\n",
              "    background-color: var(--bg-color);\n",
              "    border: none;\n",
              "    border-radius: 50%;\n",
              "    cursor: pointer;\n",
              "    display: none;\n",
              "    fill: var(--fill-color);\n",
              "    height: 32px;\n",
              "    padding: 0;\n",
              "    width: 32px;\n",
              "  }\n",
              "\n",
              "  .colab-df-quickchart:hover {\n",
              "    background-color: var(--hover-bg-color);\n",
              "    box-shadow: 0 1px 2px rgba(60, 64, 67, 0.3), 0 1px 3px 1px rgba(60, 64, 67, 0.15);\n",
              "    fill: var(--button-hover-fill-color);\n",
              "  }\n",
              "\n",
              "  .colab-df-quickchart-complete:disabled,\n",
              "  .colab-df-quickchart-complete:disabled:hover {\n",
              "    background-color: var(--disabled-bg-color);\n",
              "    fill: var(--disabled-fill-color);\n",
              "    box-shadow: none;\n",
              "  }\n",
              "\n",
              "  .colab-df-spinner {\n",
              "    border: 2px solid var(--fill-color);\n",
              "    border-color: transparent;\n",
              "    border-bottom-color: var(--fill-color);\n",
              "    animation:\n",
              "      spin 1s steps(1) infinite;\n",
              "  }\n",
              "\n",
              "  @keyframes spin {\n",
              "    0% {\n",
              "      border-color: transparent;\n",
              "      border-bottom-color: var(--fill-color);\n",
              "      border-left-color: var(--fill-color);\n",
              "    }\n",
              "    20% {\n",
              "      border-color: transparent;\n",
              "      border-left-color: var(--fill-color);\n",
              "      border-top-color: var(--fill-color);\n",
              "    }\n",
              "    30% {\n",
              "      border-color: transparent;\n",
              "      border-left-color: var(--fill-color);\n",
              "      border-top-color: var(--fill-color);\n",
              "      border-right-color: var(--fill-color);\n",
              "    }\n",
              "    40% {\n",
              "      border-color: transparent;\n",
              "      border-right-color: var(--fill-color);\n",
              "      border-top-color: var(--fill-color);\n",
              "    }\n",
              "    60% {\n",
              "      border-color: transparent;\n",
              "      border-right-color: var(--fill-color);\n",
              "    }\n",
              "    80% {\n",
              "      border-color: transparent;\n",
              "      border-right-color: var(--fill-color);\n",
              "      border-bottom-color: var(--fill-color);\n",
              "    }\n",
              "    90% {\n",
              "      border-color: transparent;\n",
              "      border-bottom-color: var(--fill-color);\n",
              "    }\n",
              "  }\n",
              "</style>\n",
              "\n",
              "  <script>\n",
              "    async function quickchart(key) {\n",
              "      const quickchartButtonEl =\n",
              "        document.querySelector('#' + key + ' button');\n",
              "      quickchartButtonEl.disabled = true;  // To prevent multiple clicks.\n",
              "      quickchartButtonEl.classList.add('colab-df-spinner');\n",
              "      try {\n",
              "        const charts = await google.colab.kernel.invokeFunction(\n",
              "            'suggestCharts', [key], {});\n",
              "      } catch (error) {\n",
              "        console.error('Error during call to suggestCharts:', error);\n",
              "      }\n",
              "      quickchartButtonEl.classList.remove('colab-df-spinner');\n",
              "      quickchartButtonEl.classList.add('colab-df-quickchart-complete');\n",
              "    }\n",
              "    (() => {\n",
              "      let quickchartButtonEl =\n",
              "        document.querySelector('#df-65dd7bbb-2f14-4861-ab26-e49722c54802 button');\n",
              "      quickchartButtonEl.style.display =\n",
              "        google.colab.kernel.accessAllowed ? 'block' : 'none';\n",
              "    })();\n",
              "  </script>\n",
              "</div>\n",
              "\n",
              "    </div>\n",
              "  </div>\n"
            ],
            "application/vnd.google.colaboratory.intrinsic+json": {
              "type": "dataframe",
              "summary": "{\n  \"name\": \"df_tiempo_numericas\",\n  \"rows\": 8,\n  \"fields\": [\n    {\n      \"column\": \"NIEVE\",\n      \"properties\": {\n        \"dtype\": \"number\",\n        \"std\": 1154992.9637291052,\n        \"min\": 0.0,\n        \"max\": 3266814.0,\n        \"num_unique_values\": 5,\n        \"samples\": [\n          0.00013147366210626007,\n          4.0,\n          0.0073685539828584725\n        ],\n        \"semantic_type\": \"\",\n        \"description\": \"\"\n      }\n    },\n    {\n      \"column\": \"SENS_TERMICA\",\n      \"properties\": {\n        \"dtype\": \"number\",\n        \"std\": 1154989.8413998438,\n        \"min\": -12.0,\n        \"max\": 3266814.0,\n        \"num_unique_values\": 8,\n        \"samples\": [\n          10.793313607692388,\n          11.0,\n          3266814.0\n        ],\n        \"semantic_type\": \"\",\n        \"description\": \"\"\n      }\n    },\n    {\n      \"column\": \"TEMPERATURA\",\n      \"properties\": {\n        \"dtype\": \"number\",\n        \"std\": 1154989.744335475,\n        \"min\": -10.0,\n        \"max\": 3266814.0,\n        \"num_unique_values\": 8,\n        \"samples\": [\n          11.148238008040861,\n          11.0,\n          3266814.0\n        ],\n        \"semantic_type\": \"\",\n        \"description\": \"\"\n      }\n    },\n    {\n      \"column\": \"PRECIPITACION\",\n      \"properties\": {\n        \"dtype\": \"number\",\n        \"std\": 1154991.218851744,\n        \"min\": 0.0,\n        \"max\": 3266814.0,\n        \"num_unique_values\": 5,\n        \"samples\": [\n          0.07599636832706116,\n          38.0,\n          0.4798044301488899\n        ],\n        \"semantic_type\": \"\",\n        \"description\": \"\"\n      }\n    },\n    {\n      \"column\": \"HUMEDAD_RELATIVA\",\n      \"properties\": {\n        \"dtype\": \"number\",\n        \"std\": 1154971.3445834415,\n        \"min\": 5.0,\n        \"max\": 3266814.0,\n        \"num_unique_values\": 8,\n        \"samples\": [\n          76.57813667995791,\n          79.0,\n          3266814.0\n        ],\n        \"semantic_type\": \"\",\n        \"description\": \"\"\n      }\n    },\n    {\n      \"column\": \"VIENTO_VELOCIDAD\",\n      \"properties\": {\n        \"dtype\": \"number\",\n        \"std\": 1154986.0679379005,\n        \"min\": 0.0,\n        \"max\": 3266814.0,\n        \"num_unique_values\": 8,\n        \"samples\": [\n          10.082375978552804,\n          8.0,\n          3266814.0\n        ],\n        \"semantic_type\": \"\",\n        \"description\": \"\"\n      }\n    },\n    {\n      \"column\": \"VIENTO_AND_RACHA_MAX\",\n      \"properties\": {\n        \"dtype\": \"number\",\n        \"std\": 1154982.2029668705,\n        \"min\": 0.0,\n        \"max\": 3266814.0,\n        \"num_unique_values\": 8,\n        \"samples\": [\n          16.88299303235507,\n          13.0,\n          3266814.0\n        ],\n        \"semantic_type\": \"\",\n        \"description\": \"\"\n      }\n    }\n  ]\n}"
            }
          },
          "metadata": {},
          "execution_count": 79
        }
      ],
      "source": [
        "df_tiempo_numericas.describe()"
      ]
    },
    {
      "cell_type": "markdown",
      "id": "3a587795",
      "metadata": {
        "id": "3a587795"
      },
      "source": [
        "- NIEVE: Toma valores entre 0 y 4 metros cúbicos. También se puede observar que al menos el 75% de registros de esta columna valen 0. Comprobándolo se ve que el 99'9% de los registros de esta variable valen 0."
      ]
    },
    {
      "cell_type": "markdown",
      "id": "9d186dc6",
      "metadata": {
        "id": "9d186dc6"
      },
      "source": [
        "- SENS_TERMICA: Toma valores de entre -12 y 30 grados."
      ]
    },
    {
      "cell_type": "markdown",
      "id": "990ea9b9",
      "metadata": {
        "id": "990ea9b9"
      },
      "source": [
        "- TEMPERATURA: Vemos que la temperatura tiene unas estadísticas bastante parecidas a las de la sensación térmica."
      ]
    },
    {
      "cell_type": "markdown",
      "id": "af285520",
      "metadata": {
        "id": "af285520"
      },
      "source": [
        "- PRECIPITACION: Toma valores entre 0 y 38 metros cúbicos. También se puede observar que al menos el 75% de registros de esta columna valen 0. Comprobándolo se ve que más del 87% de los registros de esta variable valen 0."
      ]
    },
    {
      "cell_type": "markdown",
      "id": "d65a55a5",
      "metadata": {
        "id": "d65a55a5"
      },
      "source": [
        "#### Variables tipo datetime"
      ]
    },
    {
      "cell_type": "code",
      "execution_count": 130,
      "id": "d773baed",
      "metadata": {
        "id": "d773baed"
      },
      "outputs": [],
      "source": [
        "df_tiempo_datetime = df_tiempo[['ORTO', 'OCASO']]"
      ]
    },
    {
      "cell_type": "code",
      "source": [
        "df_tiempo_datetime['ORTO'] = pd.to_datetime(df_tiempo_datetime['ORTO'], format='%H:%M')\n",
        "df_tiempo_datetime['OCASO'] = pd.to_datetime(df_tiempo_datetime['OCASO'], format='%H:%M')\n",
        "\n",
        "df_tiempo_datetime['ORTO'] = df_tiempo_datetime['ORTO'].dt.hour * 60 + df_tiempo_datetime['ORTO'].dt.minute\n",
        "df_tiempo_datetime['OCASO'] = df_tiempo_datetime['OCASO'].dt.hour * 60 + df_tiempo_datetime['OCASO'].dt.minute"
      ],
      "metadata": {
        "id": "eXAZKhWpgByX",
        "outputId": "5a37cb25-094f-48a1-a4f8-3de496ac7952",
        "colab": {
          "base_uri": "https://localhost:8080/"
        }
      },
      "id": "eXAZKhWpgByX",
      "execution_count": 131,
      "outputs": [
        {
          "output_type": "stream",
          "name": "stderr",
          "text": [
            "<ipython-input-131-fd50b1ed014e>:1: SettingWithCopyWarning: \n",
            "A value is trying to be set on a copy of a slice from a DataFrame.\n",
            "Try using .loc[row_indexer,col_indexer] = value instead\n",
            "\n",
            "See the caveats in the documentation: https://pandas.pydata.org/pandas-docs/stable/user_guide/indexing.html#returning-a-view-versus-a-copy\n",
            "  df_tiempo_datetime['ORTO'] = pd.to_datetime(df_tiempo_datetime['ORTO'], format='%H:%M')\n",
            "<ipython-input-131-fd50b1ed014e>:2: SettingWithCopyWarning: \n",
            "A value is trying to be set on a copy of a slice from a DataFrame.\n",
            "Try using .loc[row_indexer,col_indexer] = value instead\n",
            "\n",
            "See the caveats in the documentation: https://pandas.pydata.org/pandas-docs/stable/user_guide/indexing.html#returning-a-view-versus-a-copy\n",
            "  df_tiempo_datetime['OCASO'] = pd.to_datetime(df_tiempo_datetime['OCASO'], format='%H:%M')\n",
            "<ipython-input-131-fd50b1ed014e>:4: SettingWithCopyWarning: \n",
            "A value is trying to be set on a copy of a slice from a DataFrame.\n",
            "Try using .loc[row_indexer,col_indexer] = value instead\n",
            "\n",
            "See the caveats in the documentation: https://pandas.pydata.org/pandas-docs/stable/user_guide/indexing.html#returning-a-view-versus-a-copy\n",
            "  df_tiempo_datetime['ORTO'] = df_tiempo_datetime['ORTO'].dt.hour * 60 + df_tiempo_datetime['ORTO'].dt.minute\n",
            "<ipython-input-131-fd50b1ed014e>:5: SettingWithCopyWarning: \n",
            "A value is trying to be set on a copy of a slice from a DataFrame.\n",
            "Try using .loc[row_indexer,col_indexer] = value instead\n",
            "\n",
            "See the caveats in the documentation: https://pandas.pydata.org/pandas-docs/stable/user_guide/indexing.html#returning-a-view-versus-a-copy\n",
            "  df_tiempo_datetime['OCASO'] = df_tiempo_datetime['OCASO'].dt.hour * 60 + df_tiempo_datetime['OCASO'].dt.minute\n"
          ]
        }
      ]
    },
    {
      "cell_type": "code",
      "source": [
        "df_tiempo_datetime.describe()"
      ],
      "metadata": {
        "id": "YzxJ1Kr4gpPV",
        "outputId": "9611543b-b451-4b77-e33f-cc996d1d4e2c",
        "colab": {
          "base_uri": "https://localhost:8080/",
          "height": 300
        }
      },
      "id": "YzxJ1Kr4gpPV",
      "execution_count": 133,
      "outputs": [
        {
          "output_type": "execute_result",
          "data": {
            "text/plain": [
              "               ORTO         OCASO\n",
              "count  3.266814e+06  3.266814e+06\n",
              "mean   4.931851e+02  1.065402e+03\n",
              "std    1.877223e+01  1.603829e+01\n",
              "min    4.320000e+02  1.034000e+03\n",
              "25%    4.800000e+02  1.053000e+03\n",
              "50%    4.950000e+02  1.064000e+03\n",
              "75%    5.060000e+02  1.077000e+03\n",
              "max    5.460000e+02  1.115000e+03"
            ],
            "text/html": [
              "\n",
              "  <div id=\"df-0b018700-6c65-441e-91cc-b6fcd30e9b45\" class=\"colab-df-container\">\n",
              "    <div>\n",
              "<style scoped>\n",
              "    .dataframe tbody tr th:only-of-type {\n",
              "        vertical-align: middle;\n",
              "    }\n",
              "\n",
              "    .dataframe tbody tr th {\n",
              "        vertical-align: top;\n",
              "    }\n",
              "\n",
              "    .dataframe thead th {\n",
              "        text-align: right;\n",
              "    }\n",
              "</style>\n",
              "<table border=\"1\" class=\"dataframe\">\n",
              "  <thead>\n",
              "    <tr style=\"text-align: right;\">\n",
              "      <th></th>\n",
              "      <th>ORTO</th>\n",
              "      <th>OCASO</th>\n",
              "    </tr>\n",
              "  </thead>\n",
              "  <tbody>\n",
              "    <tr>\n",
              "      <th>count</th>\n",
              "      <td>3.266814e+06</td>\n",
              "      <td>3.266814e+06</td>\n",
              "    </tr>\n",
              "    <tr>\n",
              "      <th>mean</th>\n",
              "      <td>4.931851e+02</td>\n",
              "      <td>1.065402e+03</td>\n",
              "    </tr>\n",
              "    <tr>\n",
              "      <th>std</th>\n",
              "      <td>1.877223e+01</td>\n",
              "      <td>1.603829e+01</td>\n",
              "    </tr>\n",
              "    <tr>\n",
              "      <th>min</th>\n",
              "      <td>4.320000e+02</td>\n",
              "      <td>1.034000e+03</td>\n",
              "    </tr>\n",
              "    <tr>\n",
              "      <th>25%</th>\n",
              "      <td>4.800000e+02</td>\n",
              "      <td>1.053000e+03</td>\n",
              "    </tr>\n",
              "    <tr>\n",
              "      <th>50%</th>\n",
              "      <td>4.950000e+02</td>\n",
              "      <td>1.064000e+03</td>\n",
              "    </tr>\n",
              "    <tr>\n",
              "      <th>75%</th>\n",
              "      <td>5.060000e+02</td>\n",
              "      <td>1.077000e+03</td>\n",
              "    </tr>\n",
              "    <tr>\n",
              "      <th>max</th>\n",
              "      <td>5.460000e+02</td>\n",
              "      <td>1.115000e+03</td>\n",
              "    </tr>\n",
              "  </tbody>\n",
              "</table>\n",
              "</div>\n",
              "    <div class=\"colab-df-buttons\">\n",
              "\n",
              "  <div class=\"colab-df-container\">\n",
              "    <button class=\"colab-df-convert\" onclick=\"convertToInteractive('df-0b018700-6c65-441e-91cc-b6fcd30e9b45')\"\n",
              "            title=\"Convert this dataframe to an interactive table.\"\n",
              "            style=\"display:none;\">\n",
              "\n",
              "  <svg xmlns=\"http://www.w3.org/2000/svg\" height=\"24px\" viewBox=\"0 -960 960 960\">\n",
              "    <path d=\"M120-120v-720h720v720H120Zm60-500h600v-160H180v160Zm220 220h160v-160H400v160Zm0 220h160v-160H400v160ZM180-400h160v-160H180v160Zm440 0h160v-160H620v160ZM180-180h160v-160H180v160Zm440 0h160v-160H620v160Z\"/>\n",
              "  </svg>\n",
              "    </button>\n",
              "\n",
              "  <style>\n",
              "    .colab-df-container {\n",
              "      display:flex;\n",
              "      gap: 12px;\n",
              "    }\n",
              "\n",
              "    .colab-df-convert {\n",
              "      background-color: #E8F0FE;\n",
              "      border: none;\n",
              "      border-radius: 50%;\n",
              "      cursor: pointer;\n",
              "      display: none;\n",
              "      fill: #1967D2;\n",
              "      height: 32px;\n",
              "      padding: 0 0 0 0;\n",
              "      width: 32px;\n",
              "    }\n",
              "\n",
              "    .colab-df-convert:hover {\n",
              "      background-color: #E2EBFA;\n",
              "      box-shadow: 0px 1px 2px rgba(60, 64, 67, 0.3), 0px 1px 3px 1px rgba(60, 64, 67, 0.15);\n",
              "      fill: #174EA6;\n",
              "    }\n",
              "\n",
              "    .colab-df-buttons div {\n",
              "      margin-bottom: 4px;\n",
              "    }\n",
              "\n",
              "    [theme=dark] .colab-df-convert {\n",
              "      background-color: #3B4455;\n",
              "      fill: #D2E3FC;\n",
              "    }\n",
              "\n",
              "    [theme=dark] .colab-df-convert:hover {\n",
              "      background-color: #434B5C;\n",
              "      box-shadow: 0px 1px 3px 1px rgba(0, 0, 0, 0.15);\n",
              "      filter: drop-shadow(0px 1px 2px rgba(0, 0, 0, 0.3));\n",
              "      fill: #FFFFFF;\n",
              "    }\n",
              "  </style>\n",
              "\n",
              "    <script>\n",
              "      const buttonEl =\n",
              "        document.querySelector('#df-0b018700-6c65-441e-91cc-b6fcd30e9b45 button.colab-df-convert');\n",
              "      buttonEl.style.display =\n",
              "        google.colab.kernel.accessAllowed ? 'block' : 'none';\n",
              "\n",
              "      async function convertToInteractive(key) {\n",
              "        const element = document.querySelector('#df-0b018700-6c65-441e-91cc-b6fcd30e9b45');\n",
              "        const dataTable =\n",
              "          await google.colab.kernel.invokeFunction('convertToInteractive',\n",
              "                                                    [key], {});\n",
              "        if (!dataTable) return;\n",
              "\n",
              "        const docLinkHtml = 'Like what you see? Visit the ' +\n",
              "          '<a target=\"_blank\" href=https://colab.research.google.com/notebooks/data_table.ipynb>data table notebook</a>'\n",
              "          + ' to learn more about interactive tables.';\n",
              "        element.innerHTML = '';\n",
              "        dataTable['output_type'] = 'display_data';\n",
              "        await google.colab.output.renderOutput(dataTable, element);\n",
              "        const docLink = document.createElement('div');\n",
              "        docLink.innerHTML = docLinkHtml;\n",
              "        element.appendChild(docLink);\n",
              "      }\n",
              "    </script>\n",
              "  </div>\n",
              "\n",
              "\n",
              "<div id=\"df-4a247e4b-52e2-42e9-a4d8-adf26baf994e\">\n",
              "  <button class=\"colab-df-quickchart\" onclick=\"quickchart('df-4a247e4b-52e2-42e9-a4d8-adf26baf994e')\"\n",
              "            title=\"Suggest charts\"\n",
              "            style=\"display:none;\">\n",
              "\n",
              "<svg xmlns=\"http://www.w3.org/2000/svg\" height=\"24px\"viewBox=\"0 0 24 24\"\n",
              "     width=\"24px\">\n",
              "    <g>\n",
              "        <path d=\"M19 3H5c-1.1 0-2 .9-2 2v14c0 1.1.9 2 2 2h14c1.1 0 2-.9 2-2V5c0-1.1-.9-2-2-2zM9 17H7v-7h2v7zm4 0h-2V7h2v10zm4 0h-2v-4h2v4z\"/>\n",
              "    </g>\n",
              "</svg>\n",
              "  </button>\n",
              "\n",
              "<style>\n",
              "  .colab-df-quickchart {\n",
              "      --bg-color: #E8F0FE;\n",
              "      --fill-color: #1967D2;\n",
              "      --hover-bg-color: #E2EBFA;\n",
              "      --hover-fill-color: #174EA6;\n",
              "      --disabled-fill-color: #AAA;\n",
              "      --disabled-bg-color: #DDD;\n",
              "  }\n",
              "\n",
              "  [theme=dark] .colab-df-quickchart {\n",
              "      --bg-color: #3B4455;\n",
              "      --fill-color: #D2E3FC;\n",
              "      --hover-bg-color: #434B5C;\n",
              "      --hover-fill-color: #FFFFFF;\n",
              "      --disabled-bg-color: #3B4455;\n",
              "      --disabled-fill-color: #666;\n",
              "  }\n",
              "\n",
              "  .colab-df-quickchart {\n",
              "    background-color: var(--bg-color);\n",
              "    border: none;\n",
              "    border-radius: 50%;\n",
              "    cursor: pointer;\n",
              "    display: none;\n",
              "    fill: var(--fill-color);\n",
              "    height: 32px;\n",
              "    padding: 0;\n",
              "    width: 32px;\n",
              "  }\n",
              "\n",
              "  .colab-df-quickchart:hover {\n",
              "    background-color: var(--hover-bg-color);\n",
              "    box-shadow: 0 1px 2px rgba(60, 64, 67, 0.3), 0 1px 3px 1px rgba(60, 64, 67, 0.15);\n",
              "    fill: var(--button-hover-fill-color);\n",
              "  }\n",
              "\n",
              "  .colab-df-quickchart-complete:disabled,\n",
              "  .colab-df-quickchart-complete:disabled:hover {\n",
              "    background-color: var(--disabled-bg-color);\n",
              "    fill: var(--disabled-fill-color);\n",
              "    box-shadow: none;\n",
              "  }\n",
              "\n",
              "  .colab-df-spinner {\n",
              "    border: 2px solid var(--fill-color);\n",
              "    border-color: transparent;\n",
              "    border-bottom-color: var(--fill-color);\n",
              "    animation:\n",
              "      spin 1s steps(1) infinite;\n",
              "  }\n",
              "\n",
              "  @keyframes spin {\n",
              "    0% {\n",
              "      border-color: transparent;\n",
              "      border-bottom-color: var(--fill-color);\n",
              "      border-left-color: var(--fill-color);\n",
              "    }\n",
              "    20% {\n",
              "      border-color: transparent;\n",
              "      border-left-color: var(--fill-color);\n",
              "      border-top-color: var(--fill-color);\n",
              "    }\n",
              "    30% {\n",
              "      border-color: transparent;\n",
              "      border-left-color: var(--fill-color);\n",
              "      border-top-color: var(--fill-color);\n",
              "      border-right-color: var(--fill-color);\n",
              "    }\n",
              "    40% {\n",
              "      border-color: transparent;\n",
              "      border-right-color: var(--fill-color);\n",
              "      border-top-color: var(--fill-color);\n",
              "    }\n",
              "    60% {\n",
              "      border-color: transparent;\n",
              "      border-right-color: var(--fill-color);\n",
              "    }\n",
              "    80% {\n",
              "      border-color: transparent;\n",
              "      border-right-color: var(--fill-color);\n",
              "      border-bottom-color: var(--fill-color);\n",
              "    }\n",
              "    90% {\n",
              "      border-color: transparent;\n",
              "      border-bottom-color: var(--fill-color);\n",
              "    }\n",
              "  }\n",
              "</style>\n",
              "\n",
              "  <script>\n",
              "    async function quickchart(key) {\n",
              "      const quickchartButtonEl =\n",
              "        document.querySelector('#' + key + ' button');\n",
              "      quickchartButtonEl.disabled = true;  // To prevent multiple clicks.\n",
              "      quickchartButtonEl.classList.add('colab-df-spinner');\n",
              "      try {\n",
              "        const charts = await google.colab.kernel.invokeFunction(\n",
              "            'suggestCharts', [key], {});\n",
              "      } catch (error) {\n",
              "        console.error('Error during call to suggestCharts:', error);\n",
              "      }\n",
              "      quickchartButtonEl.classList.remove('colab-df-spinner');\n",
              "      quickchartButtonEl.classList.add('colab-df-quickchart-complete');\n",
              "    }\n",
              "    (() => {\n",
              "      let quickchartButtonEl =\n",
              "        document.querySelector('#df-4a247e4b-52e2-42e9-a4d8-adf26baf994e button');\n",
              "      quickchartButtonEl.style.display =\n",
              "        google.colab.kernel.accessAllowed ? 'block' : 'none';\n",
              "    })();\n",
              "  </script>\n",
              "</div>\n",
              "\n",
              "    </div>\n",
              "  </div>\n"
            ],
            "application/vnd.google.colaboratory.intrinsic+json": {
              "type": "dataframe",
              "summary": "{\n  \"name\": \"df_tiempo_datetime\",\n  \"rows\": 8,\n  \"fields\": [\n    {\n      \"column\": \"ORTO\",\n      \"properties\": {\n        \"dtype\": \"number\",\n        \"std\": 1154843.1224292258,\n        \"min\": 18.77222906342678,\n        \"max\": 3266814.0,\n        \"num_unique_values\": 8,\n        \"samples\": [\n          493.185136037742,\n          495.0,\n          3266814.0\n        ],\n        \"semantic_type\": \"\",\n        \"description\": \"\"\n      }\n    },\n    {\n      \"column\": \"OCASO\",\n      \"properties\": {\n        \"dtype\": \"number\",\n        \"std\": 1154668.7417965836,\n        \"min\": 16.03829292562319,\n        \"max\": 3266814.0,\n        \"num_unique_values\": 8,\n        \"samples\": [\n          1065.4023657300354,\n          1064.0,\n          3266814.0\n        ],\n        \"semantic_type\": \"\",\n        \"description\": \"\"\n      }\n    }\n  ]\n}"
            }
          },
          "metadata": {},
          "execution_count": 133
        }
      ]
    },
    {
      "cell_type": "markdown",
      "id": "f2a46f6d",
      "metadata": {
        "id": "f2a46f6d"
      },
      "source": [
        "## 3. Preparación de los datos e ingeniería de características"
      ]
    },
    {
      "cell_type": "markdown",
      "source": [
        "### 3.1. Concatenación de los distintos dataframes"
      ],
      "metadata": {
        "id": "wLlaERTOhchR"
      },
      "id": "wLlaERTOhchR"
    },
    {
      "cell_type": "code",
      "execution_count": 8,
      "id": "f6c32693",
      "metadata": {
        "id": "f6c32693",
        "outputId": "fd2ca33f-88c1-468a-d365-2544bbca70c7",
        "colab": {
          "base_uri": "https://localhost:8080/"
        }
      },
      "outputs": [
        {
          "output_type": "execute_result",
          "data": {
            "text/plain": [
              "(17396856, 20)"
            ]
          },
          "metadata": {},
          "execution_count": 8
        }
      ],
      "source": [
        "df_aux = df_consumo.merge(df_info, on=\"PK_CLIENTE\", how=\"inner\")\n",
        "df_aux.shape"
      ]
    },
    {
      "cell_type": "code",
      "execution_count": 135,
      "id": "284a5101",
      "metadata": {
        "id": "284a5101",
        "outputId": "d44c61a5-e37d-4838-8cee-be83d13c33a8",
        "colab": {
          "base_uri": "https://localhost:8080/"
        }
      },
      "outputs": [
        {
          "output_type": "execute_result",
          "data": {
            "text/plain": [
              "PK_CLIENTE                    0\n",
              "PK_ANYOMESDIA                 0\n",
              "PK_HORA                       0\n",
              "ENTRADA                       0\n",
              "SALIDA                        0\n",
              "TARIFA                        0\n",
              "MUNICIPIO                     0\n",
              "PROVINCIA                     0\n",
              "KW_CONTRATADA_P1              0\n",
              "KW_CONTRATADA_P2              0\n",
              "KW_CONTRATADA_P3              0\n",
              "KW_CONTRATADA_P4              0\n",
              "KW_CONTRATADA_P5              0\n",
              "KW_CONTRATADA_P6              0\n",
              "AUTOCONSUMO                   0\n",
              "POTENCIA_GENERACION_KW        0\n",
              "ESQUEMA_MEDIDA             4408\n",
              "SUBGRUPO                  62482\n",
              "ALTA_AUTOCONSUMO              0\n",
              "BAJA_AUTOCONSUMO              0\n",
              "dtype: int64"
            ]
          },
          "metadata": {},
          "execution_count": 135
        }
      ],
      "source": [
        "df_aux.isna().sum()"
      ]
    },
    {
      "cell_type": "code",
      "source": [
        "#para liberar espacio de la RAM en Google Colab\n",
        "del df_info\n",
        "gc.collect()\n",
        "df_info=pd.DataFrame()"
      ],
      "metadata": {
        "id": "rAGSU9Nfhy8y"
      },
      "id": "rAGSU9Nfhy8y",
      "execution_count": 20,
      "outputs": []
    },
    {
      "cell_type": "code",
      "source": [
        "#para liberar espacio de la RAM en Google Colab\n",
        "del df_consumo\n",
        "gc.collect()\n",
        "df_consumo=pd.DataFrame()"
      ],
      "metadata": {
        "id": "bKzXVm-Uhzd1"
      },
      "id": "bKzXVm-Uhzd1",
      "execution_count": 10,
      "outputs": []
    },
    {
      "cell_type": "code",
      "execution_count": null,
      "id": "aae5335b",
      "metadata": {
        "id": "aae5335b"
      },
      "outputs": [],
      "source": [
        "df = df_aux.merge(df_tiempo, on=[\"MUNICIPIO\", \"PK_ANYOMESDIA\", \"PK_HORA\"], how=\"inner\")\n",
        "df.shape"
      ]
    },
    {
      "cell_type": "code",
      "source": [
        "#para liberar espacio de la RAM en Google Colab\n",
        "del df_aux\n",
        "gc.collect()\n",
        "df_aux=pd.DataFrame()"
      ],
      "metadata": {
        "id": "ft0aYKvKiUAS"
      },
      "id": "ft0aYKvKiUAS",
      "execution_count": null,
      "outputs": []
    },
    {
      "cell_type": "code",
      "execution_count": null,
      "id": "cdff678e",
      "metadata": {
        "id": "cdff678e"
      },
      "outputs": [],
      "source": [
        "df.isna().sum()"
      ]
    },
    {
      "cell_type": "markdown",
      "id": "2900a106",
      "metadata": {
        "id": "2900a106"
      },
      "source": [
        "Le damos un poco de formato a los campos más importantes:"
      ]
    },
    {
      "cell_type": "code",
      "execution_count": null,
      "id": "7e1304cb",
      "metadata": {
        "id": "7e1304cb"
      },
      "outputs": [],
      "source": [
        "df = df.sort_values(by=['PK_ANYOMESDIA', 'PK_HORA', 'PK_CLIENTE'], ascending =[True, True, True])\n",
        "df['PK_HORA_formateada'] = df['PK_HORA'].apply(lambda x: datetime.strptime(str(x), '%H').time())\n",
        "df['DATETIME'] = pd.to_datetime(df['PK_ANYOMESDIA']) + pd.to_timedelta(df['PK_HORA_formateada'].astype(str))"
      ]
    },
    {
      "cell_type": "code",
      "execution_count": null,
      "id": "22176ea6",
      "metadata": {
        "id": "22176ea6"
      },
      "outputs": [],
      "source": [
        "df = df.drop(columns = 'PK_HORA_formateada')"
      ]
    },
    {
      "cell_type": "markdown",
      "id": "0933bfc9",
      "metadata": {
        "id": "0933bfc9"
      },
      "source": [
        "Además, notar que en un día y hora determinada, un cliente solo tiene distinto de cero la ENTRADA o la SALIDA, pero no ambos. Fijémonos en que esta va a ser nuestra variable target, es decir, aquella que querremos predecir. Para facilitarnos este trabajo, conviene que unamos las dos variables en una. Así creamos la variable CONSUMO de la siguiente forma:"
      ]
    },
    {
      "cell_type": "code",
      "execution_count": null,
      "id": "86d2f06e",
      "metadata": {
        "id": "86d2f06e"
      },
      "outputs": [],
      "source": [
        "df['CONSUMO'] = df['ENTRADA'] - df['SALIDA']"
      ]
    },
    {
      "cell_type": "code",
      "execution_count": null,
      "id": "40015189",
      "metadata": {
        "id": "40015189"
      },
      "outputs": [],
      "source": [
        "df = df.reset_index(drop = True)"
      ]
    },
    {
      "cell_type": "code",
      "execution_count": null,
      "id": "622201a1",
      "metadata": {
        "id": "622201a1"
      },
      "outputs": [],
      "source": [
        "df.to_parquet('df_preprocesado.parquet')"
      ]
    },
    {
      "cell_type": "markdown",
      "id": "babd93f5",
      "metadata": {
        "id": "babd93f5"
      },
      "source": [
        "Comprobamos que la serie temporal de cada cliente está completa y sino eliminamos a este cliente del análisis. Esto lo hacemos así para tener integridad en los datos, y poder comparar de forma justa todos los modelos que creemos."
      ]
    },
    {
      "cell_type": "code",
      "execution_count": null,
      "id": "c224d271",
      "metadata": {
        "id": "c224d271"
      },
      "outputs": [],
      "source": [
        "analisis_series = pd.DataFrame(columns=['PK_CLIENTE', 'FILAS_NA', 'INICIO', 'FIN'])\n",
        "\n",
        "for cliente in df['PK_CLIENTE'].unique():\n",
        "    df_cliente = df[df['PK_CLIENTE'] == cliente]\n",
        "    df_cliente = df_cliente.set_index('DATETIME').asfreq('H')\n",
        "    #(df_cliente.index == pd.date_range(start=df_cliente.index.min(), end=df_cliente.index.max(), freq='H')).all()\n",
        "    filas_na = df_cliente.isnull().any(axis=1).mean()\n",
        "    inicio = df_cliente.index.min()\n",
        "    fin = df_cliente.index.max()\n",
        "    temp_df = pd.DataFrame({'PK_CLIENTE': [cliente], 'FILAS_NA': [filas_na], 'INICIO': [inicio], 'FIN': [fin]})\n",
        "    analisis_series = pd.concat([analisis_series, temp_df], ignore_index=True)"
      ]
    },
    {
      "cell_type": "code",
      "execution_count": null,
      "id": "96bc8270",
      "metadata": {
        "id": "96bc8270"
      },
      "outputs": [],
      "source": [
        "analisis_series = analisis_series.sort_values(by='PK_CLIENTE', ascending = True).reset_index(drop = True)\n",
        "analisis_series.shape"
      ]
    },
    {
      "cell_type": "code",
      "execution_count": null,
      "id": "402e94a9",
      "metadata": {
        "id": "402e94a9"
      },
      "outputs": [],
      "source": [
        "analisis_series.to_parquet('seleccionar_clientes.parquet')"
      ]
    },
    {
      "cell_type": "code",
      "execution_count": null,
      "id": "0516aad9",
      "metadata": {
        "id": "0516aad9"
      },
      "outputs": [],
      "source": [
        "analisis_series_select = analisis_series[(analisis_series['FILAS_NA'] == 0) | (analisis_series['INICIO'] == analisis_series['INICIO'].min())].reset_index(drop = True)\n",
        "analisis_series_select.shape"
      ]
    },
    {
      "cell_type": "markdown",
      "id": "c4b26017",
      "metadata": {
        "id": "c4b26017"
      },
      "source": [
        "Observar que hay 1356 clientes que cuya serie temporal no está completa o cuyos datos no empiezan en el mismo día que el resto. Según que análisis hagamos de la serie temporal, deberemos eliminar estos casos para graantizar la integridad de la serie temporal a estudiar."
      ]
    },
    {
      "cell_type": "markdown",
      "id": "d483b3b4",
      "metadata": {
        "id": "d483b3b4"
      },
      "source": [
        "### 3.2. Integridad de la serie temporal"
      ]
    },
    {
      "cell_type": "markdown",
      "id": "cef035a4",
      "metadata": {
        "id": "cef035a4"
      },
      "source": [
        "Si establecemos la columna DATETIME con la fecha y hora como índice, tendremos varios valores para un mismo valor del índice. Esto se debe a que tenemos la información desglosada a nivel de cliente. Para ello, vamos a transformar el dataset y trabajar con él de varias formas:\n",
        "1. Caso de uso 1: agrupando por fecha, de forma que calculamos el consumo total de la red de clientes con la que trabajamos.\n",
        "2. Caso de uso 2: agrupando por cliente, de forma que estudiaremos el caso concreto de un cliente.\n",
        "3. Caso de uso 3: agrupando por provincia, de forma que estudiaremos el consumo medio de los clientes de una provincia."
      ]
    }
  ],
  "metadata": {
    "kernelspec": {
      "display_name": "Python 3 (ipykernel)",
      "language": "python",
      "name": "python3"
    },
    "language_info": {
      "codemirror_mode": {
        "name": "ipython",
        "version": 3
      },
      "file_extension": ".py",
      "mimetype": "text/x-python",
      "name": "python",
      "nbconvert_exporter": "python",
      "pygments_lexer": "ipython3",
      "version": "3.10.9"
    },
    "colab": {
      "provenance": []
    }
  },
  "nbformat": 4,
  "nbformat_minor": 5
}