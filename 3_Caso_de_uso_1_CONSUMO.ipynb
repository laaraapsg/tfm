{
  "cells": [
    {
      "cell_type": "markdown",
      "id": "44d85b5b",
      "metadata": {
        "id": "44d85b5b"
      },
      "source": [
        "# TFM: Predicción de la demanda energética - Parte 3: Serie temporal de consumo total de la muestra de clientes (CU 1)\n",
        "#### Lara Palacios\n",
        "\n",
        "En este caso de uso, vamos a analizar la serie temporal del consumo total de la red de clientes."
      ]
    },
    {
      "cell_type": "markdown",
      "source": [
        "## 0. Importación de librerías"
      ],
      "metadata": {
        "id": "5VcX9xCj_jB4"
      },
      "id": "5VcX9xCj_jB4"
    },
    {
      "cell_type": "code",
      "source": [
        "!pip install skforecast"
      ],
      "metadata": {
        "colab": {
          "base_uri": "https://localhost:8080/"
        },
        "id": "tiFej9lf_GQN",
        "outputId": "df0c17a1-1d93-4812-c3c1-cd65c2789da9"
      },
      "id": "tiFej9lf_GQN",
      "execution_count": 1,
      "outputs": [
        {
          "output_type": "stream",
          "name": "stdout",
          "text": [
            "Collecting skforecast\n",
            "  Downloading skforecast-0.12.1-py3-none-any.whl (560 kB)\n",
            "\u001b[2K     \u001b[90m━━━━━━━━━━━━━━━━━━━━━━━━━━━━━━━━━━━━━━━━\u001b[0m \u001b[32m560.6/560.6 kB\u001b[0m \u001b[31m6.7 MB/s\u001b[0m eta \u001b[36m0:00:00\u001b[0m\n",
            "\u001b[?25hRequirement already satisfied: numpy<1.27,>=1.20 in /usr/local/lib/python3.10/dist-packages (from skforecast) (1.25.2)\n",
            "Requirement already satisfied: pandas<2.3,>=1.2 in /usr/local/lib/python3.10/dist-packages (from skforecast) (2.0.3)\n",
            "Requirement already satisfied: tqdm<4.67,>=4.57 in /usr/local/lib/python3.10/dist-packages (from skforecast) (4.66.4)\n",
            "Requirement already satisfied: scikit-learn<1.5,>=1.2 in /usr/local/lib/python3.10/dist-packages (from skforecast) (1.2.2)\n",
            "Collecting optuna<3.7,>=2.10 (from skforecast)\n",
            "  Downloading optuna-3.6.1-py3-none-any.whl (380 kB)\n",
            "\u001b[2K     \u001b[90m━━━━━━━━━━━━━━━━━━━━━━━━━━━━━━━━━━━━━━━━\u001b[0m \u001b[32m380.1/380.1 kB\u001b[0m \u001b[31m29.0 MB/s\u001b[0m eta \u001b[36m0:00:00\u001b[0m\n",
            "\u001b[?25hRequirement already satisfied: joblib<1.5,>=1.1 in /usr/local/lib/python3.10/dist-packages (from skforecast) (1.4.2)\n",
            "Collecting alembic>=1.5.0 (from optuna<3.7,>=2.10->skforecast)\n",
            "  Downloading alembic-1.13.2-py3-none-any.whl (232 kB)\n",
            "\u001b[2K     \u001b[90m━━━━━━━━━━━━━━━━━━━━━━━━━━━━━━━━━━━━━━━━\u001b[0m \u001b[32m233.0/233.0 kB\u001b[0m \u001b[31m11.7 MB/s\u001b[0m eta \u001b[36m0:00:00\u001b[0m\n",
            "\u001b[?25hCollecting colorlog (from optuna<3.7,>=2.10->skforecast)\n",
            "  Downloading colorlog-6.8.2-py3-none-any.whl (11 kB)\n",
            "Requirement already satisfied: packaging>=20.0 in /usr/local/lib/python3.10/dist-packages (from optuna<3.7,>=2.10->skforecast) (24.1)\n",
            "Requirement already satisfied: sqlalchemy>=1.3.0 in /usr/local/lib/python3.10/dist-packages (from optuna<3.7,>=2.10->skforecast) (2.0.31)\n",
            "Requirement already satisfied: PyYAML in /usr/local/lib/python3.10/dist-packages (from optuna<3.7,>=2.10->skforecast) (6.0.1)\n",
            "Requirement already satisfied: python-dateutil>=2.8.2 in /usr/local/lib/python3.10/dist-packages (from pandas<2.3,>=1.2->skforecast) (2.8.2)\n",
            "Requirement already satisfied: pytz>=2020.1 in /usr/local/lib/python3.10/dist-packages (from pandas<2.3,>=1.2->skforecast) (2023.4)\n",
            "Requirement already satisfied: tzdata>=2022.1 in /usr/local/lib/python3.10/dist-packages (from pandas<2.3,>=1.2->skforecast) (2024.1)\n",
            "Requirement already satisfied: scipy>=1.3.2 in /usr/local/lib/python3.10/dist-packages (from scikit-learn<1.5,>=1.2->skforecast) (1.11.4)\n",
            "Requirement already satisfied: threadpoolctl>=2.0.0 in /usr/local/lib/python3.10/dist-packages (from scikit-learn<1.5,>=1.2->skforecast) (3.5.0)\n",
            "Collecting Mako (from alembic>=1.5.0->optuna<3.7,>=2.10->skforecast)\n",
            "  Downloading Mako-1.3.5-py3-none-any.whl (78 kB)\n",
            "\u001b[2K     \u001b[90m━━━━━━━━━━━━━━━━━━━━━━━━━━━━━━━━━━━━━━━━\u001b[0m \u001b[32m78.6/78.6 kB\u001b[0m \u001b[31m5.2 MB/s\u001b[0m eta \u001b[36m0:00:00\u001b[0m\n",
            "\u001b[?25hRequirement already satisfied: typing-extensions>=4 in /usr/local/lib/python3.10/dist-packages (from alembic>=1.5.0->optuna<3.7,>=2.10->skforecast) (4.12.2)\n",
            "Requirement already satisfied: six>=1.5 in /usr/local/lib/python3.10/dist-packages (from python-dateutil>=2.8.2->pandas<2.3,>=1.2->skforecast) (1.16.0)\n",
            "Requirement already satisfied: greenlet!=0.4.17 in /usr/local/lib/python3.10/dist-packages (from sqlalchemy>=1.3.0->optuna<3.7,>=2.10->skforecast) (3.0.3)\n",
            "Requirement already satisfied: MarkupSafe>=0.9.2 in /usr/local/lib/python3.10/dist-packages (from Mako->alembic>=1.5.0->optuna<3.7,>=2.10->skforecast) (2.1.5)\n",
            "Installing collected packages: Mako, colorlog, alembic, optuna, skforecast\n",
            "Successfully installed Mako-1.3.5 alembic-1.13.2 colorlog-6.8.2 optuna-3.6.1 skforecast-0.12.1\n"
          ]
        }
      ]
    },
    {
      "cell_type": "code",
      "source": [
        "!pip install pmdarima"
      ],
      "metadata": {
        "colab": {
          "base_uri": "https://localhost:8080/"
        },
        "id": "uX0QAkI6IKkQ",
        "outputId": "e1cdd684-0a5c-4ac1-ec80-d0271b844597"
      },
      "id": "uX0QAkI6IKkQ",
      "execution_count": 2,
      "outputs": [
        {
          "output_type": "stream",
          "name": "stdout",
          "text": [
            "Requirement already satisfied: pmdarima in /usr/local/lib/python3.10/dist-packages (2.0.4)\n",
            "Requirement already satisfied: joblib>=0.11 in /usr/local/lib/python3.10/dist-packages (from pmdarima) (1.4.2)\n",
            "Requirement already satisfied: Cython!=0.29.18,!=0.29.31,>=0.29 in /usr/local/lib/python3.10/dist-packages (from pmdarima) (3.0.10)\n",
            "Requirement already satisfied: numpy>=1.21.2 in /usr/local/lib/python3.10/dist-packages (from pmdarima) (1.25.2)\n",
            "Requirement already satisfied: pandas>=0.19 in /usr/local/lib/python3.10/dist-packages (from pmdarima) (2.0.3)\n",
            "Requirement already satisfied: scikit-learn>=0.22 in /usr/local/lib/python3.10/dist-packages (from pmdarima) (1.2.2)\n",
            "Requirement already satisfied: scipy>=1.3.2 in /usr/local/lib/python3.10/dist-packages (from pmdarima) (1.11.4)\n",
            "Requirement already satisfied: statsmodels>=0.13.2 in /usr/local/lib/python3.10/dist-packages (from pmdarima) (0.14.2)\n",
            "Requirement already satisfied: urllib3 in /usr/local/lib/python3.10/dist-packages (from pmdarima) (2.0.7)\n",
            "Requirement already satisfied: setuptools!=50.0.0,>=38.6.0 in /usr/local/lib/python3.10/dist-packages (from pmdarima) (67.7.2)\n",
            "Requirement already satisfied: packaging>=17.1 in /usr/local/lib/python3.10/dist-packages (from pmdarima) (24.1)\n",
            "Requirement already satisfied: python-dateutil>=2.8.2 in /usr/local/lib/python3.10/dist-packages (from pandas>=0.19->pmdarima) (2.8.2)\n",
            "Requirement already satisfied: pytz>=2020.1 in /usr/local/lib/python3.10/dist-packages (from pandas>=0.19->pmdarima) (2023.4)\n",
            "Requirement already satisfied: tzdata>=2022.1 in /usr/local/lib/python3.10/dist-packages (from pandas>=0.19->pmdarima) (2024.1)\n",
            "Requirement already satisfied: threadpoolctl>=2.0.0 in /usr/local/lib/python3.10/dist-packages (from scikit-learn>=0.22->pmdarima) (3.5.0)\n",
            "Requirement already satisfied: patsy>=0.5.6 in /usr/local/lib/python3.10/dist-packages (from statsmodels>=0.13.2->pmdarima) (0.5.6)\n",
            "Requirement already satisfied: six in /usr/local/lib/python3.10/dist-packages (from patsy>=0.5.6->statsmodels>=0.13.2->pmdarima) (1.16.0)\n"
          ]
        }
      ]
    },
    {
      "cell_type": "code",
      "execution_count": 66,
      "id": "7574ad22",
      "metadata": {
        "id": "7574ad22"
      },
      "outputs": [],
      "source": [
        "import pandas as pd\n",
        "import numpy as np\n",
        "import json\n",
        "import joblib\n",
        "import matplotlib.pyplot as plt\n",
        "import seaborn as sns\n",
        "from datetime import datetime\n",
        "from io import StringIO\n",
        "import contextlib\n",
        "import re\n",
        "import gc\n",
        "import warnings\n",
        "\n",
        "from sklearn.metrics import mean_absolute_error, mean_squared_error\n",
        "from sklearn.preprocessing import PolynomialFeatures\n",
        "from sklearn.ensemble import RandomForestRegressor\n",
        "\n",
        "from statsmodels.graphics.tsaplots import plot_acf, plot_pacf\n",
        "from statsmodels.tsa.stattools import adfuller, kpss\n",
        "from statsmodels.tsa.seasonal import seasonal_decompose\n",
        "#from statsmodels.tsa.arima.model import ARIMA as stm_ARIMA\n",
        "#from statsmodels.tsa.statespace.sarimax import SARIMAX as stm_SARIMAX\n",
        "\n",
        "from skforecast.ForecasterBaseline import ForecasterEquivalentDate\n",
        "from skforecast.ForecasterAutoreg import ForecasterAutoreg\n",
        "from skforecast.ForecasterAutoregDirect import ForecasterAutoregDirect\n",
        "from skforecast.model_selection import backtesting_forecaster, bayesian_search_forecaster, grid_search_forecaster\n",
        "from skforecast.Sarimax import Sarimax\n",
        "from skforecast.ForecasterSarimax import ForecasterSarimax\n",
        "from skforecast.model_selection_sarimax import backtesting_sarimax, grid_search_sarimax\n",
        "\n",
        "from pmdarima import ARIMA\n",
        "from pmdarima import auto_arima\n",
        "\n",
        "from lightgbm import LGBMRegressor\n",
        "import plotly.graph_objects as go\n",
        "\n",
        "pd.set_option('display.max_colwidth', None)\n",
        "warnings.filterwarnings('ignore')"
      ]
    },
    {
      "cell_type": "code",
      "execution_count": 4,
      "id": "8d1c467b",
      "metadata": {
        "id": "8d1c467b"
      },
      "outputs": [],
      "source": [
        "#### caso de uso2: Serie temporal del consumo de un cliente en particular\n",
        "#Seleccionemos un cliente entre aquellos que hemos visto que tenían la serie temporal completa.\n",
        "\n",
        "#### caso de uso3: Serie temporal del consumo medio de cada municipio/provincia\n",
        "#Agrupamos los clientes por municipio y establecemos un consumo medio."
      ]
    },
    {
      "cell_type": "markdown",
      "id": "29049799",
      "metadata": {
        "id": "29049799"
      },
      "source": [
        "## 3. Preparación de los datos"
      ]
    },
    {
      "cell_type": "markdown",
      "source": [
        "### 3.2. Integridad de la serie temporal"
      ],
      "metadata": {
        "id": "2x0AATTv_q10"
      },
      "id": "2x0AATTv_q10"
    },
    {
      "cell_type": "markdown",
      "source": [
        "#### 3.2.0. Carga de los datos"
      ],
      "metadata": {
        "id": "Xuj7t1yA_q5n"
      },
      "id": "Xuj7t1yA_q5n"
    },
    {
      "cell_type": "code",
      "source": [
        "#conexión a google drive\n",
        "from google.colab import drive\n",
        "drive.mount('/content/drive')"
      ],
      "metadata": {
        "colab": {
          "base_uri": "https://localhost:8080/"
        },
        "id": "16Js13CPAxxo",
        "outputId": "005e7f0e-dbaa-437e-fb51-fe8b9612cfc0"
      },
      "id": "16Js13CPAxxo",
      "execution_count": 5,
      "outputs": [
        {
          "output_type": "stream",
          "name": "stdout",
          "text": [
            "Mounted at /content/drive\n"
          ]
        }
      ]
    },
    {
      "cell_type": "code",
      "execution_count": 6,
      "id": "3f66a77b",
      "metadata": {
        "colab": {
          "base_uri": "https://localhost:8080/"
        },
        "id": "3f66a77b",
        "outputId": "0a786f89-bfd1-4058-aeab-0428cbb4e130"
      },
      "outputs": [
        {
          "output_type": "execute_result",
          "data": {
            "text/plain": [
              "(15140750, 26)"
            ]
          },
          "metadata": {},
          "execution_count": 6
        }
      ],
      "source": [
        "df_preprocesado = pd.read_parquet('/content/drive/MyDrive/TFM/df_preprocesado_red.parquet')\n",
        "df_preprocesado.shape"
      ]
    },
    {
      "cell_type": "code",
      "execution_count": 7,
      "id": "7b2aa8e2",
      "metadata": {
        "colab": {
          "base_uri": "https://localhost:8080/"
        },
        "id": "7b2aa8e2",
        "outputId": "cacfb4ef-1153-474c-a47a-16fe54bd1263"
      },
      "outputs": [
        {
          "output_type": "execute_result",
          "data": {
            "text/plain": [
              "(11137, 4)"
            ]
          },
          "metadata": {},
          "execution_count": 7
        }
      ],
      "source": [
        "seleccionar_clientes = pd.read_parquet('/content/drive/MyDrive/TFM/seleccionar_clientes.parquet')\n",
        "seleccionar_clientes.shape"
      ]
    },
    {
      "cell_type": "markdown",
      "id": "657ebb90",
      "metadata": {
        "id": "657ebb90"
      },
      "source": [
        "Añadiendo condiciones sobre el dataframe 'seleccionar_clientes' podemos descartar a clientes que no cumplan condiciones de integridad."
      ]
    },
    {
      "cell_type": "code",
      "execution_count": 8,
      "id": "c3f0b339",
      "metadata": {
        "colab": {
          "base_uri": "https://localhost:8080/"
        },
        "id": "c3f0b339",
        "outputId": "4cb0559b-9221-4ee0-d76c-617bb6a8a67c"
      },
      "outputs": [
        {
          "output_type": "execute_result",
          "data": {
            "text/plain": [
              "(9781, 4)"
            ]
          },
          "metadata": {},
          "execution_count": 8
        }
      ],
      "source": [
        "filtro_clientes = seleccionar_clientes[(seleccionar_clientes['FILAS_NA'] == 0) & (seleccionar_clientes['INICIO'] == seleccionar_clientes['INICIO'].min())].reset_index(drop = True)\n",
        "filtro_clientes.shape"
      ]
    },
    {
      "cell_type": "code",
      "execution_count": 9,
      "id": "bcd19fea",
      "metadata": {
        "colab": {
          "base_uri": "https://localhost:8080/"
        },
        "id": "bcd19fea",
        "outputId": "02e5423d-500c-4923-a096-76c68a5b19eb"
      },
      "outputs": [
        {
          "output_type": "execute_result",
          "data": {
            "text/plain": [
              "(13510134, 26)"
            ]
          },
          "metadata": {},
          "execution_count": 9
        }
      ],
      "source": [
        "df = df_preprocesado[df_preprocesado['PK_CLIENTE'].isin(filtro_clientes['PK_CLIENTE'])]\n",
        "df.shape"
      ]
    },
    {
      "cell_type": "code",
      "source": [
        "#para liberar espacio de la RAM en Google Colab\n",
        "del filtro_clientes\n",
        "gc.collect()\n",
        "filtro_clientes=pd.DataFrame()"
      ],
      "metadata": {
        "id": "cPZ2Yi8MLU9e"
      },
      "id": "cPZ2Yi8MLU9e",
      "execution_count": 10,
      "outputs": []
    },
    {
      "cell_type": "markdown",
      "id": "277ea050",
      "metadata": {
        "id": "277ea050"
      },
      "source": [
        "#### 3.2.1. Formato de serie temporal"
      ]
    },
    {
      "cell_type": "markdown",
      "source": [
        "Veamos cuantos datos de clientes distintos tenemos para cada día de la serie. Así aseguraremos que tenemos una serie con las mismas condiciones en cada día."
      ],
      "metadata": {
        "id": "QkudH1OvQ4oL"
      },
      "id": "QkudH1OvQ4oL"
    },
    {
      "cell_type": "code",
      "execution_count": 11,
      "id": "43775a22",
      "metadata": {
        "id": "43775a22"
      },
      "outputs": [],
      "source": [
        "clientes_por_fecha = df.groupby(df.PK_ANYOMESDIA).agg({'PK_CLIENTE': 'nunique'}).rename(columns={'PK_CLIENTE': 'count_PK_CLIENTE'}).reset_index()\n",
        "clientes_por_fecha['PK_ANYOMESDIA'] = clientes_por_fecha['PK_ANYOMESDIA'].dt.date"
      ]
    },
    {
      "cell_type": "code",
      "execution_count": 12,
      "id": "1653fa89",
      "metadata": {
        "colab": {
          "base_uri": "https://localhost:8080/",
          "height": 333
        },
        "id": "1653fa89",
        "outputId": "7084ab1e-644e-43ab-b967-9f7cc594ad2e"
      },
      "outputs": [
        {
          "output_type": "display_data",
          "data": {
            "text/plain": [
              "<Figure size 1200x300 with 1 Axes>"
            ],
            "image/png": "[encoded data removed]"
          },
          "metadata": {}
        }
      ],
      "source": [
        "plt.figure(figsize=(12, 3))\n",
        "sns.barplot(x = \"PK_ANYOMESDIA\", y = \"count_PK_CLIENTE\", data = clientes_por_fecha)\n",
        "plt.xticks(rotation=45)\n",
        "plt.gca().xaxis.set_major_locator(plt.MaxNLocator(nbins=10))\n",
        "plt.title('Clientes distintos para cada día de la serie temporal')\n",
        "plt.show()"
      ]
    },
    {
      "cell_type": "markdown",
      "id": "324ede64",
      "metadata": {
        "id": "324ede64"
      },
      "source": [
        "Vemos que para los últimos días se reduce notablemente el número de clientes para los que tenemos datos. Calculamos los outliers de nuevo con el método del rango intercuartílico y así los eliminamos de nuestra serie temporal."
      ]
    },
    {
      "cell_type": "code",
      "execution_count": 13,
      "id": "22b6330c",
      "metadata": {
        "id": "22b6330c"
      },
      "outputs": [],
      "source": [
        "Q1 = clientes_por_fecha['count_PK_CLIENTE'].quantile(0.25)\n",
        "Q3 = clientes_por_fecha['count_PK_CLIENTE'].quantile(0.75)\n",
        "IQR = Q3 - Q1\n",
        "limite_inferior = Q1 - 1.5 * IQR\n",
        "limite_superior = Q3 + 1.5 * IQR\n",
        "\n",
        "df_filtrado = clientes_por_fecha[(clientes_por_fecha['count_PK_CLIENTE'] >= limite_inferior) & (clientes_por_fecha['count_PK_CLIENTE'] <= limite_superior)]\n",
        "fecha_min = df_filtrado['PK_ANYOMESDIA'].min()\n",
        "fecha_max = df_filtrado['PK_ANYOMESDIA'].max()"
      ]
    },
    {
      "cell_type": "code",
      "execution_count": 14,
      "id": "c997d950",
      "metadata": {
        "colab": {
          "base_uri": "https://localhost:8080/",
          "height": 333
        },
        "id": "c997d950",
        "outputId": "eefbbe28-c12a-4727-acfa-e890b1845389"
      },
      "outputs": [
        {
          "output_type": "display_data",
          "data": {
            "text/plain": [
              "<Figure size 1200x300 with 1 Axes>"
            ],
            "image/png": "[encoded data removed]"
          },
          "metadata": {}
        }
      ],
      "source": [
        "plt.figure(figsize=(12, 3))\n",
        "sns.barplot(x = \"PK_ANYOMESDIA\", y = \"count_PK_CLIENTE\", data = df_filtrado)\n",
        "plt.xticks(rotation=45)\n",
        "plt.gca().xaxis.set_major_locator(plt.MaxNLocator(nbins=10))\n",
        "plt.title('Clientes distintos para cada día de la serie temporal sin outliers')\n",
        "plt.show()"
      ]
    },
    {
      "cell_type": "code",
      "source": [
        "#para liberar espacio de la RAM en Google Colab\n",
        "del df_filtrado\n",
        "gc.collect()\n",
        "df_filtrado=pd.DataFrame()"
      ],
      "metadata": {
        "id": "SYxIzbGqMO48"
      },
      "id": "SYxIzbGqMO48",
      "execution_count": 15,
      "outputs": []
    },
    {
      "cell_type": "markdown",
      "id": "f6f75e22",
      "metadata": {
        "id": "f6f75e22"
      },
      "source": [
        "Así pues, consideraremos solo estos días en nuestra serie temporal del consumo total de la red de clientes. Además, también nos quedamos solo con los clientes que tengan datos para todos estos días."
      ]
    },
    {
      "cell_type": "code",
      "execution_count": 16,
      "id": "c8ae1b92",
      "metadata": {
        "colab": {
          "base_uri": "https://localhost:8080/"
        },
        "id": "c8ae1b92",
        "outputId": "892008fe-f02d-4c79-924b-fb04434368ac"
      },
      "outputs": [
        {
          "output_type": "execute_result",
          "data": {
            "text/plain": [
              "(11605728, 26)"
            ]
          },
          "metadata": {},
          "execution_count": 16
        }
      ],
      "source": [
        "filtro_clientes_2 = seleccionar_clientes[(seleccionar_clientes['FILAS_NA'] == 0) & (seleccionar_clientes['INICIO'] == seleccionar_clientes['INICIO'].min()) & (seleccionar_clientes['FIN'].dt.date > fecha_max)].reset_index(drop = True)\n",
        "df = df_preprocesado[df_preprocesado['PK_CLIENTE'].isin(filtro_clientes_2['PK_CLIENTE'])]\n",
        "df = df[(df['DATETIME'].dt.date >= fecha_min) & (df['DATETIME'].dt.date <= fecha_max)]\n",
        "df.shape"
      ]
    },
    {
      "cell_type": "code",
      "source": [
        "#para liberar espacio de la RAM en Google Colab\n",
        "del df_preprocesado\n",
        "gc.collect()\n",
        "df_preprocesado=pd.DataFrame()"
      ],
      "metadata": {
        "id": "zD30SXDsMXEL"
      },
      "id": "zD30SXDsMXEL",
      "execution_count": 17,
      "outputs": []
    },
    {
      "cell_type": "code",
      "source": [
        "#para liberar espacio de la RAM en Google Colab\n",
        "del filtro_clientes_2\n",
        "gc.collect()\n",
        "filtro_clientes_2=pd.DataFrame()"
      ],
      "metadata": {
        "id": "koGFHrUaPIXM"
      },
      "id": "koGFHrUaPIXM",
      "execution_count": 18,
      "outputs": []
    },
    {
      "cell_type": "markdown",
      "id": "d3109618",
      "metadata": {
        "id": "d3109618"
      },
      "source": [
        "Seleccionamos alguna variable más que luego nos servirá para añadir como variable exógena al modelo predictivo:"
      ]
    },
    {
      "cell_type": "code",
      "execution_count": 19,
      "id": "d4ab1b2d",
      "metadata": {
        "id": "d4ab1b2d"
      },
      "outputs": [],
      "source": [
        "df['ORTO_minutos'] = df['ORTO'].apply(lambda x: int(x.split(':')[0]) * 60 + int(x.split(':')[1]))\n",
        "df['OCASO_minutos'] = df['OCASO'].apply(lambda x: int(x.split(':')[0]) * 60 + int(x.split(':')[1]))\n",
        "df['%_CIELO_DESPEJADO'] = np.where(df['DESCRIPCION'] == 'Despejado',100,0)"
      ]
    },
    {
      "cell_type": "code",
      "execution_count": 20,
      "id": "229d07ba",
      "metadata": {
        "id": "229d07ba"
      },
      "outputs": [],
      "source": [
        "df_consumo_total = df.groupby(df['DATETIME']).agg({'CONSUMO': 'sum', 'ENTRADA': 'sum', 'SALIDA':'sum', 'TEMPERATURA':'mean', '%_CIELO_DESPEJADO':'mean', 'ORTO_minutos':'mean', 'OCASO_minutos':'mean'})\n",
        "df_consumo_total = df_consumo_total.asfreq('H')\n",
        "#df_consumo_total = df_consumo_total.set_index('DATETIME').asfreq('H')"
      ]
    },
    {
      "cell_type": "code",
      "source": [
        "#para liberar espacio de la RAM en Google Colab\n",
        "del df\n",
        "gc.collect()\n",
        "df=pd.DataFrame()"
      ],
      "metadata": {
        "id": "hcPIYSkGPYeL"
      },
      "id": "hcPIYSkGPYeL",
      "execution_count": 21,
      "outputs": []
    },
    {
      "cell_type": "markdown",
      "id": "5d44429f",
      "metadata": {
        "id": "5d44429f"
      },
      "source": [
        "Así obtenemos una serie temporal con los mismos clientes para cada valor del índice. Notar que vamos a trabajar con 9.124 clientes de los 11.786 que teníamos inicialmente."
      ]
    },
    {
      "cell_type": "markdown",
      "id": "e60b8c5d",
      "metadata": {
        "id": "e60b8c5d"
      },
      "source": [
        "Con el agrupamiento por la columna DATETIME, ya se establece esta como índice (que es lo que nos interesa). Esta tarea nos facilitará a la hora de hacer futuras operaciones con ella.\n",
        "\n",
        "Comprobamos ahora que nuestra serie temporal está completa:"
      ]
    },
    {
      "cell_type": "code",
      "execution_count": 22,
      "id": "3d53a496",
      "metadata": {
        "colab": {
          "base_uri": "https://localhost:8080/"
        },
        "id": "3d53a496",
        "outputId": "a72e1d26-184b-4cd7-8746-e144c546ddd2"
      },
      "outputs": [
        {
          "output_type": "execute_result",
          "data": {
            "text/plain": [
              "True"
            ]
          },
          "metadata": {},
          "execution_count": 22
        }
      ],
      "source": [
        "(df_consumo_total.index == pd.date_range(start=df_consumo_total.index.min(), end=df_consumo_total.index.max(), freq='H')).all()"
      ]
    },
    {
      "cell_type": "code",
      "execution_count": 23,
      "id": "522ac629",
      "metadata": {
        "colab": {
          "base_uri": "https://localhost:8080/"
        },
        "id": "522ac629",
        "outputId": "3eafcc9d-c8ab-4863-939b-510a2dbf16e3"
      },
      "outputs": [
        {
          "output_type": "stream",
          "name": "stdout",
          "text": [
            "Filas con valores ausentes: 0.0\n"
          ]
        }
      ],
      "source": [
        "print(f\"Filas con valores ausentes: {df_consumo_total.isnull().any(axis=1).mean()}\")"
      ]
    },
    {
      "cell_type": "markdown",
      "id": "2f30499d",
      "metadata": {
        "id": "2f30499d"
      },
      "source": [
        "#### 3.2.2. Variables exógenas"
      ]
    },
    {
      "cell_type": "markdown",
      "source": [
        "Podemos introducir otras variables de las cuáles podría depender también el consumo de un hogar, y que se incluyen típicamente en análisis de series temporales como son: el día de la semana y el indicador de si es fin de semana o no.\n",
        "Las usaremos más adelante para cuando queramos incluir variables exógenas a nuestros modelos predictivos."
      ],
      "metadata": {
        "id": "7Kog0OqxQ9NG"
      },
      "id": "7Kog0OqxQ9NG"
    },
    {
      "cell_type": "code",
      "execution_count": 24,
      "id": "c124f827",
      "metadata": {
        "id": "c124f827"
      },
      "outputs": [],
      "source": [
        "def minutos_a_formato_h(var_minutos):\n",
        "    horas = int(var_minutos // 60)\n",
        "    minutos = int(var_minutos % 60)\n",
        "    var_formateada = f\"{horas:02d}:{minutos:02d}\"\n",
        "    var_formateada = pd.to_datetime(var_formateada, format='%H:%M').hour\n",
        "    return var_formateada"
      ]
    },
    {
      "cell_type": "code",
      "execution_count": 25,
      "id": "049e436d",
      "metadata": {
        "id": "049e436d"
      },
      "outputs": [],
      "source": [
        "#variables de calendario\n",
        "df_consumo_total['HORA'] = df_consumo_total.index.hour #+1\n",
        "df_consumo_total['DIA_SEMANA'] = df_consumo_total.index.dayofweek #+1\n",
        "df_consumo_total['FIN_DE_SEMANA'] = (df_consumo_total['DIA_SEMANA'] >= 5).astype(int)\n",
        "#variables de luz solar\n",
        "df_consumo_total['H_LUZ_SOLAR'] = (df_consumo_total['OCASO_minutos'] - df_consumo_total['ORTO_minutos'])\n",
        "df_consumo_total['H_LUZ_SOLAR'] = df_consumo_total['H_LUZ_SOLAR'].apply(minutos_a_formato_h)\n",
        "df_consumo_total['ORTO'] = df_consumo_total['ORTO_minutos'].apply(minutos_a_formato_h)\n",
        "df_consumo_total['OCASO'] = df_consumo_total['OCASO_minutos'].apply(minutos_a_formato_h)\n",
        "df_consumo_total[\"ES_DE_DIA\"] = np.where((df_consumo_total.index.hour>df_consumo_total[\"ORTO\"]) & (df_consumo_total.index.hour<df_consumo_total[\"OCASO\"]),1,0)\n",
        "df_consumo_total = df_consumo_total.drop(columns = ['OCASO_minutos', 'ORTO_minutos'])"
      ]
    },
    {
      "cell_type": "code",
      "execution_count": 26,
      "id": "c6e92056",
      "metadata": {
        "colab": {
          "base_uri": "https://localhost:8080/",
          "height": 431
        },
        "id": "c6e92056",
        "outputId": "ff3af48c-9c08-4ebb-c882-0ac8cb93a2c4"
      },
      "outputs": [
        {
          "output_type": "execute_result",
          "data": {
            "text/plain": [
              "                      CONSUMO   ENTRADA  SALIDA  TEMPERATURA  \\\n",
              "DATETIME                                                       \n",
              "2022-11-09 00:00:00  7163.416  7166.134   2.718    14.036716   \n",
              "2022-11-09 01:00:00  6724.624  6726.112   1.488    13.749014   \n",
              "2022-11-09 02:00:00  6453.883  6455.232   1.349    14.103354   \n",
              "2022-11-09 03:00:00  6413.837  6415.334   1.497    13.727970   \n",
              "2022-11-09 04:00:00  6561.450  6563.574   2.124    13.342722   \n",
              "\n",
              "                     %_CIELO_DESPEJADO  HORA  DIA_SEMANA  FIN_DE_SEMANA  \\\n",
              "DATETIME                                                                  \n",
              "2022-11-09 00:00:00           2.444103     0           2              0   \n",
              "2022-11-09 01:00:00           0.997370     1           2              0   \n",
              "2022-11-09 02:00:00           1.446734     2           2              0   \n",
              "2022-11-09 03:00:00           0.230162     3           2              0   \n",
              "2022-11-09 04:00:00           0.295923     4           2              0   \n",
              "\n",
              "                     H_LUZ_SOLAR  ORTO  OCASO  ES_DE_DIA  \n",
              "DATETIME                                                  \n",
              "2022-11-09 00:00:00           10     7     17          0  \n",
              "2022-11-09 01:00:00           10     7     17          0  \n",
              "2022-11-09 02:00:00           10     7     17          0  \n",
              "2022-11-09 03:00:00           10     7     17          0  \n",
              "2022-11-09 04:00:00           10     7     17          0  "
            ],
            "text/html": [
              "\n",
              "  <div id=\"df-d4628d6f-8591-4ea4-ab04-15a80ee908ee\" class=\"colab-df-container\">\n",
              "    <div>\n",
              "<style scoped>\n",
              "    .dataframe tbody tr th:only-of-type {\n",
              "        vertical-align: middle;\n",
              "    }\n",
              "\n",
              "    .dataframe tbody tr th {\n",
              "        vertical-align: top;\n",
              "    }\n",
              "\n",
              "    .dataframe thead th {\n",
              "        text-align: right;\n",
              "    }\n",
              "</style>\n",
              "<table border=\"1\" class=\"dataframe\">\n",
              "  <thead>\n",
              "    <tr style=\"text-align: right;\">\n",
              "      <th></th>\n",
              "      <th>CONSUMO</th>\n",
              "      <th>ENTRADA</th>\n",
              "      <th>SALIDA</th>\n",
              "      <th>TEMPERATURA</th>\n",
              "      <th>%_CIELO_DESPEJADO</th>\n",
              "      <th>HORA</th>\n",
              "      <th>DIA_SEMANA</th>\n",
              "      <th>FIN_DE_SEMANA</th>\n",
              "      <th>H_LUZ_SOLAR</th>\n",
              "      <th>ORTO</th>\n",
              "      <th>OCASO</th>\n",
              "      <th>ES_DE_DIA</th>\n",
              "    </tr>\n",
              "    <tr>\n",
              "      <th>DATETIME</th>\n",
              "      <th></th>\n",
              "      <th></th>\n",
              "      <th></th>\n",
              "      <th></th>\n",
              "      <th></th>\n",
              "      <th></th>\n",
              "      <th></th>\n",
              "      <th></th>\n",
              "      <th></th>\n",
              "      <th></th>\n",
              "      <th></th>\n",
              "      <th></th>\n",
              "    </tr>\n",
              "  </thead>\n",
              "  <tbody>\n",
              "    <tr>\n",
              "      <th>2022-11-09 00:00:00</th>\n",
              "      <td>7163.416</td>\n",
              "      <td>7166.134</td>\n",
              "      <td>2.718</td>\n",
              "      <td>14.036716</td>\n",
              "      <td>2.444103</td>\n",
              "      <td>0</td>\n",
              "      <td>2</td>\n",
              "      <td>0</td>\n",
              "      <td>10</td>\n",
              "      <td>7</td>\n",
              "      <td>17</td>\n",
              "      <td>0</td>\n",
              "    </tr>\n",
              "    <tr>\n",
              "      <th>2022-11-09 01:00:00</th>\n",
              "      <td>6724.624</td>\n",
              "      <td>6726.112</td>\n",
              "      <td>1.488</td>\n",
              "      <td>13.749014</td>\n",
              "      <td>0.997370</td>\n",
              "      <td>1</td>\n",
              "      <td>2</td>\n",
              "      <td>0</td>\n",
              "      <td>10</td>\n",
              "      <td>7</td>\n",
              "      <td>17</td>\n",
              "      <td>0</td>\n",
              "    </tr>\n",
              "    <tr>\n",
              "      <th>2022-11-09 02:00:00</th>\n",
              "      <td>6453.883</td>\n",
              "      <td>6455.232</td>\n",
              "      <td>1.349</td>\n",
              "      <td>14.103354</td>\n",
              "      <td>1.446734</td>\n",
              "      <td>2</td>\n",
              "      <td>2</td>\n",
              "      <td>0</td>\n",
              "      <td>10</td>\n",
              "      <td>7</td>\n",
              "      <td>17</td>\n",
              "      <td>0</td>\n",
              "    </tr>\n",
              "    <tr>\n",
              "      <th>2022-11-09 03:00:00</th>\n",
              "      <td>6413.837</td>\n",
              "      <td>6415.334</td>\n",
              "      <td>1.497</td>\n",
              "      <td>13.727970</td>\n",
              "      <td>0.230162</td>\n",
              "      <td>3</td>\n",
              "      <td>2</td>\n",
              "      <td>0</td>\n",
              "      <td>10</td>\n",
              "      <td>7</td>\n",
              "      <td>17</td>\n",
              "      <td>0</td>\n",
              "    </tr>\n",
              "    <tr>\n",
              "      <th>2022-11-09 04:00:00</th>\n",
              "      <td>6561.450</td>\n",
              "      <td>6563.574</td>\n",
              "      <td>2.124</td>\n",
              "      <td>13.342722</td>\n",
              "      <td>0.295923</td>\n",
              "      <td>4</td>\n",
              "      <td>2</td>\n",
              "      <td>0</td>\n",
              "      <td>10</td>\n",
              "      <td>7</td>\n",
              "      <td>17</td>\n",
              "      <td>0</td>\n",
              "    </tr>\n",
              "  </tbody>\n",
              "</table>\n",
              "</div>\n",
              "    <div class=\"colab-df-buttons\">\n",
              "\n",
              "  <div class=\"colab-df-container\">\n",
              "    <button class=\"colab-df-convert\" onclick=\"convertToInteractive('df-d4628d6f-8591-4ea4-ab04-15a80ee908ee')\"\n",
              "            title=\"Convert this dataframe to an interactive table.\"\n",
              "            style=\"display:none;\">\n",
              "\n",
              "  <svg xmlns=\"http://www.w3.org/2000/svg\" height=\"24px\" viewBox=\"0 -960 960 960\">\n",
              "    <path d=\"M120-120v-720h720v720H120Zm60-500h600v-160H180v160Zm220 220h160v-160H400v160Zm0 220h160v-160H400v160ZM180-400h160v-160H180v160Zm440 0h160v-160H620v160ZM180-180h160v-160H180v160Zm440 0h160v-160H620v160Z\"/>\n",
              "  </svg>\n",
              "    </button>\n",
              "\n",
              "  <style>\n",
              "    .colab-df-container {\n",
              "      display:flex;\n",
              "      gap: 12px;\n",
              "    }\n",
              "\n",
              "    .colab-df-convert {\n",
              "      background-color: #E8F0FE;\n",
              "      border: none;\n",
              "      border-radius: 50%;\n",
              "      cursor: pointer;\n",
              "      display: none;\n",
              "      fill: #1967D2;\n",
              "      height: 32px;\n",
              "      padding: 0 0 0 0;\n",
              "      width: 32px;\n",
              "    }\n",
              "\n",
              "    .colab-df-convert:hover {\n",
              "      background-color: #E2EBFA;\n",
              "      box-shadow: 0px 1px 2px rgba(60, 64, 67, 0.3), 0px 1px 3px 1px rgba(60, 64, 67, 0.15);\n",
              "      fill: #174EA6;\n",
              "    }\n",
              "\n",
              "    .colab-df-buttons div {\n",
              "      margin-bottom: 4px;\n",
              "    }\n",
              "\n",
              "    [theme=dark] .colab-df-convert {\n",
              "      background-color: #3B4455;\n",
              "      fill: #D2E3FC;\n",
              "    }\n",
              "\n",
              "    [theme=dark] .colab-df-convert:hover {\n",
              "      background-color: #434B5C;\n",
              "      box-shadow: 0px 1px 3px 1px rgba(0, 0, 0, 0.15);\n",
              "      filter: drop-shadow(0px 1px 2px rgba(0, 0, 0, 0.3));\n",
              "      fill: #FFFFFF;\n",
              "    }\n",
              "  </style>\n",
              "\n",
              "    <script>\n",
              "      const buttonEl =\n",
              "        document.querySelector('#df-d4628d6f-8591-4ea4-ab04-15a80ee908ee button.colab-df-convert');\n",
              "      buttonEl.style.display =\n",
              "        google.colab.kernel.accessAllowed ? 'block' : 'none';\n",
              "\n",
              "      async function convertToInteractive(key) {\n",
              "        const element = document.querySelector('#df-d4628d6f-8591-4ea4-ab04-15a80ee908ee');\n",
              "        const dataTable =\n",
              "          await google.colab.kernel.invokeFunction('convertToInteractive',\n",
              "                                                    [key], {});\n",
              "        if (!dataTable) return;\n",
              "\n",
              "        const docLinkHtml = 'Like what you see? Visit the ' +\n",
              "          '<a target=\"_blank\" href=https://colab.research.google.com/notebooks/data_table.ipynb>data table notebook</a>'\n",
              "          + ' to learn more about interactive tables.';\n",
              "        element.innerHTML = '';\n",
              "        dataTable['output_type'] = 'display_data';\n",
              "        await google.colab.output.renderOutput(dataTable, element);\n",
              "        const docLink = document.createElement('div');\n",
              "        docLink.innerHTML = docLinkHtml;\n",
              "        element.appendChild(docLink);\n",
              "      }\n",
              "    </script>\n",
              "  </div>\n",
              "\n",
              "\n",
              "<div id=\"df-05eba240-c7cd-47e9-a966-d4785fe5e27e\">\n",
              "  <button class=\"colab-df-quickchart\" onclick=\"quickchart('df-05eba240-c7cd-47e9-a966-d4785fe5e27e')\"\n",
              "            title=\"Suggest charts\"\n",
              "            style=\"display:none;\">\n",
              "\n",
              "<svg xmlns=\"http://www.w3.org/2000/svg\" height=\"24px\"viewBox=\"0 0 24 24\"\n",
              "     width=\"24px\">\n",
              "    <g>\n",
              "        <path d=\"M19 3H5c-1.1 0-2 .9-2 2v14c0 1.1.9 2 2 2h14c1.1 0 2-.9 2-2V5c0-1.1-.9-2-2-2zM9 17H7v-7h2v7zm4 0h-2V7h2v10zm4 0h-2v-4h2v4z\"/>\n",
              "    </g>\n",
              "</svg>\n",
              "  </button>\n",
              "\n",
              "<style>\n",
              "  .colab-df-quickchart {\n",
              "      --bg-color: #E8F0FE;\n",
              "      --fill-color: #1967D2;\n",
              "      --hover-bg-color: #E2EBFA;\n",
              "      --hover-fill-color: #174EA6;\n",
              "      --disabled-fill-color: #AAA;\n",
              "      --disabled-bg-color: #DDD;\n",
              "  }\n",
              "\n",
              "  [theme=dark] .colab-df-quickchart {\n",
              "      --bg-color: #3B4455;\n",
              "      --fill-color: #D2E3FC;\n",
              "      --hover-bg-color: #434B5C;\n",
              "      --hover-fill-color: #FFFFFF;\n",
              "      --disabled-bg-color: #3B4455;\n",
              "      --disabled-fill-color: #666;\n",
              "  }\n",
              "\n",
              "  .colab-df-quickchart {\n",
              "    background-color: var(--bg-color);\n",
              "    border: none;\n",
              "    border-radius: 50%;\n",
              "    cursor: pointer;\n",
              "    display: none;\n",
              "    fill: var(--fill-color);\n",
              "    height: 32px;\n",
              "    padding: 0;\n",
              "    width: 32px;\n",
              "  }\n",
              "\n",
              "  .colab-df-quickchart:hover {\n",
              "    background-color: var(--hover-bg-color);\n",
              "    box-shadow: 0 1px 2px rgba(60, 64, 67, 0.3), 0 1px 3px 1px rgba(60, 64, 67, 0.15);\n",
              "    fill: var(--button-hover-fill-color);\n",
              "  }\n",
              "\n",
              "  .colab-df-quickchart-complete:disabled,\n",
              "  .colab-df-quickchart-complete:disabled:hover {\n",
              "    background-color: var(--disabled-bg-color);\n",
              "    fill: var(--disabled-fill-color);\n",
              "    box-shadow: none;\n",
              "  }\n",
              "\n",
              "  .colab-df-spinner {\n",
              "    border: 2px solid var(--fill-color);\n",
              "    border-color: transparent;\n",
              "    border-bottom-color: var(--fill-color);\n",
              "    animation:\n",
              "      spin 1s steps(1) infinite;\n",
              "  }\n",
              "\n",
              "  @keyframes spin {\n",
              "    0% {\n",
              "      border-color: transparent;\n",
              "      border-bottom-color: var(--fill-color);\n",
              "      border-left-color: var(--fill-color);\n",
              "    }\n",
              "    20% {\n",
              "      border-color: transparent;\n",
              "      border-left-color: var(--fill-color);\n",
              "      border-top-color: var(--fill-color);\n",
              "    }\n",
              "    30% {\n",
              "      border-color: transparent;\n",
              "      border-left-color: var(--fill-color);\n",
              "      border-top-color: var(--fill-color);\n",
              "      border-right-color: var(--fill-color);\n",
              "    }\n",
              "    40% {\n",
              "      border-color: transparent;\n",
              "      border-right-color: var(--fill-color);\n",
              "      border-top-color: var(--fill-color);\n",
              "    }\n",
              "    60% {\n",
              "      border-color: transparent;\n",
              "      border-right-color: var(--fill-color);\n",
              "    }\n",
              "    80% {\n",
              "      border-color: transparent;\n",
              "      border-right-color: var(--fill-color);\n",
              "      border-bottom-color: var(--fill-color);\n",
              "    }\n",
              "    90% {\n",
              "      border-color: transparent;\n",
              "      border-bottom-color: var(--fill-color);\n",
              "    }\n",
              "  }\n",
              "</style>\n",
              "\n",
              "  <script>\n",
              "    async function quickchart(key) {\n",
              "      const quickchartButtonEl =\n",
              "        document.querySelector('#' + key + ' button');\n",
              "      quickchartButtonEl.disabled = true;  // To prevent multiple clicks.\n",
              "      quickchartButtonEl.classList.add('colab-df-spinner');\n",
              "      try {\n",
              "        const charts = await google.colab.kernel.invokeFunction(\n",
              "            'suggestCharts', [key], {});\n",
              "      } catch (error) {\n",
              "        console.error('Error during call to suggestCharts:', error);\n",
              "      }\n",
              "      quickchartButtonEl.classList.remove('colab-df-spinner');\n",
              "      quickchartButtonEl.classList.add('colab-df-quickchart-complete');\n",
              "    }\n",
              "    (() => {\n",
              "      let quickchartButtonEl =\n",
              "        document.querySelector('#df-05eba240-c7cd-47e9-a966-d4785fe5e27e button');\n",
              "      quickchartButtonEl.style.display =\n",
              "        google.colab.kernel.accessAllowed ? 'block' : 'none';\n",
              "    })();\n",
              "  </script>\n",
              "</div>\n",
              "\n",
              "    </div>\n",
              "  </div>\n"
            ],
            "application/vnd.google.colaboratory.intrinsic+json": {
              "type": "dataframe",
              "variable_name": "df_consumo_total",
              "summary": "{\n  \"name\": \"df_consumo_total\",\n  \"rows\": 1272,\n  \"fields\": [\n    {\n      \"column\": \"DATETIME\",\n      \"properties\": {\n        \"dtype\": \"date\",\n        \"min\": \"2022-11-09 00:00:00\",\n        \"max\": \"2022-12-31 23:00:00\",\n        \"num_unique_values\": 1272,\n        \"samples\": [\n          \"2022-11-17 16:00:00\",\n          \"2022-12-19 06:00:00\",\n          \"2022-12-08 18:00:00\"\n        ],\n        \"semantic_type\": \"\",\n        \"description\": \"\"\n      }\n    },\n    {\n      \"column\": \"CONSUMO\",\n      \"properties\": {\n        \"dtype\": \"number\",\n        \"std\": 4206.224114029801,\n        \"min\": -9508.981,\n        \"max\": 14059.332,\n        \"num_unique_values\": 1272,\n        \"samples\": [\n          7239.851,\n          9801.456,\n          9459.566\n        ],\n        \"semantic_type\": \"\",\n        \"description\": \"\"\n      }\n    },\n    {\n      \"column\": \"ENTRADA\",\n      \"properties\": {\n        \"dtype\": \"number\",\n        \"std\": 2357.5467217599753,\n        \"min\": 1552.695,\n        \"max\": 14080.496,\n        \"num_unique_values\": 1272,\n        \"samples\": [\n          8403.752,\n          9803.895,\n          9463.122\n        ],\n        \"semantic_type\": \"\",\n        \"description\": \"\"\n      }\n    },\n    {\n      \"column\": \"SALIDA\",\n      \"properties\": {\n        \"dtype\": \"number\",\n        \"std\": 2343.399236604458,\n        \"min\": 0.35100000000000003,\n        \"max\": 11229.267,\n        \"num_unique_values\": 1239,\n        \"samples\": [\n          7066.907,\n          6.051,\n          3.118\n        ],\n        \"semantic_type\": \"\",\n        \"description\": \"\"\n      }\n    },\n    {\n      \"column\": \"TEMPERATURA\",\n      \"properties\": {\n        \"dtype\": \"number\",\n        \"std\": 3.26306629083721,\n        \"min\": 3.9078255151249452,\n        \"max\": 20.961420429636124,\n        \"num_unique_values\": 1263,\n        \"samples\": [\n          16.018084173608067,\n          11.089872862779483,\n          6.978737395879\n        ],\n        \"semantic_type\": \"\",\n        \"description\": \"\"\n      }\n    },\n    {\n      \"column\": \"%_CIELO_DESPEJADO\",\n      \"properties\": {\n        \"dtype\": \"number\",\n        \"std\": 20.596635375522926,\n        \"min\": 0.0,\n        \"max\": 81.43358176238492,\n        \"num_unique_values\": 1084,\n        \"samples\": [\n          3.320911880754055,\n          51.33713283647523,\n          10.60938185006576\n        ],\n        \"semantic_type\": \"\",\n        \"description\": \"\"\n      }\n    },\n    {\n      \"column\": \"HORA\",\n      \"properties\": {\n        \"dtype\": \"int32\",\n        \"num_unique_values\": 24,\n        \"samples\": [\n          8,\n          16,\n          0\n        ],\n        \"semantic_type\": \"\",\n        \"description\": \"\"\n      }\n    },\n    {\n      \"column\": \"DIA_SEMANA\",\n      \"properties\": {\n        \"dtype\": \"int32\",\n        \"num_unique_values\": 7,\n        \"samples\": [\n          2,\n          3,\n          0\n        ],\n        \"semantic_type\": \"\",\n        \"description\": \"\"\n      }\n    },\n    {\n      \"column\": \"FIN_DE_SEMANA\",\n      \"properties\": {\n        \"dtype\": \"number\",\n        \"std\": 0,\n        \"min\": 0,\n        \"max\": 1,\n        \"num_unique_values\": 2,\n        \"samples\": [\n          1,\n          0\n        ],\n        \"semantic_type\": \"\",\n        \"description\": \"\"\n      }\n    },\n    {\n      \"column\": \"H_LUZ_SOLAR\",\n      \"properties\": {\n        \"dtype\": \"number\",\n        \"std\": 0,\n        \"min\": 9,\n        \"max\": 10,\n        \"num_unique_values\": 2,\n        \"samples\": [\n          9,\n          10\n        ],\n        \"semantic_type\": \"\",\n        \"description\": \"\"\n      }\n    },\n    {\n      \"column\": \"ORTO\",\n      \"properties\": {\n        \"dtype\": \"number\",\n        \"std\": 0,\n        \"min\": 7,\n        \"max\": 8,\n        \"num_unique_values\": 2,\n        \"samples\": [\n          8,\n          7\n        ],\n        \"semantic_type\": \"\",\n        \"description\": \"\"\n      }\n    },\n    {\n      \"column\": \"OCASO\",\n      \"properties\": {\n        \"dtype\": \"number\",\n        \"std\": 0,\n        \"min\": 17,\n        \"max\": 17,\n        \"num_unique_values\": 1,\n        \"samples\": [\n          17\n        ],\n        \"semantic_type\": \"\",\n        \"description\": \"\"\n      }\n    },\n    {\n      \"column\": \"ES_DE_DIA\",\n      \"properties\": {\n        \"dtype\": \"number\",\n        \"std\": 0,\n        \"min\": 0,\n        \"max\": 1,\n        \"num_unique_values\": 2,\n        \"samples\": [\n          1\n        ],\n        \"semantic_type\": \"\",\n        \"description\": \"\"\n      }\n    }\n  ]\n}"
            }
          },
          "metadata": {},
          "execution_count": 26
        }
      ],
      "source": [
        "df_consumo_total.head()"
      ]
    },
    {
      "cell_type": "code",
      "source": [
        "#Crear dataframe variables exógenas\n",
        "exog_cols = ['FIN_DE_SEMANA', 'H_LUZ_SOLAR', 'ES_DE_DIA']"
      ],
      "metadata": {
        "id": "mzrrfz3qPzvA"
      },
      "id": "mzrrfz3qPzvA",
      "execution_count": 27,
      "outputs": []
    },
    {
      "cell_type": "markdown",
      "id": "1ff35366",
      "metadata": {
        "id": "1ff35366"
      },
      "source": [
        "Una vez tenemos ya extraídas todas las variables exógenas que nos interesan, hagamos algunos pasos adicionales.\n",
        "\n",
        "##### 3.2.2.1. Variables con patrones cíclicos\n",
        "\n",
        "Algunos aspectos del calendario, como las horas o los días, son cíclicos. Así, este tipo de variables pueden transformarse para captar la ciclicidad de estos datos, utilizando el seno y el coseno de su periodo, y evitar imponer un orden lineal."
      ]
    },
    {
      "cell_type": "code",
      "execution_count": 28,
      "id": "782f1528",
      "metadata": {
        "id": "782f1528"
      },
      "outputs": [],
      "source": [
        "def codificacion_ciclica(datos, longitud_ciclo): #Se asume que el valor mínimo de la variable es 0\n",
        "    seno = np.sin(2 * np.pi * datos/longitud_ciclo)\n",
        "    coseno = np.cos(2 * np.pi * datos/longitud_ciclo)\n",
        "    resultado =  pd.DataFrame({f\"{datos.name}_seno\": seno, f\"{datos.name}_coseno\": coseno})\n",
        "    return resultado\n",
        "\n",
        "DIA_SEMANA_encoded = codificacion_ciclica(df_consumo_total['DIA_SEMANA'], longitud_ciclo=7)\n",
        "HORA_encoded = codificacion_ciclica(df_consumo_total['HORA'], longitud_ciclo=24)\n",
        "ORTO_encoded = codificacion_ciclica(df_consumo_total['ORTO'], longitud_ciclo=24)\n",
        "OCASO_encoded = codificacion_ciclica(df_consumo_total['OCASO'], longitud_ciclo=24)\n",
        "variables_ciclicas = pd.concat([DIA_SEMANA_encoded, HORA_encoded,ORTO_encoded,OCASO_encoded], axis=1)\n",
        "df_consumo_total = pd.concat([df_consumo_total, variables_ciclicas], axis=1)"
      ]
    },
    {
      "cell_type": "code",
      "source": [
        "exog_cols.extend(df_consumo_total.filter(regex='_seno$|_coseno$').columns.tolist())"
      ],
      "metadata": {
        "id": "U9379aDdP3Sf"
      },
      "id": "U9379aDdP3Sf",
      "execution_count": 29,
      "outputs": []
    },
    {
      "cell_type": "markdown",
      "id": "f5b0469a",
      "metadata": {
        "id": "f5b0469a"
      },
      "source": [
        "##### 3.2.2.2. Interacción entre variables\n",
        "\n",
        "En ocasiones, las variables exógenas no son independientes. Podemos capturar esta interacción mediante nuevas variables (que se obtienen multiplicando entre sí las variables existentes)."
      ]
    },
    {
      "cell_type": "code",
      "execution_count": 30,
      "id": "8254a7db",
      "metadata": {
        "id": "8254a7db"
      },
      "outputs": [],
      "source": [
        "transformer_poly = PolynomialFeatures(degree = 2, interaction_only = True, include_bias = False).set_output(transform=\"pandas\")\n",
        "poly_cols = ['FIN_DE_SEMANA','DIA_SEMANA_seno','DIA_SEMANA_coseno','HORA_seno','HORA_coseno','H_LUZ_SOLAR','ES_DE_DIA','ORTO_seno','ORTO_coseno','OCASO_seno','OCASO_coseno']\n",
        "\n",
        "variables_poly = transformer_poly.fit_transform(df_consumo_total[poly_cols].dropna()).drop(columns=poly_cols)\n",
        "variables_poly.columns = [f\"poly_{col}\" for col in variables_poly.columns]\n",
        "variables_poly.columns = variables_poly.columns.str.replace(\" \", \"__\")\n",
        "df_consumo_total = pd.concat([df_consumo_total, variables_poly], axis=1)"
      ]
    },
    {
      "cell_type": "code",
      "execution_count": 31,
      "id": "3be06f7c",
      "metadata": {
        "id": "3be06f7c"
      },
      "outputs": [],
      "source": [
        "exog_cols.extend(df_consumo_total.filter(regex='^poly_.*').columns.tolist())"
      ]
    },
    {
      "cell_type": "markdown",
      "id": "ce17f216",
      "metadata": {
        "id": "ce17f216"
      },
      "source": [
        "#### 3.2.3. Separación de los datos en conjuntos de train, validation y test"
      ]
    },
    {
      "cell_type": "markdown",
      "id": "a1a37ede",
      "metadata": {
        "id": "a1a37ede"
      },
      "source": [
        "Para poder optimizar los hiperparámetros del modelo y evaluar su capacidad predictiva, se dividen los datos en 3 conjuntos, uno de entrenamiento, uno de validación y otro de test.\n",
        "\n",
        "Notar que en el caso de series temporales no hay que aislar la variable target del resto, pues los valores pasados de esta variable se utilizan para su predicción."
      ]
    },
    {
      "cell_type": "code",
      "execution_count": 32,
      "id": "fc9bd6ee",
      "metadata": {
        "colab": {
          "base_uri": "https://localhost:8080/"
        },
        "id": "fc9bd6ee",
        "outputId": "6aef83e5-e5df-4e7a-8c69-3b12daaa2797"
      },
      "outputs": [
        {
          "output_type": "stream",
          "name": "stdout",
          "text": [
            "---Serie temporal del consumo total de la red de clientes---\n",
            "Fechas train      : 2022-11-09 00:00:00 --- 2022-12-09 23:00:00  (n=744)\n",
            "Fechas validacion : 2022-12-10 00:00:00 --- 2022-12-24 23:00:00  (n=360)\n",
            "Fechas test       : 2022-12-25 00:00:00 --- 2022-12-31 23:00:00  (n=168)\n"
          ]
        }
      ],
      "source": [
        "df_consumo_total['DIA'] = df_consumo_total.index.date\n",
        "dias = df_consumo_total['DIA'].unique()\n",
        "n_dias = len(dias)\n",
        "\n",
        "dias_train = int(n_dias * 0.6)\n",
        "dias_validation = int(n_dias * 0.3)\n",
        "dias_test = n_dias - dias_train - dias_validation\n",
        "\n",
        "train_data = df_consumo_total[df_consumo_total['DIA'].isin(dias[:dias_train])]\n",
        "validation_data = df_consumo_total[df_consumo_total['DIA'].isin(dias[dias_train:dias_train + dias_validation])]\n",
        "test_data = df_consumo_total[df_consumo_total['DIA'].isin(dias[dias_train + dias_validation:])]\n",
        "\n",
        "print(\"---Serie temporal del consumo total de la red de clientes---\")\n",
        "print(f\"Fechas train      : {train_data.index.min()} --- {train_data.index.max()}  (n={len(train_data)})\")\n",
        "print(f\"Fechas validacion : {validation_data.index.min()} --- {validation_data.index.max()}  (n={len(validation_data)})\")\n",
        "print(f\"Fechas test       : {test_data.index.min()} --- {test_data.index.max()}  (n={len(test_data)})\")"
      ]
    },
    {
      "cell_type": "code",
      "execution_count": 33,
      "id": "b6b05d7e",
      "metadata": {
        "id": "b6b05d7e"
      },
      "outputs": [],
      "source": [
        "#eliminar columna DIA"
      ]
    },
    {
      "cell_type": "markdown",
      "id": "5d3e49dc",
      "metadata": {
        "id": "5d3e49dc"
      },
      "source": [
        "## 4. Exploración gráfica"
      ]
    },
    {
      "cell_type": "markdown",
      "source": [
        "Lo normal es que una serie temporal que representa la demanda eléctrica tenga estacionalidad anual, pues depende en que mes estemos, la climatología influye en el consumo eléctrico. Sin embargo, debido a que nuestro dataset apenas tiene 2 meses de histórico, no podemos tener esto en cuenta. Tendremos más en cuenta la estacionalidad a nivel día de la semana y a nivel hora del día."
      ],
      "metadata": {
        "id": "8lDDMIs842nH"
      },
      "id": "8lDDMIs842nH"
    },
    {
      "cell_type": "markdown",
      "id": "ce170d52",
      "metadata": {
        "id": "ce170d52"
      },
      "source": [
        "### 4.1. Representación gráfica de la serie temporal\n",
        "Con separación de datos de train, validación y test."
      ]
    },
    {
      "cell_type": "code",
      "execution_count": null,
      "id": "653f5532",
      "metadata": {
        "id": "653f5532"
      },
      "outputs": [],
      "source": [
        "fig, ax = plt.subplots(figsize=(15, 4))\n",
        "train_data['CONSUMO'].plot(ax=ax, label= 'entrenamiento', linewidth=1)\n",
        "validation_data['CONSUMO'].plot(ax=ax, label= 'validación', linewidth=1)\n",
        "test_data['CONSUMO'].plot(ax=ax, label= 'test', linewidth=1)\n",
        "ax.set_title('Consumo eléctrico')\n",
        "ax.legend()"
      ]
    },
    {
      "cell_type": "markdown",
      "id": "1b20af39",
      "metadata": {
        "id": "1b20af39"
      },
      "source": [
        "Observaciones.\n",
        "- La serie muestra una clara periodicidad, con picos y valles regulares que podrían corresponder a ciclos diarios de consumo eléctrico. También se pueden observar levemente los ciclos semanales de consumo.\n",
        "- Existen variaciones significativas en los valores de la variable consumo.\n",
        "- Notar que para los periodos de validación y test, la periodicidad y amplitud de las fluctuaciones parecen seguir patrones similares a los observados en el conjunto de train, lo que sugiere que el comportamiento de la variable es consistente a lo largo del tiempo. Por lo tanto, no hay problema en que solo tengamos un histórico de datos inferior a 2 meses."
      ]
    },
    {
      "cell_type": "markdown",
      "id": "b8ffc7e1",
      "metadata": {
        "id": "b8ffc7e1"
      },
      "source": [
        "Analicemos también las series temporales de las variables ENTRADA y SALIDA para entender de donde viene la de CONSUMO."
      ]
    },
    {
      "cell_type": "code",
      "execution_count": null,
      "id": "18a32e74",
      "metadata": {
        "id": "18a32e74"
      },
      "outputs": [],
      "source": [
        "fig, ax = plt.subplots(figsize=(15, 4))\n",
        "train_data['ENTRADA'].plot(ax=ax, label= 'entrenamiento', linewidth=1)\n",
        "validation_data['ENTRADA'].plot(ax=ax, label= 'validación', linewidth=1)\n",
        "test_data['ENTRADA'].plot(ax=ax, label= 'test', linewidth=1)\n",
        "ax.set_title('Entrada de electricidad')\n",
        "ax.legend()"
      ]
    },
    {
      "cell_type": "markdown",
      "id": "d863280a",
      "metadata": {
        "id": "d863280a"
      },
      "source": [
        "Observaciones. Además de lo nombrado para la gráfica de la serie temporal de la variable CONSUMO, en este caso podemos apreciar también:\n",
        "- La gráfica muestra patrones repetitivos que se corresponden aproximadamente con ciclos semanales. Así, durante los días laborales (lunes a viernes), parece haber un patrón de consumo más estable y elevado. En cambio, los fines de semana (sábado y domingo) se produce una reducción en la entrada de electricidad que puede ser atribuida a la disminución de la actividad laboral y escolar."
      ]
    },
    {
      "cell_type": "code",
      "execution_count": null,
      "id": "27e3a6c1",
      "metadata": {
        "id": "27e3a6c1"
      },
      "outputs": [],
      "source": [
        "fig, ax = plt.subplots(figsize=(15, 4))\n",
        "train_data['SALIDA'].plot(ax=ax, label= 'entrenamiento', linewidth=1)\n",
        "validation_data['SALIDA'].plot(ax=ax, label= 'validación', linewidth=1)\n",
        "test_data['SALIDA'].plot(ax=ax, label= 'test', linewidth=1)\n",
        "ax.set_title('Salida de electricidad')\n",
        "ax.legend()"
      ]
    },
    {
      "cell_type": "markdown",
      "id": "ebd1ec96",
      "metadata": {
        "id": "ebd1ec96"
      },
      "source": [
        "Observaciones.\n",
        "- La gráfica muestra una periodicidad diaria en la variable SALIDA. El patrón diario sugiere que la salida de electricidad se incrementa a lo largo del día hasta alcanzar un pico (en torno al medio día) y luego disminuye abruptamente a 0. Notar que esto coincide con el ciclo que siguen las horas de radiación solar\n",
        "- Posiblemente, los picos más bajos correspondan a días donde hubo mala meteorología. Esto se deberá comprobar más adelante añadiendo variables exógenas."
      ]
    },
    {
      "cell_type": "markdown",
      "id": "67b7c9a3",
      "metadata": {
        "id": "67b7c9a3"
      },
      "source": [
        "### 4.2. Distribución de la carga por día de la semana"
      ]
    },
    {
      "cell_type": "code",
      "execution_count": null,
      "id": "f80a74e8",
      "metadata": {
        "id": "f80a74e8"
      },
      "outputs": [],
      "source": [
        "fig, ax = plt.subplots(figsize=(7, 3))\n",
        "df_consumo_total.boxplot(column='CONSUMO', by='DIA_SEMANA', ax=ax)\n",
        "df_consumo_total.groupby('DIA_SEMANA')['CONSUMO'].median().plot(style='o-', linewidth=0.8, ax=ax)\n",
        "ax.set_ylabel('CONSUMO')\n",
        "ax.set_title('Distribución del consumo por día de la semana')\n",
        "fig.suptitle('')"
      ]
    },
    {
      "cell_type": "markdown",
      "id": "3bb51c8b",
      "metadata": {
        "id": "3bb51c8b"
      },
      "source": [
        "Observaciones.\n",
        "- El consumo tiende a mantenerse relativamente constante.\n",
        "- La altura de la caja es similar para todos los días, indicando una dispersión similar del consumo.\n",
        "- Hay una cantidad significativa de outliers negativos. Esto se debe a los picos de producción de energía solar en la variable SALIDA, que afectan en CONSUMO.\n",
        "- Se observa un menor consumo de electricidad los fines de semana."
      ]
    },
    {
      "cell_type": "code",
      "execution_count": null,
      "id": "5dd76cfd",
      "metadata": {
        "id": "5dd76cfd"
      },
      "outputs": [],
      "source": [
        "fig, ax = plt.subplots(figsize=(7, 3))\n",
        "df_consumo_total.boxplot(column='ENTRADA', by='DIA_SEMANA', ax=ax)\n",
        "df_consumo_total.groupby('DIA_SEMANA')['ENTRADA'].median().plot(style='o-', linewidth=0.8, ax=ax)\n",
        "ax.set_ylabel('ENTRADA')\n",
        "ax.set_title('Distribución de la entrada de electricidad por día de la semana')\n",
        "fig.suptitle('')"
      ]
    },
    {
      "cell_type": "markdown",
      "id": "ed5206cf",
      "metadata": {
        "id": "ed5206cf"
      },
      "source": [
        "Observaciones.\n",
        "- En este caso no tenemos outliers.\n",
        "- Se aprecia una clara tendencia descendente en el fin de semana (días 6 y 7)."
      ]
    },
    {
      "cell_type": "code",
      "execution_count": null,
      "id": "1a0b515a",
      "metadata": {
        "scrolled": true,
        "id": "1a0b515a"
      },
      "outputs": [],
      "source": [
        "fig, ax = plt.subplots(figsize=(7, 3))\n",
        "df_consumo_total.boxplot(column='SALIDA', by='DIA_SEMANA', ax=ax)\n",
        "df_consumo_total.groupby('DIA_SEMANA')['SALIDA'].median().plot(style='o-', linewidth=0.8, ax=ax)\n",
        "ax.set_ylabel('SALIDA')\n",
        "ax.set_title('Distribución de la salida de electricidad por día de la semana')\n",
        "fig.suptitle('')"
      ]
    },
    {
      "cell_type": "markdown",
      "id": "393e600b",
      "metadata": {
        "id": "393e600b"
      },
      "source": [
        "Observaciones.\n",
        "- En el caso de la variable salida no tiene mucho sentido pintar su valor según el día de la semana, pues en gran parte del día vale 0 y esto es lo que causa que la mediana también valga 0.\n",
        "- Hay una gran cantidad de outliers que representan picos en la producción de energía solar. Estos picos seguramente estén relacionados con las horas de mayor radiación solar."
      ]
    },
    {
      "cell_type": "markdown",
      "id": "8523c747",
      "metadata": {
        "id": "8523c747"
      },
      "source": [
        "### 4.3. Distribución de la carga por hora del día"
      ]
    },
    {
      "cell_type": "code",
      "execution_count": null,
      "id": "27ea9a44",
      "metadata": {
        "id": "27ea9a44"
      },
      "outputs": [],
      "source": [
        "fig, ax = plt.subplots(figsize=(11, 3))\n",
        "df_consumo_total['HORA'] = df_consumo_total.index.hour\n",
        "df_consumo_total.boxplot(column='CONSUMO', by='HORA', ax=ax)\n",
        "df_consumo_total.groupby('HORA')['CONSUMO'].median().plot(style='o-', linewidth=0.8, ax=ax)\n",
        "ax.set_ylabel('CONSUMO')\n",
        "ax.set_title('Distribución consumo por hora del día')\n",
        "fig.suptitle('')"
      ]
    },
    {
      "cell_type": "markdown",
      "id": "8189d578",
      "metadata": {
        "id": "8189d578"
      },
      "source": [
        "Observaciones.\n",
        "- El consumo de energía tiene dos picos principales: uno por la mañana alrededor de las 8 horas y otro por la tarde entre las 18 y las 20 horas. Esto es debido probablemente a los momentos de mayor actividad en los hogares, como el inicio del día y las horas de la tarde-noche cuando las personas vuelven a casa.\n",
        "- La variabilidad en el consumo de energía es mayor durante los picos de actividad y menor durante la noche.\n",
        "- Notar también que los periodos de menor consumo coinciden con las horas de mayor radiación solar (las horas centrales del día). Lo cual podría indicar que durante estas horas, la producción solar podría estar cubriendo una mayor parte de la demanda, reduciendo la necesidad de consumo de la red y llegando a producir hasta un excedente (ya que hay bastantes valores negativos)."
      ]
    },
    {
      "cell_type": "code",
      "execution_count": null,
      "id": "6b9cc3f4",
      "metadata": {
        "id": "6b9cc3f4"
      },
      "outputs": [],
      "source": [
        "fig, ax = plt.subplots(figsize=(11, 3))\n",
        "df_consumo_total['HORA'] = df_consumo_total.index.hour\n",
        "df_consumo_total.boxplot(column='ENTRADA', by='HORA', ax=ax)\n",
        "df_consumo_total.groupby('HORA')['ENTRADA'].median().plot(style='o-', linewidth=0.8, ax=ax)\n",
        "ax.set_ylabel('ENTRADA')\n",
        "ax.set_title('Distribución de la entrada de electricidad por hora del día')\n",
        "fig.suptitle('')"
      ]
    },
    {
      "cell_type": "markdown",
      "id": "20abeed2",
      "metadata": {
        "id": "20abeed2"
      },
      "source": [
        "Observaciones.\n",
        "- En este gráfico observamos también los dos picos mencionados en el anterior.\n",
        "- Podemos resaltar que en las horas centrales del día, la entrada de electricidad disminuye, llegando a estar incluso por debajo de la entrada de electricidad de la noche (la cuál podríamos considerar como base mínima). Esto se debe a que la producción solar cubre parte de la demanda."
      ]
    },
    {
      "cell_type": "code",
      "execution_count": null,
      "id": "39a53687",
      "metadata": {
        "id": "39a53687"
      },
      "outputs": [],
      "source": [
        "fig, ax = plt.subplots(figsize=(11, 3))\n",
        "df_consumo_total['HORA'] = df_consumo_total.index.hour\n",
        "df_consumo_total.boxplot(column='SALIDA', by='HORA', ax=ax)\n",
        "df_consumo_total.groupby('HORA')['SALIDA'].median().plot(style='o-', linewidth=0.8, ax=ax)\n",
        "ax.set_ylabel('SALIDA')\n",
        "ax.set_title('Distribución de la salida de electricidad por hora del día')\n",
        "fig.suptitle('')"
      ]
    },
    {
      "cell_type": "markdown",
      "id": "67a37165",
      "metadata": {
        "id": "67a37165"
      },
      "source": [
        "Observaciones.\n",
        "- La gráfica refleja claramente el patrón diario de generación de energía solar. Así, la salida de electricidad es nula durante la noche, comenzando a aumentar con la salida del sol y alcanzando su máximo alrededor del mediodía, antes de descender nuevamente por la tarde.\n",
        "- La variabilidad de la variable SALIDA es mayor durante las horas de mayor radiación solar (de 10 a 15 horas). Esto puede ser causado por fluctuaciones en las condiciones meteorológicas de los distintos días."
      ]
    },
    {
      "cell_type": "markdown",
      "id": "d97886e4",
      "metadata": {
        "id": "d97886e4"
      },
      "source": [
        "## 5. Creación y entrenamiento del modelo"
      ]
    },
    {
      "cell_type": "markdown",
      "source": [
        "Empezaremos haciendo lo que se conoce como modelo *baseline*, que nos servirá de referencia para evaluar si merece la pena aplicar modelos más complejos. La métrica del error se utilizará como referencia para comparar la capacidad predictiva de los modelos más complejos.\n",
        "\n",
        "Mientras no trabajemos con el conjunto de validación, tomaremos como conjunto de train el conjunto de train y validación."
      ],
      "metadata": {
        "id": "8hmmtMT9RJf-"
      },
      "id": "8hmmtMT9RJf-"
    },
    {
      "cell_type": "code",
      "execution_count": 34,
      "id": "2f16fe75",
      "metadata": {
        "id": "2f16fe75"
      },
      "outputs": [],
      "source": [
        "train_val_data = pd.concat([train_data, validation_data], axis=0)"
      ]
    },
    {
      "cell_type": "code",
      "source": [
        "tabla_comparacion_modelos = pd.DataFrame(columns=['MODELO', 'VARIABLE', 'MAE', 'MSE', 'RMSE'])\n",
        "\n",
        "def guardar_results(modelo, column, mae, mse, rmse, tabla_comparacion_modelos):\n",
        "  tabla_comparacion_modelos = pd.concat([tabla_comparacion_modelos, pd.DataFrame({'MODELO': modelo, 'VARIABLE': column, 'MAE': mae, 'MSE': mse, 'RMSE': rmse}, index=[0])], ignore_index=True)\n",
        "  return tabla_comparacion_modelos"
      ],
      "metadata": {
        "id": "ysVdIBr9f3pX"
      },
      "id": "ysVdIBr9f3pX",
      "execution_count": 39,
      "outputs": []
    },
    {
      "cell_type": "markdown",
      "id": "b07a0d44",
      "metadata": {
        "id": "b07a0d44"
      },
      "source": [
        "### 5.1. Baseline"
      ]
    },
    {
      "cell_type": "markdown",
      "id": "bcafa2e3",
      "metadata": {
        "id": "bcafa2e3"
      },
      "source": [
        "A la hora de abordar un problema de forecasting, es recomendable tener un modelo de referencia (baseline). Se trata generalmente de un modelo bastante simple que puede utilizarse como referencia para determinar si merece la pena implementar modelos más complejos.\n",
        "\n",
        "La librería *Skforecast* facilita la creación de un baseline utilizando su clase *ForecasterEquivalentDate*. Este modelo simplemente devuelve el valor observado en el mismo período de la temporada anterior. En este caso, el modelo predice el valor del día siguiente utilizando el valor de la misma hora y del mismo día de la semana anterior.\n",
        "\n",
        "Una vez entrenado el modelo, evaluaremos su capacidad predictiva mediante un proceso de backtesting. El proceso de backtesting consiste en generar una predicción para cada observación del conjunto de test y finalmente comparar el valor predicho con el valor real.\n",
        "\n",
        "El proceso de backtesting se aplica mediante la clase *backtesting_forecaster()*, y la métrica de error utilizada es el error absoluto medio (MAE)."
      ]
    },
    {
      "cell_type": "code",
      "execution_count": 36,
      "id": "2b1c09f9",
      "metadata": {
        "id": "2b1c09f9"
      },
      "outputs": [],
      "source": [
        "def all_metrics(prediccion, test_data, train_data, column):\n",
        "    metrics = {}\n",
        "    metrics['MAE'] = mean_absolute_error(test_data[column], prediccion)\n",
        "    metrics['MSE'] = mean_squared_error(test_data[column], prediccion)\n",
        "    metrics['RMSE'] = np.sqrt(metrics['MSE'])\n",
        "    return metrics\n",
        "\n",
        "def backtesting(forecaster, df, column, train_data, test_data):\n",
        "    metric, predictions = backtesting_forecaster(\n",
        "                          forecaster         = forecaster,\n",
        "                          y                  = df[column],\n",
        "                          steps              = 24,\n",
        "                          metric             = 'mean_absolute_error',\n",
        "                          initial_train_size = len(df[column].loc[:train_data.index.max()]),\n",
        "                          refit              = False,\n",
        "                          n_jobs             = 'auto',\n",
        "                          verbose            = False,\n",
        "                          show_progress      = True\n",
        "                      )\n",
        "\n",
        "    metrics = all_metrics(predictions, test_data, train_data, column)\n",
        "    print(f\"Métricas de error: {metrics}\")\n",
        "\n",
        "    fig, ax = plt.subplots(figsize=(11, 3))\n",
        "    train_data[column].plot(ax=ax, label='train')\n",
        "    test_data[column].plot(ax=ax, label='test')\n",
        "    predictions.plot(ax=ax, label='predicciones')\n",
        "    ax.set_title(f'Predicción sobre la variable {column}')\n",
        "    ax.legend()\n",
        "\n",
        "    return predictions, metrics"
      ]
    },
    {
      "cell_type": "code",
      "execution_count": 37,
      "id": "d2714e15",
      "metadata": {
        "id": "d2714e15"
      },
      "outputs": [],
      "source": [
        "params = {\n",
        "    'offset': pd.DateOffset(days=7),\n",
        "    'n_offsets': 1\n",
        "}\n",
        "baseline = ForecasterEquivalentDate(**params)"
      ]
    },
    {
      "cell_type": "code",
      "execution_count": 40,
      "id": "b533a3ad",
      "metadata": {
        "colab": {
          "base_uri": "https://localhost:8080/",
          "height": 408,
          "referenced_widgets": [
            "7b894afb85d3404cbb5840c2c1b2b6f9",
            "32884b6ded4a487891039531c002d827",
            "baaf88cb5fdb4f0388379c6682a55ab8",
            "a16d56a56f834ff2a6dde27bafaa9d4f",
            "d013a275c33d4c1c8b126fff83b6493b",
            "804f432d6cd146119a8972dd88b4c66b",
            "8832c69edb594e88a20e14b2b09b069b",
            "0c192d2f1f7841beb83f7a772d629cdc",
            "c3e86447c55e4df99a89f6743f6c9b61",
            "5dd9779b29c14d4bb8117b758f02a997",
            "bddf4b2e86da4deda96ac76e3d16dfeb"
          ]
        },
        "id": "b533a3ad",
        "outputId": "0509c402-a627-4314-c439-0923c1448fc2"
      },
      "outputs": [
        {
          "output_type": "display_data",
          "data": {
            "text/plain": [
              "  0%|          | 0/7 [00:00<?, ?it/s]"
            ],
            "application/vnd.jupyter.widget-view+json": {
              "version_major": 2,
              "version_minor": 0,
              "model_id": "7b894afb85d3404cbb5840c2c1b2b6f9"
            }
          },
          "metadata": {}
        },
        {
          "output_type": "stream",
          "name": "stdout",
          "text": [
            "Métricas de error: {'MAE': 1696.8574821428574, 'MSE': 5602338.779176077, 'RMSE': 2366.926018948644}\n"
          ]
        },
        {
          "output_type": "display_data",
          "data": {
            "text/plain": [
              "<Figure size 1100x300 with 1 Axes>"
            ],
            "image/png": "[encoded data removed]"
          },
          "metadata": {}
        }
      ],
      "source": [
        "predictions, metrics = backtesting(baseline, df_consumo_total, 'CONSUMO', train_val_data, test_data)\n",
        "tabla_comparacion_modelos = guardar_results(f'ForecasterEquivalentDate({params})', 'CONSUMO', metrics['MAE'], metrics['MSE'], metrics['RMSE'], tabla_comparacion_modelos)"
      ]
    },
    {
      "cell_type": "code",
      "execution_count": 41,
      "id": "969c6fc0",
      "metadata": {
        "colab": {
          "base_uri": "https://localhost:8080/",
          "height": 412,
          "referenced_widgets": [
            "1db05dde207d4efb824d4c159ef6ec6c",
            "ee4c077ad87a41e5975f57d08ebe9c51",
            "b9202724714740a197a93d2c429c588c",
            "06eb491e41104ecf92f156ee204e2ed2",
            "7a7ef7d0ac9b4476bd5ed0aad07be1a0",
            "38a03e2b28154706b5571e1185ae7e53",
            "6f5f88708dcf41068adb98b2878ddca8",
            "30db18c6f8534bc6ad8db296b32a59d8",
            "9c398f4485024866be769f392a3e9102",
            "0fd2ebbecbc040599d574abe651bdf10",
            "f6da6a7dc8da4d3c9a381f2f745bbfab"
          ]
        },
        "id": "969c6fc0",
        "outputId": "54d21140-30b7-4e79-889d-7c331b2c25e6"
      },
      "outputs": [
        {
          "output_type": "display_data",
          "data": {
            "text/plain": [
              "  0%|          | 0/7 [00:00<?, ?it/s]"
            ],
            "application/vnd.jupyter.widget-view+json": {
              "version_major": 2,
              "version_minor": 0,
              "model_id": "1db05dde207d4efb824d4c159ef6ec6c"
            }
          },
          "metadata": {}
        },
        {
          "output_type": "stream",
          "name": "stdout",
          "text": [
            "Métricas de error: {'MAE': 1311.9737738095237, 'MSE': 3132529.512306226, 'RMSE': 1769.8953393650784}\n"
          ]
        },
        {
          "output_type": "display_data",
          "data": {
            "text/plain": [
              "<Figure size 1100x300 with 1 Axes>"
            ],
            "image/png": "[encoded data removed]"
          },
          "metadata": {}
        }
      ],
      "source": [
        "predictions, metrics = backtesting(baseline, df_consumo_total, 'ENTRADA', train_val_data, test_data)\n",
        "tabla_comparacion_modelos = guardar_results(f'ForecasterEquivalentDate({params})', 'ENTRADA', metrics['MAE'], metrics['MSE'], metrics['RMSE'], tabla_comparacion_modelos)"
      ]
    },
    {
      "cell_type": "code",
      "execution_count": 42,
      "id": "14cc0eed",
      "metadata": {
        "colab": {
          "base_uri": "https://localhost:8080/",
          "height": 412,
          "referenced_widgets": [
            "81ed0ad13a5d47b6aaa6d930fc693708",
            "1c319d187830459c8d637641bf3b8e8f",
            "676af736a7d84c5a81be5c0d3dc53ba7",
            "84c1dc38ae1949a29baea4c2ee207d7c",
            "cd48354b291f4636ac0e7d8d06ea3e28",
            "98be8fce3c574ab3a583a3f9c12cf51f",
            "7121e46ed0a84b539752dda68fcd86c3",
            "c0d36ac4d91c4344a8ef9bf8e7abd6e5",
            "ed1f2dda133e4210bf8e8c6f26fa6c64",
            "c736f49c7d1f443f81640c13ae42e973",
            "7ac2ad443af94d2a924d99a6847648a7"
          ]
        },
        "id": "14cc0eed",
        "outputId": "974ae4cd-420b-4481-a0fa-f52db3ca01bc"
      },
      "outputs": [
        {
          "output_type": "display_data",
          "data": {
            "text/plain": [
              "  0%|          | 0/7 [00:00<?, ?it/s]"
            ],
            "application/vnd.jupyter.widget-view+json": {
              "version_major": 2,
              "version_minor": 0,
              "model_id": "81ed0ad13a5d47b6aaa6d930fc693708"
            }
          },
          "metadata": {}
        },
        {
          "output_type": "stream",
          "name": "stdout",
          "text": [
            "Métricas de error: {'MAE': 406.4218392857142, 'MSE': 821104.4110548275, 'RMSE': 906.1481176136865}\n"
          ]
        },
        {
          "output_type": "display_data",
          "data": {
            "text/plain": [
              "<Figure size 1100x300 with 1 Axes>"
            ],
            "image/png": "[encoded data removed]"
          },
          "metadata": {}
        }
      ],
      "source": [
        "predictions, metrics = backtesting(baseline, df_consumo_total, 'SALIDA', train_val_data, test_data)\n",
        "tabla_comparacion_modelos = guardar_results(f'ForecasterEquivalentDate({params})', 'SALIDA', metrics['MAE'], metrics['MSE'], metrics['RMSE'], tabla_comparacion_modelos)"
      ]
    },
    {
      "cell_type": "code",
      "execution_count": 43,
      "id": "9cfa188a",
      "metadata": {
        "colab": {
          "base_uri": "https://localhost:8080/",
          "height": 195
        },
        "id": "9cfa188a",
        "outputId": "4f0ae3d1-e470-49e4-ca50-5b11b7c0e405"
      },
      "outputs": [
        {
          "output_type": "execute_result",
          "data": {
            "text/plain": [
              "                                                                       MODELO  \\\n",
              "0  ForecasterEquivalentDate({'offset': <DateOffset: days=7>, 'n_offsets': 1})   \n",
              "1  ForecasterEquivalentDate({'offset': <DateOffset: days=7>, 'n_offsets': 1})   \n",
              "2  ForecasterEquivalentDate({'offset': <DateOffset: days=7>, 'n_offsets': 1})   \n",
              "\n",
              "  VARIABLE          MAE           MSE         RMSE  \n",
              "0  CONSUMO  1696.857482  5.602339e+06  2366.926019  \n",
              "1  ENTRADA  1311.973774  3.132530e+06  1769.895339  \n",
              "2   SALIDA   406.421839  8.211044e+05   906.148118  "
            ],
            "text/html": [
              "\n",
              "  <div id=\"df-529182cb-58a5-440e-a70d-5ecf0379f8d2\" class=\"colab-df-container\">\n",
              "    <div>\n",
              "<style scoped>\n",
              "    .dataframe tbody tr th:only-of-type {\n",
              "        vertical-align: middle;\n",
              "    }\n",
              "\n",
              "    .dataframe tbody tr th {\n",
              "        vertical-align: top;\n",
              "    }\n",
              "\n",
              "    .dataframe thead th {\n",
              "        text-align: right;\n",
              "    }\n",
              "</style>\n",
              "<table border=\"1\" class=\"dataframe\">\n",
              "  <thead>\n",
              "    <tr style=\"text-align: right;\">\n",
              "      <th></th>\n",
              "      <th>MODELO</th>\n",
              "      <th>VARIABLE</th>\n",
              "      <th>MAE</th>\n",
              "      <th>MSE</th>\n",
              "      <th>RMSE</th>\n",
              "    </tr>\n",
              "  </thead>\n",
              "  <tbody>\n",
              "    <tr>\n",
              "      <th>0</th>\n",
              "      <td>ForecasterEquivalentDate({'offset': &lt;DateOffset: days=7&gt;, 'n_offsets': 1})</td>\n",
              "      <td>CONSUMO</td>\n",
              "      <td>1696.857482</td>\n",
              "      <td>5.602339e+06</td>\n",
              "      <td>2366.926019</td>\n",
              "    </tr>\n",
              "    <tr>\n",
              "      <th>1</th>\n",
              "      <td>ForecasterEquivalentDate({'offset': &lt;DateOffset: days=7&gt;, 'n_offsets': 1})</td>\n",
              "      <td>ENTRADA</td>\n",
              "      <td>1311.973774</td>\n",
              "      <td>3.132530e+06</td>\n",
              "      <td>1769.895339</td>\n",
              "    </tr>\n",
              "    <tr>\n",
              "      <th>2</th>\n",
              "      <td>ForecasterEquivalentDate({'offset': &lt;DateOffset: days=7&gt;, 'n_offsets': 1})</td>\n",
              "      <td>SALIDA</td>\n",
              "      <td>406.421839</td>\n",
              "      <td>8.211044e+05</td>\n",
              "      <td>906.148118</td>\n",
              "    </tr>\n",
              "  </tbody>\n",
              "</table>\n",
              "</div>\n",
              "    <div class=\"colab-df-buttons\">\n",
              "\n",
              "  <div class=\"colab-df-container\">\n",
              "    <button class=\"colab-df-convert\" onclick=\"convertToInteractive('df-529182cb-58a5-440e-a70d-5ecf0379f8d2')\"\n",
              "            title=\"Convert this dataframe to an interactive table.\"\n",
              "            style=\"display:none;\">\n",
              "\n",
              "  <svg xmlns=\"http://www.w3.org/2000/svg\" height=\"24px\" viewBox=\"0 -960 960 960\">\n",
              "    <path d=\"M120-120v-720h720v720H120Zm60-500h600v-160H180v160Zm220 220h160v-160H400v160Zm0 220h160v-160H400v160ZM180-400h160v-160H180v160Zm440 0h160v-160H620v160ZM180-180h160v-160H180v160Zm440 0h160v-160H620v160Z\"/>\n",
              "  </svg>\n",
              "    </button>\n",
              "\n",
              "  <style>\n",
              "    .colab-df-container {\n",
              "      display:flex;\n",
              "      gap: 12px;\n",
              "    }\n",
              "\n",
              "    .colab-df-convert {\n",
              "      background-color: #E8F0FE;\n",
              "      border: none;\n",
              "      border-radius: 50%;\n",
              "      cursor: pointer;\n",
              "      display: none;\n",
              "      fill: #1967D2;\n",
              "      height: 32px;\n",
              "      padding: 0 0 0 0;\n",
              "      width: 32px;\n",
              "    }\n",
              "\n",
              "    .colab-df-convert:hover {\n",
              "      background-color: #E2EBFA;\n",
              "      box-shadow: 0px 1px 2px rgba(60, 64, 67, 0.3), 0px 1px 3px 1px rgba(60, 64, 67, 0.15);\n",
              "      fill: #174EA6;\n",
              "    }\n",
              "\n",
              "    .colab-df-buttons div {\n",
              "      margin-bottom: 4px;\n",
              "    }\n",
              "\n",
              "    [theme=dark] .colab-df-convert {\n",
              "      background-color: #3B4455;\n",
              "      fill: #D2E3FC;\n",
              "    }\n",
              "\n",
              "    [theme=dark] .colab-df-convert:hover {\n",
              "      background-color: #434B5C;\n",
              "      box-shadow: 0px 1px 3px 1px rgba(0, 0, 0, 0.15);\n",
              "      filter: drop-shadow(0px 1px 2px rgba(0, 0, 0, 0.3));\n",
              "      fill: #FFFFFF;\n",
              "    }\n",
              "  </style>\n",
              "\n",
              "    <script>\n",
              "      const buttonEl =\n",
              "        document.querySelector('#df-529182cb-58a5-440e-a70d-5ecf0379f8d2 button.colab-df-convert');\n",
              "      buttonEl.style.display =\n",
              "        google.colab.kernel.accessAllowed ? 'block' : 'none';\n",
              "\n",
              "      async function convertToInteractive(key) {\n",
              "        const element = document.querySelector('#df-529182cb-58a5-440e-a70d-5ecf0379f8d2');\n",
              "        const dataTable =\n",
              "          await google.colab.kernel.invokeFunction('convertToInteractive',\n",
              "                                                    [key], {});\n",
              "        if (!dataTable) return;\n",
              "\n",
              "        const docLinkHtml = 'Like what you see? Visit the ' +\n",
              "          '<a target=\"_blank\" href=https://colab.research.google.com/notebooks/data_table.ipynb>data table notebook</a>'\n",
              "          + ' to learn more about interactive tables.';\n",
              "        element.innerHTML = '';\n",
              "        dataTable['output_type'] = 'display_data';\n",
              "        await google.colab.output.renderOutput(dataTable, element);\n",
              "        const docLink = document.createElement('div');\n",
              "        docLink.innerHTML = docLinkHtml;\n",
              "        element.appendChild(docLink);\n",
              "      }\n",
              "    </script>\n",
              "  </div>\n",
              "\n",
              "\n",
              "<div id=\"df-b5ef14b5-22d4-48e5-a8d0-7660e2a545c7\">\n",
              "  <button class=\"colab-df-quickchart\" onclick=\"quickchart('df-b5ef14b5-22d4-48e5-a8d0-7660e2a545c7')\"\n",
              "            title=\"Suggest charts\"\n",
              "            style=\"display:none;\">\n",
              "\n",
              "<svg xmlns=\"http://www.w3.org/2000/svg\" height=\"24px\"viewBox=\"0 0 24 24\"\n",
              "     width=\"24px\">\n",
              "    <g>\n",
              "        <path d=\"M19 3H5c-1.1 0-2 .9-2 2v14c0 1.1.9 2 2 2h14c1.1 0 2-.9 2-2V5c0-1.1-.9-2-2-2zM9 17H7v-7h2v7zm4 0h-2V7h2v10zm4 0h-2v-4h2v4z\"/>\n",
              "    </g>\n",
              "</svg>\n",
              "  </button>\n",
              "\n",
              "<style>\n",
              "  .colab-df-quickchart {\n",
              "      --bg-color: #E8F0FE;\n",
              "      --fill-color: #1967D2;\n",
              "      --hover-bg-color: #E2EBFA;\n",
              "      --hover-fill-color: #174EA6;\n",
              "      --disabled-fill-color: #AAA;\n",
              "      --disabled-bg-color: #DDD;\n",
              "  }\n",
              "\n",
              "  [theme=dark] .colab-df-quickchart {\n",
              "      --bg-color: #3B4455;\n",
              "      --fill-color: #D2E3FC;\n",
              "      --hover-bg-color: #434B5C;\n",
              "      --hover-fill-color: #FFFFFF;\n",
              "      --disabled-bg-color: #3B4455;\n",
              "      --disabled-fill-color: #666;\n",
              "  }\n",
              "\n",
              "  .colab-df-quickchart {\n",
              "    background-color: var(--bg-color);\n",
              "    border: none;\n",
              "    border-radius: 50%;\n",
              "    cursor: pointer;\n",
              "    display: none;\n",
              "    fill: var(--fill-color);\n",
              "    height: 32px;\n",
              "    padding: 0;\n",
              "    width: 32px;\n",
              "  }\n",
              "\n",
              "  .colab-df-quickchart:hover {\n",
              "    background-color: var(--hover-bg-color);\n",
              "    box-shadow: 0 1px 2px rgba(60, 64, 67, 0.3), 0 1px 3px 1px rgba(60, 64, 67, 0.15);\n",
              "    fill: var(--button-hover-fill-color);\n",
              "  }\n",
              "\n",
              "  .colab-df-quickchart-complete:disabled,\n",
              "  .colab-df-quickchart-complete:disabled:hover {\n",
              "    background-color: var(--disabled-bg-color);\n",
              "    fill: var(--disabled-fill-color);\n",
              "    box-shadow: none;\n",
              "  }\n",
              "\n",
              "  .colab-df-spinner {\n",
              "    border: 2px solid var(--fill-color);\n",
              "    border-color: transparent;\n",
              "    border-bottom-color: var(--fill-color);\n",
              "    animation:\n",
              "      spin 1s steps(1) infinite;\n",
              "  }\n",
              "\n",
              "  @keyframes spin {\n",
              "    0% {\n",
              "      border-color: transparent;\n",
              "      border-bottom-color: var(--fill-color);\n",
              "      border-left-color: var(--fill-color);\n",
              "    }\n",
              "    20% {\n",
              "      border-color: transparent;\n",
              "      border-left-color: var(--fill-color);\n",
              "      border-top-color: var(--fill-color);\n",
              "    }\n",
              "    30% {\n",
              "      border-color: transparent;\n",
              "      border-left-color: var(--fill-color);\n",
              "      border-top-color: var(--fill-color);\n",
              "      border-right-color: var(--fill-color);\n",
              "    }\n",
              "    40% {\n",
              "      border-color: transparent;\n",
              "      border-right-color: var(--fill-color);\n",
              "      border-top-color: var(--fill-color);\n",
              "    }\n",
              "    60% {\n",
              "      border-color: transparent;\n",
              "      border-right-color: var(--fill-color);\n",
              "    }\n",
              "    80% {\n",
              "      border-color: transparent;\n",
              "      border-right-color: var(--fill-color);\n",
              "      border-bottom-color: var(--fill-color);\n",
              "    }\n",
              "    90% {\n",
              "      border-color: transparent;\n",
              "      border-bottom-color: var(--fill-color);\n",
              "    }\n",
              "  }\n",
              "</style>\n",
              "\n",
              "  <script>\n",
              "    async function quickchart(key) {\n",
              "      const quickchartButtonEl =\n",
              "        document.querySelector('#' + key + ' button');\n",
              "      quickchartButtonEl.disabled = true;  // To prevent multiple clicks.\n",
              "      quickchartButtonEl.classList.add('colab-df-spinner');\n",
              "      try {\n",
              "        const charts = await google.colab.kernel.invokeFunction(\n",
              "            'suggestCharts', [key], {});\n",
              "      } catch (error) {\n",
              "        console.error('Error during call to suggestCharts:', error);\n",
              "      }\n",
              "      quickchartButtonEl.classList.remove('colab-df-spinner');\n",
              "      quickchartButtonEl.classList.add('colab-df-quickchart-complete');\n",
              "    }\n",
              "    (() => {\n",
              "      let quickchartButtonEl =\n",
              "        document.querySelector('#df-b5ef14b5-22d4-48e5-a8d0-7660e2a545c7 button');\n",
              "      quickchartButtonEl.style.display =\n",
              "        google.colab.kernel.accessAllowed ? 'block' : 'none';\n",
              "    })();\n",
              "  </script>\n",
              "</div>\n",
              "\n",
              "    </div>\n",
              "  </div>\n"
            ],
            "application/vnd.google.colaboratory.intrinsic+json": {
              "type": "dataframe",
              "summary": "{\n  \"name\": \"tabla_comparacion_modelos\",\n  \"rows\": 3,\n  \"fields\": [\n    {\n      \"column\": \"MODELO\",\n      \"properties\": {\n        \"dtype\": \"category\",\n        \"num_unique_values\": 1,\n        \"samples\": [\n          \"ForecasterEquivalentDate({'offset': <DateOffset: days=7>, 'n_offsets': 1})\"\n        ],\n        \"semantic_type\": \"\",\n        \"description\": \"\"\n      }\n    },\n    {\n      \"column\": \"VARIABLE\",\n      \"properties\": {\n        \"dtype\": \"string\",\n        \"num_unique_values\": 3,\n        \"samples\": [\n          \"CONSUMO\"\n        ],\n        \"semantic_type\": \"\",\n        \"description\": \"\"\n      }\n    },\n    {\n      \"column\": \"MAE\",\n      \"properties\": {\n        \"dtype\": \"number\",\n        \"std\": 662.4932607728123,\n        \"min\": 406.4218392857142,\n        \"max\": 1696.8574821428574,\n        \"num_unique_values\": 3,\n        \"samples\": [\n          1696.8574821428574\n        ],\n        \"semantic_type\": \"\",\n        \"description\": \"\"\n      }\n    },\n    {\n      \"column\": \"MSE\",\n      \"properties\": {\n        \"dtype\": \"number\",\n        \"std\": 2391054.3663244406,\n        \"min\": 821104.4110548275,\n        \"max\": 5602338.779176077,\n        \"num_unique_values\": 3,\n        \"samples\": [\n          5602338.779176077\n        ],\n        \"semantic_type\": \"\",\n        \"description\": \"\"\n      }\n    },\n    {\n      \"column\": \"RMSE\",\n      \"properties\": {\n        \"dtype\": \"number\",\n        \"std\": 734.4359482482487,\n        \"min\": 906.1481176136865,\n        \"max\": 2366.926018948644,\n        \"num_unique_values\": 3,\n        \"samples\": [\n          2366.926018948644\n        ],\n        \"semantic_type\": \"\",\n        \"description\": \"\"\n      }\n    }\n  ]\n}"
            }
          },
          "metadata": {},
          "execution_count": 43
        }
      ],
      "source": [
        "tabla_comparacion_modelos.sort_values(by=['VARIABLE', 'MAE'], ascending = [True, True])"
      ]
    },
    {
      "cell_type": "markdown",
      "id": "a0232f5d",
      "metadata": {
        "id": "a0232f5d"
      },
      "source": [
        "Una vez tenemos un baseline, probemos a modelar la serie mediante un tipo de modelo estadístico muy usado para series temporales: ARIMA y sus variantes."
      ]
    },
    {
      "cell_type": "markdown",
      "source": [
        "### 5.2. ARIMA (AutoRegressive Integrated Moving Average)"
      ],
      "metadata": {
        "id": "PaF9eFXgHQ1g"
      },
      "id": "PaF9eFXgHQ1g"
    },
    {
      "cell_type": "markdown",
      "id": "1049a04f",
      "metadata": {
        "id": "1049a04f"
      },
      "source": [
        "Es un modelo clásico de series temporales que puede capturar tanto la estacionalidad como las tendencias en los datos. Combina tres componentes:\n",
        "- $AR$ (AutoRegressive): Este componente usa la relación dependiente entre una observación y un número de rezagos (lag) de la misma.\n",
        "- $I$ (Integrated): Esta parte del modelo utiliza la diferencia de las observaciones para hacer la serie temporal estacionaria.\n",
        "- $MA$ (Moving Average): Este componente modela el error de la serie temporal como una combinación lineal de errores de observaciones pasadas.\n",
        "\n",
        "Un modelo ARIMA se denota como ARIMA(p,d,q):\n",
        "- $p$ es el orden del componente autoregresivo.\n",
        "- $d$ es el grado de diferenciación.\n",
        "- $q$ es el orden del componente de media móvil.\n",
        "\n",
        "Notar que $ARIMA(1,0,0) = AR(1)$, $ARIMA(0,1,0) = I(1)$, y $ARIMA(0,0,1) = MA(1)$."
      ]
    },
    {
      "cell_type": "markdown",
      "id": "d41cf655",
      "metadata": {
        "id": "d41cf655"
      },
      "source": [
        "#### 5.2.1. Análisis exploratorio de la serie\n",
        "\n",
        "Antes de aplicar ARIMA, es necesario:\n",
        "\n",
        "1. **Verificar Estacionariedad**\n",
        "\n",
        "Observando la gráfica de la serie temporal, parece que la media y la varianza permanencen más o menos constantes, lo cuál es un indicador de estacionaridad. Pero para asegurarnos, aplicaremos la prueba de **Dickey Fuller aumentada** y la de **Kwiatkowski-Phillips-Schmidt-Shin (KPSS)**."
      ]
    },
    {
      "cell_type": "code",
      "execution_count": null,
      "id": "29a4e1bd",
      "metadata": {
        "id": "29a4e1bd"
      },
      "outputs": [],
      "source": [
        "def test_estacionariedad(df, column): ## tengo dudas sobre si esto se aplica sobre todo el conjunto o solo sobre el de train\n",
        "    print(f'Test estacionariedad para la serie de la variable {column}')\n",
        "    print('--------------------------------------------------------------')\n",
        "    adfuller_result = adfuller(df[column])\n",
        "    kpss_result = kpss(df[column])\n",
        "    print(f'ADF Statistic: {adfuller_result[0]}, p-value: {adfuller_result[1]}')\n",
        "    print(f'KPSS Statistic: {kpss_result[0]}, p-value: {kpss_result[1]}')"
      ]
    },
    {
      "cell_type": "code",
      "execution_count": null,
      "id": "8056f74c",
      "metadata": {
        "id": "8056f74c"
      },
      "outputs": [],
      "source": [
        "test_estacionariedad(train_val_data, 'CONSUMO')"
      ]
    },
    {
      "cell_type": "code",
      "execution_count": null,
      "id": "c7dbfdac",
      "metadata": {
        "id": "c7dbfdac"
      },
      "outputs": [],
      "source": [
        "test_estacionariedad(train_val_data, 'ENTRADA')"
      ]
    },
    {
      "cell_type": "code",
      "execution_count": null,
      "id": "05299abb",
      "metadata": {
        "id": "05299abb"
      },
      "outputs": [],
      "source": [
        "test_estacionariedad(train_val_data, 'SALIDA')"
      ]
    },
    {
      "cell_type": "markdown",
      "id": "4a612f44",
      "metadata": {
        "id": "4a612f44"
      },
      "source": [
        "Notar que en los tres casos, para la prueba DF el p-value es superior a 0.05, luego se considera que las tres series no son estacionarias y es necesario diferenciar. Aunque, la prueba KPSS es superior a 0.05 en el último caso, indicando entonces que la serie es estacionaria, al tener un resultado un poco contradictorio, probaremos diferenciando igualmente."
      ]
    },
    {
      "cell_type": "code",
      "execution_count": null,
      "id": "23615bce",
      "metadata": {
        "id": "23615bce"
      },
      "outputs": [],
      "source": [
        "train_data_diff_1 = train_val_data.diff().dropna()"
      ]
    },
    {
      "cell_type": "code",
      "execution_count": null,
      "id": "be08bb5a",
      "metadata": {
        "id": "be08bb5a"
      },
      "outputs": [],
      "source": [
        "test_estacionariedad(train_data_diff_1, 'CONSUMO')"
      ]
    },
    {
      "cell_type": "code",
      "execution_count": null,
      "id": "b4de4ba9",
      "metadata": {
        "id": "b4de4ba9"
      },
      "outputs": [],
      "source": [
        "test_estacionariedad(train_data_diff_1, 'ENTRADA')"
      ]
    },
    {
      "cell_type": "code",
      "execution_count": null,
      "id": "a1aa2a04",
      "metadata": {
        "id": "a1aa2a04"
      },
      "outputs": [],
      "source": [
        "test_estacionariedad(train_data_diff_1, 'SALIDA')"
      ]
    },
    {
      "cell_type": "markdown",
      "id": "b53b0701",
      "metadata": {
        "id": "b53b0701"
      },
      "source": [
        "Ahora los valores de los p-values si que están en el umbral que deben estar para todas las variables y pruebas. Por lo tanto:"
      ]
    },
    {
      "cell_type": "code",
      "execution_count": null,
      "id": "1c745481",
      "metadata": {
        "id": "1c745481"
      },
      "outputs": [],
      "source": [
        "d = 1"
      ]
    },
    {
      "cell_type": "markdown",
      "id": "e04d5e4e",
      "metadata": {
        "id": "e04d5e4e"
      },
      "source": [
        "Pintemos las gráficas de las series diferenciadas:"
      ]
    },
    {
      "cell_type": "code",
      "execution_count": null,
      "id": "d69ced01",
      "metadata": {
        "id": "d69ced01"
      },
      "outputs": [],
      "source": [
        "fig, axs = plt.subplots(nrows=3, ncols=1, figsize=(11, 7), sharex=True)\n",
        "train_data_diff_1['CONSUMO'].plot(ax=axs[0], title='Diferenciación de orden 1 de la serie de la variable CONSUMO')\n",
        "train_data_diff_1['ENTRADA'].plot(ax=axs[1], title='Diferenciación de orden 1 de la serie de la variable ENTRADA')\n",
        "train_data_diff_1['SALIDA'].plot(ax=axs[2], title='Diferenciación de orden 1 de la serie de la variable SALIDA');"
      ]
    },
    {
      "cell_type": "markdown",
      "id": "26ecea27",
      "metadata": {
        "id": "26ecea27"
      },
      "source": [
        "Los análisis posteriores debemos realizarlos con la serie diferenciada."
      ]
    },
    {
      "cell_type": "markdown",
      "id": "74353004",
      "metadata": {
        "id": "74353004"
      },
      "source": [
        "2. **Análisis de autocorrelación**\n",
        "\n",
        "Los gráficos de autocorrelación muestran la correlación entre una serie temporal y sus valores pasados. Son una herramienta útil para identificar el orden de un modelo autorregresivo, es decir, los valores pasados (lags) que se deben incluir en el modelo.\n",
        "\n",
        "- La función de autocorrelación (ACF) mide la correlación entre una serie temporal y sus valores pasados.\n",
        "- La función de autocorrelación parcial (PACF) mide la correlación entre una serie temporal y sus valores pasados, pero solo después de eliminar las variaciones explicadas por los valores pasados intermedios.\n",
        "\n",
        "La ACF ayuda a identificar el valor de $q$ (lags en la parte de media móvil), mientras que la PACF ayuda a identificar el valor de $p$ (lags en la parte autorregresiva).\n",
        "\n",
        "- El umbral de significancia en un gráfico de autocorrelación se refiere a las líneas horizontales que se dibujan a una distancia de ±1.96/√n (donde n es el número de observaciones) alrededor del valor cero. Estas líneas delimitan una región donde los valores de autocorrelación se consideran no significativamente diferentes de cero. Así, los valores que se encuentran dentro de estas líneas se consideran ruido blanco, es decir, no proporcionan información útil sobre la estructura de la serie temporal.\n",
        "\n",
        "- Se dice que la función de autocorrelación corta significativamente en el lag i, cuando el valor de la autocorrelación en el lag i está fuera del umbral de significancia."
      ]
    },
    {
      "cell_type": "code",
      "execution_count": null,
      "id": "0f57094f",
      "metadata": {
        "id": "0f57094f"
      },
      "outputs": [],
      "source": [
        "fig, axes = plt.subplots(1, 3, figsize=(12, 3), sharey=True)\n",
        "\n",
        "plot_acf(train_data_diff_1['CONSUMO'], ax=axes[0], lags=60)\n",
        "axes[0].set_title('CONSUMO')\n",
        "plot_acf(train_data_diff_1['ENTRADA'], ax=axes[1], lags=60)\n",
        "axes[1].set_title('ENTRADA')\n",
        "plot_acf(train_data_diff_1['SALIDA'], ax=axes[2], lags=60)\n",
        "axes[2].set_title('SALIDA')\n",
        "\n",
        "fig.suptitle('Autocorrelación para la serie diferenciada de orden 1', fontsize=14)\n",
        "plt.tight_layout()\n",
        "plt.show()"
      ]
    },
    {
      "cell_type": "markdown",
      "id": "303e6b3d",
      "metadata": {
        "id": "303e6b3d"
      },
      "source": [
        "Una caída brusca de la ACF después de unos pocos retardos indica que los datos tienen un orden autorregresivo finito. Sin embargo, la ACF muestra un patrón sinusoidal, lo cual podría indicar la presencia de una componente estacional. Las correlaciones significativas a múltiples lags indican que hay una dependencia temporal a lo largo del tiempo.\n",
        "\n",
        "El lag en el que la ACF cruza el umbral de significancia proporciona una estimación del valor de $q$:"
      ]
    },
    {
      "cell_type": "code",
      "execution_count": null,
      "id": "b172fe73",
      "metadata": {
        "id": "b172fe73"
      },
      "outputs": [],
      "source": [
        "q = 4"
      ]
    },
    {
      "cell_type": "code",
      "execution_count": null,
      "id": "ad22f2a0",
      "metadata": {
        "id": "ad22f2a0"
      },
      "outputs": [],
      "source": [
        "fig, axes = plt.subplots(1, 3, figsize=(12, 4), sharey=True)\n",
        "\n",
        "plot_pacf(train_data_diff_1['CONSUMO'], ax=axes[0], lags=60, method='ywm')\n",
        "axes[0].set_title('CONSUMO')\n",
        "plot_pacf(train_data_diff_1['ENTRADA'], ax=axes[1], lags=60, method='ywm')\n",
        "axes[1].set_title('ENTRADA')\n",
        "plot_pacf(train_data_diff_1['SALIDA'], ax=axes[2], lags=60, method='ywm')\n",
        "axes[2].set_title('SALIDA')\n",
        "\n",
        "fig.suptitle('Autocorrelación parcial para la serie diferenciada de orden 1', fontsize=14)\n",
        "plt.tight_layout()\n",
        "plt.show()"
      ]
    },
    {
      "cell_type": "markdown",
      "id": "f9801731",
      "metadata": {
        "id": "f9801731"
      },
      "source": [
        "En la gráfica de autocorrelación parcial (PACF), los primeros lags muestran correlaciones significativas, lo cual indica que hay una relación directa entre los valores actuales y los valores pasados en esos lags específicos.\n",
        "Después de los primeros lags, las correlaciones se vuelven insignificantes rápidamente, hasta llegar a las siguientes 24h o 48h que vuelve a haber un pequeño repunte. Esto sugiere que seguramente exista estacionalidad en los datos.\n",
        "\n",
        "Notar que los valores de la PACF caen dentro del umbral de no significancia a partir del lag 3, indicando que el modelo ARIMA podría tener un término AR:"
      ]
    },
    {
      "cell_type": "code",
      "execution_count": null,
      "id": "d1caffff",
      "metadata": {
        "id": "d1caffff"
      },
      "outputs": [],
      "source": [
        "p = 2"
      ]
    },
    {
      "cell_type": "markdown",
      "id": "726c3a0d",
      "metadata": {
        "id": "726c3a0d"
      },
      "source": [
        "#### 5.2.2. Creación y entrenamiento del modelo"
      ]
    },
    {
      "cell_type": "code",
      "source": [
        "def modelo_ARIMA(column, train_data, test_data, p, d, q):\n",
        "    params = {\n",
        "        'order': (p, d, q)\n",
        "    }\n",
        "    modelo = ARIMA(**params)\n",
        "    model_fit = modelo.fit(train_data[column])\n",
        "    predicciones = model_fit.predict(n_periods=len(test_data[column]))\n",
        "    forecast = model_fit.predict(n_periods=len(test_data[column]), return_conf_int=False)\n",
        "\n",
        "    metrics = all_metrics(predicciones, test_data, train_data, column)\n",
        "    print(f\"Métricas de error: {metrics}\")\n",
        "\n",
        "    fig, ax = plt.subplots(figsize=(11, 3))\n",
        "    train_data[column].plot(ax=ax, label='train')\n",
        "    test_data[column].plot(ax=ax, label='test')\n",
        "    predicciones.plot(ax=ax, label='predicción')\n",
        "    ax.set_title(f'Predicciones con ARIMA para la variable {column}')\n",
        "    ax.legend()\n",
        "\n",
        "    return params, metrics"
      ],
      "metadata": {
        "id": "SoUZJb3xkaUF"
      },
      "id": "SoUZJb3xkaUF",
      "execution_count": null,
      "outputs": []
    },
    {
      "cell_type": "code",
      "execution_count": null,
      "id": "d40eafd9",
      "metadata": {
        "id": "d40eafd9"
      },
      "outputs": [],
      "source": [
        "params, metrics = modelo_ARIMA('CONSUMO', train_val_data, test_data, p, d, q)\n",
        "tabla_comparacion_modelos = guardar_results(f'ARIMA({params})', 'CONSUMO', metrics['MAE'], metrics['MSE'], metrics['RMSE'], tabla_comparacion_modelos)"
      ]
    },
    {
      "cell_type": "code",
      "execution_count": null,
      "id": "7767e3c9",
      "metadata": {
        "id": "7767e3c9"
      },
      "outputs": [],
      "source": [
        "params, metrics = modelo_ARIMA('ENTRADA', train_val_data, test_data, p, d, q)\n",
        "tabla_comparacion_modelos = guardar_results(f'ARIMA({params})', 'ENTRADA', metrics['MAE'], metrics['MSE'], metrics['RMSE'], tabla_comparacion_modelos)"
      ]
    },
    {
      "cell_type": "code",
      "execution_count": null,
      "id": "75b3590d",
      "metadata": {
        "id": "75b3590d"
      },
      "outputs": [],
      "source": [
        "params, metrics = modelo_ARIMA('SALIDA', train_val_data, test_data, p, d, q)\n",
        "tabla_comparacion_modelos = guardar_results(f'ARIMA({params})', 'SALIDA', metrics['MAE'], metrics['MSE'], metrics['RMSE'], tabla_comparacion_modelos)"
      ]
    },
    {
      "cell_type": "code",
      "execution_count": null,
      "id": "e6c82eb3",
      "metadata": {
        "id": "e6c82eb3"
      },
      "outputs": [],
      "source": [
        "tabla_comparacion_modelos.sort_values(by=['VARIABLE', 'MAE'], ascending = [True, True])"
      ]
    },
    {
      "cell_type": "markdown",
      "id": "41320c60",
      "metadata": {
        "id": "41320c60"
      },
      "source": [
        "Los resultados con modelos ARIMA son muy malos, peores incluso que los obtenidos con el modelo baseline. Notar que las predicciones son casi planas. Puede que se deba a la existente estacionalidad de los datos. Deberemos modelar también la componente estacional con SARIMA."
      ]
    },
    {
      "cell_type": "markdown",
      "id": "dc36f834",
      "metadata": {
        "id": "dc36f834"
      },
      "source": [
        "### 5.3. SARIMA (Seasonal ARIMA)"
      ]
    },
    {
      "cell_type": "markdown",
      "source": [
        "SARIMA es una extensión de ARIMA que incluye componentes estacionales. Ideal para datos que muestran estacionalidad, como el consumo eléctrico que hemos visto que sigue un ciclo diario. SARIMA incorpora los siguientes términos (además de los que ya incluye ARIMA):\n",
        "\n",
        "- $P$: Número de términos autorregresivos en la parte estacional del modelo.\n",
        "- $D$: Número de veces que los datos deben ser diferenciados estacionalmente.\n",
        "- $Q$: Número de términos de media móvil en la parte estacional del modelo.\n",
        "- $s$: Longitud del ciclo estacional."
      ],
      "metadata": {
        "id": "Gbsc5fVJHZei"
      },
      "id": "Gbsc5fVJHZei"
    },
    {
      "cell_type": "markdown",
      "source": [
        "#### 5.3.1. Análisis exploratorio de la serie"
      ],
      "metadata": {
        "id": "YAS4gXxVHZPw"
      },
      "id": "YAS4gXxVHZPw"
    },
    {
      "cell_type": "markdown",
      "source": [
        "Como hemos detectado que nuestras series tienen estacionalidad, será útil realizar una descomposición estacional de series temporales (STL), es decir, descomponer la serie temporal en sus componentes fundamentales para un análisis más detallado:\n",
        "\n",
        "- La tendencia\n",
        "- La estacionalidad\n",
        "- Los residuos\n",
        "\n",
        "Este análisis puede revelar patrones ocultos y ayudar a identificar la estacionalidad, además de los valores óptimos de los parámetros $P$, $D$, $Q$ y $s$ (y puede llevarse a cabo de manera aditiva o multiplicativa)."
      ],
      "metadata": {
        "id": "EsiRnmyQRbXj"
      },
      "id": "EsiRnmyQRbXj"
    },
    {
      "cell_type": "code",
      "execution_count": null,
      "id": "5e75ad45",
      "metadata": {
        "id": "5e75ad45"
      },
      "outputs": [],
      "source": [
        "def descomposicion_estacional(df, column):\n",
        "    res_decompose = seasonal_decompose(df[column], model='additive', extrapolate_trend='freq')\n",
        "\n",
        "    fig, axs = plt.subplots(nrows=2, ncols=2, figsize=(14, 7))\n",
        "    res_decompose.observed.plot(ax=axs[0, 0])\n",
        "    axs[0, 0].set_title('Serie')\n",
        "    res_decompose.trend.plot(ax=axs[0, 1])\n",
        "    axs[0, 1].set_title('Tendencia')\n",
        "    res_decompose.seasonal.plot(ax=axs[1, 0])\n",
        "    axs[1, 0].set_title('Estacionalidad')\n",
        "    res_decompose.resid.plot(ax=axs[1, 1])\n",
        "    axs[1, 1].set_title('Residuos')\n",
        "    fig.suptitle(f'Descomposición estacional de la serie para la variable {column}', fontsize=14)\n",
        "    fig.tight_layout()\n",
        "\n",
        "    return res_decompose"
      ]
    },
    {
      "cell_type": "code",
      "execution_count": null,
      "id": "e75ce0ab",
      "metadata": {
        "id": "e75ce0ab"
      },
      "outputs": [],
      "source": [
        "descomposicion_estacional(df_consumo_total, 'CONSUMO')"
      ]
    },
    {
      "cell_type": "code",
      "execution_count": null,
      "id": "ff33589e",
      "metadata": {
        "id": "ff33589e"
      },
      "outputs": [],
      "source": [
        "descomposicion_estacional(df_consumo_total, 'ENTRADA')"
      ]
    },
    {
      "cell_type": "code",
      "execution_count": null,
      "id": "1baa5690",
      "metadata": {
        "id": "1baa5690"
      },
      "outputs": [],
      "source": [
        "descomposicion_estacional(df_consumo_total, 'SALIDA')"
      ]
    },
    {
      "cell_type": "markdown",
      "id": "5ac6da50",
      "metadata": {
        "id": "5ac6da50"
      },
      "source": [
        "- La estacionalidad muestra un patrón muy claro con ciclos regulares de 24 horas (lags) en las tres series temporales. De aquí se sigue el valor de s.\n",
        "\n",
        "- En las gráficas de tendencia se puede apreciar una tendencia decreciente tanto en las variables CONSUMO como ENTRADA."
      ]
    },
    {
      "cell_type": "code",
      "execution_count": null,
      "id": "33da7a8d",
      "metadata": {
        "id": "33da7a8d"
      },
      "outputs": [],
      "source": [
        "s = 24"
      ]
    },
    {
      "cell_type": "markdown",
      "id": "7b65e0dc",
      "metadata": {
        "id": "7b65e0dc"
      },
      "source": [
        "(De esto se encarga SARIMA: Si queremos aplicar ARIMA, deberemos aplicar la diferenciación estacional. Esto captura patrones cíclicos o estacionales y ayuda a eliminar tendencias estacionales.)"
      ]
    },
    {
      "cell_type": "markdown",
      "id": "f3b12654",
      "metadata": {
        "id": "f3b12654"
      },
      "source": [
        "#### 5.3.2. Creación y entrenamiento del modelo"
      ]
    },
    {
      "cell_type": "code",
      "execution_count": null,
      "id": "1d4eeb77",
      "metadata": {
        "id": "1d4eeb77"
      },
      "outputs": [],
      "source": [
        "def skforecast_SARIMAX(column, train_data, test_data, p, d, q, P, D, Q, s):\n",
        "    params = {\n",
        "        'order': (p, d, q),\n",
        "        'seasonal_order': (P, D, Q, s)\n",
        "    }\n",
        "    modelo = Sarimax(**params)\n",
        "    modelo.fit(y=train_data[column])\n",
        "    predicciones = modelo.predict(steps=len(test_data[column]))\n",
        "    metrics = all_metrics(predicciones, test_data, train_data, column)\n",
        "    print(f\"Métricas de error con skforecast: {metrics}\")\n",
        "    return params, predicciones, metrics\n",
        "\n",
        "def pdmarima_SARIMAX(column, train_data, test_data, p, d, q, P, D, Q, s):\n",
        "    params = {\n",
        "        'order': (p, d, q),\n",
        "        'seasonal_order': (P, D, Q, s)\n",
        "    }\n",
        "    modelo = ARIMA(**params)\n",
        "    modelo.fit(y=train_data[column])\n",
        "    predicciones = modelo.predict(len(test_data[column]))\n",
        "    metrics = all_metrics(predicciones, test_data, train_data, column)\n",
        "    print(f\"Métricas de error con pdmarima: {metrics}\")\n",
        "    return params, predicciones, metrics"
      ]
    },
    {
      "cell_type": "code",
      "execution_count": null,
      "id": "52c0413c",
      "metadata": {
        "id": "52c0413c"
      },
      "outputs": [],
      "source": [
        "def modelos_SARIMA(column, train_data, test_data, p, d, q, P, D, Q, s):\n",
        "    print(f'Predicciones con SARIMA para la serie de la variable {column}')\n",
        "    print('--------------------------------------------------------------')\n",
        "    params1, preds1, metrics1 = skforecast_SARIMAX(column, train_data, test_data, p, d, q, P, D, Q, s)\n",
        "    params2, preds2, metrics2 = pdmarima_SARIMAX(column, train_data, test_data, p, d, q, P, D, Q, s)\n",
        "\n",
        "    fig, ax = plt.subplots(figsize=(10, 3))\n",
        "    train_data[column].plot(ax=ax, label='train')\n",
        "    test_data[column].plot(ax=ax, label='test')\n",
        "    preds1.plot(ax=ax, label='skforecast')\n",
        "    preds2.plot(ax=ax, label='pmdarima')\n",
        "    ax.set_title(f'Predicciones con modelos SARIMA para la variable {column}')\n",
        "    ax.legend()\n",
        "\n",
        "    return params1, params2, metrics1, metrics2"
      ]
    },
    {
      "cell_type": "code",
      "execution_count": null,
      "id": "f28962d2",
      "metadata": {
        "id": "f28962d2"
      },
      "outputs": [],
      "source": [
        "P, D, Q = 1,1,1"
      ]
    },
    {
      "cell_type": "code",
      "execution_count": null,
      "id": "b5e3964f",
      "metadata": {
        "id": "b5e3964f"
      },
      "outputs": [],
      "source": [
        "params1, params2, metrics1, metrics2 = modelos_SARIMA('CONSUMO', train_val_data, test_data, p, d, q, P, D, Q, s)\n",
        "tabla_comparacion_modelos = guardar_results(f'Sarimax({params1})', 'CONSUMO', metrics1['MAE'], metrics1['MSE'], metrics1['RMSE'], tabla_comparacion_modelos)\n",
        "tabla_comparacion_modelos = guardar_results(f'ARIMA({params2})', 'CONSUMO', metrics2['MAE'], metrics2['MSE'], metrics2['RMSE'], tabla_comparacion_modelos)"
      ]
    },
    {
      "cell_type": "code",
      "execution_count": null,
      "id": "30efd7ba",
      "metadata": {
        "id": "30efd7ba"
      },
      "outputs": [],
      "source": [
        "params1, params2, metrics1, metrics2 = modelos_SARIMA('ENTRADA', train_val_data, test_data, p, d, q, P, D, Q, s)\n",
        "tabla_comparacion_modelos = guardar_results(f'Sarimax({params1})', 'ENTRADA', metrics1['MAE'], metrics1['MSE'], metrics1['RMSE'], tabla_comparacion_modelos)\n",
        "tabla_comparacion_modelos = guardar_results(f'ARIMA({params2})', 'ENTRADA', metrics2['MAE'], metrics2['MSE'], metrics2['RMSE'], tabla_comparacion_modelos)"
      ]
    },
    {
      "cell_type": "code",
      "execution_count": null,
      "id": "09bfc61b",
      "metadata": {
        "id": "09bfc61b"
      },
      "outputs": [],
      "source": [
        "params1, params2, metrics1, metrics2 = modelos_SARIMA('SALIDA', train_val_data, test_data, p, d, q, P, D, Q, s)\n",
        "tabla_comparacion_modelos = guardar_results(f'Sarimax({params1})', 'SALIDA', metrics1['MAE'], metrics1['MSE'], metrics1['RMSE'], tabla_comparacion_modelos)\n",
        "tabla_comparacion_modelos = guardar_results(f'ARIMA({params2})', 'SALIDA', metrics2['MAE'], metrics2['MSE'], metrics2['RMSE'], tabla_comparacion_modelos)"
      ]
    },
    {
      "cell_type": "code",
      "execution_count": null,
      "id": "a6a5ac5a",
      "metadata": {
        "id": "a6a5ac5a"
      },
      "outputs": [],
      "source": [
        "tabla_comparacion_modelos.sort_values(by=['VARIABLE', 'MAE'], ascending = [True, True])"
      ]
    },
    {
      "cell_type": "markdown",
      "id": "5ebde678",
      "metadata": {
        "id": "5ebde678"
      },
      "source": [
        "Estos modelos SARIMA claramente dan mejores resultados que los ARIMA, pero no llegan a tener un MAE inferior al conseguido con el modelo baseline."
      ]
    },
    {
      "cell_type": "markdown",
      "id": "18ef5ecf",
      "metadata": {
        "id": "18ef5ecf"
      },
      "source": [
        "#### 5.3.3. ForecasterSarimax"
      ]
    },
    {
      "cell_type": "markdown",
      "source": [
        "Dado que ForecasterSarimax sigue la misma API que los otros Forecasters disponibles en la librería, es muy fácil hacer una comparación robusta del rendimiento de modelos ARIMA-SARIMAX frente a otros modelos de machine learning como Random Forest or Gradient Boosting. (https://cienciadedatos.net/documentos/py51-modelos-arima-sarimax-python)"
      ],
      "metadata": {
        "id": "R8n2AEwPyuqL"
      },
      "id": "R8n2AEwPyuqL"
    },
    {
      "cell_type": "code",
      "execution_count": null,
      "id": "e7a469d9",
      "metadata": {
        "id": "e7a469d9"
      },
      "outputs": [],
      "source": [
        "def backtesting_SARIMAX(forecaster, df, column, train_val_data, test_data):\n",
        "    metric, predicciones = backtesting_sarimax(\n",
        "                          forecaster         = forecaster,\n",
        "                          y                  = df[column],\n",
        "                          steps              = 24,\n",
        "                          metric             = 'mean_absolute_error',\n",
        "                          initial_train_size = len(df.loc[:train_val_data.index.max()]),\n",
        "                          fixed_train_size   = False,\n",
        "                          refit              = True,\n",
        "                          n_jobs             = 'auto',\n",
        "                          verbose            = False,\n",
        "                          show_progress      = True\n",
        "                      )\n",
        "\n",
        "    metrics = all_metrics(predicciones, test_data, train_data, column)\n",
        "    print(f\"Métricas de error: {metrics}\")\n",
        "\n",
        "    fig, ax = plt.subplots(figsize=(11, 3))\n",
        "    #train_val_data[column].plot(ax=ax, label='train')\n",
        "    test_data[column].plot(ax=ax, label='test')\n",
        "    predicciones.plot(ax=ax, label='predicciones')\n",
        "    ax.set_title(f'Predicciones de backtesting sobre la variable {column} con un ForecasterSarimax')\n",
        "    ax.legend()\n",
        "\n",
        "    return metrics"
      ]
    },
    {
      "cell_type": "code",
      "execution_count": null,
      "id": "9123a771",
      "metadata": {
        "id": "9123a771"
      },
      "outputs": [],
      "source": [
        "params = {\n",
        "        'order': (p, d, q),\n",
        "        'seasonal_order': (P, D, Q, s)\n",
        "    }\n",
        "forecaster = ForecasterSarimax(regressor=Sarimax(**params)) #maxiter=200"
      ]
    },
    {
      "cell_type": "code",
      "execution_count": null,
      "id": "773cb4c1",
      "metadata": {
        "id": "773cb4c1"
      },
      "outputs": [],
      "source": [
        "metrics = backtesting_SARIMAX(forecaster, df_consumo_total, 'CONSUMO', train_val_data, test_data)\n",
        "tabla_comparacion_modelos = guardar_results(f'ForecasterSarimax(regressor=Sarimax({params})', 'CONSUMO', metrics['MAE'], metrics['MSE'], metrics['RMSE'], tabla_comparacion_modelos)"
      ]
    },
    {
      "cell_type": "code",
      "execution_count": null,
      "id": "ef6235c9",
      "metadata": {
        "id": "ef6235c9"
      },
      "outputs": [],
      "source": [
        "metrics = backtesting_SARIMAX(forecaster, df_consumo_total, 'ENTRADA', train_val_data, test_data)\n",
        "tabla_comparacion_modelos = guardar_results(f'ForecasterSarimax(regressor=Sarimax({params})', 'ENTRADA', metrics['MAE'], metrics['MSE'], metrics['RMSE'], tabla_comparacion_modelos)"
      ]
    },
    {
      "cell_type": "code",
      "execution_count": null,
      "id": "509e6a6e",
      "metadata": {
        "id": "509e6a6e"
      },
      "outputs": [],
      "source": [
        "metrics = backtesting_SARIMAX(forecaster, df_consumo_total, 'SALIDA', train_val_data, test_data)\n",
        "tabla_comparacion_modelos = guardar_results(f'ForecasterSarimax(regressor=Sarimax({params})', 'SALIDA', metrics['MAE'], metrics['MSE'], metrics['RMSE'], tabla_comparacion_modelos)"
      ]
    },
    {
      "cell_type": "code",
      "execution_count": null,
      "id": "8b005829",
      "metadata": {
        "id": "8b005829"
      },
      "outputs": [],
      "source": [
        "tabla_comparacion_modelos.sort_values(by=['VARIABLE', 'MAE'], ascending = [True, True])"
      ]
    },
    {
      "cell_type": "markdown",
      "id": "5a186582",
      "metadata": {
        "id": "5a186582"
      },
      "source": [
        "Seguimos consiguiendo reducir el MAE, pero no lo suficiente como para superar el modelo baseline todavía. Nos queda margen para ajustar los parámetros, sobre todo en $P$, $D$ y $Q$."
      ]
    },
    {
      "cell_type": "markdown",
      "id": "a8f3fe60",
      "metadata": {
        "id": "a8f3fe60"
      },
      "source": [
        "#### 5.3.4. Búsqueda exhaustiva de hiperparámetros (en construcción)"
      ]
    },
    {
      "cell_type": "markdown",
      "id": "40017485",
      "metadata": {
        "id": "40017485"
      },
      "source": [
        "(reeescribir)\n",
        "El análisis exploratorio realizado hasta ahora ha reducido el espacio de búsqueda para los hiperparámetros óptimos del modelo. Sin embargo, para determinar definitivamente los valores más apropiados, es esencial utilizar métodos de búsqueda estratégicos. Entre estos métodos, dos enfoques ampliamente utilizados son:\n",
        "\n",
        "- Criterios estadísticos: Las métricas de criterios de información, como el Criterio de Información de Akaike (AIC) o el Criterio de Información Bayesiano (BIC), utilizan diferentes penalizaciones sobre la estimación de máxima verosimilitud del modelo como medida de la bondad de ajuste. La ventaja de utilizar estas métricas es que se calculan únicamente con los datos de entrenamiento, lo que elimina la necesidad de realizar predicciones sobre nuevos datos. Como resultado, el proceso de optimización se acelera considerablemente. El conocido algoritmo Auto Arima utiliza este enfoque.\n",
        "\n",
        "- Técnicas de validación: El uso de técnicas de validación, especialmente el backtesting, es otra estrategia efectiva. El backtesting consiste en evaluar el rendimiento del modelo utilizando datos históricos para simular las condiciones del mundo real. Esto ayuda a validar la eficacia de los hiperparámetros en diferentes escenarios, proporcionando una evaluación práctica de su viabilidad.\n",
        "\n",
        "Es importante señalar que las métricas basadas en los criterios de información sólo miden la calidad relativa de los modelos. Esto significa que los modelos probados podrían ser deficientes. Por lo tanto, el modelo final seleccionado debe someterse a una fase de backtesting. En esta fase se calcula una métrica (como MAE, MSE, MAPE, etc.) que valida su rendimiento en una escala con sentido para el caso de uso.\n",
        "\n",
        "Por otro lado, el segundo enfoque -las técnicas de validación- suele requerir más tiempo, ya que el modelo debe entrenarse y luego evaluarse con nuevos datos. Sin embargo, los resultados generados suelen ser más robustos y las métricas derivadas pueden proporcionar información más profunda.\n",
        "\n",
        "Al evaluar los modelos ARIMA-SARIMAX, es importante tener en cuenta que el AIC asume que todos los modelos están entrenados con los mismos datos. Por lo tanto, usar el AIC para decidir entre diferentes órdenes de diferenciación es técnicamente inválido, ya que se pierde valor de la serie con cada orden de diferenciación.\n",
        "\n",
        "Nos quedamos con el segundo enfoque, ya que, aunque suele requerir más tiempo debido a que el modelo debe entrenarse y luego evaluarse con nuevos datos, los resultados generados suelen ser más robustos y las métricas derivadas pueden proporcionar información más profunda.\n",
        "\n",
        "Es fundamental llevar a cabo la optimización de hiperparámetros utilizando un conjunto de datos de validación, en lugar del conjunto de datos de test, para garantizar una evaluación precisa del rendimiento del modelo.\n",
        "\n",
        "+ Dado que Auto Arima es una estrategia de búsqueda de mucho más rápida, puede ser una buena opción utilizarla como primer paso para identificar un grupo de modelos candidatos iniciales. Sin embargo, dade que carece de una métrica interpretable desde el punto de vista de negocio, es recomendable comparar los candidatos finales utilizando backtesting."
      ]
    },
    {
      "cell_type": "markdown",
      "id": "55bb5808",
      "metadata": {
        "id": "55bb5808"
      },
      "source": [
        "##### ***5.3.4.1. Auto-ARIMA***\n",
        "\n",
        "(por qué funciona mejor esto??????????)"
      ]
    },
    {
      "cell_type": "code",
      "execution_count": null,
      "id": "3359fa47",
      "metadata": {
        "id": "3359fa47"
      },
      "outputs": [],
      "source": [
        "# buffer = StringIO()\n",
        "# with contextlib.redirect_stdout(buffer):\n",
        "#     auto_arima(\n",
        "#             y                 = df_consumo_total['CONSUMO'].loc[:train_val_data.index.max()],\n",
        "#             start_p           = 0,\n",
        "#             start_q           = 0,\n",
        "#             max_p             = 5,\n",
        "#             max_q             = 5,\n",
        "#             seasonal          = True,\n",
        "#             test              = 'adf',\n",
        "#             m                 = 24, # periodicidad de la estacionalidad\n",
        "#             d                 = None, # El algoritmo determina 'd'\n",
        "#             D                 = None, # El algoritmo determina 'D'\n",
        "#             trace             = True,\n",
        "#             error_action      = 'ignore',\n",
        "#             suppress_warnings = True,\n",
        "#             stepwise          = True\n",
        "#         )\n",
        "# trace_autoarima = buffer.getvalue()\n",
        "# pattern = r\"ARIMA\\((\\d+),(\\d+),(\\d+)\\)\\((\\d+),(\\d+),(\\d+)\\)\\[(\\d+)\\]\\s+(intercept)?\\s+:\\s+AIC=([\\d\\.]+), Time=([\\d\\.]+) sec\"\n",
        "# matches = re.findall(pattern, trace_autoarima)\n",
        "# results = pd.DataFrame(matches, columns=[\"p\", \"d\", \"q\", \"P\", \"D\", \"Q\", \"s\", \"intercept\", \"AIC\", \"Time\"])\n",
        "# results[\"order\"] = results[[\"p\", \"d\", \"q\"]].apply(lambda x: f\"({x.iloc[0]},{x.iloc[1]},{x.iloc[2]})\", axis=1)\n",
        "# results[\"seasonal_order\"] = results[[\"P\", \"D\", \"Q\", \"s\"]].apply(lambda x: f\"({x.iloc[0]},{x.iloc[1]},{x.iloc[2]},{x.iloc[3]})\", axis=1)\n",
        "# results = results[[\"order\", \"seasonal_order\", \"intercept\", \"AIC\", \"Time\"]]\n",
        "# results.sort_values(by=\"AIC\").reset_index(drop=True)"
      ]
    },
    {
      "cell_type": "code",
      "execution_count": null,
      "id": "c7864c6b",
      "metadata": {
        "id": "c7864c6b"
      },
      "outputs": [],
      "source": [
        "#results.to_csv('/content/drive/MyDrive/TFM/auto_arima_consumo.csv', index=False)"
      ]
    },
    {
      "cell_type": "code",
      "source": [
        "results_auto_arima = pd.read_csv('/content/drive/MyDrive/TFM/auto_arima_consumo.csv')\n",
        "results_auto_arima.sort_values(by='AIC', ascending = True).head()"
      ],
      "metadata": {
        "id": "SzXNX36n43MJ"
      },
      "id": "SzXNX36n43MJ",
      "execution_count": null,
      "outputs": []
    },
    {
      "cell_type": "markdown",
      "id": "252b5105",
      "metadata": {
        "id": "252b5105"
      },
      "source": [
        "Calculemos las predicciones con el modelo indicado por auto-ARIMA:"
      ]
    },
    {
      "cell_type": "code",
      "execution_count": null,
      "id": "73482ab2",
      "metadata": {
        "id": "73482ab2"
      },
      "outputs": [],
      "source": [
        "params = {\n",
        "        'order': (2,0,1),\n",
        "        'seasonal_order': (2,0,0,24)\n",
        "    }\n",
        "forecaster = ForecasterSarimax(regressor=Sarimax(**params)) #,maxiter=200"
      ]
    },
    {
      "cell_type": "code",
      "source": [
        "metrics"
      ],
      "metadata": {
        "id": "DTFlp_cU7XQh"
      },
      "id": "DTFlp_cU7XQh",
      "execution_count": null,
      "outputs": []
    },
    {
      "cell_type": "code",
      "execution_count": null,
      "id": "d1f253e3",
      "metadata": {
        "id": "d1f253e3"
      },
      "outputs": [],
      "source": [
        "metrics = backtesting_SARIMAX(forecaster, df_consumo_total, 'CONSUMO', train_val_data, test_data)\n",
        "tabla_comparacion_modelos = guardar_results(f'ForecasterSarimax(regressor=Sarimax({params})', 'CONSUMO', metrics['MAE'], metrics['MSE'], metrics['RMSE'], tabla_comparacion_modelos)"
      ]
    },
    {
      "cell_type": "code",
      "source": [
        "tabla_comparacion_modelos.sort_values(by=['VARIABLE', 'MAE'], ascending = [True, True])"
      ],
      "metadata": {
        "id": "VARQ6XaW70W2"
      },
      "id": "VARQ6XaW70W2",
      "execution_count": null,
      "outputs": []
    },
    {
      "cell_type": "markdown",
      "id": "919ac0c2",
      "metadata": {
        "id": "919ac0c2"
      },
      "source": [
        "##### ***5.3.4.2. GridSearch***"
      ]
    },
    {
      "cell_type": "code",
      "execution_count": null,
      "id": "530b7e9b",
      "metadata": {
        "id": "530b7e9b"
      },
      "outputs": [],
      "source": [
        "def grid_search(forecaster, param_grid, df, column, train_data, validation_data):\n",
        "    resultados_grid = grid_search_sarimax(\n",
        "                            forecaster            = forecaster,\n",
        "                            y                     = df[column].loc[:validation_data.index.max()],\n",
        "                            param_grid            = param_grid,\n",
        "                            steps                 = 12,\n",
        "                            refit                 = True,\n",
        "                            metric                = 'mean_absolute_error',\n",
        "                            initial_train_size    = len(train_data[column]),\n",
        "                            fixed_train_size      = False,\n",
        "                            return_best           = False,\n",
        "                            n_jobs                = 'auto',\n",
        "                            suppress_warnings_fit = True,\n",
        "                            verbose               = False,\n",
        "                            show_progress         = True\n",
        "                       )\n",
        "    return resultados_grid"
      ]
    },
    {
      "cell_type": "code",
      "execution_count": null,
      "id": "f98ad6ee",
      "metadata": {
        "id": "f98ad6ee"
      },
      "outputs": [],
      "source": [
        "forecaster = ForecasterSarimax(regressor=Sarimax(order=(2, 1, 4), maxiter=500))\n",
        "\n",
        "param_grid = {\n",
        "    #'order': [(2, 1, 4)],\n",
        "    'seasonal_order': [(1, 0, 0, 24), (1, 1, 0, 24), (1, 0, 1, 24), (0, 1, 0, 24), (0, 0, 1, 24), (1, 1, 1, 24)]#,\n",
        "    #'trend': [None, 'n', 'c']\n",
        "}"
      ]
    },
    {
      "cell_type": "code",
      "execution_count": null,
      "id": "793ab5b1",
      "metadata": {
        "id": "793ab5b1"
      },
      "outputs": [],
      "source": [
        "resultados_grid1 = grid_search(forecaster, param_grid, df_consumo_total, 'CONSUMO', train_data, validation_data)"
      ]
    },
    {
      "cell_type": "code",
      "execution_count": null,
      "id": "d88162ae",
      "metadata": {
        "id": "d88162ae"
      },
      "outputs": [],
      "source": [
        "resultados_grid2 = grid_search(forecaster, param_grid, df_consumo_total, 'ENTRADA', train_data, validation_data)"
      ]
    },
    {
      "cell_type": "code",
      "execution_count": null,
      "id": "6eddc68c",
      "metadata": {
        "id": "6eddc68c"
      },
      "outputs": [],
      "source": [
        "resultados_grid3 = grid_search(forecaster, param_grid, df_consumo_total, 'SALIDA', train_data, validation_data)"
      ]
    },
    {
      "cell_type": "markdown",
      "id": "b6fd9e6a",
      "metadata": {
        "id": "b6fd9e6a"
      },
      "source": [
        "#### 5.3.5. Variables exógenas (en construcción)\n",
        "\n",
        "El único requisito para incluir una variable exógena es conocer el valor de la variable también durante el período de predicción.\n",
        "(https://skforecast.org/0.12.1/user_guides/exogenous-variables.html )\n",
        "\n",
        "esto no tiene sentido pues no conozco la SALIDA con anterioridad."
      ]
    },
    {
      "cell_type": "code",
      "execution_count": null,
      "id": "ad6dd9b3",
      "metadata": {
        "id": "ad6dd9b3"
      },
      "outputs": [],
      "source": []
    },
    {
      "cell_type": "markdown",
      "id": "1f53eafe",
      "metadata": {
        "id": "1f53eafe"
      },
      "source": [
        "### 5.4. Modelo autoregresivo recursivo con Gradient Boosting Machines (GBM): LGBMRegressor"
      ]
    },
    {
      "cell_type": "markdown",
      "source": [
        "#### 5.4.1. Creación y entrenamiento del modelo"
      ],
      "metadata": {
        "id": "NpGu_OXURwlp"
      },
      "id": "NpGu_OXURwlp"
    },
    {
      "cell_type": "markdown",
      "source": [
        "Se entrena un modelo autorregresivo recursivo (ForecasterAutoreg) con gradient boosting LGBMRegressor como regresor. Se utiliza una ventana temporal de 24 horas (24 lags) para predecir la demanda de la hora siguiente. Esto significa que los valores de demanda de las 24 horas anteriores se utilizan como predictores. Los hiperparámetros del regresor se dejan en sus valores por defecto."
      ],
      "metadata": {
        "id": "y4IWsPeNRwGa"
      },
      "id": "y4IWsPeNRwGa"
    },
    {
      "cell_type": "code",
      "execution_count": null,
      "id": "df4b380d",
      "metadata": {
        "id": "df4b380d"
      },
      "outputs": [],
      "source": [
        "forecaster_ar_base = ForecasterAutoreg(regressor = LGBMRegressor(random_state=1, verbose = -1, verbose_eval = False), lags = 24) #, max_depth=2, learning_rate=0.1, n_estimators=50\n",
        "#incorporar como predictores(aquí los últimos 24 valores(horas))\n",
        "#si le damos una serie: [1, 2, 3, 24] utiliza las 3 horas anteriores y la hora 24"
      ]
    },
    {
      "cell_type": "code",
      "execution_count": null,
      "id": "8b08a470",
      "metadata": {
        "id": "8b08a470"
      },
      "outputs": [],
      "source": [
        "predictions, metrics = backtesting(forecaster_ar_base, df_consumo_total, 'CONSUMO', train_val_data, test_data)"
      ]
    },
    {
      "cell_type": "code",
      "execution_count": null,
      "id": "a8c9ebbb",
      "metadata": {
        "id": "a8c9ebbb"
      },
      "outputs": [],
      "source": [
        "predictions, metrics = backtesting(forecaster_ar_base, df_consumo_total, 'ENTRADA', train_val_data, test_data)"
      ]
    },
    {
      "cell_type": "code",
      "execution_count": null,
      "id": "e436b1b6",
      "metadata": {
        "id": "e436b1b6"
      },
      "outputs": [],
      "source": [
        "predictions, metrics = backtesting(forecaster_ar_base, df_consumo_total, 'SALIDA', train_val_data, test_data)"
      ]
    },
    {
      "cell_type": "markdown",
      "id": "a6904629",
      "metadata": {
        "id": "a6904629"
      },
      "source": [
        "#### 5.4.2. Búsqueda bayesiana de hiperparámetros"
      ]
    },
    {
      "cell_type": "markdown",
      "source": [
        "*ForecasterAutoreg* tiene mucho hiperparámetros. De forma que, encontrando los mejores, podremos obtener predicciones más precisas. La búsqueda de estos hiperparámetros, se realiza mediante una Búsqueda Bayesiana con la función *bayesian_search_forecaster()*. Es importante señalar que la búsqueda de hiperparámetros debe realizarse utilizando el conjunto de validación, nunca con los datos de test.\n",
        "\n",
        "La búsqueda se realiza probando cada combinación de hiperparámetros y retardos del siguiente modo:\n",
        "\n",
        "1. Entrenar el modelo utilizando sólo el conjunto de entrenamiento.\n",
        "\n",
        "2. El modelo se evalúa utilizando el conjunto de validación mediante backtesting.\n",
        "\n",
        "3. Seleccionar la combinación de hiperparámetros y retardos que proporcione el menor error.\n",
        "\n",
        "4. Volver a entrenar el modelo con la mejor combinación encontrada, esta vez utilizando tanto los datos de entrenamiento como los de validación."
      ],
      "metadata": {
        "id": "SqJ4rpCJWnoV"
      },
      "id": "SqJ4rpCJWnoV"
    },
    {
      "cell_type": "code",
      "execution_count": null,
      "id": "b989d694",
      "metadata": {
        "id": "b989d694"
      },
      "outputs": [],
      "source": [
        "lags_grid = [24, [1, 2, 3, 23, 24, 25, 167, 168, 169]]\n",
        "\n",
        "def search_space(trial):\n",
        "    max_depth = trial.suggest_int('max_depth', 3, 10, step=1)\n",
        "    search_space  = {\n",
        "        'n_estimators'  : trial.suggest_int('n_estimators', 400, 1200, step=100),\n",
        "        'max_depth'     : max_depth,\n",
        "        'learning_rate' : trial.suggest_float('learning_rate', 0.01, 0.5),\n",
        "        'reg_alpha'     : trial.suggest_float('reg_alpha', 0, 1, step=0.1),\n",
        "        'reg_lambda'    : trial.suggest_float('reg_lambda', 0, 1, step=0.1),\n",
        "        'num_leaves'     : trial.suggest_int('num_leaves', 2 ** max_depth, max(31, 2 ** max_depth), step=1),\n",
        "        'min_data_in_leaf': trial.suggest_int('min_data_in_leaf', 25, 500),\n",
        "        'feature_fraction': trial.suggest_float('feature_fraction', 0.5, 1, step=0.1),\n",
        "        'max_bin'         : trial.suggest_int('max_bin', 50, 250, step=25)\n",
        "    }\n",
        "    return search_space\n",
        "\n",
        "def bayesian_search(forecaster, df, column, train_data, validation_data, search_space):\n",
        "  with warnings.catch_warnings():\n",
        "    warnings.simplefilter(\"ignore\")\n",
        "    resultados_busqueda, frozen_trial = bayesian_search_forecaster(\n",
        "                                              forecaster         = forecaster,\n",
        "                                              y                  = df.loc[:validation_data.index.max(), column], # Datos test no incluidos\n",
        "                                              steps              = 24,\n",
        "                                              metric             = 'mean_absolute_error',\n",
        "                                              search_space       = search_space,\n",
        "                                              lags_grid          = lags_grid,\n",
        "                                              initial_train_size = len(train_data),\n",
        "                                              refit              = False,\n",
        "                                              n_trials           = 20, # Aumentar para una búsqueda más exhaustiva\n",
        "                                              random_state       = 123,\n",
        "                                              return_best        = True,\n",
        "                                              n_jobs             = 'auto',\n",
        "                                              verbose            = False,\n",
        "                                              show_progress      = True\n",
        "                                          )\n",
        "    return resultados_busqueda"
      ]
    },
    {
      "cell_type": "code",
      "execution_count": null,
      "id": "c7f9cf71",
      "metadata": {
        "id": "c7f9cf71"
      },
      "outputs": [],
      "source": [
        "forecaster_bs_consumo = forecaster_ar_base\n",
        "results_bayesian_search = bayesian_search(forecaster_bs_consumo, df_consumo_total, 'CONSUMO', train_data, validation_data, search_space)"
      ]
    },
    {
      "cell_type": "code",
      "source": [
        "joblib.dump(forecaster_bs_consumo, '/content/drive/MyDrive/TFM/forecaster_bs_consumo.pkl')"
      ],
      "metadata": {
        "id": "dGg4_zEgU-x0"
      },
      "id": "dGg4_zEgU-x0",
      "execution_count": null,
      "outputs": []
    },
    {
      "cell_type": "markdown",
      "source": [
        "Ahora análogamente para las variables ENTRADA y SALIDA:"
      ],
      "metadata": {
        "id": "RP0k7HocTGIp"
      },
      "id": "RP0k7HocTGIp"
    },
    {
      "cell_type": "code",
      "source": [
        "forecaster_bs_entrada = forecaster_ar_base\n",
        "results_bayesian_search = bayesian_search(forecaster_bs_entrada, df_consumo_total, 'ENTRADA', train_data, validation_data, search_space)\n",
        "joblib.dump(forecaster_bs_entrada, '/content/drive/MyDrive/TFM/forecaster_bs_entrada.pkl')"
      ],
      "metadata": {
        "id": "0OtwHKN3TDjF"
      },
      "id": "0OtwHKN3TDjF",
      "execution_count": null,
      "outputs": []
    },
    {
      "cell_type": "code",
      "source": [
        "forecaster_bs_salida = forecaster_ar_base\n",
        "results_bayesian_search = bayesian_search(forecaster_bs_salida, df_consumo_total, 'SALIDA', train_data, validation_data, search_space)\n",
        "joblib.dump(forecaster_bs_salida, '/content/drive/MyDrive/TFM/forecaster_bs_salida.pkl')"
      ],
      "metadata": {
        "id": "MAstmyadTDSl"
      },
      "id": "MAstmyadTDSl",
      "execution_count": null,
      "outputs": []
    },
    {
      "cell_type": "markdown",
      "id": "d495547b",
      "metadata": {
        "id": "d495547b"
      },
      "source": [
        "#### 5.4.3. Backtesting del modelo con los hiperparámetros óptimos"
      ]
    },
    {
      "cell_type": "markdown",
      "id": "5b88dcf4",
      "metadata": {
        "id": "5b88dcf4"
      },
      "source": [
        "Apliquemos ahora backtesting al modelo, utilizando los datos de train y validación como train."
      ]
    },
    {
      "cell_type": "code",
      "source": [
        "forecaster_bs_consumo = joblib.load('/content/drive/MyDrive/TFM/forecaster_bs_consumo.pkl')"
      ],
      "metadata": {
        "id": "s6yL6FDCVg1i"
      },
      "id": "s6yL6FDCVg1i",
      "execution_count": null,
      "outputs": []
    },
    {
      "cell_type": "code",
      "source": [
        "predictions, metrics = backtesting(forecaster_bs_consumo, df_consumo_total, 'CONSUMO', train_val_data, test_data)\n",
        "tabla_comparacion_modelos = guardar_results(f'ForecasterAutoreg(regressor = {forecaster_bs_consumo.regressor}), lags = {forecaster_bs_consumo.lags}', 'CONSUMO', metrics['MAE'], metrics['MSE'], metrics['RMSE'], tabla_comparacion_modelos)"
      ],
      "metadata": {
        "id": "9W921ujHGFqL"
      },
      "id": "9W921ujHGFqL",
      "execution_count": null,
      "outputs": []
    },
    {
      "cell_type": "code",
      "source": [
        "forecaster_bs_entrada = joblib.load('/content/drive/MyDrive/TFM/forecaster_bs_entrada.pkl')"
      ],
      "metadata": {
        "id": "0EOQvSXZU_hW"
      },
      "id": "0EOQvSXZU_hW",
      "execution_count": null,
      "outputs": []
    },
    {
      "cell_type": "code",
      "source": [
        "predictions, metrics = backtesting(forecaster_bs_entrada, df_consumo_total, 'ENTRADA', train_val_data, test_data)\n",
        "tabla_comparacion_modelos = guardar_results(f'ForecasterAutoreg(regressor = {forecaster_bs_entrada.regressor}), lags = {forecaster_bs_entrada.lags}', 'ENTRADA', metrics['MAE'], metrics['MSE'], metrics['RMSE'], tabla_comparacion_modelos)"
      ],
      "metadata": {
        "id": "8J2rpg51wnHJ"
      },
      "id": "8J2rpg51wnHJ",
      "execution_count": null,
      "outputs": []
    },
    {
      "cell_type": "code",
      "source": [
        "forecaster_bs_salida = joblib.load('/content/drive/MyDrive/TFM/forecaster_bs_salida.pkl')"
      ],
      "metadata": {
        "id": "syMz4DpeVYQx"
      },
      "id": "syMz4DpeVYQx",
      "execution_count": null,
      "outputs": []
    },
    {
      "cell_type": "code",
      "source": [
        "predictions, metrics = backtesting(forecaster_bs_salida, df_consumo_total, 'SALIDA', train_val_data, test_data)\n",
        "tabla_comparacion_modelos = guardar_results(f'ForecasterAutoreg(regressor = {forecaster_bs_salida.regressor}), lags = {forecaster_bs_salida.lags}', 'SALIDA', metrics['MAE'], metrics['MSE'], metrics['RMSE'], tabla_comparacion_modelos)"
      ],
      "metadata": {
        "id": "HlWaPLu3VYNo"
      },
      "id": "HlWaPLu3VYNo",
      "execution_count": null,
      "outputs": []
    },
    {
      "cell_type": "markdown",
      "source": [
        "##### 5.4.3.1. Forecaster direct multi-step"
      ],
      "metadata": {
        "id": "yxXCHosHSA_O"
      },
      "id": "yxXCHosHSA_O"
    },
    {
      "cell_type": "markdown",
      "source": [
        "El modelo que hemos utilizado ForecasterAutoreg sigue una estrategia recursiva, de forma que cada nueva predicción se basa en las anteriores.\n",
        "Sin embargo, podemos utilizar también el modelo ForecasterAutoregDirect, que sigue una estrategia direct multi-step forecasting y, aunque es más costosa computacionalmente debido a la necesidad de entrenar múltiples modelos, puede dar mejores resultados."
      ],
      "metadata": {
        "id": "DHrI0WcfSA1D"
      },
      "id": "DHrI0WcfSA1D"
    },
    {
      "cell_type": "code",
      "source": [
        "forecaster_direct = ForecasterAutoregDirect(regressor = LGBMRegressor(**forecaster_bs_consumo.regressor.get_params()), lags = forecaster_bs_consumo.lags, steps = 24)\n",
        "predictions, metrics = backtesting(forecaster_direct, df_consumo_total, 'CONSUMO', train_val_data, test_data)\n",
        "tabla_comparacion_modelos = guardar_results(f'ForecasterAutoregDirect(regressor = {forecaster_direct.regressor}), lags = {forecaster_direct.lags}', 'CONSUMO', metrics['MAE'], metrics['MSE'], metrics['RMSE'], tabla_comparacion_modelos)"
      ],
      "metadata": {
        "id": "hPUU9PRNSAiA"
      },
      "id": "hPUU9PRNSAiA",
      "execution_count": null,
      "outputs": []
    },
    {
      "cell_type": "code",
      "source": [
        "forecaster_direct = ForecasterAutoregDirect(regressor = LGBMRegressor(**forecaster_bs_entrada.regressor.get_params()), lags = forecaster_bs_entrada.lags, steps = 24)\n",
        "predictions, metrics = backtesting(forecaster_direct, df_consumo_total, 'ENTRADA', train_val_data, test_data)\n",
        "tabla_comparacion_modelos = guardar_results(f'ForecasterAutoregDirect(regressor = {forecaster_direct.regressor}), lags = {forecaster_direct.lags}', 'ENTRADA', metrics['MAE'], metrics['MSE'], metrics['RMSE'], tabla_comparacion_modelos)"
      ],
      "metadata": {
        "id": "g0OH5W0YWCAD"
      },
      "id": "g0OH5W0YWCAD",
      "execution_count": null,
      "outputs": []
    },
    {
      "cell_type": "code",
      "source": [
        "forecaster_direct = ForecasterAutoregDirect(regressor = LGBMRegressor(**forecaster_bs_salida.regressor.get_params()), lags = forecaster_bs_salida.lags, steps = 24)\n",
        "predictions, metrics = backtesting(forecaster_direct, df_consumo_total, 'SALIDA', train_val_data, test_data)\n",
        "tabla_comparacion_modelos = guardar_results(f'ForecasterAutoregDirect(regressor = {forecaster_direct.regressor}), lags = {forecaster_direct.lags}', 'SALIDA', metrics['MAE'], metrics['MSE'], metrics['RMSE'], tabla_comparacion_modelos)"
      ],
      "metadata": {
        "id": "jVEbw7-aWB53"
      },
      "id": "jVEbw7-aWB53",
      "execution_count": null,
      "outputs": []
    },
    {
      "cell_type": "code",
      "execution_count": null,
      "id": "7bb26eb1",
      "metadata": {
        "id": "7bb26eb1"
      },
      "outputs": [],
      "source": [
        "tabla_comparacion_modelos.sort_values(by=['VARIABLE', 'MAE'], ascending = [True, True])"
      ]
    },
    {
      "cell_type": "code",
      "source": [
        "tabla_comparacion_modelos.to_csv('/content/drive/MyDrive/TFM/tabla_comparacion_modelos.csv')"
      ],
      "metadata": {
        "id": "GxQuuR5k9drf"
      },
      "id": "GxQuuR5k9drf",
      "execution_count": null,
      "outputs": []
    },
    {
      "cell_type": "markdown",
      "id": "69b4ac02",
      "metadata": {
        "id": "69b4ac02"
      },
      "source": [
        "#### 5.4.4. Variables exógenas"
      ]
    },
    {
      "cell_type": "markdown",
      "id": "ad1151e8",
      "metadata": {
        "id": "ad1151e8"
      },
      "source": [
        "Añadamos ahora al modelo las variables exógenas que hemos considerado anteriormente en nuestro conjunto de datos.\n",
        "Como ahora se incluyen muchas más variables en el modelo, es posible que los hiperparámetros identificados previamente ya no sean óptimos, por lo que se realiza una nueva búsqueda. Esta vez, sin embargo, la búsqueda se adapta al rango de valores identificados en la búsqueda anterior."
      ]
    },
    {
      "cell_type": "code",
      "source": [
        "def backtesting_con_exog(forecaster, df, column, train_data, test_data, exog_cols):\n",
        "  metric, predictions = backtesting_forecaster(\n",
        "                          forecaster         = forecaster,\n",
        "                          y                  = df[column],\n",
        "                          exog               = df[exog_cols],\n",
        "                          steps              = 24,\n",
        "                          metric             = 'mean_absolute_error',\n",
        "                          initial_train_size = len(df[column].loc[:train_data.index.max()]),\n",
        "                          refit              = False,\n",
        "                          n_jobs             = 'auto',\n",
        "                          verbose            = False,\n",
        "                          show_progress      = True\n",
        "                    )\n",
        "  metrics = all_metrics(predictions, test_data, train_data, column)\n",
        "  print(f\"Métricas de error: {metrics}\")\n",
        "\n",
        "  fig, ax = plt.subplots(figsize=(11, 3))\n",
        "  train_data[column].plot(ax=ax, label='train')\n",
        "  test_data[column].plot(ax=ax, label='test')\n",
        "  predictions.plot(ax=ax, label='predicciones')\n",
        "  ax.set_title(f'Predicción sobre la variable {column} con variables exógenas')\n",
        "  ax.legend()\n",
        "\n",
        "  return predictions, metrics"
      ],
      "metadata": {
        "id": "tveeye2j3DDd"
      },
      "id": "tveeye2j3DDd",
      "execution_count": null,
      "outputs": []
    },
    {
      "cell_type": "code",
      "source": [
        "forecaster_bs_salida = joblib.load('/content/drive/MyDrive/TFM/forecaster_bs_salida.pkl')"
      ],
      "metadata": {
        "id": "ma_3l_KDCbyf"
      },
      "id": "ma_3l_KDCbyf",
      "execution_count": null,
      "outputs": []
    },
    {
      "cell_type": "code",
      "source": [
        "predictions, metrics = backtesting_con_exog(forecaster_bs_salida, df_consumo_total, 'SALIDA', train_val_data, test_data, exog_cols)\n",
        "tabla_comparacion_modelos = guardar_results(f'ForecasterAutoreg(regressor = {forecaster_bs_salida.regressor}), lags = {forecaster_bs_salida.lags} y variables exog', 'SALIDA', metrics['MAE'], metrics['MSE'], metrics['RMSE'], tabla_comparacion_modelos)"
      ],
      "metadata": {
        "id": "zHizVk2I3MHt"
      },
      "id": "zHizVk2I3MHt",
      "execution_count": null,
      "outputs": []
    },
    {
      "cell_type": "code",
      "source": [
        "# se puede hacer bayesian search de nuevo"
      ],
      "metadata": {
        "id": "iRQbYZymZv1P"
      },
      "id": "iRQbYZymZv1P",
      "execution_count": null,
      "outputs": []
    },
    {
      "cell_type": "code",
      "execution_count": null,
      "id": "e81e8634",
      "metadata": {
        "id": "e81e8634"
      },
      "outputs": [],
      "source": [
        "forecaster = ForecasterAutoreg(regressor = LGBMRegressor(random_state=1, verbose=-1), lags = 24, transformer_exog = transformer_exog, fit_kwargs = {\"categorical_feature\": \"auto\"})"
      ]
    },
    {
      "cell_type": "code",
      "execution_count": null,
      "id": "3662dd40",
      "metadata": {
        "id": "3662dd40"
      },
      "outputs": [],
      "source": [
        "best_params = results_search['params'].iat[0]"
      ]
    },
    {
      "cell_type": "markdown",
      "id": "05187019",
      "metadata": {
        "id": "05187019"
      },
      "source": [
        "Backtesting en los datos de test incluyendo las variables exógenas"
      ]
    },
    {
      "cell_type": "markdown",
      "source": [
        "#### 5.4.4. Explicabilidad del modelo"
      ],
      "metadata": {
        "id": "A4DNW_348Mvj"
      },
      "id": "A4DNW_348Mvj"
    },
    {
      "cell_type": "markdown",
      "source": [
        "Debido a la naturaleza compleja de muchos de los actuales modelos de machine learning, a menudo funcionan como cajas negras, lo que dificulta entender por qué han hecho una predicción u otra. Las técnicas de explicabilidad pretenden desmitificar estos modelos, proporcionando información sobre su funcionamiento interno y ayudando a generar confianza, mejorar la transparencia y cumplir los requisitos normativos en diversos ámbitos. Mejorar la explicabilidad de los modelos no sólo ayuda a comprender su comportamiento, sino también a identificar sesgos, mejorar su rendimiento y permitir a las partes interesadas tomar decisiones más informadas basadas en los conocimientos del machine learning\n",
        "\n",
        "Skforecast es compatible con algunos de los métodos de explicabilidad más populares: model-specific feature importances, SHAP values, and partial dependence plots."
      ],
      "metadata": {
        "id": "6b2aeD1g8RdG"
      },
      "id": "6b2aeD1g8RdG"
    },
    {
      "cell_type": "code",
      "source": [
        "forecaster_bs_salida = joblib.load('/content/drive/MyDrive/TFM/forecaster_bs_salida.pkl')"
      ],
      "metadata": {
        "id": "aRssdYVzB4p0"
      },
      "id": "aRssdYVzB4p0",
      "execution_count": null,
      "outputs": []
    },
    {
      "cell_type": "code",
      "source": [
        "forecaster_bs_salida.fit(y = df_consumo_total.loc[:train_val_data.index.max(), 'SALIDA'], exog = df_consumo_total.loc[:train_val_data.index.max(), exog_cols])"
      ],
      "metadata": {
        "id": "FuCmLZiV8wJV"
      },
      "id": "FuCmLZiV8wJV",
      "execution_count": null,
      "outputs": []
    },
    {
      "cell_type": "code",
      "execution_count": null,
      "id": "eeb87e25",
      "metadata": {
        "id": "eeb87e25"
      },
      "outputs": [],
      "source": [
        "feature_importances = forecaster_bs_salida.get_feature_importances()\n",
        "feature_importances.sort_values(by='importance', ascending=False).head(10)"
      ]
    },
    {
      "cell_type": "code",
      "execution_count": null,
      "id": "8d080bf5",
      "metadata": {
        "id": "8d080bf5"
      },
      "outputs": [],
      "source": []
    },
    {
      "cell_type": "markdown",
      "id": "af9ded24",
      "metadata": {
        "id": "af9ded24"
      },
      "source": [
        "### 5.5. Modelo autoregresivo recursivo con Gradient Boosting Machines (GBM): XGBoost"
      ]
    },
    {
      "cell_type": "code",
      "execution_count": null,
      "id": "309a993b",
      "metadata": {
        "id": "309a993b"
      },
      "outputs": [],
      "source": []
    },
    {
      "cell_type": "markdown",
      "id": "ae4c555c",
      "metadata": {
        "id": "ae4c555c"
      },
      "source": [
        "### 5.5. Árboles de Decisión y Random Forest"
      ]
    },
    {
      "cell_type": "markdown",
      "source": [
        "#### 5.5.1. Creación y entrenamiento del modelo"
      ],
      "metadata": {
        "id": "vxINfyYoF_Hn"
      },
      "id": "vxINfyYoF_Hn"
    },
    {
      "cell_type": "code",
      "source": [
        "forecaster_ar_rf = ForecasterAutoreg(regressor = RandomForestRegressor(random_state=123),lags = 1008)"
      ],
      "metadata": {
        "id": "VyDNTSd7Fq9F"
      },
      "id": "VyDNTSd7Fq9F",
      "execution_count": 63,
      "outputs": []
    },
    {
      "cell_type": "code",
      "execution_count": 64,
      "id": "74531969",
      "metadata": {
        "id": "74531969"
      },
      "outputs": [],
      "source": [
        "def ar_random_forest(forecaster, df, column, train_data, test_data):\n",
        "  forecaster.fit(train_data[column])\n",
        "  predicciones = forecaster.predict(steps=168)\n",
        "\n",
        "  metrics = all_metrics(predicciones, test_data, train_data, column)\n",
        "  print(f\"Métricas de error: {metrics}\")\n",
        "\n",
        "  fig, ax = plt.subplots(figsize=(11, 2.5))\n",
        "  train_data[column].plot(ax=ax, label='train')\n",
        "  test_data[column].plot(ax=ax, label='test')\n",
        "  predicciones.plot(ax=ax, label='predicciones')\n",
        "  ax.legend()"
      ]
    },
    {
      "cell_type": "code",
      "source": [
        "ar_random_forest(forecaster_ar_rf, df_consumo_total, 'CONSUMO', train_val_data, test_data)"
      ],
      "metadata": {
        "colab": {
          "base_uri": "https://localhost:8080/",
          "height": 322
        },
        "id": "b5eZSVhUCFQB",
        "outputId": "87df3ec6-ddab-41ed-8399-e2f2f6f7b261"
      },
      "id": "b5eZSVhUCFQB",
      "execution_count": 65,
      "outputs": [
        {
          "output_type": "stream",
          "name": "stdout",
          "text": [
            "Métricas de error: {'MAE': 1436.374261785715, 'MSE': 3759499.6900890074, 'RMSE': 1938.9429311067945}\n"
          ]
        },
        {
          "output_type": "display_data",
          "data": {
            "text/plain": [
              "<Figure size 1100x250 with 1 Axes>"
            ],
            "image/png": "[encoded data removed]"
          },
          "metadata": {}
        }
      ]
    },
    {
      "cell_type": "markdown",
      "source": [
        "#### 5.5.2. Ajuste de hiperparámetros (tuning)\n",
        "\n"
      ],
      "metadata": {
        "id": "kVej-LtVHBXJ"
      },
      "id": "kVej-LtVHBXJ"
    },
    {
      "cell_type": "code",
      "source": [
        "def grid_search_ar(forecaster, steps, lags_grid, param_grid, column, train_data):\n",
        "  resultados_grid = grid_search_forecaster(\n",
        "                          forecaster         = forecaster,\n",
        "                          y                  = train_data[column],\n",
        "                          param_grid         = param_grid,\n",
        "                          lags_grid          = lags_grid,\n",
        "                          steps              = steps,\n",
        "                          refit              = False,\n",
        "                          metric             = 'mean_squared_error',\n",
        "                          initial_train_size = int(len(train_data)*0.5),\n",
        "                          fixed_train_size   = False, #el conjunto de entrenamiento crece a medida que se avanza en el tiempo.\n",
        "                          return_best        = True,\n",
        "                          n_jobs             = 'auto',\n",
        "                          verbose            = False\n",
        "                    )"
      ],
      "metadata": {
        "id": "QogdqLV9Hgda"
      },
      "id": "QogdqLV9Hgda",
      "execution_count": 68,
      "outputs": []
    },
    {
      "cell_type": "code",
      "source": [
        "steps = 24\n",
        "lags_grid = [10, 30]\n",
        "param_grid = {\n",
        "      'n_estimators': [100, 250],\n",
        "      'max_depth': [3, 5, 10]\n",
        "}\n",
        "grid_search_ar(forecaster_ar_rf, steps, lags_grid, param_grid, 'CONSUMO', train_data)"
      ],
      "metadata": {
        "colab": {
          "base_uri": "https://localhost:8080/",
          "height": 170,
          "referenced_widgets": [
            "6a83d3ad15984683bab1625984999937",
            "26b16595b5c243fa8c896636113d5b78",
            "ec84659d85904ae4bfc9427e92f5bcae",
            "3e10727789e24b10af03d743ea0a6758",
            "e22f19e24c4b4beb96902e0db75ceeb4",
            "9c65f7ae21f54bd7822e3233f8956401",
            "26f2361c6c77461fa9718766338711e6",
            "e6bb721357f3401d8e7486540ee4973c",
            "02abae0b5be9429ebf546c0a552f6620",
            "ecf75de17b284537bd4cd040c218f495",
            "cc210067ebff4454a7268d01975e4fe5",
            "3002232e0b9549dcbbca6e6c9914ceeb",
            "4fe0be62db004560ae6767971050e66f",
            "27efc05e548e4df9a25d80c33ec53212",
            "9d257013522545f6a6fda42fca02301e",
            "039fea8a9659424282d5f3108530c2aa",
            "77364dc7350c4eb19346eae067dcd921",
            "e488f7e22ea94e51916794864bebf6a4",
            "cd6971e7c57a4bb4ac27bd5fd9441861",
            "be7096a82e3f478fa91bcd971575ffe7",
            "026db110a39d4ac186f2fca8fc4647ea",
            "03fbc33a107e4adbbf1e08c816aa0b29"
          ]
        },
        "id": "Swdq7SrjCFIb",
        "outputId": "108f11b7-a9c9-4b8e-9c3a-e2c86b098805"
      },
      "id": "Swdq7SrjCFIb",
      "execution_count": 72,
      "outputs": [
        {
          "output_type": "stream",
          "name": "stdout",
          "text": [
            "Number of models compared: 12.\n"
          ]
        },
        {
          "output_type": "display_data",
          "data": {
            "text/plain": [
              "lags grid:   0%|          | 0/2 [00:00<?, ?it/s]"
            ],
            "application/vnd.jupyter.widget-view+json": {
              "version_major": 2,
              "version_minor": 0,
              "model_id": "6a83d3ad15984683bab1625984999937"
            }
          },
          "metadata": {}
        },
        {
          "output_type": "display_data",
          "data": {
            "text/plain": [
              "params grid:   0%|          | 0/6 [00:00<?, ?it/s]"
            ],
            "application/vnd.jupyter.widget-view+json": {
              "version_major": 2,
              "version_minor": 0,
              "model_id": "3002232e0b9549dcbbca6e6c9914ceeb"
            }
          },
          "metadata": {}
        },
        {
          "output_type": "stream",
          "name": "stdout",
          "text": [
            "`Forecaster` refitted using the best-found lags and parameters, and the whole data set: \n",
            "  Lags: [ 1  2  3  4  5  6  7  8  9 10 11 12 13 14 15 16 17 18 19 20 21 22 23 24\n",
            " 25 26 27 28 29 30] \n",
            "  Parameters: {'max_depth': 10, 'n_estimators': 250}\n",
            "  Backtesting metric: 3662745.169122527\n",
            "\n"
          ]
        }
      ]
    },
    {
      "cell_type": "markdown",
      "source": [
        "#### 5.5.3. Backtesting"
      ],
      "metadata": {
        "id": "f_DmZkpjQmRO"
      },
      "id": "f_DmZkpjQmRO"
    },
    {
      "cell_type": "code",
      "source": [
        "predictions, metrics = backtesting(forecaster_ar_rf, df_consumo_total, 'CONSUMO', train_val_data, test_data)"
      ],
      "metadata": {
        "colab": {
          "base_uri": "https://localhost:8080/",
          "height": 408,
          "referenced_widgets": [
            "fdf75a02d6b0435299477e56249c30ef",
            "5c3df0a76ac542f89bace389f8fd4eb5",
            "47590a28864b49c28b9a44dddbe6a6b3",
            "a8a0fcce6421453bb026e74f41d6b5f9",
            "1e913ea38cca4410a90e39c4f3fd51fc",
            "39b3a59273fa46d1b7721959df772e54",
            "615a0a3db4a541bb9341b510d77fdf5a",
            "5cbdb724ee0649859e14e45e9e2a2444",
            "85cc906b2b1f4fec8f38a9d1fc2a6651",
            "d1b16ea929e1498988cee7cc3f5ff1e4",
            "aa55002de97c40ee8c3c845254ae05b5"
          ]
        },
        "id": "Sbe-8t1cKVOs",
        "outputId": "d6c0e650-9178-4fa4-cb6e-29ad4b94a878"
      },
      "id": "Sbe-8t1cKVOs",
      "execution_count": 73,
      "outputs": [
        {
          "output_type": "display_data",
          "data": {
            "text/plain": [
              "  0%|          | 0/7 [00:00<?, ?it/s]"
            ],
            "application/vnd.jupyter.widget-view+json": {
              "version_major": 2,
              "version_minor": 0,
              "model_id": "fdf75a02d6b0435299477e56249c30ef"
            }
          },
          "metadata": {}
        },
        {
          "output_type": "stream",
          "name": "stdout",
          "text": [
            "Métricas de error: {'MAE': 1354.2900639010081, 'MSE': 4314738.279860995, 'RMSE': 2077.194810281644}\n"
          ]
        },
        {
          "output_type": "display_data",
          "data": {
            "text/plain": [
              "<Figure size 1100x300 with 1 Axes>"
            ],
            "image/png": "[encoded data removed]"
          },
          "metadata": {}
        }
      ]
    },
    {
      "cell_type": "code",
      "source": [],
      "metadata": {
        "id": "VMGlovLsQreX"
      },
      "id": "VMGlovLsQreX",
      "execution_count": null,
      "outputs": []
    },
    {
      "cell_type": "markdown",
      "id": "93a238ff",
      "metadata": {
        "id": "93a238ff"
      },
      "source": [
        "### 5.7. Redes Neuronales Recurrentes (RNN)\n",
        "\n",
        "Redes que son muy buenas para datos secuenciales. Adecuadas para capturar dependencias temporales en los datos de consumo."
      ]
    },
    {
      "cell_type": "code",
      "execution_count": null,
      "id": "4d6dbb68",
      "metadata": {
        "id": "4d6dbb68"
      },
      "outputs": [],
      "source": []
    },
    {
      "cell_type": "markdown",
      "id": "ebc9b25a",
      "metadata": {
        "id": "ebc9b25a"
      },
      "source": [
        "## 6. Evaluación del modelo"
      ]
    },
    {
      "cell_type": "code",
      "execution_count": null,
      "id": "9abacb16",
      "metadata": {
        "id": "9abacb16"
      },
      "outputs": [],
      "source": []
    },
    {
      "cell_type": "markdown",
      "id": "78c3dcfc",
      "metadata": {
        "id": "78c3dcfc"
      },
      "source": [
        "## 7. Predicciones"
      ]
    },
    {
      "cell_type": "code",
      "execution_count": null,
      "id": "32f2fefc",
      "metadata": {
        "id": "32f2fefc"
      },
      "outputs": [],
      "source": []
    },
    {
      "cell_type": "markdown",
      "id": "4de1cdaa",
      "metadata": {
        "id": "4de1cdaa"
      },
      "source": [
        "# BORRADOR"
      ]
    },
    {
      "cell_type": "markdown",
      "id": "3005dd02",
      "metadata": {
        "id": "3005dd02"
      },
      "source": [
        "## 3. Series temporales\n",
        "\n",
        "- Librería datetime: df.Fecha = pd.to_datetime(df.Fecha)\n",
        "- Si Df.set_index(‘Fecha’, inplace = True)\n",
        "    -> Podemos extraer el año, mes (df.index.year o df.index.month)\n",
        "    -> Podemos extraer el nombre del mes o del día (df.index.day_name(‘es’))\n",
        "- Se puede indexar facilmente con el método loc:\n",
        "    -> Obtener los datos de un mes: df.loc['2021-08']\n",
        "    -> Entre dos fechas: df.loc['2021-07-29':2021-08-03']\n",
        "- rolling(): para window calculations(por ejemplo hacer la media de siete dias juntos)\n",
        "- Para sacar acumulados para cada mes por ejemplo: df_groupby(df.index.month_name('es'),sort = False).sum()\n",
        "- Para calcular %: df['percent'] = df['casos'].apply(lamba x: round(x*100/total,2))"
      ]
    },
    {
      "cell_type": "markdown",
      "id": "9b2c55b3",
      "metadata": {
        "id": "9b2c55b3"
      },
      "source": [
        "## 6. Ejemplo: predicción de la demanda con skforecast"
      ]
    },
    {
      "cell_type": "markdown",
      "id": "1536bcc3",
      "metadata": {
        "id": "1536bcc3"
      },
      "source": [
        "### 6.4 Modelo autoregresivo recursivo"
      ]
    },
    {
      "cell_type": "markdown",
      "id": "102d5122",
      "metadata": {
        "id": "102d5122"
      },
      "source": [
        "#### 6.4.2 Backtesting"
      ]
    },
    {
      "cell_type": "markdown",
      "id": "6b14a773",
      "metadata": {
        "id": "6b14a773"
      },
      "source": [
        "#### 6.4.3 Intervalos de predicción"
      ]
    },
    {
      "cell_type": "code",
      "execution_count": null,
      "id": "9d442d3b",
      "metadata": {
        "id": "9d442d3b"
      },
      "outputs": [],
      "source": [
        "# Backtesting con intervalos de predicción\n",
        "# ==============================================================================\n",
        "metrica, predicciones = backtesting_forecaster(\n",
        "                            forecaster         = forecaster,\n",
        "                            y                  = datos['Demand'],\n",
        "                            initial_train_size = len(datos.loc[:fin_validacion]),\n",
        "                            steps              = 24,\n",
        "                            interval           = [5,95], #intervalo del 90%\n",
        "                            n_boot             = 100,\n",
        "                            metric             = 'mean_absolute_error',\n",
        "                            refit              = False,\n",
        "                            verbose            = False,\n",
        "                        )\n",
        "predicciones.head()"
      ]
    },
    {
      "cell_type": "code",
      "execution_count": null,
      "id": "c7e8d2a0",
      "metadata": {
        "id": "c7e8d2a0"
      },
      "outputs": [],
      "source": [
        "# Gráfico\n",
        "# ==============================================================================\n",
        "fig, ax = plt.subplots(figsize=(15,5))\n",
        "datos.loc[predicciones.index, 'Demand'].plot(ax=ax, linewidth=2, label='test')\n",
        "predicciones['pred'].plot(label='predicciones', ax=ax)\n",
        "ax.fill_between(\n",
        "    predicciones.index,\n",
        "    predicciones['lower_bound'],\n",
        "    predicciones['upper_bound'],\n",
        "    color = 'red',\n",
        "    alpha = 0.2\n",
        ")\n",
        "ax.legend();"
      ]
    },
    {
      "cell_type": "code",
      "execution_count": null,
      "id": "96924b3e",
      "metadata": {
        "id": "96924b3e"
      },
      "outputs": [],
      "source": [
        "#falta desde el 51"
      ]
    },
    {
      "cell_type": "code",
      "execution_count": null,
      "id": "a5b3b78e",
      "metadata": {
        "id": "a5b3b78e"
      },
      "outputs": [],
      "source": []
    },
    {
      "cell_type": "code",
      "execution_count": null,
      "id": "86b1884c",
      "metadata": {
        "id": "86b1884c"
      },
      "outputs": [],
      "source": [
        "def statsmodels_ARIMA(column, train_data, validation_data, p, d, q):\n",
        "    modelo = stm_ARIMA(train_data[column], order=(p, d, q))\n",
        "    model_fit = modelo.fit()\n",
        "    #predicciones = model_fit.predict(start=len(train_data[column]), end=len(train_data[column]) + len(validation_data[column]) - 1)\n",
        "    forecast = model_fit.get_forecast(steps=len(validation_data[column])) #hay más datos dentro de las predicciones\n",
        "    predicciones = forecast.predicted_mean\n",
        "    mae = mean_absolute_error(validation_data[column], predicciones)\n",
        "    print(f\"MAE con stats_models: {mae}\")\n",
        "    return model_fit, forecast, predicciones\n",
        "\n",
        "def statsmodels_SARIMAX(column, train_data, validation_data, p, d, q, P, D, Q, m):\n",
        "    modelo = stm_SARIMAX(train_data[column], order=(p, d, q), seasonal_order=(P, D, Q, m))\n",
        "    model_fit = modelo.fit()\n",
        "    predicciones = model_fit.predict(start=len(train_data[column]), end=len(train_data[column]) + len(validation_data[column]) - 1)\n",
        "    mae = mean_absolute_error(validation_data[column], predicciones)\n",
        "    print(f\"MAE con stats_models: {mae}\")\n",
        "    return modelo, predicciones"
      ]
    },
    {
      "cell_type": "code",
      "execution_count": null,
      "id": "48c2e6d2",
      "metadata": {
        "id": "48c2e6d2"
      },
      "outputs": [],
      "source": []
    }
  ],
  "metadata": {
    "kernelspec": {
      "display_name": "Python 3 (ipykernel)",
      "language": "python",
      "name": "python3"
    },
    "language_info": {
      "codemirror_mode": {
        "name": "ipython",
        "version": 3
      },
      "file_extension": ".py",
      "mimetype": "text/x-python",
      "name": "python",
      "nbconvert_exporter": "python",
      "pygments_lexer": "ipython3",
      "version": "3.10.9"
    },
    "colab": {
      "provenance": [],
      "toc_visible": true
    },
    "widgets": {
      "application/vnd.jupyter.widget-state+json": {
        "7b894afb85d3404cbb5840c2c1b2b6f9": {
          "model_module": "@jupyter-widgets/controls",
          "model_name": "HBoxModel",
          "model_module_version": "1.5.0",
          "state": {
            "_dom_classes": [],
            "_model_module": "@jupyter-widgets/controls",
            "_model_module_version": "1.5.0",
            "_model_name": "HBoxModel",
            "_view_count": null,
            "_view_module": "@jupyter-widgets/controls",
            "_view_module_version": "1.5.0",
            "_view_name": "HBoxView",
            "box_style": "",
            "children": [
              "IPY_MODEL_32884b6ded4a487891039531c002d827",
              "IPY_MODEL_baaf88cb5fdb4f0388379c6682a55ab8",
              "IPY_MODEL_a16d56a56f834ff2a6dde27bafaa9d4f"
            ],
            "layout": "IPY_MODEL_d013a275c33d4c1c8b126fff83b6493b"
          }
        },
        "32884b6ded4a487891039531c002d827": {
          "model_module": "@jupyter-widgets/controls",
          "model_name": "HTMLModel",
          "model_module_version": "1.5.0",
          "state": {
            "_dom_classes": [],
            "_model_module": "@jupyter-widgets/controls",
            "_model_module_version": "1.5.0",
            "_model_name": "HTMLModel",
            "_view_count": null,
            "_view_module": "@jupyter-widgets/controls",
            "_view_module_version": "1.5.0",
            "_view_name": "HTMLView",
            "description": "",
            "description_tooltip": null,
            "layout": "IPY_MODEL_804f432d6cd146119a8972dd88b4c66b",
            "placeholder": "​",
            "style": "IPY_MODEL_8832c69edb594e88a20e14b2b09b069b",
            "value": "100%"
          }
        },
        "baaf88cb5fdb4f0388379c6682a55ab8": {
          "model_module": "@jupyter-widgets/controls",
          "model_name": "FloatProgressModel",
          "model_module_version": "1.5.0",
          "state": {
            "_dom_classes": [],
            "_model_module": "@jupyter-widgets/controls",
            "_model_module_version": "1.5.0",
            "_model_name": "FloatProgressModel",
            "_view_count": null,
            "_view_module": "@jupyter-widgets/controls",
            "_view_module_version": "1.5.0",
            "_view_name": "ProgressView",
            "bar_style": "success",
            "description": "",
            "description_tooltip": null,
            "layout": "IPY_MODEL_0c192d2f1f7841beb83f7a772d629cdc",
            "max": 7,
            "min": 0,
            "orientation": "horizontal",
            "style": "IPY_MODEL_c3e86447c55e4df99a89f6743f6c9b61",
            "value": 7
          }
        },
        "a16d56a56f834ff2a6dde27bafaa9d4f": {
          "model_module": "@jupyter-widgets/controls",
          "model_name": "HTMLModel",
          "model_module_version": "1.5.0",
          "state": {
            "_dom_classes": [],
            "_model_module": "@jupyter-widgets/controls",
            "_model_module_version": "1.5.0",
            "_model_name": "HTMLModel",
            "_view_count": null,
            "_view_module": "@jupyter-widgets/controls",
            "_view_module_version": "1.5.0",
            "_view_name": "HTMLView",
            "description": "",
            "description_tooltip": null,
            "layout": "IPY_MODEL_5dd9779b29c14d4bb8117b758f02a997",
            "placeholder": "​",
            "style": "IPY_MODEL_bddf4b2e86da4deda96ac76e3d16dfeb",
            "value": " 7/7 [00:00&lt;00:00, 12.59it/s]"
          }
        },
        "d013a275c33d4c1c8b126fff83b6493b": {
          "model_module": "@jupyter-widgets/base",
          "model_name": "LayoutModel",
          "model_module_version": "1.2.0",
          "state": {
            "_model_module": "@jupyter-widgets/base",
            "_model_module_version": "1.2.0",
            "_model_name": "LayoutModel",
            "_view_count": null,
            "_view_module": "@jupyter-widgets/base",
            "_view_module_version": "1.2.0",
            "_view_name": "LayoutView",
            "align_content": null,
            "align_items": null,
            "align_self": null,
            "border": null,
            "bottom": null,
            "display": null,
            "flex": null,
            "flex_flow": null,
            "grid_area": null,
            "grid_auto_columns": null,
            "grid_auto_flow": null,
            "grid_auto_rows": null,
            "grid_column": null,
            "grid_gap": null,
            "grid_row": null,
            "grid_template_areas": null,
            "grid_template_columns": null,
            "grid_template_rows": null,
            "height": null,
            "justify_content": null,
            "justify_items": null,
            "left": null,
            "margin": null,
            "max_height": null,
            "max_width": null,
            "min_height": null,
            "min_width": null,
            "object_fit": null,
            "object_position": null,
            "order": null,
            "overflow": null,
            "overflow_x": null,
            "overflow_y": null,
            "padding": null,
            "right": null,
            "top": null,
            "visibility": null,
            "width": null
          }
        },
        "804f432d6cd146119a8972dd88b4c66b": {
          "model_module": "@jupyter-widgets/base",
          "model_name": "LayoutModel",
          "model_module_version": "1.2.0",
          "state": {
            "_model_module": "@jupyter-widgets/base",
            "_model_module_version": "1.2.0",
            "_model_name": "LayoutModel",
            "_view_count": null,
            "_view_module": "@jupyter-widgets/base",
            "_view_module_version": "1.2.0",
            "_view_name": "LayoutView",
            "align_content": null,
            "align_items": null,
            "align_self": null,
            "border": null,
            "bottom": null,
            "display": null,
            "flex": null,
            "flex_flow": null,
            "grid_area": null,
            "grid_auto_columns": null,
            "grid_auto_flow": null,
            "grid_auto_rows": null,
            "grid_column": null,
            "grid_gap": null,
            "grid_row": null,
            "grid_template_areas": null,
            "grid_template_columns": null,
            "grid_template_rows": null,
            "height": null,
            "justify_content": null,
            "justify_items": null,
            "left": null,
            "margin": null,
            "max_height": null,
            "max_width": null,
            "min_height": null,
            "min_width": null,
            "object_fit": null,
            "object_position": null,
            "order": null,
            "overflow": null,
            "overflow_x": null,
            "overflow_y": null,
            "padding": null,
            "right": null,
            "top": null,
            "visibility": null,
            "width": null
          }
        },
        "8832c69edb594e88a20e14b2b09b069b": {
          "model_module": "@jupyter-widgets/controls",
          "model_name": "DescriptionStyleModel",
          "model_module_version": "1.5.0",
          "state": {
            "_model_module": "@jupyter-widgets/controls",
            "_model_module_version": "1.5.0",
            "_model_name": "DescriptionStyleModel",
            "_view_count": null,
            "_view_module": "@jupyter-widgets/base",
            "_view_module_version": "1.2.0",
            "_view_name": "StyleView",
            "description_width": ""
          }
        },
        "0c192d2f1f7841beb83f7a772d629cdc": {
          "model_module": "@jupyter-widgets/base",
          "model_name": "LayoutModel",
          "model_module_version": "1.2.0",
          "state": {
            "_model_module": "@jupyter-widgets/base",
            "_model_module_version": "1.2.0",
            "_model_name": "LayoutModel",
            "_view_count": null,
            "_view_module": "@jupyter-widgets/base",
            "_view_module_version": "1.2.0",
            "_view_name": "LayoutView",
            "align_content": null,
            "align_items": null,
            "align_self": null,
            "border": null,
            "bottom": null,
            "display": null,
            "flex": null,
            "flex_flow": null,
            "grid_area": null,
            "grid_auto_columns": null,
            "grid_auto_flow": null,
            "grid_auto_rows": null,
            "grid_column": null,
            "grid_gap": null,
            "grid_row": null,
            "grid_template_areas": null,
            "grid_template_columns": null,
            "grid_template_rows": null,
            "height": null,
            "justify_content": null,
            "justify_items": null,
            "left": null,
            "margin": null,
            "max_height": null,
            "max_width": null,
            "min_height": null,
            "min_width": null,
            "object_fit": null,
            "object_position": null,
            "order": null,
            "overflow": null,
            "overflow_x": null,
            "overflow_y": null,
            "padding": null,
            "right": null,
            "top": null,
            "visibility": null,
            "width": null
          }
        },
        "c3e86447c55e4df99a89f6743f6c9b61": {
          "model_module": "@jupyter-widgets/controls",
          "model_name": "ProgressStyleModel",
          "model_module_version": "1.5.0",
          "state": {
            "_model_module": "@jupyter-widgets/controls",
            "_model_module_version": "1.5.0",
            "_model_name": "ProgressStyleModel",
            "_view_count": null,
            "_view_module": "@jupyter-widgets/base",
            "_view_module_version": "1.2.0",
            "_view_name": "StyleView",
            "bar_color": null,
            "description_width": ""
          }
        },
        "5dd9779b29c14d4bb8117b758f02a997": {
          "model_module": "@jupyter-widgets/base",
          "model_name": "LayoutModel",
          "model_module_version": "1.2.0",
          "state": {
            "_model_module": "@jupyter-widgets/base",
            "_model_module_version": "1.2.0",
            "_model_name": "LayoutModel",
            "_view_count": null,
            "_view_module": "@jupyter-widgets/base",
            "_view_module_version": "1.2.0",
            "_view_name": "LayoutView",
            "align_content": null,
            "align_items": null,
            "align_self": null,
            "border": null,
            "bottom": null,
            "display": null,
            "flex": null,
            "flex_flow": null,
            "grid_area": null,
            "grid_auto_columns": null,
            "grid_auto_flow": null,
            "grid_auto_rows": null,
            "grid_column": null,
            "grid_gap": null,
            "grid_row": null,
            "grid_template_areas": null,
            "grid_template_columns": null,
            "grid_template_rows": null,
            "height": null,
            "justify_content": null,
            "justify_items": null,
            "left": null,
            "margin": null,
            "max_height": null,
            "max_width": null,
            "min_height": null,
            "min_width": null,
            "object_fit": null,
            "object_position": null,
            "order": null,
            "overflow": null,
            "overflow_x": null,
            "overflow_y": null,
            "padding": null,
            "right": null,
            "top": null,
            "visibility": null,
            "width": null
          }
        },
        "bddf4b2e86da4deda96ac76e3d16dfeb": {
          "model_module": "@jupyter-widgets/controls",
          "model_name": "DescriptionStyleModel",
          "model_module_version": "1.5.0",
          "state": {
            "_model_module": "@jupyter-widgets/controls",
            "_model_module_version": "1.5.0",
            "_model_name": "DescriptionStyleModel",
            "_view_count": null,
            "_view_module": "@jupyter-widgets/base",
            "_view_module_version": "1.2.0",
            "_view_name": "StyleView",
            "description_width": ""
          }
        },
        "1db05dde207d4efb824d4c159ef6ec6c": {
          "model_module": "@jupyter-widgets/controls",
          "model_name": "HBoxModel",
          "model_module_version": "1.5.0",
          "state": {
            "_dom_classes": [],
            "_model_module": "@jupyter-widgets/controls",
            "_model_module_version": "1.5.0",
            "_model_name": "HBoxModel",
            "_view_count": null,
            "_view_module": "@jupyter-widgets/controls",
            "_view_module_version": "1.5.0",
            "_view_name": "HBoxView",
            "box_style": "",
            "children": [
              "IPY_MODEL_ee4c077ad87a41e5975f57d08ebe9c51",
              "IPY_MODEL_b9202724714740a197a93d2c429c588c",
              "IPY_MODEL_06eb491e41104ecf92f156ee204e2ed2"
            ],
            "layout": "IPY_MODEL_7a7ef7d0ac9b4476bd5ed0aad07be1a0"
          }
        },
        "ee4c077ad87a41e5975f57d08ebe9c51": {
          "model_module": "@jupyter-widgets/controls",
          "model_name": "HTMLModel",
          "model_module_version": "1.5.0",
          "state": {
            "_dom_classes": [],
            "_model_module": "@jupyter-widgets/controls",
            "_model_module_version": "1.5.0",
            "_model_name": "HTMLModel",
            "_view_count": null,
            "_view_module": "@jupyter-widgets/controls",
            "_view_module_version": "1.5.0",
            "_view_name": "HTMLView",
            "description": "",
            "description_tooltip": null,
            "layout": "IPY_MODEL_38a03e2b28154706b5571e1185ae7e53",
            "placeholder": "​",
            "style": "IPY_MODEL_6f5f88708dcf41068adb98b2878ddca8",
            "value": "100%"
          }
        },
        "b9202724714740a197a93d2c429c588c": {
          "model_module": "@jupyter-widgets/controls",
          "model_name": "FloatProgressModel",
          "model_module_version": "1.5.0",
          "state": {
            "_dom_classes": [],
            "_model_module": "@jupyter-widgets/controls",
            "_model_module_version": "1.5.0",
            "_model_name": "FloatProgressModel",
            "_view_count": null,
            "_view_module": "@jupyter-widgets/controls",
            "_view_module_version": "1.5.0",
            "_view_name": "ProgressView",
            "bar_style": "success",
            "description": "",
            "description_tooltip": null,
            "layout": "IPY_MODEL_30db18c6f8534bc6ad8db296b32a59d8",
            "max": 7,
            "min": 0,
            "orientation": "horizontal",
            "style": "IPY_MODEL_9c398f4485024866be769f392a3e9102",
            "value": 7
          }
        },
        "06eb491e41104ecf92f156ee204e2ed2": {
          "model_module": "@jupyter-widgets/controls",
          "model_name": "HTMLModel",
          "model_module_version": "1.5.0",
          "state": {
            "_dom_classes": [],
            "_model_module": "@jupyter-widgets/controls",
            "_model_module_version": "1.5.0",
            "_model_name": "HTMLModel",
            "_view_count": null,
            "_view_module": "@jupyter-widgets/controls",
            "_view_module_version": "1.5.0",
            "_view_name": "HTMLView",
            "description": "",
            "description_tooltip": null,
            "layout": "IPY_MODEL_0fd2ebbecbc040599d574abe651bdf10",
            "placeholder": "​",
            "style": "IPY_MODEL_f6da6a7dc8da4d3c9a381f2f745bbfab",
            "value": " 7/7 [00:00&lt;00:00, 67.38it/s]"
          }
        },
        "7a7ef7d0ac9b4476bd5ed0aad07be1a0": {
          "model_module": "@jupyter-widgets/base",
          "model_name": "LayoutModel",
          "model_module_version": "1.2.0",
          "state": {
            "_model_module": "@jupyter-widgets/base",
            "_model_module_version": "1.2.0",
            "_model_name": "LayoutModel",
            "_view_count": null,
            "_view_module": "@jupyter-widgets/base",
            "_view_module_version": "1.2.0",
            "_view_name": "LayoutView",
            "align_content": null,
            "align_items": null,
            "align_self": null,
            "border": null,
            "bottom": null,
            "display": null,
            "flex": null,
            "flex_flow": null,
            "grid_area": null,
            "grid_auto_columns": null,
            "grid_auto_flow": null,
            "grid_auto_rows": null,
            "grid_column": null,
            "grid_gap": null,
            "grid_row": null,
            "grid_template_areas": null,
            "grid_template_columns": null,
            "grid_template_rows": null,
            "height": null,
            "justify_content": null,
            "justify_items": null,
            "left": null,
            "margin": null,
            "max_height": null,
            "max_width": null,
            "min_height": null,
            "min_width": null,
            "object_fit": null,
            "object_position": null,
            "order": null,
            "overflow": null,
            "overflow_x": null,
            "overflow_y": null,
            "padding": null,
            "right": null,
            "top": null,
            "visibility": null,
            "width": null
          }
        },
        "38a03e2b28154706b5571e1185ae7e53": {
          "model_module": "@jupyter-widgets/base",
          "model_name": "LayoutModel",
          "model_module_version": "1.2.0",
          "state": {
            "_model_module": "@jupyter-widgets/base",
            "_model_module_version": "1.2.0",
            "_model_name": "LayoutModel",
            "_view_count": null,
            "_view_module": "@jupyter-widgets/base",
            "_view_module_version": "1.2.0",
            "_view_name": "LayoutView",
            "align_content": null,
            "align_items": null,
            "align_self": null,
            "border": null,
            "bottom": null,
            "display": null,
            "flex": null,
            "flex_flow": null,
            "grid_area": null,
            "grid_auto_columns": null,
            "grid_auto_flow": null,
            "grid_auto_rows": null,
            "grid_column": null,
            "grid_gap": null,
            "grid_row": null,
            "grid_template_areas": null,
            "grid_template_columns": null,
            "grid_template_rows": null,
            "height": null,
            "justify_content": null,
            "justify_items": null,
            "left": null,
            "margin": null,
            "max_height": null,
            "max_width": null,
            "min_height": null,
            "min_width": null,
            "object_fit": null,
            "object_position": null,
            "order": null,
            "overflow": null,
            "overflow_x": null,
            "overflow_y": null,
            "padding": null,
            "right": null,
            "top": null,
            "visibility": null,
            "width": null
          }
        },
        "6f5f88708dcf41068adb98b2878ddca8": {
          "model_module": "@jupyter-widgets/controls",
          "model_name": "DescriptionStyleModel",
          "model_module_version": "1.5.0",
          "state": {
            "_model_module": "@jupyter-widgets/controls",
            "_model_module_version": "1.5.0",
            "_model_name": "DescriptionStyleModel",
            "_view_count": null,
            "_view_module": "@jupyter-widgets/base",
            "_view_module_version": "1.2.0",
            "_view_name": "StyleView",
            "description_width": ""
          }
        },
        "30db18c6f8534bc6ad8db296b32a59d8": {
          "model_module": "@jupyter-widgets/base",
          "model_name": "LayoutModel",
          "model_module_version": "1.2.0",
          "state": {
            "_model_module": "@jupyter-widgets/base",
            "_model_module_version": "1.2.0",
            "_model_name": "LayoutModel",
            "_view_count": null,
            "_view_module": "@jupyter-widgets/base",
            "_view_module_version": "1.2.0",
            "_view_name": "LayoutView",
            "align_content": null,
            "align_items": null,
            "align_self": null,
            "border": null,
            "bottom": null,
            "display": null,
            "flex": null,
            "flex_flow": null,
            "grid_area": null,
            "grid_auto_columns": null,
            "grid_auto_flow": null,
            "grid_auto_rows": null,
            "grid_column": null,
            "grid_gap": null,
            "grid_row": null,
            "grid_template_areas": null,
            "grid_template_columns": null,
            "grid_template_rows": null,
            "height": null,
            "justify_content": null,
            "justify_items": null,
            "left": null,
            "margin": null,
            "max_height": null,
            "max_width": null,
            "min_height": null,
            "min_width": null,
            "object_fit": null,
            "object_position": null,
            "order": null,
            "overflow": null,
            "overflow_x": null,
            "overflow_y": null,
            "padding": null,
            "right": null,
            "top": null,
            "visibility": null,
            "width": null
          }
        },
        "9c398f4485024866be769f392a3e9102": {
          "model_module": "@jupyter-widgets/controls",
          "model_name": "ProgressStyleModel",
          "model_module_version": "1.5.0",
          "state": {
            "_model_module": "@jupyter-widgets/controls",
            "_model_module_version": "1.5.0",
            "_model_name": "ProgressStyleModel",
            "_view_count": null,
            "_view_module": "@jupyter-widgets/base",
            "_view_module_version": "1.2.0",
            "_view_name": "StyleView",
            "bar_color": null,
            "description_width": ""
          }
        },
        "0fd2ebbecbc040599d574abe651bdf10": {
          "model_module": "@jupyter-widgets/base",
          "model_name": "LayoutModel",
          "model_module_version": "1.2.0",
          "state": {
            "_model_module": "@jupyter-widgets/base",
            "_model_module_version": "1.2.0",
            "_model_name": "LayoutModel",
            "_view_count": null,
            "_view_module": "@jupyter-widgets/base",
            "_view_module_version": "1.2.0",
            "_view_name": "LayoutView",
            "align_content": null,
            "align_items": null,
            "align_self": null,
            "border": null,
            "bottom": null,
            "display": null,
            "flex": null,
            "flex_flow": null,
            "grid_area": null,
            "grid_auto_columns": null,
            "grid_auto_flow": null,
            "grid_auto_rows": null,
            "grid_column": null,
            "grid_gap": null,
            "grid_row": null,
            "grid_template_areas": null,
            "grid_template_columns": null,
            "grid_template_rows": null,
            "height": null,
            "justify_content": null,
            "justify_items": null,
            "left": null,
            "margin": null,
            "max_height": null,
            "max_width": null,
            "min_height": null,
            "min_width": null,
            "object_fit": null,
            "object_position": null,
            "order": null,
            "overflow": null,
            "overflow_x": null,
            "overflow_y": null,
            "padding": null,
            "right": null,
            "top": null,
            "visibility": null,
            "width": null
          }
        },
        "f6da6a7dc8da4d3c9a381f2f745bbfab": {
          "model_module": "@jupyter-widgets/controls",
          "model_name": "DescriptionStyleModel",
          "model_module_version": "1.5.0",
          "state": {
            "_model_module": "@jupyter-widgets/controls",
            "_model_module_version": "1.5.0",
            "_model_name": "DescriptionStyleModel",
            "_view_count": null,
            "_view_module": "@jupyter-widgets/base",
            "_view_module_version": "1.2.0",
            "_view_name": "StyleView",
            "description_width": ""
          }
        },
        "81ed0ad13a5d47b6aaa6d930fc693708": {
          "model_module": "@jupyter-widgets/controls",
          "model_name": "HBoxModel",
          "model_module_version": "1.5.0",
          "state": {
            "_dom_classes": [],
            "_model_module": "@jupyter-widgets/controls",
            "_model_module_version": "1.5.0",
            "_model_name": "HBoxModel",
            "_view_count": null,
            "_view_module": "@jupyter-widgets/controls",
            "_view_module_version": "1.5.0",
            "_view_name": "HBoxView",
            "box_style": "",
            "children": [
              "IPY_MODEL_1c319d187830459c8d637641bf3b8e8f",
              "IPY_MODEL_676af736a7d84c5a81be5c0d3dc53ba7",
              "IPY_MODEL_84c1dc38ae1949a29baea4c2ee207d7c"
            ],
            "layout": "IPY_MODEL_cd48354b291f4636ac0e7d8d06ea3e28"
          }
        },
        "1c319d187830459c8d637641bf3b8e8f": {
          "model_module": "@jupyter-widgets/controls",
          "model_name": "HTMLModel",
          "model_module_version": "1.5.0",
          "state": {
            "_dom_classes": [],
            "_model_module": "@jupyter-widgets/controls",
            "_model_module_version": "1.5.0",
            "_model_name": "HTMLModel",
            "_view_count": null,
            "_view_module": "@jupyter-widgets/controls",
            "_view_module_version": "1.5.0",
            "_view_name": "HTMLView",
            "description": "",
            "description_tooltip": null,
            "layout": "IPY_MODEL_98be8fce3c574ab3a583a3f9c12cf51f",
            "placeholder": "​",
            "style": "IPY_MODEL_7121e46ed0a84b539752dda68fcd86c3",
            "value": "100%"
          }
        },
        "676af736a7d84c5a81be5c0d3dc53ba7": {
          "model_module": "@jupyter-widgets/controls",
          "model_name": "FloatProgressModel",
          "model_module_version": "1.5.0",
          "state": {
            "_dom_classes": [],
            "_model_module": "@jupyter-widgets/controls",
            "_model_module_version": "1.5.0",
            "_model_name": "FloatProgressModel",
            "_view_count": null,
            "_view_module": "@jupyter-widgets/controls",
            "_view_module_version": "1.5.0",
            "_view_name": "ProgressView",
            "bar_style": "success",
            "description": "",
            "description_tooltip": null,
            "layout": "IPY_MODEL_c0d36ac4d91c4344a8ef9bf8e7abd6e5",
            "max": 7,
            "min": 0,
            "orientation": "horizontal",
            "style": "IPY_MODEL_ed1f2dda133e4210bf8e8c6f26fa6c64",
            "value": 7
          }
        },
        "84c1dc38ae1949a29baea4c2ee207d7c": {
          "model_module": "@jupyter-widgets/controls",
          "model_name": "HTMLModel",
          "model_module_version": "1.5.0",
          "state": {
            "_dom_classes": [],
            "_model_module": "@jupyter-widgets/controls",
            "_model_module_version": "1.5.0",
            "_model_name": "HTMLModel",
            "_view_count": null,
            "_view_module": "@jupyter-widgets/controls",
            "_view_module_version": "1.5.0",
            "_view_name": "HTMLView",
            "description": "",
            "description_tooltip": null,
            "layout": "IPY_MODEL_c736f49c7d1f443f81640c13ae42e973",
            "placeholder": "​",
            "style": "IPY_MODEL_7ac2ad443af94d2a924d99a6847648a7",
            "value": " 7/7 [00:00&lt;00:00, 68.67it/s]"
          }
        },
        "cd48354b291f4636ac0e7d8d06ea3e28": {
          "model_module": "@jupyter-widgets/base",
          "model_name": "LayoutModel",
          "model_module_version": "1.2.0",
          "state": {
            "_model_module": "@jupyter-widgets/base",
            "_model_module_version": "1.2.0",
            "_model_name": "LayoutModel",
            "_view_count": null,
            "_view_module": "@jupyter-widgets/base",
            "_view_module_version": "1.2.0",
            "_view_name": "LayoutView",
            "align_content": null,
            "align_items": null,
            "align_self": null,
            "border": null,
            "bottom": null,
            "display": null,
            "flex": null,
            "flex_flow": null,
            "grid_area": null,
            "grid_auto_columns": null,
            "grid_auto_flow": null,
            "grid_auto_rows": null,
            "grid_column": null,
            "grid_gap": null,
            "grid_row": null,
            "grid_template_areas": null,
            "grid_template_columns": null,
            "grid_template_rows": null,
            "height": null,
            "justify_content": null,
            "justify_items": null,
            "left": null,
            "margin": null,
            "max_height": null,
            "max_width": null,
            "min_height": null,
            "min_width": null,
            "object_fit": null,
            "object_position": null,
            "order": null,
            "overflow": null,
            "overflow_x": null,
            "overflow_y": null,
            "padding": null,
            "right": null,
            "top": null,
            "visibility": null,
            "width": null
          }
        },
        "98be8fce3c574ab3a583a3f9c12cf51f": {
          "model_module": "@jupyter-widgets/base",
          "model_name": "LayoutModel",
          "model_module_version": "1.2.0",
          "state": {
            "_model_module": "@jupyter-widgets/base",
            "_model_module_version": "1.2.0",
            "_model_name": "LayoutModel",
            "_view_count": null,
            "_view_module": "@jupyter-widgets/base",
            "_view_module_version": "1.2.0",
            "_view_name": "LayoutView",
            "align_content": null,
            "align_items": null,
            "align_self": null,
            "border": null,
            "bottom": null,
            "display": null,
            "flex": null,
            "flex_flow": null,
            "grid_area": null,
            "grid_auto_columns": null,
            "grid_auto_flow": null,
            "grid_auto_rows": null,
            "grid_column": null,
            "grid_gap": null,
            "grid_row": null,
            "grid_template_areas": null,
            "grid_template_columns": null,
            "grid_template_rows": null,
            "height": null,
            "justify_content": null,
            "justify_items": null,
            "left": null,
            "margin": null,
            "max_height": null,
            "max_width": null,
            "min_height": null,
            "min_width": null,
            "object_fit": null,
            "object_position": null,
            "order": null,
            "overflow": null,
            "overflow_x": null,
            "overflow_y": null,
            "padding": null,
            "right": null,
            "top": null,
            "visibility": null,
            "width": null
          }
        },
        "7121e46ed0a84b539752dda68fcd86c3": {
          "model_module": "@jupyter-widgets/controls",
          "model_name": "DescriptionStyleModel",
          "model_module_version": "1.5.0",
          "state": {
            "_model_module": "@jupyter-widgets/controls",
            "_model_module_version": "1.5.0",
            "_model_name": "DescriptionStyleModel",
            "_view_count": null,
            "_view_module": "@jupyter-widgets/base",
            "_view_module_version": "1.2.0",
            "_view_name": "StyleView",
            "description_width": ""
          }
        },
        "c0d36ac4d91c4344a8ef9bf8e7abd6e5": {
          "model_module": "@jupyter-widgets/base",
          "model_name": "LayoutModel",
          "model_module_version": "1.2.0",
          "state": {
            "_model_module": "@jupyter-widgets/base",
            "_model_module_version": "1.2.0",
            "_model_name": "LayoutModel",
            "_view_count": null,
            "_view_module": "@jupyter-widgets/base",
            "_view_module_version": "1.2.0",
            "_view_name": "LayoutView",
            "align_content": null,
            "align_items": null,
            "align_self": null,
            "border": null,
            "bottom": null,
            "display": null,
            "flex": null,
            "flex_flow": null,
            "grid_area": null,
            "grid_auto_columns": null,
            "grid_auto_flow": null,
            "grid_auto_rows": null,
            "grid_column": null,
            "grid_gap": null,
            "grid_row": null,
            "grid_template_areas": null,
            "grid_template_columns": null,
            "grid_template_rows": null,
            "height": null,
            "justify_content": null,
            "justify_items": null,
            "left": null,
            "margin": null,
            "max_height": null,
            "max_width": null,
            "min_height": null,
            "min_width": null,
            "object_fit": null,
            "object_position": null,
            "order": null,
            "overflow": null,
            "overflow_x": null,
            "overflow_y": null,
            "padding": null,
            "right": null,
            "top": null,
            "visibility": null,
            "width": null
          }
        },
        "ed1f2dda133e4210bf8e8c6f26fa6c64": {
          "model_module": "@jupyter-widgets/controls",
          "model_name": "ProgressStyleModel",
          "model_module_version": "1.5.0",
          "state": {
            "_model_module": "@jupyter-widgets/controls",
            "_model_module_version": "1.5.0",
            "_model_name": "ProgressStyleModel",
            "_view_count": null,
            "_view_module": "@jupyter-widgets/base",
            "_view_module_version": "1.2.0",
            "_view_name": "StyleView",
            "bar_color": null,
            "description_width": ""
          }
        },
        "c736f49c7d1f443f81640c13ae42e973": {
          "model_module": "@jupyter-widgets/base",
          "model_name": "LayoutModel",
          "model_module_version": "1.2.0",
          "state": {
            "_model_module": "@jupyter-widgets/base",
            "_model_module_version": "1.2.0",
            "_model_name": "LayoutModel",
            "_view_count": null,
            "_view_module": "@jupyter-widgets/base",
            "_view_module_version": "1.2.0",
            "_view_name": "LayoutView",
            "align_content": null,
            "align_items": null,
            "align_self": null,
            "border": null,
            "bottom": null,
            "display": null,
            "flex": null,
            "flex_flow": null,
            "grid_area": null,
            "grid_auto_columns": null,
            "grid_auto_flow": null,
            "grid_auto_rows": null,
            "grid_column": null,
            "grid_gap": null,
            "grid_row": null,
            "grid_template_areas": null,
            "grid_template_columns": null,
            "grid_template_rows": null,
            "height": null,
            "justify_content": null,
            "justify_items": null,
            "left": null,
            "margin": null,
            "max_height": null,
            "max_width": null,
            "min_height": null,
            "min_width": null,
            "object_fit": null,
            "object_position": null,
            "order": null,
            "overflow": null,
            "overflow_x": null,
            "overflow_y": null,
            "padding": null,
            "right": null,
            "top": null,
            "visibility": null,
            "width": null
          }
        },
        "7ac2ad443af94d2a924d99a6847648a7": {
          "model_module": "@jupyter-widgets/controls",
          "model_name": "DescriptionStyleModel",
          "model_module_version": "1.5.0",
          "state": {
            "_model_module": "@jupyter-widgets/controls",
            "_model_module_version": "1.5.0",
            "_model_name": "DescriptionStyleModel",
            "_view_count": null,
            "_view_module": "@jupyter-widgets/base",
            "_view_module_version": "1.2.0",
            "_view_name": "StyleView",
            "description_width": ""
          }
        },
        "6a83d3ad15984683bab1625984999937": {
          "model_module": "@jupyter-widgets/controls",
          "model_name": "HBoxModel",
          "model_module_version": "1.5.0",
          "state": {
            "_dom_classes": [],
            "_model_module": "@jupyter-widgets/controls",
            "_model_module_version": "1.5.0",
            "_model_name": "HBoxModel",
            "_view_count": null,
            "_view_module": "@jupyter-widgets/controls",
            "_view_module_version": "1.5.0",
            "_view_name": "HBoxView",
            "box_style": "",
            "children": [
              "IPY_MODEL_26b16595b5c243fa8c896636113d5b78",
              "IPY_MODEL_ec84659d85904ae4bfc9427e92f5bcae",
              "IPY_MODEL_3e10727789e24b10af03d743ea0a6758"
            ],
            "layout": "IPY_MODEL_e22f19e24c4b4beb96902e0db75ceeb4"
          }
        },
        "26b16595b5c243fa8c896636113d5b78": {
          "model_module": "@jupyter-widgets/controls",
          "model_name": "HTMLModel",
          "model_module_version": "1.5.0",
          "state": {
            "_dom_classes": [],
            "_model_module": "@jupyter-widgets/controls",
            "_model_module_version": "1.5.0",
            "_model_name": "HTMLModel",
            "_view_count": null,
            "_view_module": "@jupyter-widgets/controls",
            "_view_module_version": "1.5.0",
            "_view_name": "HTMLView",
            "description": "",
            "description_tooltip": null,
            "layout": "IPY_MODEL_9c65f7ae21f54bd7822e3233f8956401",
            "placeholder": "​",
            "style": "IPY_MODEL_26f2361c6c77461fa9718766338711e6",
            "value": "lags grid: 100%"
          }
        },
        "ec84659d85904ae4bfc9427e92f5bcae": {
          "model_module": "@jupyter-widgets/controls",
          "model_name": "FloatProgressModel",
          "model_module_version": "1.5.0",
          "state": {
            "_dom_classes": [],
            "_model_module": "@jupyter-widgets/controls",
            "_model_module_version": "1.5.0",
            "_model_name": "FloatProgressModel",
            "_view_count": null,
            "_view_module": "@jupyter-widgets/controls",
            "_view_module_version": "1.5.0",
            "_view_name": "ProgressView",
            "bar_style": "success",
            "description": "",
            "description_tooltip": null,
            "layout": "IPY_MODEL_e6bb721357f3401d8e7486540ee4973c",
            "max": 2,
            "min": 0,
            "orientation": "horizontal",
            "style": "IPY_MODEL_02abae0b5be9429ebf546c0a552f6620",
            "value": 2
          }
        },
        "3e10727789e24b10af03d743ea0a6758": {
          "model_module": "@jupyter-widgets/controls",
          "model_name": "HTMLModel",
          "model_module_version": "1.5.0",
          "state": {
            "_dom_classes": [],
            "_model_module": "@jupyter-widgets/controls",
            "_model_module_version": "1.5.0",
            "_model_name": "HTMLModel",
            "_view_count": null,
            "_view_module": "@jupyter-widgets/controls",
            "_view_module_version": "1.5.0",
            "_view_name": "HTMLView",
            "description": "",
            "description_tooltip": null,
            "layout": "IPY_MODEL_ecf75de17b284537bd4cd040c218f495",
            "placeholder": "​",
            "style": "IPY_MODEL_cc210067ebff4454a7268d01975e4fe5",
            "value": " 2/2 [00:44&lt;00:00, 22.35s/it]"
          }
        },
        "e22f19e24c4b4beb96902e0db75ceeb4": {
          "model_module": "@jupyter-widgets/base",
          "model_name": "LayoutModel",
          "model_module_version": "1.2.0",
          "state": {
            "_model_module": "@jupyter-widgets/base",
            "_model_module_version": "1.2.0",
            "_model_name": "LayoutModel",
            "_view_count": null,
            "_view_module": "@jupyter-widgets/base",
            "_view_module_version": "1.2.0",
            "_view_name": "LayoutView",
            "align_content": null,
            "align_items": null,
            "align_self": null,
            "border": null,
            "bottom": null,
            "display": null,
            "flex": null,
            "flex_flow": null,
            "grid_area": null,
            "grid_auto_columns": null,
            "grid_auto_flow": null,
            "grid_auto_rows": null,
            "grid_column": null,
            "grid_gap": null,
            "grid_row": null,
            "grid_template_areas": null,
            "grid_template_columns": null,
            "grid_template_rows": null,
            "height": null,
            "justify_content": null,
            "justify_items": null,
            "left": null,
            "margin": null,
            "max_height": null,
            "max_width": null,
            "min_height": null,
            "min_width": null,
            "object_fit": null,
            "object_position": null,
            "order": null,
            "overflow": null,
            "overflow_x": null,
            "overflow_y": null,
            "padding": null,
            "right": null,
            "top": null,
            "visibility": null,
            "width": null
          }
        },
        "9c65f7ae21f54bd7822e3233f8956401": {
          "model_module": "@jupyter-widgets/base",
          "model_name": "LayoutModel",
          "model_module_version": "1.2.0",
          "state": {
            "_model_module": "@jupyter-widgets/base",
            "_model_module_version": "1.2.0",
            "_model_name": "LayoutModel",
            "_view_count": null,
            "_view_module": "@jupyter-widgets/base",
            "_view_module_version": "1.2.0",
            "_view_name": "LayoutView",
            "align_content": null,
            "align_items": null,
            "align_self": null,
            "border": null,
            "bottom": null,
            "display": null,
            "flex": null,
            "flex_flow": null,
            "grid_area": null,
            "grid_auto_columns": null,
            "grid_auto_flow": null,
            "grid_auto_rows": null,
            "grid_column": null,
            "grid_gap": null,
            "grid_row": null,
            "grid_template_areas": null,
            "grid_template_columns": null,
            "grid_template_rows": null,
            "height": null,
            "justify_content": null,
            "justify_items": null,
            "left": null,
            "margin": null,
            "max_height": null,
            "max_width": null,
            "min_height": null,
            "min_width": null,
            "object_fit": null,
            "object_position": null,
            "order": null,
            "overflow": null,
            "overflow_x": null,
            "overflow_y": null,
            "padding": null,
            "right": null,
            "top": null,
            "visibility": null,
            "width": null
          }
        },
        "26f2361c6c77461fa9718766338711e6": {
          "model_module": "@jupyter-widgets/controls",
          "model_name": "DescriptionStyleModel",
          "model_module_version": "1.5.0",
          "state": {
            "_model_module": "@jupyter-widgets/controls",
            "_model_module_version": "1.5.0",
            "_model_name": "DescriptionStyleModel",
            "_view_count": null,
            "_view_module": "@jupyter-widgets/base",
            "_view_module_version": "1.2.0",
            "_view_name": "StyleView",
            "description_width": ""
          }
        },
        "e6bb721357f3401d8e7486540ee4973c": {
          "model_module": "@jupyter-widgets/base",
          "model_name": "LayoutModel",
          "model_module_version": "1.2.0",
          "state": {
            "_model_module": "@jupyter-widgets/base",
            "_model_module_version": "1.2.0",
            "_model_name": "LayoutModel",
            "_view_count": null,
            "_view_module": "@jupyter-widgets/base",
            "_view_module_version": "1.2.0",
            "_view_name": "LayoutView",
            "align_content": null,
            "align_items": null,
            "align_self": null,
            "border": null,
            "bottom": null,
            "display": null,
            "flex": null,
            "flex_flow": null,
            "grid_area": null,
            "grid_auto_columns": null,
            "grid_auto_flow": null,
            "grid_auto_rows": null,
            "grid_column": null,
            "grid_gap": null,
            "grid_row": null,
            "grid_template_areas": null,
            "grid_template_columns": null,
            "grid_template_rows": null,
            "height": null,
            "justify_content": null,
            "justify_items": null,
            "left": null,
            "margin": null,
            "max_height": null,
            "max_width": null,
            "min_height": null,
            "min_width": null,
            "object_fit": null,
            "object_position": null,
            "order": null,
            "overflow": null,
            "overflow_x": null,
            "overflow_y": null,
            "padding": null,
            "right": null,
            "top": null,
            "visibility": null,
            "width": null
          }
        },
        "02abae0b5be9429ebf546c0a552f6620": {
          "model_module": "@jupyter-widgets/controls",
          "model_name": "ProgressStyleModel",
          "model_module_version": "1.5.0",
          "state": {
            "_model_module": "@jupyter-widgets/controls",
            "_model_module_version": "1.5.0",
            "_model_name": "ProgressStyleModel",
            "_view_count": null,
            "_view_module": "@jupyter-widgets/base",
            "_view_module_version": "1.2.0",
            "_view_name": "StyleView",
            "bar_color": null,
            "description_width": ""
          }
        },
        "ecf75de17b284537bd4cd040c218f495": {
          "model_module": "@jupyter-widgets/base",
          "model_name": "LayoutModel",
          "model_module_version": "1.2.0",
          "state": {
            "_model_module": "@jupyter-widgets/base",
            "_model_module_version": "1.2.0",
            "_model_name": "LayoutModel",
            "_view_count": null,
            "_view_module": "@jupyter-widgets/base",
            "_view_module_version": "1.2.0",
            "_view_name": "LayoutView",
            "align_content": null,
            "align_items": null,
            "align_self": null,
            "border": null,
            "bottom": null,
            "display": null,
            "flex": null,
            "flex_flow": null,
            "grid_area": null,
            "grid_auto_columns": null,
            "grid_auto_flow": null,
            "grid_auto_rows": null,
            "grid_column": null,
            "grid_gap": null,
            "grid_row": null,
            "grid_template_areas": null,
            "grid_template_columns": null,
            "grid_template_rows": null,
            "height": null,
            "justify_content": null,
            "justify_items": null,
            "left": null,
            "margin": null,
            "max_height": null,
            "max_width": null,
            "min_height": null,
            "min_width": null,
            "object_fit": null,
            "object_position": null,
            "order": null,
            "overflow": null,
            "overflow_x": null,
            "overflow_y": null,
            "padding": null,
            "right": null,
            "top": null,
            "visibility": null,
            "width": null
          }
        },
        "cc210067ebff4454a7268d01975e4fe5": {
          "model_module": "@jupyter-widgets/controls",
          "model_name": "DescriptionStyleModel",
          "model_module_version": "1.5.0",
          "state": {
            "_model_module": "@jupyter-widgets/controls",
            "_model_module_version": "1.5.0",
            "_model_name": "DescriptionStyleModel",
            "_view_count": null,
            "_view_module": "@jupyter-widgets/base",
            "_view_module_version": "1.2.0",
            "_view_name": "StyleView",
            "description_width": ""
          }
        },
        "3002232e0b9549dcbbca6e6c9914ceeb": {
          "model_module": "@jupyter-widgets/controls",
          "model_name": "HBoxModel",
          "model_module_version": "1.5.0",
          "state": {
            "_dom_classes": [],
            "_model_module": "@jupyter-widgets/controls",
            "_model_module_version": "1.5.0",
            "_model_name": "HBoxModel",
            "_view_count": null,
            "_view_module": "@jupyter-widgets/controls",
            "_view_module_version": "1.5.0",
            "_view_name": "HBoxView",
            "box_style": "",
            "children": [
              "IPY_MODEL_4fe0be62db004560ae6767971050e66f",
              "IPY_MODEL_27efc05e548e4df9a25d80c33ec53212",
              "IPY_MODEL_9d257013522545f6a6fda42fca02301e"
            ],
            "layout": "IPY_MODEL_039fea8a9659424282d5f3108530c2aa"
          }
        },
        "4fe0be62db004560ae6767971050e66f": {
          "model_module": "@jupyter-widgets/controls",
          "model_name": "HTMLModel",
          "model_module_version": "1.5.0",
          "state": {
            "_dom_classes": [],
            "_model_module": "@jupyter-widgets/controls",
            "_model_module_version": "1.5.0",
            "_model_name": "HTMLModel",
            "_view_count": null,
            "_view_module": "@jupyter-widgets/controls",
            "_view_module_version": "1.5.0",
            "_view_name": "HTMLView",
            "description": "",
            "description_tooltip": null,
            "layout": "IPY_MODEL_77364dc7350c4eb19346eae067dcd921",
            "placeholder": "​",
            "style": "IPY_MODEL_e488f7e22ea94e51916794864bebf6a4",
            "value": "params grid: 100%"
          }
        },
        "27efc05e548e4df9a25d80c33ec53212": {
          "model_module": "@jupyter-widgets/controls",
          "model_name": "FloatProgressModel",
          "model_module_version": "1.5.0",
          "state": {
            "_dom_classes": [],
            "_model_module": "@jupyter-widgets/controls",
            "_model_module_version": "1.5.0",
            "_model_name": "FloatProgressModel",
            "_view_count": null,
            "_view_module": "@jupyter-widgets/controls",
            "_view_module_version": "1.5.0",
            "_view_name": "ProgressView",
            "bar_style": "",
            "description": "",
            "description_tooltip": null,
            "layout": "IPY_MODEL_cd6971e7c57a4bb4ac27bd5fd9441861",
            "max": 6,
            "min": 0,
            "orientation": "horizontal",
            "style": "IPY_MODEL_be7096a82e3f478fa91bcd971575ffe7",
            "value": 6
          }
        },
        "9d257013522545f6a6fda42fca02301e": {
          "model_module": "@jupyter-widgets/controls",
          "model_name": "HTMLModel",
          "model_module_version": "1.5.0",
          "state": {
            "_dom_classes": [],
            "_model_module": "@jupyter-widgets/controls",
            "_model_module_version": "1.5.0",
            "_model_name": "HTMLModel",
            "_view_count": null,
            "_view_module": "@jupyter-widgets/controls",
            "_view_module_version": "1.5.0",
            "_view_name": "HTMLView",
            "description": "",
            "description_tooltip": null,
            "layout": "IPY_MODEL_026db110a39d4ac186f2fca8fc4647ea",
            "placeholder": "​",
            "style": "IPY_MODEL_03fbc33a107e4adbbf1e08c816aa0b29",
            "value": " 6/6 [00:21&lt;00:00,  3.87s/it]"
          }
        },
        "039fea8a9659424282d5f3108530c2aa": {
          "model_module": "@jupyter-widgets/base",
          "model_name": "LayoutModel",
          "model_module_version": "1.2.0",
          "state": {
            "_model_module": "@jupyter-widgets/base",
            "_model_module_version": "1.2.0",
            "_model_name": "LayoutModel",
            "_view_count": null,
            "_view_module": "@jupyter-widgets/base",
            "_view_module_version": "1.2.0",
            "_view_name": "LayoutView",
            "align_content": null,
            "align_items": null,
            "align_self": null,
            "border": null,
            "bottom": null,
            "display": null,
            "flex": null,
            "flex_flow": null,
            "grid_area": null,
            "grid_auto_columns": null,
            "grid_auto_flow": null,
            "grid_auto_rows": null,
            "grid_column": null,
            "grid_gap": null,
            "grid_row": null,
            "grid_template_areas": null,
            "grid_template_columns": null,
            "grid_template_rows": null,
            "height": null,
            "justify_content": null,
            "justify_items": null,
            "left": null,
            "margin": null,
            "max_height": null,
            "max_width": null,
            "min_height": null,
            "min_width": null,
            "object_fit": null,
            "object_position": null,
            "order": null,
            "overflow": null,
            "overflow_x": null,
            "overflow_y": null,
            "padding": null,
            "right": null,
            "top": null,
            "visibility": "hidden",
            "width": null
          }
        },
        "77364dc7350c4eb19346eae067dcd921": {
          "model_module": "@jupyter-widgets/base",
          "model_name": "LayoutModel",
          "model_module_version": "1.2.0",
          "state": {
            "_model_module": "@jupyter-widgets/base",
            "_model_module_version": "1.2.0",
            "_model_name": "LayoutModel",
            "_view_count": null,
            "_view_module": "@jupyter-widgets/base",
            "_view_module_version": "1.2.0",
            "_view_name": "LayoutView",
            "align_content": null,
            "align_items": null,
            "align_self": null,
            "border": null,
            "bottom": null,
            "display": null,
            "flex": null,
            "flex_flow": null,
            "grid_area": null,
            "grid_auto_columns": null,
            "grid_auto_flow": null,
            "grid_auto_rows": null,
            "grid_column": null,
            "grid_gap": null,
            "grid_row": null,
            "grid_template_areas": null,
            "grid_template_columns": null,
            "grid_template_rows": null,
            "height": null,
            "justify_content": null,
            "justify_items": null,
            "left": null,
            "margin": null,
            "max_height": null,
            "max_width": null,
            "min_height": null,
            "min_width": null,
            "object_fit": null,
            "object_position": null,
            "order": null,
            "overflow": null,
            "overflow_x": null,
            "overflow_y": null,
            "padding": null,
            "right": null,
            "top": null,
            "visibility": null,
            "width": null
          }
        },
        "e488f7e22ea94e51916794864bebf6a4": {
          "model_module": "@jupyter-widgets/controls",
          "model_name": "DescriptionStyleModel",
          "model_module_version": "1.5.0",
          "state": {
            "_model_module": "@jupyter-widgets/controls",
            "_model_module_version": "1.5.0",
            "_model_name": "DescriptionStyleModel",
            "_view_count": null,
            "_view_module": "@jupyter-widgets/base",
            "_view_module_version": "1.2.0",
            "_view_name": "StyleView",
            "description_width": ""
          }
        },
        "cd6971e7c57a4bb4ac27bd5fd9441861": {
          "model_module": "@jupyter-widgets/base",
          "model_name": "LayoutModel",
          "model_module_version": "1.2.0",
          "state": {
            "_model_module": "@jupyter-widgets/base",
            "_model_module_version": "1.2.0",
            "_model_name": "LayoutModel",
            "_view_count": null,
            "_view_module": "@jupyter-widgets/base",
            "_view_module_version": "1.2.0",
            "_view_name": "LayoutView",
            "align_content": null,
            "align_items": null,
            "align_self": null,
            "border": null,
            "bottom": null,
            "display": null,
            "flex": null,
            "flex_flow": null,
            "grid_area": null,
            "grid_auto_columns": null,
            "grid_auto_flow": null,
            "grid_auto_rows": null,
            "grid_column": null,
            "grid_gap": null,
            "grid_row": null,
            "grid_template_areas": null,
            "grid_template_columns": null,
            "grid_template_rows": null,
            "height": null,
            "justify_content": null,
            "justify_items": null,
            "left": null,
            "margin": null,
            "max_height": null,
            "max_width": null,
            "min_height": null,
            "min_width": null,
            "object_fit": null,
            "object_position": null,
            "order": null,
            "overflow": null,
            "overflow_x": null,
            "overflow_y": null,
            "padding": null,
            "right": null,
            "top": null,
            "visibility": null,
            "width": null
          }
        },
        "be7096a82e3f478fa91bcd971575ffe7": {
          "model_module": "@jupyter-widgets/controls",
          "model_name": "ProgressStyleModel",
          "model_module_version": "1.5.0",
          "state": {
            "_model_module": "@jupyter-widgets/controls",
            "_model_module_version": "1.5.0",
            "_model_name": "ProgressStyleModel",
            "_view_count": null,
            "_view_module": "@jupyter-widgets/base",
            "_view_module_version": "1.2.0",
            "_view_name": "StyleView",
            "bar_color": null,
            "description_width": ""
          }
        },
        "026db110a39d4ac186f2fca8fc4647ea": {
          "model_module": "@jupyter-widgets/base",
          "model_name": "LayoutModel",
          "model_module_version": "1.2.0",
          "state": {
            "_model_module": "@jupyter-widgets/base",
            "_model_module_version": "1.2.0",
            "_model_name": "LayoutModel",
            "_view_count": null,
            "_view_module": "@jupyter-widgets/base",
            "_view_module_version": "1.2.0",
            "_view_name": "LayoutView",
            "align_content": null,
            "align_items": null,
            "align_self": null,
            "border": null,
            "bottom": null,
            "display": null,
            "flex": null,
            "flex_flow": null,
            "grid_area": null,
            "grid_auto_columns": null,
            "grid_auto_flow": null,
            "grid_auto_rows": null,
            "grid_column": null,
            "grid_gap": null,
            "grid_row": null,
            "grid_template_areas": null,
            "grid_template_columns": null,
            "grid_template_rows": null,
            "height": null,
            "justify_content": null,
            "justify_items": null,
            "left": null,
            "margin": null,
            "max_height": null,
            "max_width": null,
            "min_height": null,
            "min_width": null,
            "object_fit": null,
            "object_position": null,
            "order": null,
            "overflow": null,
            "overflow_x": null,
            "overflow_y": null,
            "padding": null,
            "right": null,
            "top": null,
            "visibility": null,
            "width": null
          }
        },
        "03fbc33a107e4adbbf1e08c816aa0b29": {
          "model_module": "@jupyter-widgets/controls",
          "model_name": "DescriptionStyleModel",
          "model_module_version": "1.5.0",
          "state": {
            "_model_module": "@jupyter-widgets/controls",
            "_model_module_version": "1.5.0",
            "_model_name": "DescriptionStyleModel",
            "_view_count": null,
            "_view_module": "@jupyter-widgets/base",
            "_view_module_version": "1.2.0",
            "_view_name": "StyleView",
            "description_width": ""
          }
        },
        "fdf75a02d6b0435299477e56249c30ef": {
          "model_module": "@jupyter-widgets/controls",
          "model_name": "HBoxModel",
          "model_module_version": "1.5.0",
          "state": {
            "_dom_classes": [],
            "_model_module": "@jupyter-widgets/controls",
            "_model_module_version": "1.5.0",
            "_model_name": "HBoxModel",
            "_view_count": null,
            "_view_module": "@jupyter-widgets/controls",
            "_view_module_version": "1.5.0",
            "_view_name": "HBoxView",
            "box_style": "",
            "children": [
              "IPY_MODEL_5c3df0a76ac542f89bace389f8fd4eb5",
              "IPY_MODEL_47590a28864b49c28b9a44dddbe6a6b3",
              "IPY_MODEL_a8a0fcce6421453bb026e74f41d6b5f9"
            ],
            "layout": "IPY_MODEL_1e913ea38cca4410a90e39c4f3fd51fc"
          }
        },
        "5c3df0a76ac542f89bace389f8fd4eb5": {
          "model_module": "@jupyter-widgets/controls",
          "model_name": "HTMLModel",
          "model_module_version": "1.5.0",
          "state": {
            "_dom_classes": [],
            "_model_module": "@jupyter-widgets/controls",
            "_model_module_version": "1.5.0",
            "_model_name": "HTMLModel",
            "_view_count": null,
            "_view_module": "@jupyter-widgets/controls",
            "_view_module_version": "1.5.0",
            "_view_name": "HTMLView",
            "description": "",
            "description_tooltip": null,
            "layout": "IPY_MODEL_39b3a59273fa46d1b7721959df772e54",
            "placeholder": "​",
            "style": "IPY_MODEL_615a0a3db4a541bb9341b510d77fdf5a",
            "value": "100%"
          }
        },
        "47590a28864b49c28b9a44dddbe6a6b3": {
          "model_module": "@jupyter-widgets/controls",
          "model_name": "FloatProgressModel",
          "model_module_version": "1.5.0",
          "state": {
            "_dom_classes": [],
            "_model_module": "@jupyter-widgets/controls",
            "_model_module_version": "1.5.0",
            "_model_name": "FloatProgressModel",
            "_view_count": null,
            "_view_module": "@jupyter-widgets/controls",
            "_view_module_version": "1.5.0",
            "_view_name": "ProgressView",
            "bar_style": "success",
            "description": "",
            "description_tooltip": null,
            "layout": "IPY_MODEL_5cbdb724ee0649859e14e45e9e2a2444",
            "max": 7,
            "min": 0,
            "orientation": "horizontal",
            "style": "IPY_MODEL_85cc906b2b1f4fec8f38a9d1fc2a6651",
            "value": 7
          }
        },
        "a8a0fcce6421453bb026e74f41d6b5f9": {
          "model_module": "@jupyter-widgets/controls",
          "model_name": "HTMLModel",
          "model_module_version": "1.5.0",
          "state": {
            "_dom_classes": [],
            "_model_module": "@jupyter-widgets/controls",
            "_model_module_version": "1.5.0",
            "_model_name": "HTMLModel",
            "_view_count": null,
            "_view_module": "@jupyter-widgets/controls",
            "_view_module_version": "1.5.0",
            "_view_name": "HTMLView",
            "description": "",
            "description_tooltip": null,
            "layout": "IPY_MODEL_d1b16ea929e1498988cee7cc3f5ff1e4",
            "placeholder": "​",
            "style": "IPY_MODEL_aa55002de97c40ee8c3c845254ae05b5",
            "value": " 7/7 [00:01&lt;00:00,  4.18it/s]"
          }
        },
        "1e913ea38cca4410a90e39c4f3fd51fc": {
          "model_module": "@jupyter-widgets/base",
          "model_name": "LayoutModel",
          "model_module_version": "1.2.0",
          "state": {
            "_model_module": "@jupyter-widgets/base",
            "_model_module_version": "1.2.0",
            "_model_name": "LayoutModel",
            "_view_count": null,
            "_view_module": "@jupyter-widgets/base",
            "_view_module_version": "1.2.0",
            "_view_name": "LayoutView",
            "align_content": null,
            "align_items": null,
            "align_self": null,
            "border": null,
            "bottom": null,
            "display": null,
            "flex": null,
            "flex_flow": null,
            "grid_area": null,
            "grid_auto_columns": null,
            "grid_auto_flow": null,
            "grid_auto_rows": null,
            "grid_column": null,
            "grid_gap": null,
            "grid_row": null,
            "grid_template_areas": null,
            "grid_template_columns": null,
            "grid_template_rows": null,
            "height": null,
            "justify_content": null,
            "justify_items": null,
            "left": null,
            "margin": null,
            "max_height": null,
            "max_width": null,
            "min_height": null,
            "min_width": null,
            "object_fit": null,
            "object_position": null,
            "order": null,
            "overflow": null,
            "overflow_x": null,
            "overflow_y": null,
            "padding": null,
            "right": null,
            "top": null,
            "visibility": null,
            "width": null
          }
        },
        "39b3a59273fa46d1b7721959df772e54": {
          "model_module": "@jupyter-widgets/base",
          "model_name": "LayoutModel",
          "model_module_version": "1.2.0",
          "state": {
            "_model_module": "@jupyter-widgets/base",
            "_model_module_version": "1.2.0",
            "_model_name": "LayoutModel",
            "_view_count": null,
            "_view_module": "@jupyter-widgets/base",
            "_view_module_version": "1.2.0",
            "_view_name": "LayoutView",
            "align_content": null,
            "align_items": null,
            "align_self": null,
            "border": null,
            "bottom": null,
            "display": null,
            "flex": null,
            "flex_flow": null,
            "grid_area": null,
            "grid_auto_columns": null,
            "grid_auto_flow": null,
            "grid_auto_rows": null,
            "grid_column": null,
            "grid_gap": null,
            "grid_row": null,
            "grid_template_areas": null,
            "grid_template_columns": null,
            "grid_template_rows": null,
            "height": null,
            "justify_content": null,
            "justify_items": null,
            "left": null,
            "margin": null,
            "max_height": null,
            "max_width": null,
            "min_height": null,
            "min_width": null,
            "object_fit": null,
            "object_position": null,
            "order": null,
            "overflow": null,
            "overflow_x": null,
            "overflow_y": null,
            "padding": null,
            "right": null,
            "top": null,
            "visibility": null,
            "width": null
          }
        },
        "615a0a3db4a541bb9341b510d77fdf5a": {
          "model_module": "@jupyter-widgets/controls",
          "model_name": "DescriptionStyleModel",
          "model_module_version": "1.5.0",
          "state": {
            "_model_module": "@jupyter-widgets/controls",
            "_model_module_version": "1.5.0",
            "_model_name": "DescriptionStyleModel",
            "_view_count": null,
            "_view_module": "@jupyter-widgets/base",
            "_view_module_version": "1.2.0",
            "_view_name": "StyleView",
            "description_width": ""
          }
        },
        "5cbdb724ee0649859e14e45e9e2a2444": {
          "model_module": "@jupyter-widgets/base",
          "model_name": "LayoutModel",
          "model_module_version": "1.2.0",
          "state": {
            "_model_module": "@jupyter-widgets/base",
            "_model_module_version": "1.2.0",
            "_model_name": "LayoutModel",
            "_view_count": null,
            "_view_module": "@jupyter-widgets/base",
            "_view_module_version": "1.2.0",
            "_view_name": "LayoutView",
            "align_content": null,
            "align_items": null,
            "align_self": null,
            "border": null,
            "bottom": null,
            "display": null,
            "flex": null,
            "flex_flow": null,
            "grid_area": null,
            "grid_auto_columns": null,
            "grid_auto_flow": null,
            "grid_auto_rows": null,
            "grid_column": null,
            "grid_gap": null,
            "grid_row": null,
            "grid_template_areas": null,
            "grid_template_columns": null,
            "grid_template_rows": null,
            "height": null,
            "justify_content": null,
            "justify_items": null,
            "left": null,
            "margin": null,
            "max_height": null,
            "max_width": null,
            "min_height": null,
            "min_width": null,
            "object_fit": null,
            "object_position": null,
            "order": null,
            "overflow": null,
            "overflow_x": null,
            "overflow_y": null,
            "padding": null,
            "right": null,
            "top": null,
            "visibility": null,
            "width": null
          }
        },
        "85cc906b2b1f4fec8f38a9d1fc2a6651": {
          "model_module": "@jupyter-widgets/controls",
          "model_name": "ProgressStyleModel",
          "model_module_version": "1.5.0",
          "state": {
            "_model_module": "@jupyter-widgets/controls",
            "_model_module_version": "1.5.0",
            "_model_name": "ProgressStyleModel",
            "_view_count": null,
            "_view_module": "@jupyter-widgets/base",
            "_view_module_version": "1.2.0",
            "_view_name": "StyleView",
            "bar_color": null,
            "description_width": ""
          }
        },
        "d1b16ea929e1498988cee7cc3f5ff1e4": {
          "model_module": "@jupyter-widgets/base",
          "model_name": "LayoutModel",
          "model_module_version": "1.2.0",
          "state": {
            "_model_module": "@jupyter-widgets/base",
            "_model_module_version": "1.2.0",
            "_model_name": "LayoutModel",
            "_view_count": null,
            "_view_module": "@jupyter-widgets/base",
            "_view_module_version": "1.2.0",
            "_view_name": "LayoutView",
            "align_content": null,
            "align_items": null,
            "align_self": null,
            "border": null,
            "bottom": null,
            "display": null,
            "flex": null,
            "flex_flow": null,
            "grid_area": null,
            "grid_auto_columns": null,
            "grid_auto_flow": null,
            "grid_auto_rows": null,
            "grid_column": null,
            "grid_gap": null,
            "grid_row": null,
            "grid_template_areas": null,
            "grid_template_columns": null,
            "grid_template_rows": null,
            "height": null,
            "justify_content": null,
            "justify_items": null,
            "left": null,
            "margin": null,
            "max_height": null,
            "max_width": null,
            "min_height": null,
            "min_width": null,
            "object_fit": null,
            "object_position": null,
            "order": null,
            "overflow": null,
            "overflow_x": null,
            "overflow_y": null,
            "padding": null,
            "right": null,
            "top": null,
            "visibility": null,
            "width": null
          }
        },
        "aa55002de97c40ee8c3c845254ae05b5": {
          "model_module": "@jupyter-widgets/controls",
          "model_name": "DescriptionStyleModel",
          "model_module_version": "1.5.0",
          "state": {
            "_model_module": "@jupyter-widgets/controls",
            "_model_module_version": "1.5.0",
            "_model_name": "DescriptionStyleModel",
            "_view_count": null,
            "_view_module": "@jupyter-widgets/base",
            "_view_module_version": "1.2.0",
            "_view_name": "StyleView",
            "description_width": ""
          }
        }
      }
    }
  },
  "nbformat": 4,
  "nbformat_minor": 5
}