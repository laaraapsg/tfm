{
  "cells": [
    {
      "cell_type": "markdown",
      "id": "44d85b5b",
      "metadata": {
        "id": "44d85b5b"
      },
      "source": [
        "# TFM: Predicción de la demanda energética - Parte 1: Carga de datos\n",
        "#### Lara Palacios\n",
        "## 0. Importación de librerías"
      ]
    },
    {
      "cell_type": "code",
      "execution_count": null,
      "id": "7574ad22",
      "metadata": {
        "id": "7574ad22"
      },
      "outputs": [],
      "source": [
        "import pandas as pd\n",
        "import json\n",
        "from datetime import datetime"
      ]
    },
    {
      "cell_type": "markdown",
      "id": "b15990fa",
      "metadata": {
        "id": "b15990fa"
      },
      "source": [
        "## 1. Carga de datos"
      ]
    },
    {
      "cell_type": "markdown",
      "id": "0a0150ac",
      "metadata": {
        "id": "0a0150ac"
      },
      "source": [
        "### 1.1. Archivo cupsInfo"
      ]
    },
    {
      "cell_type": "markdown",
      "id": "947a00e1",
      "metadata": {
        "id": "947a00e1"
      },
      "source": [
        "#### 1.1.1 Carga desde ficheros"
      ]
    },
    {
      "cell_type": "code",
      "execution_count": null,
      "id": "6b0a7357",
      "metadata": {
        "id": "6b0a7357"
      },
      "outputs": [],
      "source": [
        "file1 = \"zdatos_20230109/cupsInfo.json\""
      ]
    },
    {
      "cell_type": "code",
      "execution_count": null,
      "id": "dac3b49a",
      "metadata": {
        "id": "dac3b49a"
      },
      "outputs": [],
      "source": [
        "with open(file1) as f:\n",
        "    data1 = json.load(f)"
      ]
    },
    {
      "cell_type": "code",
      "execution_count": null,
      "id": "c1c797cb",
      "metadata": {
        "id": "c1c797cb"
      },
      "outputs": [],
      "source": [
        "def flatten_cupsInfo(json_obj):\n",
        "    flattened_data = []\n",
        "\n",
        "    for cod_cliente, cliente_data in json_obj.items():\n",
        "        #if cod_cliente in clientes: #para las pruebas\n",
        "        cod_simel = cliente_data.get('cod_simel', None)\n",
        "        tarifa = cliente_data.get('tarifa', None)\n",
        "        cpostal = cliente_data.get('cpostal', None)\n",
        "        municipio = cliente_data.get('municipio', None)\n",
        "        provincia = cliente_data.get('provincia', None)\n",
        "        comAutonoma = cliente_data.get('comAutonoma', None)\n",
        "        autoconsumo = cliente_data.get('autoconsumo', None)\n",
        "        potencia_generacion_kW = cliente_data.get('potencia_generacion_kW', None)\n",
        "        esquema_medida = cliente_data.get('esquema_medida', None)\n",
        "        subgrupo = cliente_data.get('subgrupo', None)\n",
        "        alta_autoconsumo = cliente_data.get('alta_autoconsumo', None)\n",
        "        baja_autoconsumo = cliente_data.get('baja_autoconsumo', None)\n",
        "        potencia_contratada_kW = cliente_data.get('potencia_contratada_kW', {})\n",
        "        p1 = potencia_contratada_kW.get('p1', None)\n",
        "        p2 = potencia_contratada_kW.get('p2', None)\n",
        "        p3 = potencia_contratada_kW.get('p3', None)\n",
        "        p4 = potencia_contratada_kW.get('p4', None)\n",
        "        p5 = potencia_contratada_kW.get('p5', None)\n",
        "        p6 = potencia_contratada_kW.get('p6', None)\n",
        "\n",
        "        flattened_data.append({\n",
        "            'PK_CLIENTE': int(cod_cliente),\n",
        "            'TARIFA': str(tarifa),\n",
        "            'MUNICIPIO': str(municipio),\n",
        "            'PROVINCIA': str(provincia),\n",
        "            'KW_CONTRATADA_P1': float(p1),\n",
        "            'KW_CONTRATADA_P2': float(p2),\n",
        "            'KW_CONTRATADA_P3': float(p3),\n",
        "            'KW_CONTRATADA_P4': float(p4),\n",
        "            'KW_CONTRATADA_P5': float(p5),\n",
        "            'KW_CONTRATADA_P6': float(p6),\n",
        "            'AUTOCONSUMO': int(autoconsumo),\n",
        "            'POTENCIA_GENERACION_KW': float(potencia_generacion_kW),\n",
        "            'ESQUEMA_MEDIDA': str(esquema_medida),\n",
        "            'SUBGRUPO': str(subgrupo),\n",
        "            'ALTA_AUTOCONSUMO': datetime.strptime(alta_autoconsumo, '%Y-%m-%d'),\n",
        "            'BAJA_AUTOCONSUMO': datetime.strptime(baja_autoconsumo, '%Y-%m-%d')\n",
        "            })\n",
        "\n",
        "    return flattened_data"
      ]
    },
    {
      "cell_type": "code",
      "execution_count": null,
      "id": "d3076cc3",
      "metadata": {
        "id": "d3076cc3"
      },
      "outputs": [],
      "source": [
        "datos1 = data1.get(\"datos\", {})\n",
        "flattened_data1 = flatten_cupsInfo(datos1)\n",
        "df1 = pd.DataFrame(flattened_data1)"
      ]
    },
    {
      "cell_type": "code",
      "execution_count": null,
      "id": "b93bffeb",
      "metadata": {
        "id": "b93bffeb",
        "outputId": "cfb936d7-db5a-45b8-8e4a-b442bd3e070b"
      },
      "outputs": [
        {
          "data": {
            "text/plain": [
              "(11786, 16)"
            ]
          },
          "execution_count": 18,
          "metadata": {},
          "output_type": "execute_result"
        }
      ],
      "source": [
        "df1.shape"
      ]
    },
    {
      "cell_type": "code",
      "execution_count": null,
      "id": "fb5b1d03",
      "metadata": {
        "id": "fb5b1d03",
        "outputId": "ad1ac066-63f4-45ad-89d4-9df908b1c919"
      },
      "outputs": [
        {
          "data": {
            "text/plain": [
              "PK_CLIENTE                0\n",
              "TARIFA                    0\n",
              "MUNICIPIO                 0\n",
              "PROVINCIA                 0\n",
              "KW_CONTRATADA_P1          0\n",
              "KW_CONTRATADA_P2          0\n",
              "KW_CONTRATADA_P3          0\n",
              "KW_CONTRATADA_P4          0\n",
              "KW_CONTRATADA_P5          0\n",
              "KW_CONTRATADA_P6          0\n",
              "AUTOCONSUMO               0\n",
              "POTENCIA_GENERACION_KW    0\n",
              "ESQUEMA_MEDIDA            0\n",
              "SUBGRUPO                  0\n",
              "ALTA_AUTOCONSUMO          0\n",
              "BAJA_AUTOCONSUMO          0\n",
              "dtype: int64"
            ]
          },
          "execution_count": 21,
          "metadata": {},
          "output_type": "execute_result"
        }
      ],
      "source": [
        "df1.isnull().sum()"
      ]
    },
    {
      "cell_type": "code",
      "execution_count": null,
      "id": "24a5f91c",
      "metadata": {
        "id": "24a5f91c"
      },
      "outputs": [],
      "source": [
        "df1.to_csv('cupsInfo.csv', index = False)"
      ]
    },
    {
      "cell_type": "markdown",
      "id": "4ed362f6",
      "metadata": {
        "id": "4ed362f6"
      },
      "source": [
        "#### 1.1.2 Carga desde .csv"
      ]
    },
    {
      "cell_type": "code",
      "execution_count": null,
      "id": "dc7f63cc",
      "metadata": {
        "id": "dc7f63cc",
        "outputId": "97901945-bdca-4831-aea2-3353350f0c09"
      },
      "outputs": [
        {
          "data": {
            "text/plain": [
              "(11786, 16)"
            ]
          },
          "execution_count": 24,
          "metadata": {},
          "output_type": "execute_result"
        }
      ],
      "source": [
        "df1 = pd.read_csv('cupsInfo.csv')\n",
        "df1.shape"
      ]
    },
    {
      "cell_type": "markdown",
      "id": "bfd9c08b",
      "metadata": {
        "id": "bfd9c08b"
      },
      "source": [
        "### 1.2. Archivos cups"
      ]
    },
    {
      "cell_type": "markdown",
      "id": "6c6823a0",
      "metadata": {
        "id": "6c6823a0"
      },
      "source": [
        "#### 1.2.1 Carga desde ficheros"
      ]
    },
    {
      "cell_type": "code",
      "execution_count": null,
      "id": "ee71a17b",
      "metadata": {
        "id": "ee71a17b",
        "outputId": "14583b33-13fb-4a2c-a8c9-8737ad008bb3"
      },
      "outputs": [
        {
          "data": {
            "text/plain": [
              "'C:\\\\Users\\\\larap\\\\OneDrive - Universidad de La Rioja\\\\TFM - Lara\\\\datos_20230109\\\\cups\\\\1.json'"
            ]
          },
          "execution_count": 4,
          "metadata": {},
          "output_type": "execute_result"
        }
      ],
      "source": [
        "import os\n",
        "cwd = os.getcwd()\n",
        "dir2 = cwd + \"\\\\datos_20230109\\\\cups\"\n",
        "files = [dir2 + \"\\\\\" + file for file in os.listdir(dir2)]\n",
        "files[0]"
      ]
    },
    {
      "cell_type": "code",
      "execution_count": null,
      "id": "9adc50fa",
      "metadata": {
        "id": "9adc50fa",
        "outputId": "fd95fc2d-ebe5-4d85-cb43-87606e278f6a"
      },
      "outputs": [
        {
          "data": {
            "text/plain": [
              "11786"
            ]
          },
          "execution_count": 5,
          "metadata": {},
          "output_type": "execute_result"
        }
      ],
      "source": [
        "len(files)"
      ]
    },
    {
      "cell_type": "code",
      "execution_count": null,
      "id": "dde46dfe",
      "metadata": {
        "id": "dde46dfe"
      },
      "outputs": [],
      "source": [
        "def flatten_cups(json_obj):\n",
        "    flattened_data = []\n",
        "\n",
        "    for cod_cliente, cliente_data in json_obj.items():\n",
        "\n",
        "            for fecha, fecha_data in cliente_data.items():\n",
        "                for hora, hora_data in fecha_data.items():\n",
        "                    entry = hora_data.get('entrada', None)\n",
        "                    exit = hora_data.get('salida', None)\n",
        "\n",
        "                    flattened_data.append({\n",
        "                        'PK_CLIENTE': int(cod_cliente),\n",
        "                        'PK_ANYOMESDIA': datetime.strptime(fecha, '%Y-%m-%d'),\n",
        "                        'PK_HORA': int((int(hora)/100)-1),\n",
        "                        'ENTRADA': entry,\n",
        "                        'SALIDA': exit\n",
        "                    })\n",
        "\n",
        "    return flattened_data"
      ]
    },
    {
      "cell_type": "code",
      "execution_count": null,
      "id": "f2f711ca",
      "metadata": {
        "id": "f2f711ca"
      },
      "outputs": [],
      "source": [
        "df2 = pd.DataFrame()\n",
        "i=0\n",
        "\n",
        "for file2 in files:\n",
        "    # Lee el archivo JSON\n",
        "    with open(file2) as f:\n",
        "        data2 = json.load(f)\n",
        "\n",
        "    datos2 = data2.get(\"datos\", {})\n",
        "\n",
        "    # Aplana el JSON\n",
        "    flattened_data2 = flatten_cups(datos2)\n",
        "    df_concat2 = pd.DataFrame(flattened_data2)\n",
        "\n",
        "    #concatenamos todos los dataframes\n",
        "    df2 = pd.concat([df2, df_concat2], axis=0)\n",
        "\n",
        "    # i = i+1\n",
        "    # if i%500 == 0:\n",
        "    #     print(f\"{str(i)} archivos leídos.\")"
      ]
    },
    {
      "cell_type": "code",
      "execution_count": null,
      "id": "d5f033c9",
      "metadata": {
        "id": "d5f033c9",
        "outputId": "82bc9a0b-c320-4158-89fe-60413d3be7df"
      },
      "outputs": [
        {
          "data": {
            "text/plain": [
              "PK_CLIENTE             0\n",
              "PK_ANYOMESDIA          0\n",
              "PK_HORA                0\n",
              "ENTRADA          1612265\n",
              "SALIDA           1612288\n",
              "dtype: int64"
            ]
          },
          "execution_count": 12,
          "metadata": {},
          "output_type": "execute_result"
        }
      ],
      "source": [
        "df2.isna().sum()"
      ]
    },
    {
      "cell_type": "code",
      "execution_count": null,
      "id": "e1c56421",
      "metadata": {
        "id": "e1c56421",
        "outputId": "c7cc4ace-193f-485f-c636-91826b6e7ac5"
      },
      "outputs": [
        {
          "name": "stderr",
          "output_type": "stream",
          "text": [
            "C:\\Users\\larap\\AppData\\Local\\Temp\\ipykernel_22976\\1366616956.py:1: FutureWarning: Treating datetime data as categorical rather than numeric in `.describe` is deprecated and will be removed in a future version of pandas. Specify `datetime_is_numeric=True` to silence this warning and adopt the future behavior now.\n",
            "  df_2['PK_ANYOMESDIA'].describe()\n"
          ]
        },
        {
          "data": {
            "text/plain": [
              "count                17396856\n",
              "unique                     62\n",
              "top       2023-01-03 00:00:00\n",
              "freq                   282816\n",
              "first     2022-11-09 00:00:00\n",
              "last      2023-01-09 00:00:00\n",
              "Name: PK_ANYOMESDIA, dtype: object"
            ]
          },
          "execution_count": 14,
          "metadata": {},
          "output_type": "execute_result"
        }
      ],
      "source": [
        "df2['PK_ANYOMESDIA'].describe()"
      ]
    },
    {
      "cell_type": "code",
      "execution_count": null,
      "id": "84379c8c",
      "metadata": {
        "id": "84379c8c"
      },
      "outputs": [],
      "source": [
        "df2.to_parquet('cups.parquet')"
      ]
    },
    {
      "cell_type": "markdown",
      "id": "b351136c",
      "metadata": {
        "id": "b351136c"
      },
      "source": [
        "#### 1.2.2 Carga desde .parquet"
      ]
    },
    {
      "cell_type": "code",
      "execution_count": null,
      "id": "2b91c208",
      "metadata": {
        "id": "2b91c208",
        "outputId": "afa455b7-de1b-4f63-ecaf-05cc3d9f7dfb"
      },
      "outputs": [
        {
          "data": {
            "text/plain": [
              "(17396856, 5)"
            ]
          },
          "execution_count": 31,
          "metadata": {},
          "output_type": "execute_result"
        }
      ],
      "source": [
        "df2 = pd.read_parquet('cups.parquet')\n",
        "df2.shape"
      ]
    },
    {
      "cell_type": "code",
      "execution_count": null,
      "id": "61c40c8e",
      "metadata": {
        "id": "61c40c8e",
        "outputId": "43720a95-db1e-4c7e-8db6-547b8e377358"
      },
      "outputs": [
        {
          "data": {
            "text/plain": [
              "(15784568, 5)"
            ]
          },
          "execution_count": 32,
          "metadata": {},
          "output_type": "execute_result"
        }
      ],
      "source": [
        "df2 = df2.dropna().reset_index(drop = True)\n",
        "df2.shape"
      ]
    },
    {
      "cell_type": "markdown",
      "id": "a8e0d0d7",
      "metadata": {
        "id": "a8e0d0d7"
      },
      "source": [
        "### 1.3. Archivos tiempo"
      ]
    },
    {
      "cell_type": "markdown",
      "id": "5c32d5a5",
      "metadata": {
        "id": "5c32d5a5"
      },
      "source": [
        "#### 1.3.1 Carga desde ficheros"
      ]
    },
    {
      "cell_type": "code",
      "execution_count": null,
      "id": "a5430e55",
      "metadata": {
        "id": "a5430e55",
        "outputId": "9569d13e-422b-4f28-e380-42247860d7d6"
      },
      "outputs": [
        {
          "data": {
            "text/plain": [
              "11786"
            ]
          },
          "execution_count": 22,
          "metadata": {},
          "output_type": "execute_result"
        }
      ],
      "source": [
        "import os\n",
        "cwd = os.getcwd()\n",
        "dir3 = cwd + \"\\\\datos_20230109\\\\tiempo\"\n",
        "clientes = [file for file in os.listdir(dir3)]\n",
        "len(clientes)"
      ]
    },
    {
      "cell_type": "code",
      "execution_count": null,
      "id": "cf55f2ef",
      "metadata": {
        "id": "cf55f2ef"
      },
      "outputs": [],
      "source": [
        "def flatten_tiempo(json_obj):\n",
        "    flattened_data = []\n",
        "\n",
        "    municipio = json_obj['municipio']\n",
        "    fecha = datetime.strptime(json_obj['fecha'], '%Y-%m-%d')\n",
        "    orto = datetime.strptime(json_obj['orto'], '%Y-%m-%d %H:%M:%S')\n",
        "    ocaso = datetime.strptime(json_obj['ocaso'], '%Y-%m-%d %H:%M:%S')\n",
        "\n",
        "    for hora, hora_data in json_obj.items():\n",
        "        if hora.isdigit():\n",
        "            nieve = hora_data.get('nieve', None)\n",
        "            estado_cielo = hora_data.get('estadoCielo', None)\n",
        "            descripcion = hora_data.get('descripcion', None)\n",
        "            sens_termica = hora_data.get('sensTermica', None)\n",
        "            temperatura = hora_data.get('temperatura', None)\n",
        "            precipitacion = hora_data.get('precipitacion', None)\n",
        "            humedad_relativa = hora_data.get('humedadRelativa', None)\n",
        "            viento_direccion = hora_data.get('vientoDireccion', None)\n",
        "            viento_velocidad = hora_data.get('vientoVelocidad', None)\n",
        "            viento_and_racha_max = hora_data.get('vientoAndRachaMax', None)\n",
        "\n",
        "            flattened_data.append({\n",
        "                'PK_ANYOMESDIA': fecha,\n",
        "                'PK_HORA': int(hora),\n",
        "                'MUNICIPIO': str(municipio),\n",
        "                'ORTO' : str(orto)[11:16],\n",
        "                'OCASO': str(ocaso)[11:16],\n",
        "                'NIEVE': nieve,\n",
        "                'ESTADO_CIELO': estado_cielo,\n",
        "                'DESCRIPCION': descripcion,\n",
        "                'SENS_TERMICA': int(sens_termica),\n",
        "                'TEMPERATURA': int(temperatura),\n",
        "                'PRECIPITACION': precipitacion,\n",
        "                'HUMEDAD_RELATIVA': humedad_relativa,\n",
        "                'VIENTO_DIRECCION': viento_direccion,\n",
        "                'VIENTO_VELOCIDAD': viento_velocidad,\n",
        "                'VIENTO_AND_RACHA_MAX': viento_and_racha_max\n",
        "            })\n",
        "\n",
        "    return flattened_data"
      ]
    },
    {
      "cell_type": "code",
      "execution_count": null,
      "id": "3d2cdb07",
      "metadata": {
        "id": "3d2cdb07"
      },
      "outputs": [],
      "source": [
        "df3 = pd.DataFrame()\n",
        "i = 0\n",
        "j = 0\n",
        "\n",
        "for cliente3 in clientes:\n",
        "    dir3_2 = dir3 + \"\\\\\" + cliente3\n",
        "    files3 = [dir3_2 + \"\\\\\" + file for file in os.listdir(dir3_2)]\n",
        "    print('El cliente ' + str(cliente3) + ' tiene ' + str(len(files3)) + ' archivos.')\n",
        "    for file3 in files3:\n",
        "        # Lee el archivo JSON\n",
        "        with open(file3) as f:\n",
        "            data3 = json.load(f)\n",
        "\n",
        "        datos3 = data3.get(\"datos\", {})\n",
        "\n",
        "        try:\n",
        "            # Aplana el JSON\n",
        "            flattened_data3 = flatten_tiempo(datos3)\n",
        "            df3_aux = pd.DataFrame(flattened_data3)\n",
        "            df3_aux.insert(0, 'PK_CLIENTE', int(cliente3))\n",
        "\n",
        "            #concatenamos todos los dataframes\n",
        "            df3 = pd.concat([df3, df3_aux], axis=0)\n",
        "        except TypeError as e:\n",
        "            print('Ha fallado el fichero ' + str(file3) + ' del cliente ' + str(cliente3) + ' con el TypeError ' + str(e))\n",
        "\n",
        "    # i = i +1\n",
        "    # if i%500 == 0:\n",
        "    #     print(f\"{str(i)} clientes leídos.\")"
      ]
    },
    {
      "cell_type": "code",
      "execution_count": null,
      "id": "f06382f2",
      "metadata": {
        "id": "f06382f2",
        "outputId": "fd2dcd03-c228-4013-a1bb-67e7c558b7f9"
      },
      "outputs": [
        {
          "data": {
            "text/plain": [
              "(1687139, 16)"
            ]
          },
          "execution_count": 29,
          "metadata": {},
          "output_type": "execute_result"
        }
      ],
      "source": [
        "df3.shape"
      ]
    },
    {
      "cell_type": "code",
      "execution_count": null,
      "id": "6b86b43b",
      "metadata": {
        "id": "6b86b43b"
      },
      "outputs": [],
      "source": [
        "df_3 = df3"
      ]
    },
    {
      "cell_type": "code",
      "execution_count": null,
      "id": "0fe2eecc",
      "metadata": {
        "id": "0fe2eecc"
      },
      "outputs": [],
      "source": [
        "df_3.to_parquet('tiempo.parquet')"
      ]
    },
    {
      "cell_type": "markdown",
      "id": "2a0b92f6",
      "metadata": {
        "id": "2a0b92f6"
      },
      "source": [
        "#### 1.3.2 Carga desde .parquet"
      ]
    },
    {
      "cell_type": "code",
      "execution_count": null,
      "id": "1e5b5a75",
      "metadata": {
        "id": "1e5b5a75",
        "outputId": "cf07412c-b61b-43eb-e196-7d1c2a6a51f7"
      },
      "outputs": [
        {
          "data": {
            "text/plain": [
              "(15397206, 16)"
            ]
          },
          "execution_count": 32,
          "metadata": {},
          "output_type": "execute_result"
        }
      ],
      "source": [
        "df_3 = pd.read_parquet('tiempo.parquet')\n",
        "df_3.shape"
      ]
    },
    {
      "cell_type": "code",
      "execution_count": null,
      "id": "48c2e6d2",
      "metadata": {
        "id": "48c2e6d2"
      },
      "outputs": [],
      "source": []
    }
  ],
  "metadata": {
    "kernelspec": {
      "display_name": "Python 3 (ipykernel)",
      "language": "python",
      "name": "python3"
    },
    "language_info": {
      "codemirror_mode": {
        "name": "ipython",
        "version": 3
      },
      "file_extension": ".py",
      "mimetype": "text/x-python",
      "name": "python",
      "nbconvert_exporter": "python",
      "pygments_lexer": "ipython3",
      "version": "3.10.9"
    },
    "colab": {
      "provenance": []
    }
  },
  "nbformat": 4,
  "nbformat_minor": 5
}